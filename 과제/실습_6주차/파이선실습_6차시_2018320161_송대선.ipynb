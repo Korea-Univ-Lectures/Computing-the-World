{
  "nbformat": 4,
  "nbformat_minor": 0,
  "metadata": {
    "kernelspec": {
      "display_name": "Python 3",
      "language": "python",
      "name": "python3"
    },
    "language_info": {
      "codemirror_mode": {
        "name": "ipython",
        "version": 3
      },
      "file_extension": ".py",
      "mimetype": "text/x-python",
      "name": "python",
      "nbconvert_exporter": "python",
      "pygments_lexer": "ipython3",
      "version": "3.6.2"
    },
    "colab": {
      "name": "파이선실습_6차시_2018320161_송대선.ipynb",
      "provenance": [],
      "collapsed_sections": [
        "dX-3tvgMKnp9"
      ]
    }
  },
  "cells": [
    {
      "cell_type": "markdown",
      "metadata": {
        "id": "b9w8OdFl449j"
      },
      "source": [
        "<h1>파이선 실습 - 6차시</h1>\n",
        "  \n",
        "11월 5일 실습내용 \n",
        "- 튜플(tuple)\n",
        "- 클라스(class)와 객체(object), 인스턴스(instance)"
      ]
    },
    {
      "cell_type": "markdown",
      "metadata": {
        "id": "dX-3tvgMKnp9"
      },
      "source": [
        "# 0. 자료구조 튜플(tuple)\n",
        "\n",
        "- 리스트와 비슷하나, 다른\n",
        "- 리스트 [ ], 튜플 ( )\n",
        "- 리스트는 그 값의 생성, 삭제, 수정이 가능!, 튜틀은 그 값의 생성, 삭제 만 !"
      ]
    },
    {
      "cell_type": "code",
      "metadata": {
        "id": "Nykop3kcLbuu"
      },
      "source": [
        "# 튜플 선언\n",
        "my_tuple = (1,2,3,('a','b'))"
      ],
      "execution_count": 1,
      "outputs": []
    },
    {
      "cell_type": "code",
      "metadata": {
        "id": "R2WDZPkQLsOq",
        "outputId": "8fff273b-0340-47bf-f52d-0c3748ccf966",
        "colab": {
          "base_uri": "https://localhost:8080/"
        }
      },
      "source": [
        "# 인덱싱, 슬라이싱 \n",
        "print(my_tuple[0])\n",
        "print(my_tuple[1:3])"
      ],
      "execution_count": 2,
      "outputs": [
        {
          "output_type": "stream",
          "text": [
            "1\n",
            "(2, 3)\n"
          ],
          "name": "stdout"
        }
      ]
    },
    {
      "cell_type": "code",
      "metadata": {
        "id": "AcyL8vryL-UZ",
        "outputId": "8e5f143b-1d62-4a46-d683-ce9fa1e51e94",
        "colab": {
          "base_uri": "https://localhost:8080/",
          "height": 215
        }
      },
      "source": [
        "# 삭제나 수정은? \n",
        "del my_tuple[0]\n",
        "\n",
        "my_tuple[0]='a'"
      ],
      "execution_count": 10,
      "outputs": [
        {
          "output_type": "error",
          "ename": "TypeError",
          "evalue": "ignored",
          "traceback": [
            "\u001b[0;31m---------------------------------------------------------------------------\u001b[0m",
            "\u001b[0;31mTypeError\u001b[0m                                 Traceback (most recent call last)",
            "\u001b[0;32m<ipython-input-10-c8723718e195>\u001b[0m in \u001b[0;36m<module>\u001b[0;34m()\u001b[0m\n\u001b[1;32m      1\u001b[0m \u001b[0;31m# 삭제나 수정은?\u001b[0m\u001b[0;34m\u001b[0m\u001b[0;34m\u001b[0m\u001b[0;34m\u001b[0m\u001b[0m\n\u001b[0;32m----> 2\u001b[0;31m \u001b[0;32mdel\u001b[0m \u001b[0mmy_tuple\u001b[0m\u001b[0;34m[\u001b[0m\u001b[0;36m0\u001b[0m\u001b[0;34m]\u001b[0m\u001b[0;34m\u001b[0m\u001b[0;34m\u001b[0m\u001b[0m\n\u001b[0m\u001b[1;32m      3\u001b[0m \u001b[0;34m\u001b[0m\u001b[0m\n\u001b[1;32m      4\u001b[0m \u001b[0mmy_tuple\u001b[0m\u001b[0;34m[\u001b[0m\u001b[0;36m0\u001b[0m\u001b[0;34m]\u001b[0m\u001b[0;34m=\u001b[0m\u001b[0;34m'a'\u001b[0m\u001b[0;34m\u001b[0m\u001b[0;34m\u001b[0m\u001b[0m\n",
            "\u001b[0;31mTypeError\u001b[0m: 'tuple' object doesn't support item deletion"
          ]
        }
      ]
    },
    {
      "cell_type": "code",
      "metadata": {
        "id": "IVc5F5-sMbGR",
        "outputId": "c1734893-272d-411c-80f2-ad486e904e92",
        "colab": {
          "base_uri": "https://localhost:8080/"
        }
      },
      "source": [
        "#기타\n",
        "my_t1=(1,2)\n",
        "my_t2=(3,4)\n",
        "\n",
        "print(my_t1+my_t2)\n",
        "print(len(my_t1))"
      ],
      "execution_count": 5,
      "outputs": [
        {
          "output_type": "stream",
          "text": [
            "(1, 2, 3, 4)\n",
            "2\n"
          ],
          "name": "stdout"
        }
      ]
    },
    {
      "cell_type": "code",
      "metadata": {
        "id": "flDqOMPLKmns",
        "outputId": "8e34057f-326f-43c8-99a7-eff106c33a9a",
        "colab": {
          "base_uri": "https://localhost:8080/"
        }
      },
      "source": [
        "# 튜플의 활용\n",
        "# 리스트를 이용하여, 변수 간의 값을 전환하기 \n",
        "a= 10\n",
        "b= 20\n",
        "temp = a\n",
        "a= b\n",
        "b= temp \n",
        "print(a,b)"
      ],
      "execution_count": 6,
      "outputs": [
        {
          "output_type": "stream",
          "text": [
            "20 10\n"
          ],
          "name": "stdout"
        }
      ]
    },
    {
      "cell_type": "code",
      "metadata": {
        "id": "SQcr4Bq1NRxt",
        "outputId": "25bd0c30-f5b0-452f-ea7a-f865da167e47",
        "colab": {
          "base_uri": "https://localhost:8080/"
        }
      },
      "source": [
        "def merge_print(a,b,*c):\n",
        "  print(a,b,c)\n",
        "\n",
        "merge_print(1,2,3,4,5,6,7,8)"
      ],
      "execution_count": 8,
      "outputs": [
        {
          "output_type": "stream",
          "text": [
            "1 2 (3, 4, 5, 6, 7, 8)\n"
          ],
          "name": "stdout"
        }
      ]
    },
    {
      "cell_type": "code",
      "metadata": {
        "id": "Pm6mzR_tLPdh",
        "outputId": "f8f17641-3198-413a-b29f-65b5ac8a2453",
        "colab": {
          "base_uri": "https://localhost:8080/"
        }
      },
      "source": [
        "#튜플을 이용하여, 변수 간의 값을 전환하기\n",
        "c= 10\n",
        "d= 20\n",
        "(c,d) = (d,c)\n",
        "print(c,d)"
      ],
      "execution_count": 9,
      "outputs": [
        {
          "output_type": "stream",
          "text": [
            "20 10\n"
          ],
          "name": "stdout"
        }
      ]
    },
    {
      "cell_type": "markdown",
      "metadata": {
        "id": "YslkZaImusrP"
      },
      "source": [
        ""
      ]
    },
    {
      "cell_type": "markdown",
      "metadata": {
        "id": "KGy-rjPRuq2x"
      },
      "source": [
        ""
      ]
    },
    {
      "cell_type": "markdown",
      "metadata": {
        "id": "xTnGSHbe5j6k"
      },
      "source": [
        "# 1. 도입\n",
        "\n",
        "- 리스트 > 함수 > 클래스\n",
        "- 클래스(Class), 객체의 모습과 기능을 정의하는 설계도"
      ]
    },
    {
      "cell_type": "markdown",
      "metadata": {
        "collapsed": true,
        "id": "MmsA_jssHjD2"
      },
      "source": [
        "# 2. 주사위 객체를 정의하는 클래스를 만들어 봅시다.\n",
        "\n",
        "<img src=\"https://media.istockphoto.com/photos/dice-picture-id525965136\" width=\"200\" height=\"200\">\n",
        "\n",
        "- 설계도인 클래스에는 필수 요소 2가지 : 속성(attribute)과 메서드(method)\n",
        "-  속성 : 주사위 색은 흰색, 가장 큰 숫자는 6\n",
        "-  매서드 : 주사위를 던지면 1~6중 하나의 숫자를 표시\n",
        "\n",
        "\n"
      ]
    },
    {
      "cell_type": "code",
      "metadata": {
        "id": "_LkXR4IDHjD9"
      },
      "source": [
        "import random\n",
        "\n",
        "class DICE:\n",
        "    color = \"흰색\"\n",
        "    max_num = 6\n",
        "    def roll(self):\n",
        "        return random.randint(1,6)"
      ],
      "execution_count": 12,
      "outputs": []
    },
    {
      "cell_type": "code",
      "metadata": {
        "id": "vAulM2nTHjEB",
        "outputId": "340550ef-f960-4c77-b3ac-74f111a81ec2",
        "colab": {
          "base_uri": "https://localhost:8080/"
        }
      },
      "source": [
        "my_dice=DICE()\n",
        "print(my_dice.color)\n",
        "print(my_dice.max_num)\n",
        "my_dice.roll()"
      ],
      "execution_count": 14,
      "outputs": [
        {
          "output_type": "stream",
          "text": [
            "흰색\n",
            "6\n"
          ],
          "name": "stdout"
        },
        {
          "output_type": "execute_result",
          "data": {
            "text/plain": [
              "2"
            ]
          },
          "metadata": {
            "tags": []
          },
          "execution_count": 14
        }
      ]
    },
    {
      "cell_type": "markdown",
      "metadata": {
        "id": "lrGDuXLy8YdX"
      },
      "source": [
        "## 인스턴스(instance)\n",
        "\n",
        "클래스를 통해 만들어진 객체들 중 하나"
      ]
    },
    {
      "cell_type": "code",
      "metadata": {
        "id": "-YJZO92I8hw7"
      },
      "source": [
        "a=DICE()\n",
        "b=DICE()\n",
        "c=DICE()"
      ],
      "execution_count": null,
      "outputs": []
    },
    {
      "cell_type": "code",
      "metadata": {
        "id": "of2pO6F1AH3Y",
        "outputId": "aaf8ccae-ce8a-467c-ef5c-fd3faf12beeb",
        "colab": {
          "base_uri": "https://localhost:8080/"
        }
      },
      "source": [
        "print(a.roll())\n",
        "print(b.roll())\n",
        "print(c.roll())"
      ],
      "execution_count": null,
      "outputs": [
        {
          "output_type": "stream",
          "text": [
            "2\n",
            "4\n",
            "2\n"
          ],
          "name": "stdout"
        }
      ]
    },
    {
      "cell_type": "markdown",
      "metadata": {
        "id": "dWKF8rIR_nsY"
      },
      "source": [
        "## 클래스를 클래스 답게!, \"___init_ __\"\n",
        "\n",
        "- 인스턴스 생성시 자동으로 실행되는 특수매서드"
      ]
    },
    {
      "cell_type": "code",
      "metadata": {
        "id": "y53rlqEi_hqh"
      },
      "source": [
        "# __init__, \n",
        "import random\n",
        "\n",
        "class DICE:\n",
        "    def __init__(self,color,max_num):\n",
        "        self.color=color\n",
        "        self.max_num=max_num\n",
        "    \n",
        "    def cast(self):\n",
        "        return random.randint(1,self.max_num)"
      ],
      "execution_count": 15,
      "outputs": []
    },
    {
      "cell_type": "code",
      "metadata": {
        "id": "INMAgxw2AqFZ"
      },
      "source": [
        "a=DICE(\"red\",12)\n",
        "b=DICE(\"black\",5)"
      ],
      "execution_count": 18,
      "outputs": []
    },
    {
      "cell_type": "code",
      "metadata": {
        "id": "S0f6DrNUA10D",
        "outputId": "965be7e2-32ba-4e13-b18f-132acd240b19",
        "colab": {
          "base_uri": "https://localhost:8080/"
        }
      },
      "source": [
        "print(a.cast()) #self = a\n",
        "print(b.cast()) #self = b"
      ],
      "execution_count": 20,
      "outputs": [
        {
          "output_type": "stream",
          "text": [
            "9\n",
            "1\n"
          ],
          "name": "stdout"
        }
      ]
    },
    {
      "cell_type": "markdown",
      "metadata": {
        "id": "iBl73StI_Gve"
      },
      "source": [
        "## 생각해 볼 문제, self를 붙이는 이유는?\n",
        "\n",
        "인스턴스별로 구분하기 위해"
      ]
    },
    {
      "cell_type": "code",
      "metadata": {
        "id": "0bxSKoy1_P-z"
      },
      "source": [
        "# self가 없다면?\n",
        "import random\n",
        "\n",
        "class DICE:\n",
        "    color = \"흰색\"\n",
        "    max_num = 6\n",
        "    def roll(self):\n",
        "        return random.randint(1,self.max_num)"
      ],
      "execution_count": null,
      "outputs": []
    },
    {
      "cell_type": "markdown",
      "metadata": {
        "id": "OfQWHeswBgfA"
      },
      "source": [
        "## 인수 지정 없어도 실행되도록 하려면?"
      ]
    },
    {
      "cell_type": "code",
      "metadata": {
        "id": "Yz-Kp9Gk_WKm"
      },
      "source": [
        "# defaults 설정\n",
        "import random\n",
        "\n",
        "class DICE:\n",
        "    def __init__(self,color=\"흰색\",max_num=6):\n",
        "        self.color=color\n",
        "        self.max_num=max_num\n",
        "    \n",
        "    def roll(self):\n",
        "        return random.randint(1,self.max_num)"
      ],
      "execution_count": 22,
      "outputs": []
    },
    {
      "cell_type": "markdown",
      "metadata": {
        "id": "kZpbVgWuCyJE"
      },
      "source": [
        "# 3. (심화) 객체 지향성\n",
        "\n",
        "- 객체 : 모든 단위를 객체화 하는것\n",
        "- 다형성 : 같은 이름 다른 기능!, 같은 이름의 메서드를 서로 다른 클래스마다 가질 수 있는것\n",
        "- 상속 : 부모보다 나은 자식! , 다른 클래스로부터 속성이나 메서드를 상속 받아 사용가능"
      ]
    },
    {
      "cell_type": "markdown",
      "metadata": {
        "id": "DOwVIfkiDcQQ"
      },
      "source": [
        "## 다형성\n",
        "\n",
        "- 같은 이름 다른 기능!, 같은 이름의 메서드를 서로 다른 클래스마다 가질 수 있는것"
      ]
    },
    {
      "cell_type": "code",
      "metadata": {
        "id": "ilWpSRQZC4N2",
        "outputId": "8a8f4187-03cb-4f44-90b8-f0b492e1f31a",
        "colab": {
          "base_uri": "https://localhost:8080/"
        }
      },
      "source": [
        "# 다형성\n",
        "import random\n",
        "\n",
        "class DICE:\n",
        "    def __init__(self,color=\"흰색\",max_num=6):\n",
        "        self.color=color\n",
        "        self.max_num=max_num\n",
        "    \n",
        "    def roll(self):\n",
        "        return random.randint(1,self.max_num)\n",
        "\n",
        "class Marker:\n",
        "    def __init__(self,color=\"흰색\",max_num=6):\n",
        "        self.color=color\n",
        "        self.max_num=max_num\n",
        "    \n",
        "    def roll(self):\n",
        "        return \"던지지 마세요!\"\n",
        "\n",
        "a=DICE()\n",
        "b=Marker()\n",
        "print(a.roll())\n",
        "print(b.roll())"
      ],
      "execution_count": 23,
      "outputs": [
        {
          "output_type": "stream",
          "text": [
            "1\n",
            "던지지 마세요!\n"
          ],
          "name": "stdout"
        }
      ]
    },
    {
      "cell_type": "markdown",
      "metadata": {
        "id": "LgUXJqmwDjAp"
      },
      "source": [
        "## 상속성\n",
        "\n",
        "- 부모보다 나은 자식! , 다른 클래스로부터 속성이나 메서드를 상속 받아 사용가능"
      ]
    },
    {
      "cell_type": "code",
      "metadata": {
        "id": "PIXItzV_DJWI",
        "outputId": "7b4c1fa6-c550-42fa-b927-fc8a841a3bad",
        "colab": {
          "base_uri": "https://localhost:8080/"
        }
      },
      "source": [
        "# 상속성\n",
        "\n",
        "class Gamble(DICE):\n",
        "    pass\n",
        "\n",
        "a= Gamble()\n",
        "a.roll()"
      ],
      "execution_count": 24,
      "outputs": [
        {
          "output_type": "execute_result",
          "data": {
            "text/plain": [
              "5"
            ]
          },
          "metadata": {
            "tags": []
          },
          "execution_count": 24
        }
      ]
    },
    {
      "cell_type": "code",
      "metadata": {
        "id": "cYWxGp8pG0dz",
        "outputId": "bc75d386-815e-40fb-e6a5-e1655adfca80",
        "colab": {
          "base_uri": "https://localhost:8080/"
        }
      },
      "source": [
        "class Gamble(DICE):\n",
        "\n",
        "    def __init__(self,color=\"검정\",max_num=6,max_try=2):\n",
        "        DICE.__init__(self,color,max_num)\n",
        "        self.max_try=max_try\n",
        "\n",
        "    def cast(self):\n",
        "      return \"게임이 종료되었습니다.\"\n",
        "\n",
        "\n",
        "b=Gamble()\n",
        "print(b.roll())\n",
        "print(b.max_try)\n",
        "print(b.cast())"
      ],
      "execution_count": 25,
      "outputs": [
        {
          "output_type": "stream",
          "text": [
            "1\n",
            "2\n",
            "게임이 종료되었습니다.\n"
          ],
          "name": "stdout"
        }
      ]
    },
    {
      "cell_type": "markdown",
      "metadata": {
        "id": "TQtYpo9SilkH"
      },
      "source": [
        "# (과제1,2) 학습한 내용을 바탕으로, 아래 제시된 문제를 해결해 봅시다."
      ]
    },
    {
      "cell_type": "code",
      "metadata": {
        "id": "kG6aYPLajcuK"
      },
      "source": [
        "#아래의 빈칸에 적절한 코드를 입력하세요.\n",
        "class Student:\n",
        "\n",
        "    # __init__ 메서드를 선언해 봅시다. 인자는 firstName, lastNme, test_score, grade 입니다. \n",
        "    # __init__ 메서드를 완성하세요.\n",
        "    def __init__(self,firstName,lastName,testScore,):\n",
        "      self.firstName = firstName \n",
        "      self.lastName = lastName\n",
        "      self.email = firstName + \".\" + lastName +\"@korea.ac.kr\"\n",
        "      self.test_score = testScore\n",
        "\n",
        "    def fullName(self):\n",
        "      return '{} {}'.format(self.firstName,self.lastName)\n",
        "\n",
        "    def finalGrade(self): # 메서드를 완성하세요.\n",
        "      self.result = (self.test_score-50) * 0.9\n",
        "      # result 결과가 10보다 크면 grade는 A이고, 아니면 B 이다.\n",
        "      if self.result > 10:\n",
        "        self.grade = 'A'\n",
        "\n",
        "      else:\n",
        "        self.grade = 'B'\n",
        "        \n",
        "      \n",
        "      return self.grade"
      ],
      "execution_count": 10,
      "outputs": []
    },
    {
      "cell_type": "code",
      "metadata": {
        "id": "IDtZeDKzjhXQ",
        "outputId": "74f43f67-f6e2-4996-c643-8709727a0f0a",
        "colab": {
          "base_uri": "https://localhost:8080/"
        }
      },
      "source": [
        "#(과제1) Student 클래스를 완성하여 아래 실행결과와 동일한 값을 출력하세요.\n",
        "'''\n",
        "(실행 결과)\n",
        "Mahesh Gatta\n",
        "Mahesh.Gatta@korea.ac.kr\n",
        "A\n",
        "Saran D\n",
        "Saran.D@korea.ac.kr\n",
        "B\n",
        "'''\n",
        "std_1 = Student('Mahesh','Gatta',62)\n",
        "std_2 = Student('Saran','D',57)\n",
        "\n",
        "print(std_1.fullName())\n",
        "print(std_1.email)\n",
        "print(std_1.finalGrade())\n",
        "\n",
        "print(std_2.fullName())\n",
        "print(std_2.email)\n",
        "print(std_2.finalGrade())"
      ],
      "execution_count": 4,
      "outputs": [
        {
          "output_type": "stream",
          "text": [
            "Mahesh Gatta\n",
            "Mahesh.Gatta@korea.ac.kr\n",
            "A\n",
            "Saran D\n",
            "Saran.D@korea.ac.kr\n",
            "B\n"
          ],
          "name": "stdout"
        }
      ]
    },
    {
      "cell_type": "code",
      "metadata": {
        "id": "-ZsYs_6Ljjh8",
        "outputId": "b7e9fdb7-18a7-45da-986c-c2e41a86b644",
        "colab": {
          "base_uri": "https://localhost:8080/"
        }
      },
      "source": [
        "#(과제2) 아래 빈 칸에 적절한 코드를 입력하세요. \n",
        "#Student 클래스를 상속하여 pythonClass 클래스를 생성하여 아래와 같은 결과가 출력되도록 해봅시다.\n",
        "'''\n",
        "(실행 결과)\n",
        "Suresh B\n",
        "Suresh.B@korea.ac.kr\n",
        "Python\n",
        "'''\n",
        "\n",
        "class pythonClass(Student):\n",
        "    #prog_lang 속성을 추가해 봅시다.\n",
        "    def __init__(self,firstName,lastName,testScore,prog_lang):\n",
        "        super().__init__(firstName, lastName, testScore) # 상속받을 속성명을 입력하세요. \n",
        "        self.prog_lang = prog_lang  #코드를 완성하세요.\n",
        "\n",
        "std_3 = pythonClass('Suresh','B',51,'Python')\n",
        "\n",
        "print(std_3.fullName())\n",
        "print(std_3.email)\n",
        "print(std_3.prog_lang)"
      ],
      "execution_count": 14,
      "outputs": [
        {
          "output_type": "stream",
          "text": [
            "Suresh B\n",
            "Suresh.B@korea.ac.kr\n",
            "Python\n"
          ],
          "name": "stdout"
        }
      ]
    }
  ]
}