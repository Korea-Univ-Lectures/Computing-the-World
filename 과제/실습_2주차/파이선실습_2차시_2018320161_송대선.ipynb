{
  "nbformat": 4,
  "nbformat_minor": 0,
  "metadata": {
    "colab": {
      "name": "파이선실습_2차시_2018320161_송대선.ipynb",
      "provenance": [],
      "collapsed_sections": []
    },
    "kernelspec": {
      "name": "python3",
      "display_name": "Python 3"
    }
  },
  "cells": [
    {
      "cell_type": "markdown",
      "metadata": {
        "id": "XDU8bqxDFOht"
      },
      "source": [
        "<h1>파이선 실습 - 2차시</h1>\n",
        "\n",
        "---\n",
        "\n",
        "10월 22일 실습내용\n",
        "\n",
        "\n",
        "*   Functions (함수)\n",
        "*   Control Flow (제어문)\n",
        "\n"
      ]
    },
    {
      "cell_type": "markdown",
      "metadata": {
        "id": "shIthx6GHYET"
      },
      "source": [
        "# Function 함수\n",
        "\n",
        "---\n",
        "\n",
        "어떤 입력에 대한 작업 결과를 반환해 주는 것!"
      ]
    },
    {
      "cell_type": "code",
      "metadata": {
        "id": "aI23KAGG2rM5"
      },
      "source": [
        "import requests\n",
        "import pandas\n",
        "\n",
        "\n",
        "# 웹사이트에 접속하여 표로 된 데이터들을 가져오는 함수\n",
        "def getWebsiteTables(url):  \n",
        "  html=requests.get(url)\n",
        "  tables=pandas.read_html(html.text)\n",
        "  return tables"
      ],
      "execution_count": 16,
      "outputs": []
    },
    {
      "cell_type": "code",
      "metadata": {
        "id": "mGXHQ8cFv4or",
        "outputId": "7d6f9ae2-9d39-44d9-f07b-e90218bb393c",
        "colab": {
          "base_uri": "https://localhost:8080/",
          "height": 255
        }
      },
      "source": [
        "url = 'https://www.englishspeak.com/ko/english-words'\n",
        "# 어떠한 반복되는 코드작업을 정의해놓고 \n",
        "# 필요시마다 호출하여 사용하는 매커니즘\n",
        "getWebsiteTables(url)\n"
      ],
      "execution_count": 17,
      "outputs": [
        {
          "output_type": "execute_result",
          "data": {
            "text/plain": [
              "[    영어  /  한국어  영어를 감추고  쇼 영어  오디오\n",
              " 0               actually  사실은  NaN\n",
              " 1                   again  다시  NaN\n",
              " 2                  almost  거의  NaN\n",
              " 3                 already  벌써  NaN\n",
              " 4                alright  괜찮다  NaN\n",
              " ..                        ...  ...\n",
              " 256                young  어리다  NaN\n",
              " 257                  your  너의  NaN\n",
              " 258                yours  너의것  NaN\n",
              " 259            yourself  너 자신  NaN\n",
              " 260       yourselves  너 자신-복수  NaN\n",
              " \n",
              " [261 rows x 2 columns]]"
            ]
          },
          "metadata": {
            "tags": []
          },
          "execution_count": 17
        }
      ]
    },
    {
      "cell_type": "markdown",
      "metadata": {
        "id": "xCZWFhWG3RMQ"
      },
      "source": [
        "<h3>함수의 정의</h3>\n",
        "\n",
        "---\n",
        "\n",
        "함수를 정의한다는 것은 어떠한 작업을 한줄로 압축시킨다고 볼수 있습니다. \n",
        "\n",
        "이 방법은 매우 유용하며 주로 **반복되는 작업이나 , 가독성을 위한 간결화** 에 주로 사용됩니다."
      ]
    },
    {
      "cell_type": "code",
      "metadata": {
        "id": "zJEZ5mgLG6Tu"
      },
      "source": [
        "# (과제1)우리에게 익숙한 함수부터 알아볼까요?\n",
        "\n",
        "# 수학에서의 함수\n",
        "# f(x) = 3x + 2\n",
        "# g(x,y) = 10x+2y + 3\n",
        "\n",
        "\n",
        "# 그렇다면 컴퓨터에서는 함수를 어떻게 표현할까요?\n",
        "\n",
        "\n",
        "def f(x):\n",
        "  return 3*x + 2\n",
        "\n",
        "\n",
        "  # 결과를 반환합니다. (return)\n",
        "\n",
        "\n",
        "\n",
        "def g(x,y):\n",
        "  # 실행할 코드 내용\n",
        "  \n",
        "  return 10*x + 2*y + 3\n",
        "  \n",
        "  # 결과를 반환합니다. (return)\n",
        "\n",
        "# 이 코드를 실행하면 함수 f(x) 와 g(x,y) 가 '정의' 됩니다!\n",
        "# 정의 하는 것은 함수를 실행하는 것이 아닙니다!"
      ],
      "execution_count": 18,
      "outputs": []
    },
    {
      "cell_type": "markdown",
      "metadata": {
        "id": "8oRUqU1E4xXH"
      },
      "source": [
        "<h3>함수의 실행</h3>\n",
        "\n",
        "---\n",
        "함수를 실행 할 때는 \n",
        "1. 함수명\n",
        "2. 괄호\n",
        "3. 매개변수들 \n",
        "\n",
        "***** 매개변수란? (parameter) 함수 코드 내부에 전달할 변수들  *****\n"
      ]
    },
    {
      "cell_type": "code",
      "metadata": {
        "id": "rrFkmF0GsHsi",
        "outputId": "b8ecc5ae-f547-4238-dda3-047226d4a7a0",
        "colab": {
          "base_uri": "https://localhost:8080/",
          "height": 34
        }
      },
      "source": [
        "# 위에서 정의한 함수 f(x) 를 실행해볼까요?\n",
        "\n",
        "f(3)"
      ],
      "execution_count": 19,
      "outputs": [
        {
          "output_type": "execute_result",
          "data": {
            "text/plain": [
              "11"
            ]
          },
          "metadata": {
            "tags": []
          },
          "execution_count": 19
        }
      ]
    },
    {
      "cell_type": "code",
      "metadata": {
        "id": "aUSDGQjbsBbM",
        "outputId": "bf116c8a-c868-4a29-c2fd-7c01cf6224d9",
        "colab": {
          "base_uri": "https://localhost:8080/",
          "height": 34
        }
      },
      "source": [
        "# 위에서 정의한 함수 g(x,y) 를 실행해볼까요?\n",
        "\n",
        "g(2,3)"
      ],
      "execution_count": 20,
      "outputs": [
        {
          "output_type": "execute_result",
          "data": {
            "text/plain": [
              "29"
            ]
          },
          "metadata": {
            "tags": []
          },
          "execution_count": 20
        }
      ]
    },
    {
      "cell_type": "markdown",
      "metadata": {
        "id": "x2wxzhYUaeal"
      },
      "source": [
        "<h3>알고가기</h3>\n",
        "\n",
        "\n",
        "---\n",
        "\n",
        "\n",
        "- def 은 정의하다라는 define에서 따온 글자로 \n",
        "파이썬에서는 앞으로 함수를 '정의'하겠다고 선언하는 예약어입니다.\n",
        "\n",
        "- return 은 함수의 결과 값을 반환할 때 사용하는 예약어입니다.\n",
        "   \n",
        "   return 이 없으면 아무것도 반환하지 않는 것입니다. \n",
        "---"
      ]
    },
    {
      "cell_type": "code",
      "metadata": {
        "id": "3Yp6Or_xA0tV"
      },
      "source": [
        "#  따라 작성하면서 암기해보세요\n",
        "\n",
        "# 2 제곱하는 함수 square 를 정의함\n",
        "\n",
        "\n",
        "####################################\n",
        "# square 은 x^2 제곱이라는 뜻입니다.\n",
        "#\n",
        "# def square(x):\n",
        "#   result = x * x\n",
        "#   return result\n",
        "#\n",
        "####################################\n",
        "\n",
        "# 위 코드를 따라서 작성해보세요!\n",
        "def square(x):\n",
        "   result = x * x\n",
        "   return result\n",
        "\n",
        "\n",
        "\n",
        "\n",
        "# 이것을 사용자가 정의 했다고 하여\n",
        "# '사용자 정의 함수' 라고 부릅니다!\n"
      ],
      "execution_count": 22,
      "outputs": []
    },
    {
      "cell_type": "markdown",
      "metadata": {
        "id": "WWoDiAsZ7wOa"
      },
      "source": [
        "\n",
        "프로그래밍을 처음 시작할 때 가장 많이 하는 실수는 '오타' 입니다.\n",
        "\n",
        "\n",
        "**함수를 정의할 때 흔히 실수하는 오타**\n",
        "\n",
        "*   : 를 적었는지 확인하기!\n",
        "\n",
        "\n",
        "`def myfunction()`\n",
        "\n",
        "\n",
        "` def myfunction():`\n",
        "\n",
        "*   들여쓰기 (tab)\n",
        "\n",
        "만약에 함수를 정의하는 코드를 작성하였는데 에러가 난다면 \n",
        "\n",
        "위의 2가지를 확인해보세요!"
      ]
    },
    {
      "cell_type": "code",
      "metadata": {
        "id": "ir_JrzvGcbfg",
        "outputId": "c543eddf-5493-4a45-8490-2259e5d1042f",
        "colab": {
          "base_uri": "https://localhost:8080/",
          "height": 34
        }
      },
      "source": [
        "# (과제2) 아래에 제시된 함수를 정의하고, 임의의 값(예:x=2,y=3)을 입력하여 함수를 실행해 보세요.\n",
        "\n",
        "# 함수명 : multiply\n",
        "# 매개 변수 (2개) : x, y\n",
        "# 반환 값 : x * y\n",
        "\n",
        "# def 함수의 이름 (매개변수) :\n",
        "#   실행할 코드 내부 ...\n",
        "#   .....\n",
        "#   return 반환 값\n",
        "# -------------아래에 코드를 입력하세요----------------\n",
        "\n",
        "def multiply(x, y):\n",
        "  return x * y\n",
        "\n",
        "\n",
        "# 이것을 사용자가 정의 했다고 하여\n",
        "# '사용자 정의 함수' 라고 부릅니다!"
      ],
      "execution_count": null,
      "outputs": [
        {
          "output_type": "execute_result",
          "data": {
            "text/plain": [
              "6"
            ]
          },
          "metadata": {
            "tags": []
          },
          "execution_count": 99
        }
      ]
    },
    {
      "cell_type": "markdown",
      "metadata": {
        "id": "wYyeq2kS1m7w"
      },
      "source": [
        "**다양하게 함수를 정의하기!**"
      ]
    },
    {
      "cell_type": "code",
      "metadata": {
        "id": "EfLdfxxyD1iA",
        "outputId": "28bef638-4fa8-4620-86cc-218caaa1d51d",
        "colab": {
          "base_uri": "https://localhost:8080/",
          "height": 51
        }
      },
      "source": [
        "# 다양하게 함수를 정의하기 1 \n",
        "\n",
        "def my_function1(x):  \n",
        "  result = x + 10\n",
        "# return 이 없으면 반환 값이 없는 함수로 정의한것! (None)\n",
        "\n",
        "\n",
        "\n",
        "def my_function2(x):  \n",
        "  result = x + 10\n",
        "  return result\n",
        "\n",
        "  # return 이 있으면 반환 값이 있는 함수로 정의한것! (result)\n",
        "\n",
        "\n",
        "\n",
        "# 결과를 받아옴\n",
        "result1 = my_function1(3)\n",
        "result2 = my_function2(3)\n",
        "\n",
        "print(result1)\n",
        "print(result2)\n"
      ],
      "execution_count": 23,
      "outputs": [
        {
          "output_type": "stream",
          "text": [
            "None\n",
            "13\n"
          ],
          "name": "stdout"
        }
      ]
    },
    {
      "cell_type": "code",
      "metadata": {
        "id": "IXuJFfUr0fnH",
        "outputId": "2252dd8f-199d-4367-e64a-69b33781f23e",
        "colab": {
          "base_uri": "https://localhost:8080/",
          "height": 34
        }
      },
      "source": [
        "# 다양하게 함수를 정의하기 2\n",
        "\n",
        "\n",
        "def my_function(x):\n",
        "  # 내부에서 int(정수형) 타입이 아니면 에러나는 경우가 존재\n",
        "  \n",
        "  result = x + 10\n",
        "  # '안녕하세요 문자열입니다.' + 10 => TypeError가 난다!\n",
        "  return result\n",
        "\n",
        "#my_function('안녕하세요 문자열입니다.')\n",
        "my_function(10)\n",
        "\n",
        "\n",
        "\n",
        "def my_function(x:int):\n",
        "  # 이 함수를 실행만 하는 사람에게 알리기 위해 \n",
        "  # 매개변수 값에 type 을 명시할 수 있음\n",
        "  \n",
        "  result = x + 10\n",
        "  return result\n",
        "\n",
        "\n",
        "def my_function(x:int)->int:\n",
        "  # 반환(return) 타입을 명시할 수도 있음\n",
        "  \n",
        "  result = x + 10\n",
        "  return result\n",
        "\n",
        "my_function(2)\n",
        "\n"
      ],
      "execution_count": null,
      "outputs": [
        {
          "output_type": "execute_result",
          "data": {
            "text/plain": [
              "12"
            ]
          },
          "metadata": {
            "tags": []
          },
          "execution_count": 1
        }
      ]
    },
    {
      "cell_type": "code",
      "metadata": {
        "id": "dsmMSYpyFjC5",
        "outputId": "be39b093-4099-44ba-ac50-896a91a51c67",
        "colab": {
          "base_uri": "https://localhost:8080/",
          "height": 34
        }
      },
      "source": [
        "# 다양하게 함수를 정의하기 3\n",
        "\n",
        "def my_function(x:int)->int:\n",
        "  # 함수 내부에서 사용하는 함수를 선언하는 것이 가능\n",
        "  def inner(i):\n",
        "    # 들여쓰기 조심!\n",
        "    return i + 10\n",
        "  \n",
        "  result = inner(x) + inner(x)\n",
        "  return result\n",
        "\n",
        "\n",
        "my_function(2)"
      ],
      "execution_count": 24,
      "outputs": [
        {
          "output_type": "execute_result",
          "data": {
            "text/plain": [
              "24"
            ]
          },
          "metadata": {
            "tags": []
          },
          "execution_count": 24
        }
      ]
    },
    {
      "cell_type": "code",
      "metadata": {
        "id": "ZJLYjc4LsOvQ",
        "outputId": "6443fee3-fa8f-4c15-9438-5d9e39006deb",
        "colab": {
          "base_uri": "https://localhost:8080/",
          "height": 51
        }
      },
      "source": [
        "# 다양하게 함수를 정의하기 4\n",
        "# 기본 초기 값 지정\n",
        "def my_function(x,y=2):\n",
        "  # y값의 기본 값을 (default) 2로 지정함\n",
        "\n",
        "  \n",
        "  result = x+y\n",
        "  return result\n",
        "\n",
        "\n",
        "# y 값을 입력하지 않으면 default값인 y=2 로 대입된다.\n",
        "print(\"my_function(2)  ==> \",my_function(2))\n",
        "\n",
        "# y 값을 직접 입력 가능하다.\n",
        "print(\"my_function(2,10)  ==> \",my_function(2,10))\n"
      ],
      "execution_count": 25,
      "outputs": [
        {
          "output_type": "stream",
          "text": [
            "my_function(2)  ==>  4\n",
            "my_function(2,10)  ==>  12\n"
          ],
          "name": "stdout"
        }
      ]
    },
    {
      "cell_type": "markdown",
      "metadata": {
        "id": "H9-hJJ1h1pYO"
      },
      "source": [
        "<h3>함수명의 가독성을 위한 함수명 표기법</h3>\n",
        "\n",
        "**1. Java 같은 경우는 아래와 같이 주로 코드를 작성합니다.**\n",
        "\n",
        "첫번째 단어는 '소문자'\n",
        "두번째 단어의 첫 글자는 '대문자'\n",
        "Java 같은 경우는 이러한 방식으로 코드를 작성한다.\n",
        "\n",
        "예시 ) \n",
        "\n",
        "\n",
        "```\n",
        "public void myFunction(String x){\n",
        "\n",
        "    System.out.println(x)\n",
        "}\n",
        "\n",
        "```\n",
        "\n",
        "\n",
        "\n",
        "  \n",
        "  \n",
        "**2. c언어 , Python 같은 경우는 아래와 같이 주로 코드를 작성합니다.**\n",
        "\n",
        "각 단어마다 _ 표시를 사용하여 구분짓는다.\n",
        "c언어, python.. 같은 경우는 _ 을 이용하여 \n",
        "\n",
        "\n",
        "```\n",
        "def my_function(x):\n",
        "\n",
        "  print(x)\n",
        "```\n",
        "\n",
        "\n",
        "\n",
        "\n",
        "\n",
        "\n"
      ]
    },
    {
      "cell_type": "code",
      "metadata": {
        "id": "BQgmiB9G2Eu6"
      },
      "source": [
        "def myFunction(x): \n",
        "  print(x)\n",
        "  return x\n",
        "  \n",
        "def my_function(x):\n",
        "  print(x)\n",
        "  return x"
      ],
      "execution_count": 27,
      "outputs": []
    },
    {
      "cell_type": "markdown",
      "metadata": {
        "id": "FOFGV0sZo5XT"
      },
      "source": [
        "\n"
      ]
    },
    {
      "cell_type": "markdown",
      "metadata": {
        "id": "AWeb2HJ2VoSt"
      },
      "source": [
        "\n",
        "프로그래밍을 처음 시작할 때 가장 많이 하는 실수는 '오타' 입니다.\n",
        "\n",
        "\n",
        "**함수를 정의할 때 흔히 실수하는 오타**\n",
        "\n",
        "*   : 를 적었는지 확인하기!\n",
        "\n",
        " def my_function()\n",
        "\n",
        " def my_function():\n",
        "\n",
        "*   들여쓰기 (tab)\n",
        "\n",
        "만약에 함수를 정의하는 코드를 작성하였는데 에러가 난다면 \n",
        "\n",
        "위의 2가지를 확인해보세요!"
      ]
    },
    {
      "cell_type": "markdown",
      "metadata": {
        "id": "2GekK8_7uRkS"
      },
      "source": [
        "<h3>함수는 기본적으로 \n",
        "매개변수의 '값'을 복사합니다.</h3>\n",
        "\n",
        "따라서 변수를 함수에 던져\n",
        "값을 바꾸려고 해도 바뀌지 않습니다."
      ]
    },
    {
      "cell_type": "code",
      "metadata": {
        "id": "HFdLIo7nmJCH",
        "outputId": "ff515172-bf5f-44c9-865b-2a4d180bbfea",
        "colab": {
          "base_uri": "https://localhost:8080/",
          "height": 51
        }
      },
      "source": [
        "def my_function(x):\n",
        "  x = x + 2\n",
        "  return x\n",
        "\n",
        "a = 3\n",
        "print(\"함수에 넣기 전의 변수 a의 값은 : \", a)\n",
        "my_function(a)\n",
        "print(\"함수에 넣은 후의 변수 a의 값은 : \", a)\n"
      ],
      "execution_count": 28,
      "outputs": [
        {
          "output_type": "stream",
          "text": [
            "함수에 넣기 전의 변수 a의 값은 :  3\n",
            "함수에 넣은 후의 변수 a의 값은 :  3\n"
          ],
          "name": "stdout"
        }
      ]
    },
    {
      "cell_type": "markdown",
      "metadata": {
        "id": "0ZD5wOv9YOyJ"
      },
      "source": [
        "<h3>왜 함수를 사용할까요?</h3>\n",
        "\n",
        "---\n",
        "\n",
        "코드의 재사용\n"
      ]
    },
    {
      "cell_type": "code",
      "metadata": {
        "id": "NBzULNCDZE-R",
        "outputId": "022ab1de-df6f-426c-f05c-0b6236f422a8",
        "colab": {
          "base_uri": "https://localhost:8080/",
          "height": 119
        }
      },
      "source": [
        "print(\"**********************************************************\")\n",
        "print(\"********** 데이터로 표현하는 세상에 오신것을 환영합니다! ************\")\n",
        "print(\"**********           1. 공부하기           *****************\")\n",
        "print(\"**********           2. 프로젝트           *****************\")\n",
        "print(\"**********           3. 시험보기           *****************\")\n",
        "print(\"**********************************************************\")\n",
        "\n",
        "# 이 문장을 3번 출력하려면?"
      ],
      "execution_count": 29,
      "outputs": [
        {
          "output_type": "stream",
          "text": [
            "**********************************************************\n",
            "********** 데이터로 표현하는 세상에 오신것을 환영합니다! ************\n",
            "**********           1. 공부하기           *****************\n",
            "**********           2. 프로젝트           *****************\n",
            "**********           3. 시험보기           *****************\n",
            "**********************************************************\n"
          ],
          "name": "stdout"
        }
      ]
    },
    {
      "cell_type": "code",
      "metadata": {
        "id": "-PWaeTy3ZjbT"
      },
      "source": [
        "#(과제3) 다음 셀과 같은 결과가 출력되도록 코드를 완성해 보세요.\n",
        "\n",
        "def printDataWorld():  \n",
        "  # 코드입력\n",
        "  print(\"**********************************************************\")\n",
        "  print(\"********** 데이터로 표현하는 세상에 오신것을 환영합니다! ************\")\n",
        "  print(\"**********           1. 공부하기           *****************\")\n",
        "  print(\"**********           2. 프로젝트           *****************\")\n",
        "  print(\"**********           3. 시험보기           *****************\")\n",
        "  print(\"**********************************************************\")\n",
        "\n"
      ],
      "execution_count": 30,
      "outputs": []
    },
    {
      "cell_type": "code",
      "metadata": {
        "id": "pKd_1ne1k8Wk",
        "outputId": "961e970e-f44c-4b8b-cadc-f1044c0c19a8",
        "colab": {
          "base_uri": "https://localhost:8080/",
          "height": 323
        }
      },
      "source": [
        "# 코드를 재사용 할 수가 있다!\n",
        "printDataWorld()\n",
        "printDataWorld()\n",
        "printDataWorld()"
      ],
      "execution_count": 31,
      "outputs": [
        {
          "output_type": "stream",
          "text": [
            "**********************************************************\n",
            "********** 데이터로 표현하는 세상에 오신것을 환영합니다! ************\n",
            "**********           1. 공부하기           *****************\n",
            "**********           2. 프로젝트           *****************\n",
            "**********           3. 시험보기           *****************\n",
            "**********************************************************\n",
            "**********************************************************\n",
            "********** 데이터로 표현하는 세상에 오신것을 환영합니다! ************\n",
            "**********           1. 공부하기           *****************\n",
            "**********           2. 프로젝트           *****************\n",
            "**********           3. 시험보기           *****************\n",
            "**********************************************************\n",
            "**********************************************************\n",
            "********** 데이터로 표현하는 세상에 오신것을 환영합니다! ************\n",
            "**********           1. 공부하기           *****************\n",
            "**********           2. 프로젝트           *****************\n",
            "**********           3. 시험보기           *****************\n",
            "**********************************************************\n"
          ],
          "name": "stdout"
        }
      ]
    },
    {
      "cell_type": "markdown",
      "metadata": {
        "id": "7RtGpsrnFKve"
      },
      "source": [
        "# Control Flow (제어 흐름)\n",
        "\n",
        "---\n",
        "\n",
        "\n"
      ]
    },
    {
      "cell_type": "markdown",
      "metadata": {
        "id": "dpG8Y_n9WMkW"
      },
      "source": [
        "흐름을 제어한다는 뜻으로 \n",
        "\n",
        "일반적으로 코드는 위에서 아래로 순차적으로 실행됩니다.\n",
        "\n",
        "이때 if, while, for 문등의 예약어를 사용하면 \n",
        "\n",
        "어떤 조건을 만족할 경우에만 실행하거나 (if) ,\n",
        "\n",
        "특정 구간을 반복 할 수 있습니다.(for in , while)"
      ]
    },
    {
      "cell_type": "code",
      "metadata": {
        "id": "HWYRcZ8Xq6lT",
        "outputId": "2f05049a-81fc-4607-fc8a-8c25c47c435d",
        "colab": {
          "base_uri": "https://localhost:8080/",
          "height": 34
        }
      },
      "source": [
        "# 1부터 5까지 합, 1+2+3+4+5=?\n",
        "\n",
        "A = 0\n",
        "i = 0\n",
        "\n",
        "\n",
        "while(True):\n",
        "  A = A + i\n",
        "  i = i + 1\n",
        "  if i > 5:\n",
        "    break\n",
        "\n",
        "'''\n",
        "while(i<6):\n",
        "  A = A + i\n",
        "  i = i + 1\n",
        "  #if i > 5:\n",
        "   # break\n",
        "'''\n",
        "print(A)"
      ],
      "execution_count": null,
      "outputs": [
        {
          "output_type": "stream",
          "text": [
            "15\n"
          ],
          "name": "stdout"
        }
      ]
    },
    {
      "cell_type": "code",
      "metadata": {
        "id": "DPEkA4Ynmg4b",
        "outputId": "457e3359-e799-4b1c-b8e5-1dd5529af9a3",
        "colab": {
          "base_uri": "https://localhost:8080/",
          "height": 34
        }
      },
      "source": [
        "#(과제4) 1부터 100까지 합을 계산하는 코드를 완성하세요.\n",
        "sum = 0\n",
        "for x in range(1, 101):\n",
        "  sum += x\n",
        "print(sum)\n"
      ],
      "execution_count": 32,
      "outputs": [
        {
          "output_type": "stream",
          "text": [
            "5050\n"
          ],
          "name": "stdout"
        }
      ]
    },
    {
      "cell_type": "code",
      "metadata": {
        "id": "gh9Ga4KhC4TM",
        "outputId": "e099a27b-8883-4aac-bec1-2d1f1c927329",
        "colab": {
          "base_uri": "https://localhost:8080/",
          "height": 170
        }
      },
      "source": [
        "def printDataWorld():  \n",
        "  print(\"**********************************************************\")\n",
        "  print(\"********** 데이터로 표현하는 세상에 오신것을 환영합니다! ************\")\n",
        "  print(\"**********           1. 공부하기           *****************\")\n",
        "  print(\"**********           2. 프로젝트           *****************\")\n",
        "  print(\"**********           3. 시험보기           *****************\")\n",
        "  print(\"**********************************************************\")\n",
        "  print(\"\")\n",
        "\n",
        "\n",
        "\n",
        "#if 문\n",
        "\n",
        "printDataWorld()\n",
        " \n",
        "x = input(\"번호를 입력해주세요.\")\n",
        "\n",
        "# 비교 연산자 ==,>, <, >=, <=\n",
        "# 잘못된 비교연산자 =< , => , = (대입 연산임)\n",
        "\n",
        "if x == '1':\n",
        "  print('Python 공부하기')\n",
        "  \n",
        "elif x == '2':\n",
        "  print('조원들아 모여라!')\n",
        "  \n",
        "elif x == '3':\n",
        "  print(\"데표세 A+ 가쥬아았!!\")\n",
        "  \n",
        "else:\n",
        "  print(\"잘못 입력하였습니다.\")\n"
      ],
      "execution_count": null,
      "outputs": [
        {
          "output_type": "stream",
          "text": [
            "**********************************************************\n",
            "********** 데이터로 표현하는 세상에 오신것을 환영합니다! ************\n",
            "**********           1. 공부하기           *****************\n",
            "**********           2. 프로젝트           *****************\n",
            "**********           3. 시험보기           *****************\n",
            "**********************************************************\n",
            "\n",
            "번호를 입력해주세요.2\n",
            "조원들아 모여라!\n"
          ],
          "name": "stdout"
        }
      ]
    },
    {
      "cell_type": "code",
      "metadata": {
        "id": "pl3TON4MRFnu",
        "outputId": "0d036933-cca9-4c86-ec7c-7a0d04db135a",
        "colab": {
          "base_uri": "https://localhost:8080/",
          "height": 102
        }
      },
      "source": [
        "#for in 문 (반복문)\n",
        "\n",
        "my_list = [1,2,3,4,5]\n",
        "\n",
        "for e in my_list:\n",
        "  print(\"my_list : \",e)"
      ],
      "execution_count": null,
      "outputs": [
        {
          "output_type": "stream",
          "text": [
            "my_list :  1\n",
            "my_list :  2\n",
            "my_list :  3\n",
            "my_list :  4\n",
            "my_list :  5\n"
          ],
          "name": "stdout"
        }
      ]
    },
    {
      "cell_type": "code",
      "metadata": {
        "id": "JfhLhszKm_XM",
        "outputId": "3ed0b8a0-719c-4ae2-941c-1199aeaf747d",
        "colab": {
          "base_uri": "https://localhost:8080/",
          "height": 85
        }
      },
      "source": [
        "# 1<= x <5 (이상, 미만)\n",
        "# 일반적으로 내장된 함수들은\n",
        "# 이상, 미만의 형태로 작성되어 있다.\n",
        "# ex) range(1,5) == [1,2,3,4]   \n",
        "#     1<= x < 5]\n",
        "   \n",
        "for e in range(1,5):\n",
        "  print(\"range : \",e)"
      ],
      "execution_count": null,
      "outputs": [
        {
          "output_type": "stream",
          "text": [
            "range :  1\n",
            "range :  2\n",
            "range :  3\n",
            "range :  4\n"
          ],
          "name": "stdout"
        }
      ]
    },
    {
      "cell_type": "code",
      "metadata": {
        "id": "-8tnZHvfnFx_",
        "outputId": "39015491-002a-4146-9bfb-9ff07d55070c",
        "colab": {
          "base_uri": "https://localhost:8080/",
          "height": 102
        }
      },
      "source": [
        "# index 도 함께 알고싶다면?? \n",
        "# enumerate\n",
        "\n",
        "for i,e in enumerate(my_list):\n",
        "  print(\"index : \", i, \", element : \" , e)"
      ],
      "execution_count": null,
      "outputs": [
        {
          "output_type": "stream",
          "text": [
            "index :  0 , element :  1\n",
            "index :  1 , element :  2\n",
            "index :  2 , element :  3\n",
            "index :  3 , element :  4\n",
            "index :  4 , element :  5\n"
          ],
          "name": "stdout"
        }
      ]
    },
    {
      "cell_type": "code",
      "metadata": {
        "id": "JSVOeRLwRWvG",
        "outputId": "f32db92b-58cf-469c-b78c-98687cec6713",
        "colab": {
          "base_uri": "https://localhost:8080/",
          "height": 102
        }
      },
      "source": [
        "#while 문 (반복문)\n",
        "\n",
        "\n",
        "# for in 문이 어떠한 '리스트(또는 튜플, 문자열..)' 에 의해 반복이 제어 되는 흐름이라면\n",
        "\n",
        "# while 문은 주어진 '조건'에 의해 반복이 제어 되는 흐름이다.\n",
        "\n",
        "i = 0\n",
        "# 조건 : i < 5 이면 실행 그렇지 않으면 while문 종료(탈출)\n",
        "\n",
        "while i<5:\n",
        "  \n",
        "  print('i =', i)\n",
        "  i = i + 1\n",
        "# 탈출 : i <= 0 이면 탈출\n",
        "\n"
      ],
      "execution_count": null,
      "outputs": [
        {
          "output_type": "stream",
          "text": [
            "i = 0\n",
            "i = 1\n",
            "i = 2\n",
            "i = 3\n",
            "i = 4\n"
          ],
          "name": "stdout"
        }
      ]
    },
    {
      "cell_type": "code",
      "metadata": {
        "id": "f7LNy2v6fomj",
        "outputId": "96629576-cf1d-4921-d6ae-5d91dcd09afa",
        "colab": {
          "base_uri": "https://localhost:8080/",
          "height": 187
        }
      },
      "source": [
        "my_list = [1,2,3,4,5]\n",
        "\n",
        "while my_list:\n",
        "  print('my_list =', my_list)\n",
        "  e = my_list.pop()\n",
        "  # pop 이란 함수는 리스트에서 원소를 하나 제거하는 것! (마지막 인덱스 부터)\n",
        "\n",
        "  print('e = ', e)\n",
        "\n",
        "\n",
        "# 탈출 : i <= 0 이면 탈출"
      ],
      "execution_count": null,
      "outputs": [
        {
          "output_type": "stream",
          "text": [
            "my_list = [1, 2, 3, 4, 5]\n",
            "e =  5\n",
            "my_list = [1, 2, 3, 4]\n",
            "e =  4\n",
            "my_list = [1, 2, 3]\n",
            "e =  3\n",
            "my_list = [1, 2]\n",
            "e =  2\n",
            "my_list = [1]\n",
            "e =  1\n"
          ],
          "name": "stdout"
        }
      ]
    },
    {
      "cell_type": "code",
      "metadata": {
        "id": "Krx_MaocRZCi",
        "outputId": "61562ea4-3238-4c8e-8c8e-bd228b5356c2",
        "colab": {
          "base_uri": "https://localhost:8080/",
          "height": 153
        }
      },
      "source": [
        "# break 와 continue 문 (탈출, 건너뛰기 방법)\n",
        "my_list = [1,2,3,4,5,6,7]\n",
        "\n",
        "for e in my_list:  \n",
        "  print(e)\n",
        "  if e == 3:\n",
        "    print('건너뛰자!')\n",
        "    continue\n",
        "  elif e == 6:\n",
        "    print('반복문을 탈출하자!')    \n",
        "    break\n",
        "    # e == 6이면 for 문을 탈출함\n"
      ],
      "execution_count": null,
      "outputs": [
        {
          "output_type": "stream",
          "text": [
            "1\n",
            "2\n",
            "3\n",
            "건너뛰자!\n",
            "4\n",
            "5\n",
            "6\n",
            "반복문을 탈출하자!\n"
          ],
          "name": "stdout"
        }
      ]
    },
    {
      "cell_type": "code",
      "metadata": {
        "id": "GaLz4dEpR0Y7"
      },
      "source": [
        "# pass\n",
        "\n",
        "# pass는 실행 할 것이 아무 것도 없다는 것을 의미. 따라서 아무런 동작을 하지 않고 다음 코드를 실행\n",
        "\n",
        "def passFunction():\n",
        "  pass\n",
        "# 함수를 작성하고 내부에 무언가를 작성하지 않으면\n",
        "# 이처럼 에러가 난다.\n",
        "# 그럴 때 pass 라고 작성해주면 통과!\n",
        "# pass"
      ],
      "execution_count": null,
      "outputs": []
    },
    {
      "cell_type": "code",
      "metadata": {
        "id": "85URD6vymYDS",
        "outputId": "a1b19c13-e1df-456c-9247-00d2e3294d96",
        "colab": {
          "base_uri": "https://localhost:8080/",
          "height": 34
        }
      },
      "source": [
        "x = 10\n",
        "\n",
        "if x>10 :\n",
        "  print('x 가 10보다 큽니다!')\n",
        "elif x==10 :\n",
        "  print('x 는 10입니다.')\n",
        "else :\n",
        "  pass"
      ],
      "execution_count": null,
      "outputs": [
        {
          "output_type": "stream",
          "text": [
            "x 는 10입니다.\n"
          ],
          "name": "stdout"
        }
      ]
    },
    {
      "cell_type": "markdown",
      "metadata": {
        "id": "rEVwEht7C4mB"
      },
      "source": [
        "<h3>(과제5) 아래 제시된 코드의 에러를 해결해 보세요.</h3>\n"
      ]
    },
    {
      "cell_type": "code",
      "metadata": {
        "id": "jiSTzQLOo5CN"
      },
      "source": [
        "# (과제5-1) 무엇이 에러를 발생시켰는지 확인해 보세요!\n",
        "def my_function(x):\n",
        "  result = x * x\n",
        "  return result\n"
      ],
      "execution_count": 33,
      "outputs": []
    },
    {
      "cell_type": "code",
      "metadata": {
        "id": "EpDrYY6jpMiX"
      },
      "source": [
        "# (과제5-2) 무엇이 에러를 발생시켰는지 확인해 보세요!\n",
        "def my_function(x):\n",
        "  result = x * x\n",
        "  return result"
      ],
      "execution_count": 34,
      "outputs": []
    }
  ]
}