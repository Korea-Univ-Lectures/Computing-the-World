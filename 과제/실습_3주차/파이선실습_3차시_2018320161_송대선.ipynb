{
  "nbformat": 4,
  "nbformat_minor": 0,
  "metadata": {
    "colab": {
      "name": "파이선실습_3차시_2018320161_송대선.ipynb",
      "provenance": [],
      "collapsed_sections": [],
      "toc_visible": true
    },
    "kernelspec": {
      "name": "python3",
      "display_name": "Python 3"
    }
  },
  "cells": [
    {
      "cell_type": "markdown",
      "metadata": {
        "id": "b09h3DQK9UdK"
      },
      "source": [
        "<h1>파이선 실습 - 3차시</h1>\n",
        "  \n",
        "10월 27일 실습내용 \n",
        "*  List"
      ]
    },
    {
      "cell_type": "markdown",
      "metadata": {
        "id": "IDSr6erb91Tv"
      },
      "source": [
        "## 리스트(List) 란? \n",
        "\n",
        "리스트는 관련 있는 자료를 번호를 매겨서 관리하기 위한 자료구조의 한 종류 입니다.\n",
        "\n",
        "### List 만들기 \n",
        "\n",
        "리스트의 구조는 단순해요 리스트 이름을 정하고 대괄호 안에 여러 개의 값을 넣고 각각을 , 로 구분하면 됩니다. \n",
        "\n",
        "반 학생들의 키를 가지고 List 를 만들어 봅시다.\n"
      ]
    },
    {
      "cell_type": "code",
      "metadata": {
        "id": "ET7sFHboWFpV",
        "outputId": "3b06b552-d5b4-49da-bc9a-612d641c8609",
        "colab": {
          "base_uri": "https://localhost:8080/",
          "height": 51
        }
      },
      "source": [
        "#List_name(변수) = [a,b,c]\n",
        "heights = [175,155,163,184]  #  list 정의하기\n",
        "print(\"반 학생들의 키를 리스트로 표현하면:\")\n",
        "print(heights)"
      ],
      "execution_count": null,
      "outputs": [
        {
          "output_type": "stream",
          "text": [
            "반 학생들의 키를 리스트로 표현하면:\n",
            "[175, 155, 163, 184]\n"
          ],
          "name": "stdout"
        }
      ]
    },
    {
      "cell_type": "code",
      "metadata": {
        "id": "JHvdXb12xRgV",
        "outputId": "3f7b68f5-dd94-42ab-b7ca-7659c4bd31df",
        "colab": {
          "base_uri": "https://localhost:8080/",
          "height": 34
        }
      },
      "source": [
        "a=list([1,2,3])\n",
        "print(a)"
      ],
      "execution_count": null,
      "outputs": [
        {
          "output_type": "stream",
          "text": [
            "[1, 2, 3]\n"
          ],
          "name": "stdout"
        }
      ]
    },
    {
      "cell_type": "markdown",
      "metadata": {
        "id": "4maRmBJ_Wook"
      },
      "source": [
        "키 라는 변수의 이름에  175,155,163,184 와 같은 여러 개의 값을 담을 수 있습니다 \n",
        "이게 바로 List 입니다. \n",
        "\n"
      ]
    },
    {
      "cell_type": "markdown",
      "metadata": {
        "id": "261r2L8uX8-c"
      },
      "source": [
        "* 만약 에러가 뜬다면 입력 값들 사이에 콤마 (,) 를 표시했는지 살펴 보세요 \n",
        "\n"
      ]
    },
    {
      "cell_type": "code",
      "metadata": {
        "id": "gTRy61pnX8Bp",
        "outputId": "293b6b24-959c-43a8-b82d-d43e9e44f6a2",
        "colab": {
          "base_uri": "https://localhost:8080/",
          "height": 51
        }
      },
      "source": [
        "#우리조원들의 학번을 리스트로 만들어 출력해 보세요!\n",
        "\n",
        "studentid_num =[19,18,17]\n",
        "print(\"우리조원들의 학번은 :\")\n",
        "print(studentid_num)\n"
      ],
      "execution_count": null,
      "outputs": [
        {
          "output_type": "stream",
          "text": [
            "우리조원들의 학번은 :\n",
            "[19, 18, 17]\n"
          ],
          "name": "stdout"
        }
      ]
    },
    {
      "cell_type": "markdown",
      "metadata": {
        "id": "gDHUR8aRbqP7"
      },
      "source": [
        "### List에 문자 담기 \n",
        "\n",
        "  **리스트에는 숫자(int 형) 뿐만 아니라 텍스트(string) 도 담을 수 있습니다. 텍스트를 list에 넣을 경우에는 작은 따옴표 '이건 string' 로 감싸서  넣어 줘야 합니다. 또한 list에 숫자와 텍스트 둘다 넣을 수 있습니다. \n",
        "  "
      ]
    },
    {
      "cell_type": "code",
      "metadata": {
        "id": "a-zQA--tPck5",
        "outputId": "816c3af7-a5e4-4f76-e57d-5b910ce96b7f",
        "colab": {
          "base_uri": "https://localhost:8080/",
          "height": 51
        }
      },
      "source": [
        "# 아래는 이름과 엔트리조 번호를 가지는 entry list 입니다 \n",
        "entry = ['내이름',177]\n",
        "\n",
        "print(\"내 entry 정보\")\n",
        "print(entry) #entry list를 출력합니다. "
      ],
      "execution_count": null,
      "outputs": [
        {
          "output_type": "stream",
          "text": [
            "내 entry 정보\n",
            "['내이름', 177]\n"
          ],
          "name": "stdout"
        }
      ]
    },
    {
      "cell_type": "markdown",
      "metadata": {
        "id": "CA8q1enbvJAX"
      },
      "source": [
        "**(과제1) 아래의 2020 대동제 라인업을 보고 List 로 만들어 보세요**\n",
        "\n",
        "* 1일 : '박진영', '제시'\n",
        "* 2일 : '오마이걸', 'BLACKPINK'\n",
        "* 3일 : 'BTS', '블루', 'AKMU'\n"
      ]
    },
    {
      "cell_type": "code",
      "metadata": {
        "id": "gvQEEwkiEiC-",
        "outputId": "fc23124f-99f1-4186-e94c-fe9c390d252f",
        "colab": {
          "base_uri": "https://localhost:8080/",
          "height": 85
        }
      },
      "source": [
        "# (과제1) 대동제 라인업을 list로 만들어 보세요 \n",
        "print(\"대동제 라인업\")\n",
        "\n",
        "day1 = ['박진영', '제시'] #초대 가수를 추가해 보세요\n",
        "day2 = ['오마이걸', 'BLACKPINK'] #초대 가수를 추가해 보세요\n",
        "day3 = ['BTS', '블루', 'AKMU'] #초대 가수를 추가해 보세요\n",
        "\n",
        "print(\"첫째날:\",day1)\n",
        "print(\"둘째날:\",day2)\n",
        "print(\"셋째날:\",day3)"
      ],
      "execution_count": 3,
      "outputs": [
        {
          "output_type": "stream",
          "text": [
            "대동제 라인업\n",
            "첫째날: ['박진영', '제시']\n",
            "둘째날: ['오마이걸', 'BLACKPINK']\n",
            "셋째날: ['BTS', '블루', 'AKMU']\n"
          ],
          "name": "stdout"
        }
      ]
    },
    {
      "cell_type": "markdown",
      "metadata": {
        "id": "uic8wjEEh0lm"
      },
      "source": [
        "###List 에 List 담기 \n",
        "\n",
        "list에는 숫자, 문자 뿐만 아니라 심지어 다른 리스트를 담을 수 있습니다!  \n",
        " 리스트 안에 다른 리스트를 넣을 때는 대괄호를 하나 더 써줘야 합니다.\n",
        "  **[  [ ]  ]**  이렇게요.\n",
        "  \n",
        " 또는 리스트 이름을 나열해서도 할 수 있어요.\n",
        " \n"
      ]
    },
    {
      "cell_type": "code",
      "metadata": {
        "id": "7WCarWR2h5pY",
        "outputId": "c6683a9f-4602-4c33-be7c-13ce9430e1f3",
        "colab": {
          "base_uri": "https://localhost:8080/",
          "height": 51
        }
      },
      "source": [
        "# (과제2) list 안에 list, 위쪽셀의 변수 day1, day2, day3을 lineup_1,2 리스트에 입력하세요.\n",
        "lineup_1 = [['박진영', '제시'],['오마이걸', 'BLACKPINK'],['BTS', '블루', 'AKMU']] #데이터를 직접입력하세요. \n",
        "lineup_2 = [day1, day2, day3] #변수명을 활용하여 입력하세요.\n",
        "print(lineup_1)\n",
        "print(lineup_2)\n"
      ],
      "execution_count": 2,
      "outputs": [
        {
          "output_type": "stream",
          "text": [
            "[['박진영', '제시'], ['오마이걸', 'BLACKPINK'], ['BTS', '블루', 'AKMU']]\n",
            "[['박진영', '제시'], ['오마이걸', 'BLACKPINK'], ['BTS', '블루', 'AKMU']]\n"
          ],
          "name": "stdout"
        }
      ]
    },
    {
      "cell_type": "markdown",
      "metadata": {
        "id": "I1peJRKvvslG"
      },
      "source": [
        "## .append() \n",
        "리스트에 다른 값을 추가하고 싶을 때는  .append()라는 함수를 사용하여 새로운 값을 추가할 수 있습니다.  \n",
        " .append() 함수는 리스트 이름 뒤에 붙여야 합니다!  만약 lineup이라는 리스트에 값을 추가할 경우에는\n",
        "\n",
        "Lineup.append('추가할 값')    이런식으로 말이죠"
      ]
    },
    {
      "cell_type": "code",
      "metadata": {
        "id": "xC0Ckwv5xhIb",
        "outputId": "3f4a6feb-734a-484d-a7fb-c0a33aab64db",
        "colab": {
          "base_uri": "https://localhost:8080/",
          "height": 51
        }
      },
      "source": [
        "# 4일차 라인업 list에 날짜 값을 추가 합니다\n",
        "# 다음은 4일차 라인업 list 입니다\n",
        "day4 = ['그레이','쌈디','우원재']\n",
        "print(\"4일 라인업:\")\n",
        "print(day4)"
      ],
      "execution_count": null,
      "outputs": [
        {
          "output_type": "stream",
          "text": [
            "4일 라인업:\n",
            "['그레이', '쌈디', '우원재']\n"
          ],
          "name": "stdout"
        }
      ]
    },
    {
      "cell_type": "code",
      "metadata": {
        "id": "pRMGEUJ0x5bz",
        "outputId": "ac8f3f19-dab1-463c-8a63-185671c1fd85",
        "colab": {
          "base_uri": "https://localhost:8080/",
          "height": 68
        }
      },
      "source": [
        "# 새로운 날짜 값을 .append()로 추가\n",
        "day4.append('4')  # 4를 .append를 사용해서 추가했습니다\n",
        "print(\"'4'를 추가한 list:\")\n",
        "print(day4) #4가 추가 되었는지 확인해 볼까요? \n",
        "print(\" 정보가 추가 되었습니다\")"
      ],
      "execution_count": null,
      "outputs": [
        {
          "output_type": "stream",
          "text": [
            "'4'를 추가한 list:\n",
            "['그레이', '쌈디', '우원재', '4']\n",
            " 정보가 추가 되었습니다\n"
          ],
          "name": "stdout"
        }
      ]
    },
    {
      "cell_type": "markdown",
      "metadata": {
        "id": "b_9AQMDmN2kP"
      },
      "source": [
        "### + 로 리스트에 값 추가하기 \n",
        "\n",
        "append 외에도 +를 이용해서 리스트에 원하는 값을 추가 할 수 있습니다. \n"
      ]
    },
    {
      "cell_type": "markdown",
      "metadata": {
        "id": "gywjrULRij2M"
      },
      "source": [
        "아래는 데표세에서 여러분이 해야하는 과제들 입니다.\n",
        "\n",
        "* 1주차 과제\n",
        "* 2주차 과제\n",
        "\n",
        "파이썬 수업이 끝나고 교수님이 수업 시간에 갑자기 다음주에 파이썬 프로젝트 과제 설명이 있다고 말씀 하십니다. 위의 예제를 참고하여 homework list에 새로운 프로젝트 과제를 추가하고 총 과제 수를 업데이트 해보세요**"
      ]
    },
    {
      "cell_type": "code",
      "metadata": {
        "id": "a-uF4b4CitBY",
        "outputId": "5e40f3fd-8a1f-4d8b-ed27-b8fd9b250c9b",
        "colab": {
          "base_uri": "https://localhost:8080/",
          "height": 51
        }
      },
      "source": [
        "# 데표세 과제들을 list로 표현합니다\n",
        "homework = ['1주차 과제','2주차 과제'] # 여러분의 과제들\n",
        "print(\"데표세 과제는:\") \n",
        "print(homework)"
      ],
      "execution_count": null,
      "outputs": [
        {
          "output_type": "stream",
          "text": [
            "데표세 과제는:\n",
            "['1주차 과제', '2주차 과제']\n"
          ],
          "name": "stdout"
        }
      ]
    },
    {
      "cell_type": "code",
      "metadata": {
        "id": "89GbcCcdyPSa",
        "outputId": "c3bda74e-f382-47f5-b681-2082cce96a80",
        "colab": {
          "base_uri": "https://localhost:8080/",
          "height": 51
        }
      },
      "source": [
        "# '프로젝트' 를 과제 리스트에 추가하세요\n",
        "homework = homework + ['프로젝트']\n",
        "print(\"수정된 데표세 과제는:\")  # 여러분이 해야할 일이 추가 되었습니다\n",
        "print(homework)"
      ],
      "execution_count": null,
      "outputs": [
        {
          "output_type": "stream",
          "text": [
            "수정된 데표세 과제는:\n",
            "['1주차 과제', '2주차 과제', '프로젝트']\n"
          ],
          "name": "stdout"
        }
      ]
    },
    {
      "cell_type": "markdown",
      "metadata": {
        "id": "mYbGqtnz8zbD"
      },
      "source": [
        "## Range\n",
        " \n",
        " 리스트에 연속적인 숫자 목록을 만들고 싶을 경우가 있습니다. 파이썬은 0 부터 9까지의 숫자가 포함된 list를 만들 경우 0부터 9를 전부 입력 하기 보다 range() 함수를 사용하면 우리가 지정하는 숫자에 맞게 list를 생성해 줍니다.  range 함수는 0부터 입력 받은 숫자 바로 이전 숫자까지를 생성합니다. "
      ]
    },
    {
      "cell_type": "code",
      "metadata": {
        "id": "d0Ttz7Yqazko",
        "outputId": "aa3b45d0-db6b-4a1b-c406-818324f039c9",
        "colab": {
          "base_uri": "https://localhost:8080/",
          "height": 68
        }
      },
      "source": [
        "# num = [0,1,2,3,4,5,6,7,8,9] 이렇게 0~9 까지 입력하는건 귀찮죠\n",
        "\n",
        "# 그래서 range를 사용해서 0부터 9까지 숫자를 가지는 range 객체를 생성합니다. \n",
        "my_range = range(10) \n",
        "\n",
        "# range 를 출력해 볼까요?\n",
        "print(\"0부터 9까지 숫자\")\n",
        "print(my_range)\n",
        "print(\"range(0,10) 은 0부터 10 미만의 숫자를 포함한다는 뜻 입니다\")"
      ],
      "execution_count": null,
      "outputs": [
        {
          "output_type": "stream",
          "text": [
            "0부터 9까지 숫자\n",
            "range(0, 10)\n",
            "range(0,10) 은 0부터 10 미만의 숫자를 포함한다는 뜻 입니다\n"
          ],
          "name": "stdout"
        }
      ]
    },
    {
      "cell_type": "markdown",
      "metadata": {
        "id": "-NgG9DCkhmae"
      },
      "source": [
        "## 리스트 인덱싱 슬라이싱   \n",
        "\n",
        "\n"
      ]
    },
    {
      "cell_type": "markdown",
      "metadata": {
        "id": "13fUF2xf3ZPU"
      },
      "source": [
        "### 인덱싱(index)\n",
        "리스트는 문자열처럼 인덱싱을 적용하여  리스트 안의 값 들을 가져올 수 있습니다. \n",
        "\n",
        " \n",
        " num = [0,1,2,3,4,5]  라는  list가 있을 경우, \n",
        " \n",
        " num[0] 은 num 리스트의 첫 번째 요소값을 말합니다. \n",
        " num[1] 은 두번째, num[2]는 세번째 이렇게 순서대로 리스트안의 요소 값을 말합니다. \n",
        " \n",
        " 어 근데 왜 num[1]이 두 번째 숫자인가 하고 궁금하실 거에요. 그 이유는 **파이썬은 0부터 숫자를 세기 때문이죠** \n",
        " 이렇게 생각하면 이해 될거에요."
      ]
    },
    {
      "cell_type": "code",
      "metadata": {
        "id": "xHUWzmlQq0u9",
        "outputId": "e913fbe0-dde0-420a-e188-d81141902182",
        "colab": {
          "base_uri": "https://localhost:8080/",
          "height": 85
        }
      },
      "source": [
        "# (과제3) 특정 위치의 값을 불러 출력할 수 있습니다. \n",
        "\n",
        "num = [0,3,5,4]  # num이라는 리스트가 있습니다. \n",
        "print(\"num  안에 있는 세 번째 값은:\")\n",
        "print(num[2]) #세번 째 값을 출력하기 위한 코드를 입력하세요. \n",
        "\n",
        "# 그럼 이제 숫자 말고 텍스트도 볼까요? \n",
        "list2 = [ 'i', 'love','you',3000] \n",
        "print(\"list2 안에 있는 두 번째 단어를 print:\")\n",
        "print(list2[1])  # love를 출력하기 위한 코드를 입력하세요.\n"
      ],
      "execution_count": 4,
      "outputs": [
        {
          "output_type": "stream",
          "text": [
            "num  안에 있는 세 번째 값은:\n",
            "5\n",
            "list2 안에 있는 두 번째 단어를 print:\n",
            "love\n"
          ],
          "name": "stdout"
        }
      ]
    },
    {
      "cell_type": "code",
      "metadata": {
        "id": "U7S7bel12DwH",
        "outputId": "3e0665a2-436a-43ac-ae10-ddcd5d1369d4",
        "colab": {
          "base_uri": "https://localhost:8080/",
          "height": 34
        }
      },
      "source": [
        "#인덱스 번호 활용1, 특정 위치의 값 수정하기\n",
        "a = [1, 2, 3]\n",
        "a[2] = 4\n",
        "print(a)"
      ],
      "execution_count": null,
      "outputs": [
        {
          "output_type": "stream",
          "text": [
            "[1, 2, 4]\n"
          ],
          "name": "stdout"
        }
      ]
    },
    {
      "cell_type": "code",
      "metadata": {
        "id": "fIiF3Gte2OGu",
        "outputId": "b1fe7397-12b0-4947-9289-f91d7ba14a84",
        "colab": {
          "base_uri": "https://localhost:8080/",
          "height": 51
        }
      },
      "source": [
        "#인덱스 번호 활용2, 삭제하기\n",
        "\n",
        "a = [1, 2, 3,4,5,6]\n",
        "del a[1] \n",
        "print(a)\n",
        "\n",
        "del a[2:]\n",
        "print(a)"
      ],
      "execution_count": null,
      "outputs": [
        {
          "output_type": "stream",
          "text": [
            "[1, 3, 4, 5, 6]\n",
            "[1, 3]\n"
          ],
          "name": "stdout"
        }
      ]
    },
    {
      "cell_type": "markdown",
      "metadata": {
        "id": "uePdRr-auvQl"
      },
      "source": [
        "### 슬라이싱(slicing)\n",
        "\n",
        "슬라이싱은 말 그대로 문자열이나 리스트 에서 단순히 한 문자만 뽑아내는 것이 아니라 원하는 값을 여러개 가져오는 기능 입니다. \n",
        "* list[ 시작:끝]   이렇게 생겼습니다. \n",
        "\n",
        "그럼 이제 문자열 하고 배열을 slicing 해볼게요"
      ]
    },
    {
      "cell_type": "code",
      "metadata": {
        "id": "leLwtBAMxm1u",
        "outputId": "0be36369-5859-4377-dee5-501fbdf9a666",
        "colab": {
          "base_uri": "https://localhost:8080/",
          "height": 51
        }
      },
      "source": [
        "# 문자열을 slicing 하면\n",
        "text = \"i love you 3000\"  \n",
        "text = text[0:6] # 인덱스 번호 0부터 5까지 값을 가져옵니다\n",
        "print(\"인덱스0 부터 5까지 값을 출력하면:\")\n",
        "print(text) # 가져온 값을 살펴봅시다\n",
        "\n"
      ],
      "execution_count": null,
      "outputs": [
        {
          "output_type": "stream",
          "text": [
            "인덱스0 부터 5까지 값을 출력하면:\n",
            "i love\n"
          ],
          "name": "stdout"
        }
      ]
    },
    {
      "cell_type": "markdown",
      "metadata": {
        "id": "ttOmAhSizOW8"
      },
      "source": [
        "문장에서 6번째 자리에 있는 단어들이 출력 되었습니다! \n",
        "그럼 이제 배열 slicing을 해볼게요 배열도 마찬가지 입니다. 아까 위에서 배열 인덱싱도 같다고 배웠죠? "
      ]
    },
    {
      "cell_type": "code",
      "metadata": {
        "id": "3pPVWROvznXy",
        "outputId": "6884f82c-7064-4806-b719-4b1d539b85de",
        "colab": {
          "base_uri": "https://localhost:8080/",
          "height": 102
        }
      },
      "source": [
        "my_list = ['i','love','you','3000']\n",
        "slicing_list = my_list[1 : 3]  # 리스트에서 인덱스 번호 1 부터 2까지 값을 가져옵니다.\n",
        "print(\"list 안의 두번째 까지의 값은:\")\n",
        "print(slicing_list) \n",
        "print(\"위 문장을 다 slicing을 이용해서 가져오고 print 해보세요!\")\n",
        "\n",
        "# 전체, list[:]  \n",
        "slicing_list = my_list[:]\n",
        "print(slicing_list)\n",
        "\n",
        "# 전체, list[시작:끝] \n",
        "slicing_list = my_list[0:4]\n",
        "print(slicing_list)"
      ],
      "execution_count": null,
      "outputs": [
        {
          "output_type": "stream",
          "text": [
            "list 안의 두번째 까지의 값은:\n",
            "['love', 'you']\n",
            "위 문장을 다 slicing을 이용해서 가져오고 print 해보세요!\n",
            "['i', 'love', 'you', '3000']\n",
            "['i', 'love', 'you', '3000']\n"
          ],
          "name": "stdout"
        }
      ]
    },
    {
      "cell_type": "markdown",
      "metadata": {
        "id": "f6JeCmsP1rGW"
      },
      "source": [
        "\n",
        "**위 내용을 참고해서 아래 예제의 리스트에서 처음부터 3번째 값을 가져와 출력해 보세요**\n"
      ]
    },
    {
      "cell_type": "code",
      "metadata": {
        "id": "NjKx70Ka2neZ",
        "outputId": "a6d02143-e319-478b-882c-8fb8bfc73691",
        "colab": {
          "base_uri": "https://localhost:8080/",
          "height": 34
        }
      },
      "source": [
        "list3 = ['이제','수업','끝','남']\n",
        "# 위 list3에서 처음부터 3번째 '끝' 까지만 가져와 보세요\n",
        "\n",
        "# 여기 아래에 코딩하세요 \n",
        "\n",
        "print(list3) # 가져온 값을 출력해 봅니다"
      ],
      "execution_count": 5,
      "outputs": [
        {
          "output_type": "stream",
          "text": [
            "['이제', '수업', '끝', '남']\n"
          ],
          "name": "stdout"
        }
      ]
    },
    {
      "cell_type": "markdown",
      "metadata": {
        "id": "kyG-dvVu06EP"
      },
      "source": [
        "중접된 리스트에서 슬라이싱 하기"
      ]
    },
    {
      "cell_type": "code",
      "metadata": {
        "id": "fVT09fse0-Hl",
        "outputId": "db42c2e4-544e-4988-efcc-78124bce2668",
        "colab": {
          "base_uri": "https://localhost:8080/",
          "height": 34
        }
      },
      "source": [
        "list4 = [1, 2, 3, ['a', 'b', 'c'], 4, list3]\n",
        "list4[2:5]"
      ],
      "execution_count": null,
      "outputs": [
        {
          "output_type": "execute_result",
          "data": {
            "text/plain": [
              "[3, ['a', 'b', 'c'], 4]"
            ]
          },
          "metadata": {
            "tags": []
          },
          "execution_count": 40
        }
      ]
    },
    {
      "cell_type": "code",
      "metadata": {
        "id": "QgLmC_sX1Cea",
        "outputId": "1e2af9d7-20c5-4eba-a7d8-23369fd6a6b8",
        "colab": {
          "base_uri": "https://localhost:8080/",
          "height": 34
        }
      },
      "source": [
        "#인덱스 번호 3번 리스트 속의 인덱스번호 1번까지를 슬라이싱 해서 출력하세요.\n",
        "print(list4[3][:2])"
      ],
      "execution_count": null,
      "outputs": [
        {
          "output_type": "execute_result",
          "data": {
            "text/plain": [
              "['a', 'b']"
            ]
          },
          "metadata": {
            "tags": []
          },
          "execution_count": 43
        }
      ]
    },
    {
      "cell_type": "code",
      "metadata": {
        "id": "NIjH7coy5T2g",
        "outputId": "b463c38e-50d1-423b-b72f-22f4bda31f4e",
        "colab": {
          "base_uri": "https://localhost:8080/",
          "height": 34
        }
      },
      "source": [
        "#(과제4) list4에서 list3의 처음부터 인덱스 번호 2번째 값을 가져와 출력하세요.\n",
        "\n",
        "# 여기 아래에 코딩하세요 \n",
        "\n",
        "print(list3[0:3]) # 결과: ['이제', '수업', '끝']"
      ],
      "execution_count": 7,
      "outputs": [
        {
          "output_type": "stream",
          "text": [
            "['이제', '수업', '끝']\n"
          ],
          "name": "stdout"
        }
      ]
    },
    {
      "cell_type": "markdown",
      "metadata": {
        "id": "oBATMrA8y8Ne"
      },
      "source": [
        "# 제어구조에서 list의 활용"
      ]
    },
    {
      "cell_type": "code",
      "metadata": {
        "id": "AFNmFyiqy8dM",
        "outputId": "4aa1df87-1a95-4f01-d5f7-564704bb806d",
        "colab": {
          "base_uri": "https://localhost:8080/",
          "height": 102
        }
      },
      "source": [
        "#for in 문 (반복문)\n",
        "\n",
        "my_list = [1,2,3,4,5]\n",
        "\n",
        "for e in my_list:\n",
        "  print(\"my_list : \",e)"
      ],
      "execution_count": null,
      "outputs": [
        {
          "output_type": "stream",
          "text": [
            "my_list :  1\n",
            "my_list :  2\n",
            "my_list :  3\n",
            "my_list :  4\n",
            "my_list :  5\n"
          ],
          "name": "stdout"
        }
      ]
    },
    {
      "cell_type": "code",
      "metadata": {
        "id": "4gCUiqwXzIfi",
        "outputId": "13c5a001-c80a-410f-a840-50d7ba9e58af",
        "colab": {
          "base_uri": "https://localhost:8080/",
          "height": 85
        }
      },
      "source": [
        "# 1<= x <5 (이상, 미만)\n",
        "# 일반적으로 내장된 함수들은\n",
        "# 이상, 미만의 형태로 작성되어 있다.\n",
        "# ex) range(1,5) == [1,2,3,4]   \n",
        "#                  1<= x < 5]\n",
        "  \n",
        "for e in range(1,5):\n",
        "  print(\"range : \",e)"
      ],
      "execution_count": null,
      "outputs": [
        {
          "output_type": "stream",
          "text": [
            "range :  1\n",
            "range :  2\n",
            "range :  3\n",
            "range :  4\n"
          ],
          "name": "stdout"
        }
      ]
    },
    {
      "cell_type": "code",
      "metadata": {
        "id": "xR7j0OGMzIoA",
        "outputId": "5c51f834-f7dd-4339-fd75-3a671749c3e0",
        "colab": {
          "base_uri": "https://localhost:8080/",
          "height": 102
        }
      },
      "source": [
        "# index 도 함께 알고싶다면?? \n",
        "# enumerate\n",
        "\n",
        "for i,e in enumerate(my_list):\n",
        "  print(\"index : \", i, \", element : \" , e)"
      ],
      "execution_count": null,
      "outputs": [
        {
          "output_type": "stream",
          "text": [
            "index :  0 , element :  1\n",
            "index :  1 , element :  2\n",
            "index :  2 , element :  3\n",
            "index :  3 , element :  4\n",
            "index :  4 , element :  5\n"
          ],
          "name": "stdout"
        }
      ]
    },
    {
      "cell_type": "markdown",
      "metadata": {
        "id": "OH66nSAEzXOo"
      },
      "source": [
        ".pop이란 함수는 리스트에서 원소를 하나 제거하는 것! (단, 가장 마지막 인덱스 부터!!)"
      ]
    },
    {
      "cell_type": "code",
      "metadata": {
        "id": "xPgbj_0uzngs",
        "outputId": "e7baaa80-6bc5-4679-adff-158539ecd15d",
        "colab": {
          "base_uri": "https://localhost:8080/",
          "height": 187
        }
      },
      "source": [
        "my_list = [1,2,3,4,5]\n",
        "\n",
        "while my_list:\n",
        "  print('my_list =', my_list)\n",
        "  e = my_list.pop()\n",
        "  print('e = ', e)\n"
      ],
      "execution_count": null,
      "outputs": [
        {
          "output_type": "stream",
          "text": [
            "my_list = [1, 2, 3, 4, 5]\n",
            "e =  5\n",
            "my_list = [1, 2, 3, 4]\n",
            "e =  4\n",
            "my_list = [1, 2, 3]\n",
            "e =  3\n",
            "my_list = [1, 2]\n",
            "e =  2\n",
            "my_list = [1]\n",
            "e =  1\n"
          ],
          "name": "stdout"
        }
      ]
    },
    {
      "cell_type": "markdown",
      "metadata": {
        "id": "3MDDSF6I1Zlq"
      },
      "source": [
        "# 더 알아보기"
      ]
    },
    {
      "cell_type": "code",
      "metadata": {
        "id": "fCB8Nmed1bq-",
        "outputId": "30a9a938-9527-4187-97fa-6740a981462e",
        "colab": {
          "base_uri": "https://localhost:8080/",
          "height": 34
        }
      },
      "source": [
        "# 리스트 연산하기, 더하기\n",
        "\n",
        "list5 = [1, 2, 3]\n",
        "list6 = [4, 5, 6]\n",
        "list5 + list6\n"
      ],
      "execution_count": null,
      "outputs": [
        {
          "output_type": "execute_result",
          "data": {
            "text/plain": [
              "[1, 2, 3, 4, 5, 6]"
            ]
          },
          "metadata": {
            "tags": []
          },
          "execution_count": 14
        }
      ]
    },
    {
      "cell_type": "code",
      "metadata": {
        "id": "c47Xbgzb1j5T",
        "outputId": "4c6b4637-52ad-4555-f820-bb7dc2b417d8",
        "colab": {
          "base_uri": "https://localhost:8080/",
          "height": 34
        }
      },
      "source": [
        "# 리스트 연산하기, 곱하기\n",
        "list7 = [1, 2, 3, 4]\n",
        "list7 * 3"
      ],
      "execution_count": null,
      "outputs": [
        {
          "output_type": "execute_result",
          "data": {
            "text/plain": [
              "[1, 2, 3, 4, 1, 2, 3, 4, 1, 2, 3, 4]"
            ]
          },
          "metadata": {
            "tags": []
          },
          "execution_count": 18
        }
      ]
    },
    {
      "cell_type": "code",
      "metadata": {
        "id": "oo7qTf_11qhA",
        "outputId": "9ddfb856-fd06-4a91-a01a-41e12486a4b2",
        "colab": {
          "base_uri": "https://localhost:8080/",
          "height": 34
        }
      },
      "source": [
        "# 리스트 길이 구하기\n",
        "#len 함수는 문자열, 리스트외에도 딕셔너리 등 파이선 자료형 및 자료구조에 폭넓게 사용할 수 있는 함수\n",
        "list7 = [1, 2, 3, 4]\n",
        "len(list7)"
      ],
      "execution_count": null,
      "outputs": [
        {
          "output_type": "execute_result",
          "data": {
            "text/plain": [
              "4"
            ]
          },
          "metadata": {
            "tags": []
          },
          "execution_count": 19
        }
      ]
    },
    {
      "cell_type": "code",
      "metadata": {
        "id": "znr6YkV4292c",
        "outputId": "ed5101f8-591b-41c4-e4c4-a3ffbb20bd68",
        "colab": {
          "base_uri": "https://localhost:8080/",
          "height": 34
        }
      },
      "source": [
        "# 특정 값이 몇개인지 세어주는 명령어\n",
        "list8 = [1,1,1,2,2,3]\n",
        "print(list8.count(2))"
      ],
      "execution_count": null,
      "outputs": [
        {
          "output_type": "stream",
          "text": [
            "2\n"
          ],
          "name": "stdout"
        }
      ]
    }
  ]
}