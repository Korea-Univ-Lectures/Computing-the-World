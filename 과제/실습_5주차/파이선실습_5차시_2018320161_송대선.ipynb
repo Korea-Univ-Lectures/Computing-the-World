{
  "nbformat": 4,
  "nbformat_minor": 0,
  "metadata": {
    "colab": {
      "name": "파이선실습_5차시_2018320161_송대선.ipynb",
      "provenance": [],
      "collapsed_sections": []
    },
    "kernelspec": {
      "name": "python3",
      "display_name": "Python 3"
    }
  },
  "cells": [
    {
      "cell_type": "markdown",
      "metadata": {
        "id": "KECgMcotQ3S7"
      },
      "source": [
        "<h1>파이선 실습 - 5차시</h1>\n",
        "  \n",
        "11월 3일 실습내용 \n",
        "*  Turtle"
      ]
    },
    {
      "cell_type": "markdown",
      "metadata": {
        "id": "GDFg2yRKUvHl"
      },
      "source": [
        "# 1. Turtle 라이브러리 사용 준비하기"
      ]
    },
    {
      "cell_type": "code",
      "metadata": {
        "id": "djF_lmcgJKpp",
        "outputId": "77e6e23a-6ee1-45fe-ebe4-010f638b30ce",
        "colab": {
          "base_uri": "https://localhost:8080/"
        }
      },
      "source": [
        "#라이브러리 설치하기\n",
        "!pip3 install ColabTurtle"
      ],
      "execution_count": 1,
      "outputs": [
        {
          "output_type": "stream",
          "text": [
            "Collecting ColabTurtle\n",
            "  Downloading https://files.pythonhosted.org/packages/49/01/6da7091c2c6c917cce99c000b89acb6aa27b66ef6eafc0c0ccf59b98694f/ColabTurtle-2.0.0.tar.gz\n",
            "Building wheels for collected packages: ColabTurtle\n",
            "  Building wheel for ColabTurtle (setup.py) ... \u001b[?25l\u001b[?25hdone\n",
            "  Created wheel for ColabTurtle: filename=ColabTurtle-2.0.0-cp36-none-any.whl size=4032 sha256=6e7af267979b29584e1bc351eb987b5a1bb340904ee87eac56deb3bebd56749b\n",
            "  Stored in directory: /root/.cache/pip/wheels/a8/29/ec/ad346f0042ae467cc74f4378916348faf975b07890651dcae7\n",
            "Successfully built ColabTurtle\n",
            "Installing collected packages: ColabTurtle\n",
            "Successfully installed ColabTurtle-2.0.0\n"
          ],
          "name": "stdout"
        }
      ]
    },
    {
      "cell_type": "code",
      "metadata": {
        "id": "6lOVgWUZJHNp"
      },
      "source": [
        "import ColabTurtle # 라이브러리 추가하기"
      ],
      "execution_count": 2,
      "outputs": []
    },
    {
      "cell_type": "code",
      "metadata": {
        "id": "xMGCcx0mJVxp",
        "outputId": "d1b78ab8-b9fd-4c29-bb19-e9401a2aa38f",
        "colab": {
          "base_uri": "https://localhost:8080/",
          "height": 521
        }
      },
      "source": [
        "#라이브러리 추가 및 예시\n",
        "from ColabTurtle.Turtle import * \n",
        "\n",
        "my_turtle = ColabTurtle.Turtle\n",
        "my_turtle.initializeTurtle(initial_speed=5)\n",
        "my_turtle.color('orange')\n",
        "my_turtle.bgcolor('white')\n",
        "my_turtle.width(1)\n",
        "for i in range(36):\n",
        "    my_turtle.forward(200)\n",
        "    my_turtle.left(170)"
      ],
      "execution_count": 3,
      "outputs": [
        {
          "output_type": "display_data",
          "data": {
            "text/html": [
              "\n",
              "      <svg width=\"800\" height=\"500\">\n",
              "        <rect width=\"100%\" height=\"100%\" fill=\"white\"/>\n",
              "        <line x1=\"400\" y1=\"250\" x2=\"399.99999999999994\" y2=\"50.0\" stroke-linecap=\"round\" style=\"stroke:orange;stroke-width:1\"/><line x1=\"399.99999999999994\" y1=\"50.0\" x2=\"365.2703644666139\" y2=\"246.9615506024416\" stroke-linecap=\"round\" style=\"stroke:orange;stroke-width:1\"/><line x1=\"365.2703644666139\" y1=\"246.9615506024416\" x2=\"433.6743931317477\" y2=\"59.023026445259944\" stroke-linecap=\"round\" style=\"stroke:orange;stroke-width:1\"/><line x1=\"433.6743931317477\" y1=\"59.023026445259944\" x2=\"333.67439313174776\" y2=\"232.2281072021477\" stroke-linecap=\"round\" style=\"stroke:orange;stroke-width:1\"/><line x1=\"333.67439313174776\" y1=\"232.2281072021477\" x2=\"462.2319150690556\" y2=\"79.01921857835208\" stroke-linecap=\"round\" style=\"stroke:orange;stroke-width:1\"/><line x1=\"462.2319150690556\" y1=\"79.01921857835208\" x2=\"309.02302644526003\" y2=\"207.57674051565996\" stroke-linecap=\"round\" style=\"stroke:orange;stroke-width:1\"/><line x1=\"309.02302644526003\" y1=\"207.57674051565996\" x2=\"482.2281072021477\" y2=\"107.57674051565988\" stroke-linecap=\"round\" style=\"stroke:orange;stroke-width:1\"/><line x1=\"482.2281072021477\" y1=\"107.57674051565988\" x2=\"294.2895830449661\" y2=\"175.98076918079366\" stroke-linecap=\"round\" style=\"stroke:orange;stroke-width:1\"/><line x1=\"294.2895830449661\" y1=\"175.98076918079366\" x2=\"491.2511336474077\" y2=\"141.25113364740758\" stroke-linecap=\"round\" style=\"stroke:orange;stroke-width:1\"/><line x1=\"491.2511336474077\" y1=\"141.25113364740758\" x2=\"291.2511336474077\" y2=\"141.2511336474076\" stroke-linecap=\"round\" style=\"stroke:orange;stroke-width:1\"/><line x1=\"291.2511336474077\" y1=\"141.2511336474076\" x2=\"488.2126842498493\" y2=\"175.9807691807937\" stroke-linecap=\"round\" style=\"stroke:orange;stroke-width:1\"/><line x1=\"488.2126842498493\" y1=\"175.9807691807937\" x2=\"300.2741600926676\" y2=\"107.57674051565995\" stroke-linecap=\"round\" style=\"stroke:orange;stroke-width:1\"/><line x1=\"300.2741600926676\" y1=\"107.57674051565995\" x2=\"473.47924084955537\" y2=\"207.57674051565994\" stroke-linecap=\"round\" style=\"stroke:orange;stroke-width:1\"/><line x1=\"473.47924084955537\" y1=\"207.57674051565994\" x2=\"320.2703522257598\" y2=\"79.01921857835208\" stroke-linecap=\"round\" style=\"stroke:orange;stroke-width:1\"/><line x1=\"320.2703522257598\" y1=\"79.01921857835208\" x2=\"448.8278741630677\" y2=\"232.2281072021477\" stroke-linecap=\"round\" style=\"stroke:orange;stroke-width:1\"/><line x1=\"448.8278741630677\" y1=\"232.2281072021477\" x2=\"348.8278741630676\" y2=\"59.02302644526003\" stroke-linecap=\"round\" style=\"stroke:orange;stroke-width:1\"/><line x1=\"348.8278741630676\" y1=\"59.02302644526003\" x2=\"417.2319028282013\" y2=\"246.9615506024417\" stroke-linecap=\"round\" style=\"stroke:orange;stroke-width:1\"/><line x1=\"417.2319028282013\" y1=\"246.9615506024417\" x2=\"382.5022672948153\" y2=\"50.000000000000085\" stroke-linecap=\"round\" style=\"stroke:orange;stroke-width:1\"/><line x1=\"382.5022672948153\" y1=\"50.000000000000085\" x2=\"382.5022672948153\" y2=\"250.00000000000009\" stroke-linecap=\"round\" style=\"stroke:orange;stroke-width:1\"/><line x1=\"382.5022672948153\" y1=\"250.00000000000009\" x2=\"417.23190282820127\" y2=\"53.03844939755845\" stroke-linecap=\"round\" style=\"stroke:orange;stroke-width:1\"/><line x1=\"417.23190282820127\" y1=\"53.03844939755845\" x2=\"348.8278741630675\" y2=\"240.97697355474014\" stroke-linecap=\"round\" style=\"stroke:orange;stroke-width:1\"/><line x1=\"348.8278741630675\" y1=\"240.97697355474014\" x2=\"448.8278741630676\" y2=\"67.77189279785242\" stroke-linecap=\"round\" style=\"stroke:orange;stroke-width:1\"/><line x1=\"448.8278741630676\" y1=\"67.77189279785242\" x2=\"320.27035222575967\" y2=\"220.98078142164803\" stroke-linecap=\"round\" style=\"stroke:orange;stroke-width:1\"/><line x1=\"320.27035222575967\" y1=\"220.98078142164803\" x2=\"473.47924084955525\" y2=\"92.42325948434012\" stroke-linecap=\"round\" style=\"stroke:orange;stroke-width:1\"/><line x1=\"473.47924084955525\" y1=\"92.42325948434012\" x2=\"300.2741600926675\" y2=\"192.42325948434012\" stroke-linecap=\"round\" style=\"stroke:orange;stroke-width:1\"/><line x1=\"300.2741600926675\" y1=\"192.42325948434012\" x2=\"488.2126842498492\" y2=\"124.0192308192064\" stroke-linecap=\"round\" style=\"stroke:orange;stroke-width:1\"/><line x1=\"488.2126842498492\" y1=\"124.0192308192064\" x2=\"291.2511336474076\" y2=\"158.74886635259244\" stroke-linecap=\"round\" style=\"stroke:orange;stroke-width:1\"/><line x1=\"291.2511336474076\" y1=\"158.74886635259244\" x2=\"491.2511336474076\" y2=\"158.74886635259244\" stroke-linecap=\"round\" style=\"stroke:orange;stroke-width:1\"/><line x1=\"491.2511336474076\" y1=\"158.74886635259244\" x2=\"294.289583044966\" y2=\"124.01923081920634\" stroke-linecap=\"round\" style=\"stroke:orange;stroke-width:1\"/><line x1=\"294.289583044966\" y1=\"124.01923081920634\" x2=\"482.22810720214767\" y2=\"192.42325948434006\" stroke-linecap=\"round\" style=\"stroke:orange;stroke-width:1\"/><line x1=\"482.22810720214767\" y1=\"192.42325948434006\" x2=\"309.0230264452599\" y2=\"92.42325948434004\" stroke-linecap=\"round\" style=\"stroke:orange;stroke-width:1\"/><line x1=\"309.0230264452599\" y1=\"92.42325948434004\" x2=\"462.2319150690555\" y2=\"220.9807814216479\" stroke-linecap=\"round\" style=\"stroke:orange;stroke-width:1\"/><line x1=\"462.2319150690555\" y1=\"220.9807814216479\" x2=\"333.6743931317476\" y2=\"67.7718927978523\" stroke-linecap=\"round\" style=\"stroke:orange;stroke-width:1\"/><line x1=\"333.6743931317476\" y1=\"67.7718927978523\" x2=\"433.6743931317476\" y2=\"240.97697355474003\" stroke-linecap=\"round\" style=\"stroke:orange;stroke-width:1\"/><line x1=\"433.6743931317476\" y1=\"240.97697355474003\" x2=\"365.2703644666139\" y2=\"53.03844939755834\" stroke-linecap=\"round\" style=\"stroke:orange;stroke-width:1\"/><line x1=\"365.2703644666139\" y1=\"53.03844939755834\" x2=\"400.0\" y2=\"249.99999999999994\" stroke-linecap=\"round\" style=\"stroke:orange;stroke-width:1\"/>\n",
              "        \n",
              "      <g visibility=visible transform=\"rotate(180,400.0,249.99999999999994) translate(400.0, 249.99999999999994)\">\n",
              "        <circle stroke=\"orange\" stroke-width=\"3\" fill=\"transparent\" r=\"12\" cx=\"0\" cy=\"0\"/>\n",
              "        <polygon points=\"0,19 3,16 -3,16\" style=\"fill:orange;stroke:orange;stroke-width:2\"/>\n",
              "      </g>\n",
              "    \n",
              "      </svg>\n",
              "    "
            ],
            "text/plain": [
              "<IPython.core.display.HTML object>"
            ]
          },
          "metadata": {
            "tags": []
          }
        }
      ]
    },
    {
      "cell_type": "code",
      "metadata": {
        "id": "DAY0WvR9T9u0",
        "outputId": "4586100a-a74f-4884-e00b-6e074c80dba7",
        "colab": {
          "base_uri": "https://localhost:8080/"
        }
      },
      "source": [
        "# 터틀 객체가 사용 가능한 명령은?\n",
        "dir(my_turtle)"
      ],
      "execution_count": 4,
      "outputs": [
        {
          "output_type": "execute_result",
          "data": {
            "text/plain": [
              "['DEFAULT_BACKGROUND_COLOR',\n",
              " 'DEFAULT_IS_PEN_DOWN',\n",
              " 'DEFAULT_PEN_COLOR',\n",
              " 'DEFAULT_PEN_WIDTH',\n",
              " 'DEFAULT_SPEED',\n",
              " 'DEFAULT_SVG_LINES_STRING',\n",
              " 'DEFAULT_TURTLE_DEGREE',\n",
              " 'DEFAULT_TURTLE_VISIBILITY',\n",
              " 'DEFAULT_WINDOW_SIZE',\n",
              " 'HTML',\n",
              " 'SPEED_TO_SEC_MAP',\n",
              " 'SVG_TEMPLATE',\n",
              " 'TURTLE_SVG_TEMPLATE',\n",
              " 'VALID_COLORS',\n",
              " '__builtins__',\n",
              " '__cached__',\n",
              " '__doc__',\n",
              " '__file__',\n",
              " '__loader__',\n",
              " '__name__',\n",
              " '__package__',\n",
              " '__spec__',\n",
              " '_generateTurtleSvgDrawing',\n",
              " '_genereateSvgDrawing',\n",
              " '_moveToNewPosition',\n",
              " '_speedToSec',\n",
              " '_updateDrawing',\n",
              " 'background_color',\n",
              " 'backward',\n",
              " 'bgcolor',\n",
              " 'color',\n",
              " 'display',\n",
              " 'drawing_window',\n",
              " 'forward',\n",
              " 'goto',\n",
              " 'hideturtle',\n",
              " 'initializeTurtle',\n",
              " 'is_pen_down',\n",
              " 'is_turtle_visible',\n",
              " 'left',\n",
              " 'math',\n",
              " 'pen_color',\n",
              " 'pen_width',\n",
              " 'pendown',\n",
              " 'penup',\n",
              " 'right',\n",
              " 'setx',\n",
              " 'sety',\n",
              " 'showturtle',\n",
              " 'speed',\n",
              " 'svg_lines_string',\n",
              " 'time',\n",
              " 'timeout',\n",
              " 'turtle_degree',\n",
              " 'turtle_pos',\n",
              " 'width',\n",
              " 'window_size']"
            ]
          },
          "metadata": {
            "tags": []
          },
          "execution_count": 4
        }
      ]
    },
    {
      "cell_type": "code",
      "metadata": {
        "id": "JtxjKBtSUB1r",
        "outputId": "3066be3f-2ddd-497b-b7ce-f2e31961c709",
        "colab": {
          "base_uri": "https://localhost:8080/"
        }
      },
      "source": [
        "# 사용 설명\n",
        "help(my_turtle.left)"
      ],
      "execution_count": 5,
      "outputs": [
        {
          "output_type": "stream",
          "text": [
            "Help on function left in module ColabTurtle.Turtle:\n",
            "\n",
            "left(degrees)\n",
            "    # makes the turtle move right by 'degrees' degrees (NOT radians)\n",
            "\n"
          ],
          "name": "stdout"
        }
      ]
    },
    {
      "cell_type": "code",
      "metadata": {
        "id": "f94B7bpLI_Td",
        "outputId": "36a5d5a7-44b0-4d30-d982-45b5da7b8938",
        "colab": {
          "base_uri": "https://localhost:8080/"
        }
      },
      "source": [
        "help(my_turtle.window_size)"
      ],
      "execution_count": 6,
      "outputs": [
        {
          "output_type": "stream",
          "text": [
            "Help on tuple object:\n",
            "\n",
            "class tuple(object)\n",
            " |  tuple() -> empty tuple\n",
            " |  tuple(iterable) -> tuple initialized from iterable's items\n",
            " |  \n",
            " |  If the argument is a tuple, the return value is the same object.\n",
            " |  \n",
            " |  Methods defined here:\n",
            " |  \n",
            " |  __add__(self, value, /)\n",
            " |      Return self+value.\n",
            " |  \n",
            " |  __contains__(self, key, /)\n",
            " |      Return key in self.\n",
            " |  \n",
            " |  __eq__(self, value, /)\n",
            " |      Return self==value.\n",
            " |  \n",
            " |  __ge__(self, value, /)\n",
            " |      Return self>=value.\n",
            " |  \n",
            " |  __getattribute__(self, name, /)\n",
            " |      Return getattr(self, name).\n",
            " |  \n",
            " |  __getitem__(self, key, /)\n",
            " |      Return self[key].\n",
            " |  \n",
            " |  __getnewargs__(...)\n",
            " |  \n",
            " |  __gt__(self, value, /)\n",
            " |      Return self>value.\n",
            " |  \n",
            " |  __hash__(self, /)\n",
            " |      Return hash(self).\n",
            " |  \n",
            " |  __iter__(self, /)\n",
            " |      Implement iter(self).\n",
            " |  \n",
            " |  __le__(self, value, /)\n",
            " |      Return self<=value.\n",
            " |  \n",
            " |  __len__(self, /)\n",
            " |      Return len(self).\n",
            " |  \n",
            " |  __lt__(self, value, /)\n",
            " |      Return self<value.\n",
            " |  \n",
            " |  __mul__(self, value, /)\n",
            " |      Return self*value.\n",
            " |  \n",
            " |  __ne__(self, value, /)\n",
            " |      Return self!=value.\n",
            " |  \n",
            " |  __new__(*args, **kwargs) from builtins.type\n",
            " |      Create and return a new object.  See help(type) for accurate signature.\n",
            " |  \n",
            " |  __repr__(self, /)\n",
            " |      Return repr(self).\n",
            " |  \n",
            " |  __rmul__(self, value, /)\n",
            " |      Return value*self.\n",
            " |  \n",
            " |  count(...)\n",
            " |      T.count(value) -> integer -- return number of occurrences of value\n",
            " |  \n",
            " |  index(...)\n",
            " |      T.index(value, [start, [stop]]) -> integer -- return first index of value.\n",
            " |      Raises ValueError if the value is not present.\n",
            "\n"
          ],
          "name": "stdout"
        }
      ]
    },
    {
      "cell_type": "markdown",
      "metadata": {
        "id": "dX-3tvgMKnp9"
      },
      "source": [
        "# 참고, 자료구조 튜플(tuple)\n",
        "\n",
        "- 리스트와 비슷하나, 다른\n",
        "- 리스트 [ ], 튜플 ( )\n",
        "- 리스트는 그 값의 생성, 삭제, 수정이 가능!, 튜틀은 그 갑의 생성, 삭제 만 !"
      ]
    },
    {
      "cell_type": "code",
      "metadata": {
        "id": "Nykop3kcLbuu"
      },
      "source": [
        "# 튜플 선언\n",
        "my_tuple = (1,2,3,('a','b'))"
      ],
      "execution_count": 8,
      "outputs": []
    },
    {
      "cell_type": "code",
      "metadata": {
        "id": "R2WDZPkQLsOq",
        "outputId": "fc57a22c-baae-493e-c078-b2715656f5c8",
        "colab": {
          "base_uri": "https://localhost:8080/"
        }
      },
      "source": [
        "# 인덱싱, 슬라이싱 \n",
        "print(my_tuple[0])\n",
        "print(my_tuple[1:3])"
      ],
      "execution_count": 9,
      "outputs": [
        {
          "output_type": "stream",
          "text": [
            "1\n",
            "(2, 3)\n"
          ],
          "name": "stdout"
        }
      ]
    },
    {
      "cell_type": "code",
      "metadata": {
        "id": "AcyL8vryL-UZ",
        "outputId": "71f1b9f2-e655-485f-da9e-01280c82f0de",
        "colab": {
          "base_uri": "https://localhost:8080/",
          "height": 215
        }
      },
      "source": [
        "# 삭제나 수정은? \n",
        "del my_tuple[0]\n",
        "\n",
        "my_tuple[0]='a'"
      ],
      "execution_count": 11,
      "outputs": [
        {
          "output_type": "error",
          "ename": "TypeError",
          "evalue": "ignored",
          "traceback": [
            "\u001b[0;31m---------------------------------------------------------------------------\u001b[0m",
            "\u001b[0;31mTypeError\u001b[0m                                 Traceback (most recent call last)",
            "\u001b[0;32m<ipython-input-11-c8723718e195>\u001b[0m in \u001b[0;36m<module>\u001b[0;34m()\u001b[0m\n\u001b[1;32m      1\u001b[0m \u001b[0;31m# 삭제나 수정은?\u001b[0m\u001b[0;34m\u001b[0m\u001b[0;34m\u001b[0m\u001b[0;34m\u001b[0m\u001b[0m\n\u001b[0;32m----> 2\u001b[0;31m \u001b[0;32mdel\u001b[0m \u001b[0mmy_tuple\u001b[0m\u001b[0;34m[\u001b[0m\u001b[0;36m0\u001b[0m\u001b[0;34m]\u001b[0m\u001b[0;34m\u001b[0m\u001b[0;34m\u001b[0m\u001b[0m\n\u001b[0m\u001b[1;32m      3\u001b[0m \u001b[0;34m\u001b[0m\u001b[0m\n\u001b[1;32m      4\u001b[0m \u001b[0mmy_tuple\u001b[0m\u001b[0;34m[\u001b[0m\u001b[0;36m0\u001b[0m\u001b[0;34m]\u001b[0m\u001b[0;34m=\u001b[0m\u001b[0;34m'a'\u001b[0m\u001b[0;34m\u001b[0m\u001b[0;34m\u001b[0m\u001b[0m\n",
            "\u001b[0;31mTypeError\u001b[0m: 'tuple' object doesn't support item deletion"
          ]
        }
      ]
    },
    {
      "cell_type": "code",
      "metadata": {
        "id": "IVc5F5-sMbGR",
        "outputId": "c9e08f4e-ad97-4e44-94ee-88309dbfe80a",
        "colab": {
          "base_uri": "https://localhost:8080/"
        }
      },
      "source": [
        "#기타\n",
        "my_t1=(1,2)\n",
        "my_t2=(3,4)\n",
        "\n",
        "print(my_t1+my_t2)\n",
        "print(len(my_t1))"
      ],
      "execution_count": 12,
      "outputs": [
        {
          "output_type": "stream",
          "text": [
            "(1, 2, 3, 4)\n",
            "2\n"
          ],
          "name": "stdout"
        }
      ]
    },
    {
      "cell_type": "code",
      "metadata": {
        "id": "flDqOMPLKmns",
        "outputId": "d693e7a2-fe98-411d-936f-33a47a3dfa94",
        "colab": {
          "base_uri": "https://localhost:8080/"
        }
      },
      "source": [
        "# 튜플의 활용\n",
        "# 리스트를 이용하여, 변수 간의 값을 전환하기 \n",
        "a= 10\n",
        "b= 20\n",
        "temp = a\n",
        "a= b\n",
        "b= temp \n",
        "print(a,b)"
      ],
      "execution_count": 13,
      "outputs": [
        {
          "output_type": "stream",
          "text": [
            "20 10\n"
          ],
          "name": "stdout"
        }
      ]
    },
    {
      "cell_type": "code",
      "metadata": {
        "id": "SQcr4Bq1NRxt",
        "outputId": "ae0f748b-d844-420d-dc3e-2efce2dbca07",
        "colab": {
          "base_uri": "https://localhost:8080/"
        }
      },
      "source": [
        "def merge_print(a,b,*c):\n",
        "  print(a,b,c)\n",
        "\n",
        "merge_print(1,2,3,4,5,6,7,8)"
      ],
      "execution_count": null,
      "outputs": [
        {
          "output_type": "stream",
          "text": [
            "1 2 (3, 4, 5, 6, 7, 8)\n"
          ],
          "name": "stdout"
        }
      ]
    },
    {
      "cell_type": "code",
      "metadata": {
        "id": "Pm6mzR_tLPdh",
        "outputId": "7dae84d2-f5e1-4ca1-fe38-05f4293abde0",
        "colab": {
          "base_uri": "https://localhost:8080/"
        }
      },
      "source": [
        "#튜플을 이용하여, 변수 간의 값을 전환하기\n",
        "c= 10\n",
        "d= 20\n",
        "(c,d) = (d,c)\n",
        "print(c,d)"
      ],
      "execution_count": 14,
      "outputs": [
        {
          "output_type": "stream",
          "text": [
            "20 10\n"
          ],
          "name": "stdout"
        }
      ]
    },
    {
      "cell_type": "markdown",
      "metadata": {
        "id": "ra3LXRrbUz9L"
      },
      "source": [
        "#2. 기본 사용법"
      ]
    },
    {
      "cell_type": "code",
      "metadata": {
        "id": "GnuKN72aU0Ic",
        "outputId": "d8ed47d1-02a7-4761-d4bc-171600da00c2",
        "colab": {
          "base_uri": "https://localhost:8080/",
          "height": 521
        }
      },
      "source": [
        "# 앞으로 움직이기, .forward()\n",
        "my_turtle.initializeTurtle()\n",
        "my_turtle.forward(100)"
      ],
      "execution_count": 16,
      "outputs": [
        {
          "output_type": "display_data",
          "data": {
            "text/html": [
              "\n",
              "      <svg width=\"800\" height=\"500\">\n",
              "        <rect width=\"100%\" height=\"100%\" fill=\"black\"/>\n",
              "        <line x1=\"400\" y1=\"250\" x2=\"400.0\" y2=\"150.0\" stroke-linecap=\"round\" style=\"stroke:white;stroke-width:4\"/>\n",
              "        \n",
              "      <g visibility=visible transform=\"rotate(180,400.0,150.0) translate(400.0, 150.0)\">\n",
              "        <circle stroke=\"white\" stroke-width=\"3\" fill=\"transparent\" r=\"12\" cx=\"0\" cy=\"0\"/>\n",
              "        <polygon points=\"0,19 3,16 -3,16\" style=\"fill:white;stroke:white;stroke-width:2\"/>\n",
              "      </g>\n",
              "    \n",
              "      </svg>\n",
              "    "
            ],
            "text/plain": [
              "<IPython.core.display.HTML object>"
            ]
          },
          "metadata": {
            "tags": []
          }
        }
      ]
    },
    {
      "cell_type": "code",
      "metadata": {
        "id": "bDUCfZGAW5JW",
        "outputId": "3f0bedef-e1ba-4a41-85d0-9081522cc95f",
        "colab": {
          "base_uri": "https://localhost:8080/",
          "height": 521
        }
      },
      "source": [
        "# 새롭게 시작하기, .initializeTurtle()\n",
        "my_turtle.initializeTurtle()\n",
        "my_turtle.forward(100)"
      ],
      "execution_count": 18,
      "outputs": [
        {
          "output_type": "display_data",
          "data": {
            "text/html": [
              "\n",
              "      <svg width=\"800\" height=\"500\">\n",
              "        <rect width=\"100%\" height=\"100%\" fill=\"black\"/>\n",
              "        <line x1=\"400\" y1=\"250\" x2=\"400.0\" y2=\"150.0\" stroke-linecap=\"round\" style=\"stroke:white;stroke-width:4\"/>\n",
              "        \n",
              "      <g visibility=visible transform=\"rotate(180,400.0,150.0) translate(400.0, 150.0)\">\n",
              "        <circle stroke=\"white\" stroke-width=\"3\" fill=\"transparent\" r=\"12\" cx=\"0\" cy=\"0\"/>\n",
              "        <polygon points=\"0,19 3,16 -3,16\" style=\"fill:white;stroke:white;stroke-width:2\"/>\n",
              "      </g>\n",
              "    \n",
              "      </svg>\n",
              "    "
            ],
            "text/plain": [
              "<IPython.core.display.HTML object>"
            ]
          },
          "metadata": {
            "tags": []
          }
        }
      ]
    },
    {
      "cell_type": "code",
      "metadata": {
        "id": "A9KsxpapWgt1",
        "outputId": "522a5f7a-5442-4cf1-ed6e-2cd56eab4433",
        "colab": {
          "base_uri": "https://localhost:8080/",
          "height": 521
        }
      },
      "source": [
        "# 뒤로 움직이기, .backward()\n",
        "my_turtle.initializeTurtle()\n",
        "my_turtle.backward(100)"
      ],
      "execution_count": 19,
      "outputs": [
        {
          "output_type": "display_data",
          "data": {
            "text/html": [
              "\n",
              "      <svg width=\"800\" height=\"500\">\n",
              "        <rect width=\"100%\" height=\"100%\" fill=\"black\"/>\n",
              "        <line x1=\"400\" y1=\"250\" x2=\"400.0\" y2=\"350.0\" stroke-linecap=\"round\" style=\"stroke:white;stroke-width:4\"/>\n",
              "        \n",
              "      <g visibility=visible transform=\"rotate(180,400.0,350.0) translate(400.0, 350.0)\">\n",
              "        <circle stroke=\"white\" stroke-width=\"3\" fill=\"transparent\" r=\"12\" cx=\"0\" cy=\"0\"/>\n",
              "        <polygon points=\"0,19 3,16 -3,16\" style=\"fill:white;stroke:white;stroke-width:2\"/>\n",
              "      </g>\n",
              "    \n",
              "      </svg>\n",
              "    "
            ],
            "text/plain": [
              "<IPython.core.display.HTML object>"
            ]
          },
          "metadata": {
            "tags": []
          }
        }
      ]
    },
    {
      "cell_type": "code",
      "metadata": {
        "id": "6-kedVoHXCfH",
        "outputId": "23dcc400-ecb6-40d6-b0f8-4c368294ac84",
        "colab": {
          "base_uri": "https://localhost:8080/",
          "height": 521
        }
      },
      "source": [
        "#방향전환, .right() / .left()\n",
        "my_turtle.initializeTurtle()\n",
        "my_turtle.right(60)\n",
        "my_turtle.forward(100)\n",
        "my_turtle.left(60)\n",
        "my_turtle.forward(100)"
      ],
      "execution_count": 20,
      "outputs": [
        {
          "output_type": "display_data",
          "data": {
            "text/html": [
              "\n",
              "      <svg width=\"800\" height=\"500\">\n",
              "        <rect width=\"100%\" height=\"100%\" fill=\"black\"/>\n",
              "        <line x1=\"400\" y1=\"250\" x2=\"486.60254037844385\" y2=\"199.99999999999994\" stroke-linecap=\"round\" style=\"stroke:white;stroke-width:4\"/><line x1=\"486.60254037844385\" y1=\"199.99999999999994\" x2=\"486.60254037844385\" y2=\"99.99999999999994\" stroke-linecap=\"round\" style=\"stroke:white;stroke-width:4\"/>\n",
              "        \n",
              "      <g visibility=visible transform=\"rotate(180,486.60254037844385,99.99999999999994) translate(486.60254037844385, 99.99999999999994)\">\n",
              "        <circle stroke=\"white\" stroke-width=\"3\" fill=\"transparent\" r=\"12\" cx=\"0\" cy=\"0\"/>\n",
              "        <polygon points=\"0,19 3,16 -3,16\" style=\"fill:white;stroke:white;stroke-width:2\"/>\n",
              "      </g>\n",
              "    \n",
              "      </svg>\n",
              "    "
            ],
            "text/plain": [
              "<IPython.core.display.HTML object>"
            ]
          },
          "metadata": {
            "tags": []
          }
        }
      ]
    },
    {
      "cell_type": "code",
      "metadata": {
        "id": "XJ5MoK1OU0PN",
        "outputId": "90439221-2bb2-48c1-debe-de0de4de132a",
        "colab": {
          "base_uri": "https://localhost:8080/",
          "height": 521
        }
      },
      "source": [
        "my_turtle.initializeTurtle(initial_speed=10) #속도 조절 intial_speed\n",
        "my_turtle.color('orange') #터틀의 색상 변경\n",
        "my_turtle.bgcolor('white') #배경 색상 변경\n",
        "my_turtle.width(1) #선의 굵기 변경\n",
        "\n",
        "my_turtle.forward(100)"
      ],
      "execution_count": 21,
      "outputs": [
        {
          "output_type": "display_data",
          "data": {
            "text/html": [
              "\n",
              "      <svg width=\"800\" height=\"500\">\n",
              "        <rect width=\"100%\" height=\"100%\" fill=\"white\"/>\n",
              "        <line x1=\"400\" y1=\"250\" x2=\"400.0\" y2=\"150.0\" stroke-linecap=\"round\" style=\"stroke:orange;stroke-width:1\"/>\n",
              "        \n",
              "      <g visibility=visible transform=\"rotate(180,400.0,150.0) translate(400.0, 150.0)\">\n",
              "        <circle stroke=\"orange\" stroke-width=\"3\" fill=\"transparent\" r=\"12\" cx=\"0\" cy=\"0\"/>\n",
              "        <polygon points=\"0,19 3,16 -3,16\" style=\"fill:orange;stroke:orange;stroke-width:2\"/>\n",
              "      </g>\n",
              "    \n",
              "      </svg>\n",
              "    "
            ],
            "text/plain": [
              "<IPython.core.display.HTML object>"
            ]
          },
          "metadata": {
            "tags": []
          }
        }
      ]
    },
    {
      "cell_type": "code",
      "metadata": {
        "id": "NvQeCpKTYNkB",
        "outputId": "08b0ccd9-8345-4b1e-c7b3-81d6e9c1def3",
        "colab": {
          "base_uri": "https://localhost:8080/"
        }
      },
      "source": [
        "#추가할 수 있는 색상의 종류는?\n",
        "help(my_turtle.color)"
      ],
      "execution_count": 22,
      "outputs": [
        {
          "output_type": "stream",
          "text": [
            "Help on function color in module ColabTurtle.Turtle:\n",
            "\n",
            "color(color)\n",
            "    # change the color of the pen; valid colors are defined at VALID_COLORS\n",
            "\n"
          ],
          "name": "stdout"
        }
      ]
    },
    {
      "cell_type": "code",
      "metadata": {
        "id": "lwFhAbrrYZ_i",
        "outputId": "0c05a64c-5541-473a-cfb1-5f9219d1630c",
        "colab": {
          "base_uri": "https://localhost:8080/"
        }
      },
      "source": [
        "print(VALID_COLORS)"
      ],
      "execution_count": 23,
      "outputs": [
        {
          "output_type": "stream",
          "text": [
            "('white', 'yellow', 'orange', 'red', 'green', 'blue', 'purple', 'grey', 'black')\n"
          ],
          "name": "stdout"
        }
      ]
    },
    {
      "cell_type": "markdown",
      "metadata": {
        "id": "MlDMbtu0ZaXR"
      },
      "source": [
        "# 3. 다양한 도형 그리기"
      ]
    },
    {
      "cell_type": "code",
      "metadata": {
        "id": "TxV6K_7obA1B",
        "outputId": "6eec0384-f7e0-45ad-ca4a-90b473e9d80d",
        "colab": {
          "base_uri": "https://localhost:8080/",
          "height": 521
        }
      },
      "source": [
        "#사각형 그리기\n",
        "my_turtle.initializeTurtle(initial_speed=5)\n",
        "my_turtle.color('orange') \n",
        "my_turtle.bgcolor('white') \n",
        "\n",
        "for i in range(4):\n",
        "    my_turtle.forward(100)\n",
        "    my_turtle.left(90) \n",
        "\n"
      ],
      "execution_count": 26,
      "outputs": [
        {
          "output_type": "display_data",
          "data": {
            "text/html": [
              "\n",
              "      <svg width=\"800\" height=\"500\">\n",
              "        <rect width=\"100%\" height=\"100%\" fill=\"white\"/>\n",
              "        <line x1=\"400\" y1=\"250\" x2=\"400.0\" y2=\"150.0\" stroke-linecap=\"round\" style=\"stroke:orange;stroke-width:4\"/><line x1=\"400.0\" y1=\"150.0\" x2=\"300.0\" y2=\"150.0\" stroke-linecap=\"round\" style=\"stroke:orange;stroke-width:4\"/><line x1=\"300.0\" y1=\"150.0\" x2=\"300.0\" y2=\"250.0\" stroke-linecap=\"round\" style=\"stroke:orange;stroke-width:4\"/><line x1=\"300.0\" y1=\"250.0\" x2=\"400.0\" y2=\"250.0\" stroke-linecap=\"round\" style=\"stroke:orange;stroke-width:4\"/>\n",
              "        \n",
              "      <g visibility=visible transform=\"rotate(180,400.0,250.0) translate(400.0, 250.0)\">\n",
              "        <circle stroke=\"orange\" stroke-width=\"3\" fill=\"transparent\" r=\"12\" cx=\"0\" cy=\"0\"/>\n",
              "        <polygon points=\"0,19 3,16 -3,16\" style=\"fill:orange;stroke:orange;stroke-width:2\"/>\n",
              "      </g>\n",
              "    \n",
              "      </svg>\n",
              "    "
            ],
            "text/plain": [
              "<IPython.core.display.HTML object>"
            ]
          },
          "metadata": {
            "tags": []
          }
        }
      ]
    },
    {
      "cell_type": "code",
      "metadata": {
        "id": "L486sdA_a18s",
        "outputId": "a28a005d-33d0-48b5-d954-dc2fe048d6e1",
        "colab": {
          "base_uri": "https://localhost:8080/",
          "height": 521
        }
      },
      "source": [
        "#(과제1) for 문을 이용해 정삼각형을 그려보세요.\n",
        "\n",
        "my_turtle.initializeTurtle(initial_speed=5)\n",
        "my_turtle.color('orange') \n",
        "my_turtle.bgcolor('white') \n",
        "# 아래에 코드를 입력하세요.\n",
        "\n",
        "for i in range(3):\n",
        "    my_turtle.forward(100)\n",
        "    my_turtle.left(120) \n"
      ],
      "execution_count": 28,
      "outputs": [
        {
          "output_type": "display_data",
          "data": {
            "text/html": [
              "\n",
              "      <svg width=\"800\" height=\"500\">\n",
              "        <rect width=\"100%\" height=\"100%\" fill=\"white\"/>\n",
              "        <line x1=\"400\" y1=\"250\" x2=\"400.0\" y2=\"150.0\" stroke-linecap=\"round\" style=\"stroke:orange;stroke-width:4\"/><line x1=\"400.0\" y1=\"150.0\" x2=\"313.3974596215561\" y2=\"200.0\" stroke-linecap=\"round\" style=\"stroke:orange;stroke-width:4\"/><line x1=\"313.3974596215561\" y1=\"200.0\" x2=\"400.0\" y2=\"250.0\" stroke-linecap=\"round\" style=\"stroke:orange;stroke-width:4\"/>\n",
              "        \n",
              "      <g visibility=visible transform=\"rotate(180,400.0,250.0) translate(400.0, 250.0)\">\n",
              "        <circle stroke=\"orange\" stroke-width=\"3\" fill=\"transparent\" r=\"12\" cx=\"0\" cy=\"0\"/>\n",
              "        <polygon points=\"0,19 3,16 -3,16\" style=\"fill:orange;stroke:orange;stroke-width:2\"/>\n",
              "      </g>\n",
              "    \n",
              "      </svg>\n",
              "    "
            ],
            "text/plain": [
              "<IPython.core.display.HTML object>"
            ]
          },
          "metadata": {
            "tags": []
          }
        }
      ]
    },
    {
      "cell_type": "code",
      "metadata": {
        "id": "B8KZXfm6buKo",
        "outputId": "3da3110c-0d37-477e-f7c1-71d1f1178012",
        "colab": {
          "base_uri": "https://localhost:8080/",
          "height": 521
        }
      },
      "source": [
        "#정오각형을 그려봅시다.\n",
        "my_turtle.initializeTurtle(initial_speed=5)\n",
        "my_turtle.color('orange') \n",
        "my_turtle.bgcolor('white') \n",
        "\n",
        "for i in range(5):\n",
        "    my_turtle.forward(150)\n",
        "    my_turtle.left(72)"
      ],
      "execution_count": 29,
      "outputs": [
        {
          "output_type": "display_data",
          "data": {
            "text/html": [
              "\n",
              "      <svg width=\"800\" height=\"500\">\n",
              "        <rect width=\"100%\" height=\"100%\" fill=\"white\"/>\n",
              "        <line x1=\"400\" y1=\"250\" x2=\"400.0\" y2=\"100.0\" stroke-linecap=\"round\" style=\"stroke:orange;stroke-width:4\"/><line x1=\"400.0\" y1=\"100.0\" x2=\"257.34152255572695\" y2=\"53.64745084375791\" stroke-linecap=\"round\" style=\"stroke:orange;stroke-width:4\"/><line x1=\"257.34152255572695\" y1=\"53.64745084375791\" x2=\"169.173734711856\" y2=\"175.00000000000003\" stroke-linecap=\"round\" style=\"stroke:orange;stroke-width:4\"/><line x1=\"169.173734711856\" y1=\"175.00000000000003\" x2=\"257.341522555727\" y2=\"296.35254915624216\" stroke-linecap=\"round\" style=\"stroke:orange;stroke-width:4\"/><line x1=\"257.341522555727\" y1=\"296.35254915624216\" x2=\"400.0\" y2=\"250.00000000000003\" stroke-linecap=\"round\" style=\"stroke:orange;stroke-width:4\"/>\n",
              "        \n",
              "      <g visibility=visible transform=\"rotate(180,400.0,250.00000000000003) translate(400.0, 250.00000000000003)\">\n",
              "        <circle stroke=\"orange\" stroke-width=\"3\" fill=\"transparent\" r=\"12\" cx=\"0\" cy=\"0\"/>\n",
              "        <polygon points=\"0,19 3,16 -3,16\" style=\"fill:orange;stroke:orange;stroke-width:2\"/>\n",
              "      </g>\n",
              "    \n",
              "      </svg>\n",
              "    "
            ],
            "text/plain": [
              "<IPython.core.display.HTML object>"
            ]
          },
          "metadata": {
            "tags": []
          }
        }
      ]
    },
    {
      "cell_type": "code",
      "metadata": {
        "id": "ikogLx0Zg8yK",
        "outputId": "14f5167a-3ae1-4fa4-9b2c-5236f7046e77",
        "colab": {
          "base_uri": "https://localhost:8080/",
          "height": 521
        }
      },
      "source": [
        "# 별모양을 그려봅시다.\n",
        "my_turtle.initializeTurtle(initial_speed=5)\n",
        "my_turtle.color('orange') \n",
        "my_turtle.bgcolor('white') \n",
        "\n",
        "for i in range(5):\n",
        "    my_turtle.forward(200)\n",
        "    my_turtle.left(145)"
      ],
      "execution_count": 31,
      "outputs": [
        {
          "output_type": "display_data",
          "data": {
            "text/html": [
              "\n",
              "      <svg width=\"800\" height=\"500\">\n",
              "        <rect width=\"100%\" height=\"100%\" fill=\"white\"/>\n",
              "        <line x1=\"400\" y1=\"250\" x2=\"399.99999999999994\" y2=\"50.0\" stroke-linecap=\"round\" style=\"stroke:orange;stroke-width:4\"/><line x1=\"399.99999999999994\" y1=\"50.0\" x2=\"285.2847127297907\" y2=\"213.83040885779835\" stroke-linecap=\"round\" style=\"stroke:orange;stroke-width:4\"/><line x1=\"285.2847127297907\" y1=\"213.83040885779835\" x2=\"473.2232368869724\" y2=\"145.42638019266462\" stroke-linecap=\"round\" style=\"stroke:orange;stroke-width:4\"/><line x1=\"473.2232368869724\" y1=\"145.42638019266462\" x2=\"280.03807162915876\" y2=\"93.66257117216045\" stroke-linecap=\"round\" style=\"stroke:orange;stroke-width:4\"/><line x1=\"280.03807162915876\" y1=\"93.66257117216045\" x2=\"408.5955935664666\" y2=\"246.87145979595607\" stroke-linecap=\"round\" style=\"stroke:orange;stroke-width:4\"/>\n",
              "        \n",
              "      <g visibility=visible transform=\"rotate(175,408.5955935664666,246.87145979595607) translate(408.5955935664666, 246.87145979595607)\">\n",
              "        <circle stroke=\"orange\" stroke-width=\"3\" fill=\"transparent\" r=\"12\" cx=\"0\" cy=\"0\"/>\n",
              "        <polygon points=\"0,19 3,16 -3,16\" style=\"fill:orange;stroke:orange;stroke-width:2\"/>\n",
              "      </g>\n",
              "    \n",
              "      </svg>\n",
              "    "
            ],
            "text/plain": [
              "<IPython.core.display.HTML object>"
            ]
          },
          "metadata": {
            "tags": []
          }
        }
      ]
    },
    {
      "cell_type": "code",
      "metadata": {
        "id": "Jgl2Lvbgekfs",
        "outputId": "0f850c13-fb54-4461-87f6-298968ca791b",
        "colab": {
          "base_uri": "https://localhost:8080/",
          "height": 521
        }
      },
      "source": [
        "#원을 그려봅시다.\n",
        "my_turtle.initializeTurtle(initial_speed=10)\n",
        "my_turtle.color('orange') \n",
        "my_turtle.bgcolor('white') \n",
        "\n",
        "\n",
        "for i in range(120):\n",
        "    my_turtle.forward(10)\n",
        "    my_turtle.left(3)\n"
      ],
      "execution_count": 39,
      "outputs": [
        {
          "output_type": "display_data",
          "data": {
            "text/html": [
              "\n",
              "      <svg width=\"800\" height=\"500\">\n",
              "        <rect width=\"100%\" height=\"100%\" fill=\"white\"/>\n",
              "        <line x1=\"400\" y1=\"250\" x2=\"400.0\" y2=\"240.0\" stroke-linecap=\"round\" style=\"stroke:orange;stroke-width:4\"/><line x1=\"400.0\" y1=\"240.0\" x2=\"399.47664043757055\" y2=\"230.01370465245427\" stroke-linecap=\"round\" style=\"stroke:orange;stroke-width:4\"/><line x1=\"399.47664043757055\" y1=\"230.01370465245427\" x2=\"398.431355804894\" y2=\"220.06848569877152\" stroke-linecap=\"round\" style=\"stroke:orange;stroke-width:4\"/><line x1=\"398.431355804894\" y1=\"220.06848569877152\" x2=\"396.8670111544917\" y2=\"210.19160229282014\" stroke-linecap=\"round\" style=\"stroke:orange;stroke-width:4\"/><line x1=\"396.8670111544917\" y1=\"210.19160229282014\" x2=\"394.7878942463141\" y2=\"200.41012628548208\" stroke-linecap=\"round\" style=\"stroke:orange;stroke-width:4\"/><line x1=\"394.7878942463141\" y1=\"200.41012628548208\" x2=\"392.19970379528894\" y2=\"190.7508680225914\" stroke-linecap=\"round\" style=\"stroke:orange;stroke-width:4\"/><line x1=\"392.19970379528894\" y1=\"190.7508680225914\" x2=\"389.1095338515395\" y2=\"181.24030285963985\" stroke-linecap=\"round\" style=\"stroke:orange;stroke-width:4\"/><line x1=\"389.1095338515395\" y1=\"181.24030285963985\" x2=\"385.5258543560865\" y2=\"171.90449859466784\" stroke-linecap=\"round\" style=\"stroke:orange;stroke-width:4\"/><line x1=\"385.5258543560865\" y1=\"171.90449859466784\" x2=\"381.4584879253285\" y2=\"162.76904401824183\" stroke-linecap=\"round\" style=\"stroke:orange;stroke-width:4\"/><line x1=\"381.4584879253285\" y1=\"162.76904401824183\" x2=\"376.918582927933\" y2=\"153.85897877635816\" stroke-linecap=\"round\" style=\"stroke:orange;stroke-width:4\"/><line x1=\"376.918582927933\" y1=\"153.85897877635816\" x2=\"371.918582927933\" y2=\"145.19872473851376\" stroke-linecap=\"round\" style=\"stroke:orange;stroke-width:4\"/><line x1=\"371.918582927933\" y1=\"145.19872473851376\" x2=\"366.4721925777827\" y2=\"136.8120190590595\" stroke-linecap=\"round\" style=\"stroke:orange;stroke-width:4\"/><line x1=\"366.4721925777827\" y1=\"136.8120190590595\" x2=\"360.594340054858\" y2=\"128.72184911531002\" stroke-linecap=\"round\" style=\"stroke:orange;stroke-width:4\"/><line x1=\"360.594340054858\" y1=\"128.72184911531002\" x2=\"354.3011361443596\" y2=\"120.95038950074031\" stroke-linecap=\"round\" style=\"stroke:orange;stroke-width:4\"/><line x1=\"354.3011361443596\" y1=\"120.95038950074031\" x2=\"347.609830080771\" y2=\"113.51894124596637\" stroke-linecap=\"round\" style=\"stroke:orange;stroke-width:4\"/><line x1=\"347.609830080771\" y1=\"113.51894124596637\" x2=\"340.53876226890554\" y2=\"106.4478734341009\" stroke-linecap=\"round\" style=\"stroke:orange;stroke-width:4\"/><line x1=\"340.53876226890554\" y1=\"106.4478734341009\" x2=\"333.1073140141316\" y2=\"99.75656737051231\" stroke-linecap=\"round\" style=\"stroke:orange;stroke-width:4\"/><line x1=\"333.1073140141316\" y1=\"99.75656737051231\" x2=\"325.33585439956187\" y2=\"93.46336346001394\" stroke-linecap=\"round\" style=\"stroke:orange;stroke-width:4\"/><line x1=\"325.33585439956187\" y1=\"93.46336346001394\" x2=\"317.2456844558124\" y2=\"87.58551093708921\" stroke-linecap=\"round\" style=\"stroke:orange;stroke-width:4\"/><line x1=\"317.2456844558124\" y1=\"87.58551093708921\" x2=\"308.8589787763582\" y2=\"82.13912058693894\" stroke-linecap=\"round\" style=\"stroke:orange;stroke-width:4\"/><line x1=\"308.8589787763582\" y1=\"82.13912058693894\" x2=\"300.1987247385138\" y2=\"77.13912058693894\" stroke-linecap=\"round\" style=\"stroke:orange;stroke-width:4\"/><line x1=\"300.1987247385138\" y1=\"77.13912058693894\" x2=\"291.28865949663015\" y2=\"72.59921558954348\" stroke-linecap=\"round\" style=\"stroke:orange;stroke-width:4\"/><line x1=\"291.28865949663015\" y1=\"72.59921558954348\" x2=\"282.15320492020413\" y2=\"68.53184915878548\" stroke-linecap=\"round\" style=\"stroke:orange;stroke-width:4\"/><line x1=\"282.15320492020413\" y1=\"68.53184915878548\" x2=\"272.8174006552321\" y2=\"64.94816966333248\" stroke-linecap=\"round\" style=\"stroke:orange;stroke-width:4\"/><line x1=\"272.8174006552321\" y1=\"64.94816966333248\" x2=\"263.3068354922806\" y2=\"61.857999719583006\" stroke-linecap=\"round\" style=\"stroke:orange;stroke-width:4\"/><line x1=\"263.3068354922806\" y1=\"61.857999719583006\" x2=\"253.6475772293899\" y2=\"59.2698092685578\" stroke-linecap=\"round\" style=\"stroke:orange;stroke-width:4\"/><line x1=\"253.6475772293899\" y1=\"59.2698092685578\" x2=\"243.86610122205184\" y2=\"57.190692360380204\" stroke-linecap=\"round\" style=\"stroke:orange;stroke-width:4\"/><line x1=\"243.86610122205184\" y1=\"57.190692360380204\" x2=\"233.98921781610045\" y2=\"55.6263477099779\" stroke-linecap=\"round\" style=\"stroke:orange;stroke-width:4\"/><line x1=\"233.98921781610045\" y1=\"55.6263477099779\" x2=\"224.0439988624177\" y2=\"54.581063077301366\" stroke-linecap=\"round\" style=\"stroke:orange;stroke-width:4\"/><line x1=\"224.0439988624177\" y1=\"54.581063077301366\" x2=\"214.05770351487197\" y2=\"54.05770351487193\" stroke-linecap=\"round\" style=\"stroke:orange;stroke-width:4\"/><line x1=\"214.05770351487197\" y1=\"54.05770351487193\" x2=\"204.05770351487197\" y2=\"54.05770351487193\" stroke-linecap=\"round\" style=\"stroke:orange;stroke-width:4\"/><line x1=\"204.05770351487197\" y1=\"54.05770351487193\" x2=\"194.07140816732624\" y2=\"54.58106307730137\" stroke-linecap=\"round\" style=\"stroke:orange;stroke-width:4\"/><line x1=\"194.07140816732624\" y1=\"54.58106307730137\" x2=\"184.1261892136435\" y2=\"55.62634770997791\" stroke-linecap=\"round\" style=\"stroke:orange;stroke-width:4\"/><line x1=\"184.1261892136435\" y1=\"55.62634770997791\" x2=\"174.2493058076921\" y2=\"57.19069236038022\" stroke-linecap=\"round\" style=\"stroke:orange;stroke-width:4\"/><line x1=\"174.2493058076921\" y1=\"57.19069236038022\" x2=\"164.46782980035405\" y2=\"59.269809268557815\" stroke-linecap=\"round\" style=\"stroke:orange;stroke-width:4\"/><line x1=\"164.46782980035405\" y1=\"59.269809268557815\" x2=\"154.80857153746337\" y2=\"61.85799971958303\" stroke-linecap=\"round\" style=\"stroke:orange;stroke-width:4\"/><line x1=\"154.80857153746337\" y1=\"61.85799971958303\" x2=\"145.29800637451183\" y2=\"64.94816966333251\" stroke-linecap=\"round\" style=\"stroke:orange;stroke-width:4\"/><line x1=\"145.29800637451183\" y1=\"64.94816966333251\" x2=\"135.96220210953982\" y2=\"68.5318491587855\" stroke-linecap=\"round\" style=\"stroke:orange;stroke-width:4\"/><line x1=\"135.96220210953982\" y1=\"68.5318491587855\" x2=\"126.8267475331138\" y2=\"72.5992155895435\" stroke-linecap=\"round\" style=\"stroke:orange;stroke-width:4\"/><line x1=\"126.8267475331138\" y1=\"72.5992155895435\" x2=\"117.91668229123013\" y2=\"77.13912058693897\" stroke-linecap=\"round\" style=\"stroke:orange;stroke-width:4\"/><line x1=\"117.91668229123013\" y1=\"77.13912058693897\" x2=\"109.25642825338575\" y2=\"82.13912058693897\" stroke-linecap=\"round\" style=\"stroke:orange;stroke-width:4\"/><line x1=\"109.25642825338575\" y1=\"82.13912058693897\" x2=\"100.86972257393151\" y2=\"87.58551093708924\" stroke-linecap=\"round\" style=\"stroke:orange;stroke-width:4\"/><line x1=\"100.86972257393151\" y1=\"87.58551093708924\" x2=\"92.77955263018204\" y2=\"93.46336346001397\" stroke-linecap=\"round\" style=\"stroke:orange;stroke-width:4\"/><line x1=\"92.77955263018204\" y1=\"93.46336346001397\" x2=\"85.00809301561233\" y2=\"99.75656737051234\" stroke-linecap=\"round\" style=\"stroke:orange;stroke-width:4\"/><line x1=\"85.00809301561233\" y1=\"99.75656737051234\" x2=\"77.57664476083839\" y2=\"106.44787343410093\" stroke-linecap=\"round\" style=\"stroke:orange;stroke-width:4\"/><line x1=\"77.57664476083839\" y1=\"106.44787343410093\" x2=\"70.50557694897292\" y2=\"113.5189412459664\" stroke-linecap=\"round\" style=\"stroke:orange;stroke-width:4\"/><line x1=\"70.50557694897292\" y1=\"113.5189412459664\" x2=\"63.81427088538433\" y2=\"120.95038950074034\" stroke-linecap=\"round\" style=\"stroke:orange;stroke-width:4\"/><line x1=\"63.81427088538433\" y1=\"120.95038950074034\" x2=\"57.52106697488596\" y2=\"128.72184911531005\" stroke-linecap=\"round\" style=\"stroke:orange;stroke-width:4\"/><line x1=\"57.52106697488596\" y1=\"128.72184911531005\" x2=\"51.64321445196123\" y2=\"136.81201905905954\" stroke-linecap=\"round\" style=\"stroke:orange;stroke-width:4\"/><line x1=\"51.64321445196123\" y1=\"136.81201905905954\" x2=\"46.19682410181096\" y2=\"145.1987247385138\" stroke-linecap=\"round\" style=\"stroke:orange;stroke-width:4\"/><line x1=\"46.19682410181096\" y1=\"145.1987247385138\" x2=\"41.19682410181096\" y2=\"153.85897877635819\" stroke-linecap=\"round\" style=\"stroke:orange;stroke-width:4\"/><line x1=\"41.19682410181096\" y1=\"153.85897877635819\" x2=\"36.65691910441549\" y2=\"162.76904401824186\" stroke-linecap=\"round\" style=\"stroke:orange;stroke-width:4\"/><line x1=\"36.65691910441549\" y1=\"162.76904401824186\" x2=\"32.589552673657494\" y2=\"171.90449859466787\" stroke-linecap=\"round\" style=\"stroke:orange;stroke-width:4\"/><line x1=\"32.589552673657494\" y1=\"171.90449859466787\" x2=\"29.005873178204492\" y2=\"181.24030285963988\" stroke-linecap=\"round\" style=\"stroke:orange;stroke-width:4\"/><line x1=\"29.005873178204492\" y1=\"181.24030285963988\" x2=\"25.91570323445502\" y2=\"190.75086802259142\" stroke-linecap=\"round\" style=\"stroke:orange;stroke-width:4\"/><line x1=\"25.91570323445502\" y1=\"190.75086802259142\" x2=\"23.32751278342981\" y2=\"200.4101262854821\" stroke-linecap=\"round\" style=\"stroke:orange;stroke-width:4\"/><line x1=\"23.32751278342981\" y1=\"200.4101262854821\" x2=\"21.248395875252218\" y2=\"210.19160229282016\" stroke-linecap=\"round\" style=\"stroke:orange;stroke-width:4\"/><line x1=\"21.248395875252218\" y1=\"210.19160229282016\" x2=\"19.68405122484991\" y2=\"220.06848569877155\" stroke-linecap=\"round\" style=\"stroke:orange;stroke-width:4\"/><line x1=\"19.68405122484991\" y1=\"220.06848569877155\" x2=\"18.638766592173376\" y2=\"230.0137046524543\" stroke-linecap=\"round\" style=\"stroke:orange;stroke-width:4\"/><line x1=\"18.638766592173376\" y1=\"230.0137046524543\" x2=\"18.11540702974394\" y2=\"240.00000000000003\" stroke-linecap=\"round\" style=\"stroke:orange;stroke-width:4\"/><line x1=\"18.11540702974394\" y1=\"240.00000000000003\" x2=\"18.11540702974394\" y2=\"250.00000000000003\" stroke-linecap=\"round\" style=\"stroke:orange;stroke-width:4\"/><line x1=\"18.11540702974394\" y1=\"250.00000000000003\" x2=\"18.63876659217338\" y2=\"259.98629534754576\" stroke-linecap=\"round\" style=\"stroke:orange;stroke-width:4\"/><line x1=\"18.63876659217338\" y1=\"259.98629534754576\" x2=\"19.684051224849913\" y2=\"269.9315143012285\" stroke-linecap=\"round\" style=\"stroke:orange;stroke-width:4\"/><line x1=\"19.684051224849913\" y1=\"269.9315143012285\" x2=\"21.24839587525222\" y2=\"279.8083977071799\" stroke-linecap=\"round\" style=\"stroke:orange;stroke-width:4\"/><line x1=\"21.24839587525222\" y1=\"279.8083977071799\" x2=\"23.327512783429817\" y2=\"289.5898737145179\" stroke-linecap=\"round\" style=\"stroke:orange;stroke-width:4\"/><line x1=\"23.327512783429817\" y1=\"289.5898737145179\" x2=\"25.915703234455023\" y2=\"299.2491319774086\" stroke-linecap=\"round\" style=\"stroke:orange;stroke-width:4\"/><line x1=\"25.915703234455023\" y1=\"299.2491319774086\" x2=\"29.005873178204496\" y2=\"308.7596971403601\" stroke-linecap=\"round\" style=\"stroke:orange;stroke-width:4\"/><line x1=\"29.005873178204496\" y1=\"308.7596971403601\" x2=\"32.5895526736575\" y2=\"318.09550140533213\" stroke-linecap=\"round\" style=\"stroke:orange;stroke-width:4\"/><line x1=\"32.5895526736575\" y1=\"318.09550140533213\" x2=\"36.6569191044155\" y2=\"327.23095598175814\" stroke-linecap=\"round\" style=\"stroke:orange;stroke-width:4\"/><line x1=\"36.6569191044155\" y1=\"327.23095598175814\" x2=\"41.19682410181097\" y2=\"336.1410212236418\" stroke-linecap=\"round\" style=\"stroke:orange;stroke-width:4\"/><line x1=\"41.19682410181097\" y1=\"336.1410212236418\" x2=\"46.19682410181097\" y2=\"344.8012752614862\" stroke-linecap=\"round\" style=\"stroke:orange;stroke-width:4\"/><line x1=\"46.19682410181097\" y1=\"344.8012752614862\" x2=\"51.64321445196124\" y2=\"353.1879809409404\" stroke-linecap=\"round\" style=\"stroke:orange;stroke-width:4\"/><line x1=\"51.64321445196124\" y1=\"353.1879809409404\" x2=\"57.521066974885976\" y2=\"361.27815088468986\" stroke-linecap=\"round\" style=\"stroke:orange;stroke-width:4\"/><line x1=\"57.521066974885976\" y1=\"361.27815088468986\" x2=\"63.81427088538435\" y2=\"369.0496104992596\" stroke-linecap=\"round\" style=\"stroke:orange;stroke-width:4\"/><line x1=\"63.81427088538435\" y1=\"369.0496104992596\" x2=\"70.50557694897293\" y2=\"376.48105875403354\" stroke-linecap=\"round\" style=\"stroke:orange;stroke-width:4\"/><line x1=\"70.50557694897293\" y1=\"376.48105875403354\" x2=\"77.5766447608384\" y2=\"383.552126565899\" stroke-linecap=\"round\" style=\"stroke:orange;stroke-width:4\"/><line x1=\"77.5766447608384\" y1=\"383.552126565899\" x2=\"85.00809301561235\" y2=\"390.2434326294876\" stroke-linecap=\"round\" style=\"stroke:orange;stroke-width:4\"/><line x1=\"85.00809301561235\" y1=\"390.2434326294876\" x2=\"92.77955263018205\" y2=\"396.536636539986\" stroke-linecap=\"round\" style=\"stroke:orange;stroke-width:4\"/><line x1=\"92.77955263018205\" y1=\"396.536636539986\" x2=\"100.86972257393153\" y2=\"402.4144890629107\" stroke-linecap=\"round\" style=\"stroke:orange;stroke-width:4\"/><line x1=\"100.86972257393153\" y1=\"402.4144890629107\" x2=\"109.25642825338576\" y2=\"407.860879413061\" stroke-linecap=\"round\" style=\"stroke:orange;stroke-width:4\"/><line x1=\"109.25642825338576\" y1=\"407.860879413061\" x2=\"117.91668229123015\" y2=\"412.860879413061\" stroke-linecap=\"round\" style=\"stroke:orange;stroke-width:4\"/><line x1=\"117.91668229123015\" y1=\"412.860879413061\" x2=\"126.82674753311383\" y2=\"417.4007844104565\" stroke-linecap=\"round\" style=\"stroke:orange;stroke-width:4\"/><line x1=\"126.82674753311383\" y1=\"417.4007844104565\" x2=\"135.96220210953985\" y2=\"421.4681508412145\" stroke-linecap=\"round\" style=\"stroke:orange;stroke-width:4\"/><line x1=\"135.96220210953985\" y1=\"421.4681508412145\" x2=\"145.29800637451186\" y2=\"425.0518303366675\" stroke-linecap=\"round\" style=\"stroke:orange;stroke-width:4\"/><line x1=\"145.29800637451186\" y1=\"425.0518303366675\" x2=\"154.8085715374634\" y2=\"428.14200028041694\" stroke-linecap=\"round\" style=\"stroke:orange;stroke-width:4\"/><line x1=\"154.8085715374634\" y1=\"428.14200028041694\" x2=\"164.46782980035408\" y2=\"430.7301907314421\" stroke-linecap=\"round\" style=\"stroke:orange;stroke-width:4\"/><line x1=\"164.46782980035408\" y1=\"430.7301907314421\" x2=\"174.24930580769214\" y2=\"432.8093076396197\" stroke-linecap=\"round\" style=\"stroke:orange;stroke-width:4\"/><line x1=\"174.24930580769214\" y1=\"432.8093076396197\" x2=\"184.12618921364353\" y2=\"434.373652290022\" stroke-linecap=\"round\" style=\"stroke:orange;stroke-width:4\"/><line x1=\"184.12618921364353\" y1=\"434.373652290022\" x2=\"194.07140816732627\" y2=\"435.41893692269855\" stroke-linecap=\"round\" style=\"stroke:orange;stroke-width:4\"/><line x1=\"194.07140816732627\" y1=\"435.41893692269855\" x2=\"204.057703514872\" y2=\"435.942296485128\" stroke-linecap=\"round\" style=\"stroke:orange;stroke-width:4\"/><line x1=\"204.057703514872\" y1=\"435.942296485128\" x2=\"214.057703514872\" y2=\"435.942296485128\" stroke-linecap=\"round\" style=\"stroke:orange;stroke-width:4\"/><line x1=\"214.057703514872\" y1=\"435.942296485128\" x2=\"224.04399886241774\" y2=\"435.41893692269855\" stroke-linecap=\"round\" style=\"stroke:orange;stroke-width:4\"/><line x1=\"224.04399886241774\" y1=\"435.41893692269855\" x2=\"233.98921781610048\" y2=\"434.373652290022\" stroke-linecap=\"round\" style=\"stroke:orange;stroke-width:4\"/><line x1=\"233.98921781610048\" y1=\"434.373652290022\" x2=\"243.86610122205187\" y2=\"432.8093076396197\" stroke-linecap=\"round\" style=\"stroke:orange;stroke-width:4\"/><line x1=\"243.86610122205187\" y1=\"432.8093076396197\" x2=\"253.64757722938992\" y2=\"430.7301907314421\" stroke-linecap=\"round\" style=\"stroke:orange;stroke-width:4\"/><line x1=\"253.64757722938992\" y1=\"430.7301907314421\" x2=\"263.3068354922806\" y2=\"428.14200028041694\" stroke-linecap=\"round\" style=\"stroke:orange;stroke-width:4\"/><line x1=\"263.3068354922806\" y1=\"428.14200028041694\" x2=\"272.8174006552321\" y2=\"425.0518303366675\" stroke-linecap=\"round\" style=\"stroke:orange;stroke-width:4\"/><line x1=\"272.8174006552321\" y1=\"425.0518303366675\" x2=\"282.15320492020413\" y2=\"421.4681508412145\" stroke-linecap=\"round\" style=\"stroke:orange;stroke-width:4\"/><line x1=\"282.15320492020413\" y1=\"421.4681508412145\" x2=\"291.28865949663015\" y2=\"417.4007844104565\" stroke-linecap=\"round\" style=\"stroke:orange;stroke-width:4\"/><line x1=\"291.28865949663015\" y1=\"417.4007844104565\" x2=\"300.1987247385138\" y2=\"412.860879413061\" stroke-linecap=\"round\" style=\"stroke:orange;stroke-width:4\"/><line x1=\"300.1987247385138\" y1=\"412.860879413061\" x2=\"308.8589787763582\" y2=\"407.860879413061\" stroke-linecap=\"round\" style=\"stroke:orange;stroke-width:4\"/><line x1=\"308.8589787763582\" y1=\"407.860879413061\" x2=\"317.2456844558124\" y2=\"402.4144890629107\" stroke-linecap=\"round\" style=\"stroke:orange;stroke-width:4\"/><line x1=\"317.2456844558124\" y1=\"402.4144890629107\" x2=\"325.33585439956187\" y2=\"396.536636539986\" stroke-linecap=\"round\" style=\"stroke:orange;stroke-width:4\"/><line x1=\"325.33585439956187\" y1=\"396.536636539986\" x2=\"333.1073140141316\" y2=\"390.2434326294876\" stroke-linecap=\"round\" style=\"stroke:orange;stroke-width:4\"/><line x1=\"333.1073140141316\" y1=\"390.2434326294876\" x2=\"340.53876226890554\" y2=\"383.552126565899\" stroke-linecap=\"round\" style=\"stroke:orange;stroke-width:4\"/><line x1=\"340.53876226890554\" y1=\"383.552126565899\" x2=\"347.609830080771\" y2=\"376.48105875403354\" stroke-linecap=\"round\" style=\"stroke:orange;stroke-width:4\"/><line x1=\"347.609830080771\" y1=\"376.48105875403354\" x2=\"354.3011361443596\" y2=\"369.0496104992596\" stroke-linecap=\"round\" style=\"stroke:orange;stroke-width:4\"/><line x1=\"354.3011361443596\" y1=\"369.0496104992596\" x2=\"360.594340054858\" y2=\"361.27815088468986\" stroke-linecap=\"round\" style=\"stroke:orange;stroke-width:4\"/><line x1=\"360.594340054858\" y1=\"361.27815088468986\" x2=\"366.4721925777827\" y2=\"353.1879809409404\" stroke-linecap=\"round\" style=\"stroke:orange;stroke-width:4\"/><line x1=\"366.4721925777827\" y1=\"353.1879809409404\" x2=\"371.91858292793296\" y2=\"344.8012752614862\" stroke-linecap=\"round\" style=\"stroke:orange;stroke-width:4\"/><line x1=\"371.91858292793296\" y1=\"344.8012752614862\" x2=\"376.91858292793296\" y2=\"336.1410212236418\" stroke-linecap=\"round\" style=\"stroke:orange;stroke-width:4\"/><line x1=\"376.91858292793296\" y1=\"336.1410212236418\" x2=\"381.4584879253284\" y2=\"327.23095598175814\" stroke-linecap=\"round\" style=\"stroke:orange;stroke-width:4\"/><line x1=\"381.4584879253284\" y1=\"327.23095598175814\" x2=\"385.5258543560864\" y2=\"318.09550140533213\" stroke-linecap=\"round\" style=\"stroke:orange;stroke-width:4\"/><line x1=\"385.5258543560864\" y1=\"318.09550140533213\" x2=\"389.1095338515394\" y2=\"308.7596971403601\" stroke-linecap=\"round\" style=\"stroke:orange;stroke-width:4\"/><line x1=\"389.1095338515394\" y1=\"308.7596971403601\" x2=\"392.1997037952889\" y2=\"299.2491319774086\" stroke-linecap=\"round\" style=\"stroke:orange;stroke-width:4\"/><line x1=\"392.1997037952889\" y1=\"299.2491319774086\" x2=\"394.78789424631407\" y2=\"289.5898737145179\" stroke-linecap=\"round\" style=\"stroke:orange;stroke-width:4\"/><line x1=\"394.78789424631407\" y1=\"289.5898737145179\" x2=\"396.86701115449165\" y2=\"279.8083977071799\" stroke-linecap=\"round\" style=\"stroke:orange;stroke-width:4\"/><line x1=\"396.86701115449165\" y1=\"279.8083977071799\" x2=\"398.43135580489394\" y2=\"269.9315143012285\" stroke-linecap=\"round\" style=\"stroke:orange;stroke-width:4\"/><line x1=\"398.43135580489394\" y1=\"269.9315143012285\" x2=\"399.4766404375705\" y2=\"259.98629534754576\" stroke-linecap=\"round\" style=\"stroke:orange;stroke-width:4\"/><line x1=\"399.4766404375705\" y1=\"259.98629534754576\" x2=\"399.99999999999994\" y2=\"250.00000000000003\" stroke-linecap=\"round\" style=\"stroke:orange;stroke-width:4\"/>\n",
              "        \n",
              "      <g visibility=visible transform=\"rotate(180,399.99999999999994,250.00000000000003) translate(399.99999999999994, 250.00000000000003)\">\n",
              "        <circle stroke=\"orange\" stroke-width=\"3\" fill=\"transparent\" r=\"12\" cx=\"0\" cy=\"0\"/>\n",
              "        <polygon points=\"0,19 3,16 -3,16\" style=\"fill:orange;stroke:orange;stroke-width:2\"/>\n",
              "      </g>\n",
              "    \n",
              "      </svg>\n",
              "    "
            ],
            "text/plain": [
              "<IPython.core.display.HTML object>"
            ]
          },
          "metadata": {
            "tags": []
          }
        }
      ]
    },
    {
      "cell_type": "code",
      "metadata": {
        "id": "JAcr0HWohNxO",
        "outputId": "3853df6b-2d2b-4be2-87f2-26e61f768b88",
        "colab": {
          "base_uri": "https://localhost:8080/",
          "height": 521
        }
      },
      "source": [
        "# (과제2) 터틀로 원을 그리는 명령을 함수로 선언하기\n",
        "\n",
        "#주석을 제거하고 코드를 입력하세요. 함수명: circle, 매개변수: color, move)\n",
        "\n",
        "def circle(color='orange', move=100):\n",
        "  my_turtle.initializeTurtle(initial_speed=10)\n",
        "  my_turtle.color(color)\n",
        "\n",
        "  for i in range(move):\n",
        "      my_turtle.forward(10)\n",
        "      my_turtle.left(360/move)\n",
        "\n",
        "\n",
        "#함수 circle를 실행하면 다음과 같은 결과가 출력됩니다. \n",
        "\n",
        "circle()"
      ],
      "execution_count": 40,
      "outputs": [
        {
          "output_type": "display_data",
          "data": {
            "text/html": [
              "\n",
              "      <svg width=\"800\" height=\"500\">\n",
              "        <rect width=\"100%\" height=\"100%\" fill=\"black\"/>\n",
              "        <line x1=\"400\" y1=\"250\" x2=\"400.0\" y2=\"240.0\" stroke-linecap=\"round\" style=\"stroke:orange;stroke-width:4\"/><line x1=\"400.0\" y1=\"240.0\" x2=\"399.3720948047069\" y2=\"230.01973271571728\" stroke-linecap=\"round\" style=\"stroke:orange;stroke-width:4\"/><line x1=\"399.3720948047069\" y1=\"230.01973271571728\" x2=\"398.1187624690638\" y2=\"220.0985857025725\" stroke-linecap=\"round\" style=\"stroke:orange;stroke-width:4\"/><line x1=\"398.1187624690638\" y1=\"220.0985857025725\" x2=\"396.2449493232066\" y2=\"210.27571319528562\" stroke-linecap=\"round\" style=\"stroke:orange;stroke-width:4\"/><line x1=\"396.2449493232066\" y1=\"210.27571319528562\" x2=\"393.758050451558\" y2=\"200.5898815839993\" stroke-linecap=\"round\" style=\"stroke:orange;stroke-width:4\"/><line x1=\"393.758050451558\" y1=\"200.5898815839993\" x2=\"390.66788050780855\" y2=\"191.07931642104776\" stroke-linecap=\"round\" style=\"stroke:orange;stroke-width:4\"/><line x1=\"390.66788050780855\" y1=\"191.07931642104776\" x2=\"386.98663498096175\" y2=\"181.78155156216525\" stroke-linecap=\"round\" style=\"stroke:orange;stroke-width:4\"/><line x1=\"386.98663498096175\" y1=\"181.78155156216525\" x2=\"382.728842065311\" y2=\"172.73328103750507\" stroke-linecap=\"round\" style=\"stroke:orange;stroke-width:4\"/><line x1=\"382.728842065311\" y1=\"172.73328103750507\" x2=\"377.9113053242939\" y2=\"163.97021423706644\" stroke-linecap=\"round\" style=\"stroke:orange;stroke-width:4\"/><line x1=\"377.9113053242939\" y1=\"163.97021423706644\" x2=\"372.5530373745039\" y2=\"155.5269349820463\" stroke-linecap=\"round\" style=\"stroke:orange;stroke-width:4\"/><line x1=\"372.5530373745039\" y1=\"155.5269349820463\" x2=\"366.67518485157916\" y2=\"147.4367650382968\" stroke-linecap=\"round\" style=\"stroke:orange;stroke-width:4\"/><line x1=\"366.67518485157916\" y1=\"147.4367650382968\" x2=\"360.30094495409224\" y2=\"139.73163261053892\" stroke-linecap=\"round\" style=\"stroke:orange;stroke-width:4\"/><line x1=\"360.30094495409224\" y1=\"139.73163261053892\" x2=\"353.4554738948054\" y2=\"132.4419463363248\" stroke-linecap=\"round\" style=\"stroke:orange;stroke-width:4\"/><line x1=\"353.4554738948054\" y1=\"132.4419463363248\" x2=\"346.1657876205913\" y2=\"125.59647527703792\" stroke-linecap=\"round\" style=\"stroke:orange;stroke-width:4\"/><line x1=\"346.1657876205913\" y1=\"125.59647527703792\" x2=\"338.46065519283337\" y2=\"119.22223537955102\" stroke-linecap=\"round\" style=\"stroke:orange;stroke-width:4\"/><line x1=\"338.46065519283337\" y1=\"119.22223537955102\" x2=\"330.3704852490839\" y2=\"113.3443828566263\" stroke-linecap=\"round\" style=\"stroke:orange;stroke-width:4\"/><line x1=\"330.3704852490839\" y1=\"113.3443828566263\" x2=\"321.92720599406374\" y2=\"107.98611490683633\" stroke-linecap=\"round\" style=\"stroke:orange;stroke-width:4\"/><line x1=\"321.92720599406374\" y1=\"107.98611490683633\" x2=\"313.1641391936251\" y2=\"103.16857816581918\" stroke-linecap=\"round\" style=\"stroke:orange;stroke-width:4\"/><line x1=\"313.1641391936251\" y1=\"103.16857816581918\" x2=\"304.1158686689649\" y2=\"98.91078525016846\" stroke-linecap=\"round\" style=\"stroke:orange;stroke-width:4\"/><line x1=\"304.1158686689649\" y1=\"98.91078525016846\" x2=\"294.8181038100824\" y2=\"95.22953972332168\" stroke-linecap=\"round\" style=\"stroke:orange;stroke-width:4\"/><line x1=\"294.8181038100824\" y1=\"95.22953972332168\" x2=\"285.30753864713085\" y2=\"92.1393697795722\" stroke-linecap=\"round\" style=\"stroke:orange;stroke-width:4\"/><line x1=\"285.30753864713085\" y1=\"92.1393697795722\" x2=\"275.62170703584457\" y2=\"89.65247090792366\" stroke-linecap=\"round\" style=\"stroke:orange;stroke-width:4\"/><line x1=\"275.62170703584457\" y1=\"89.65247090792366\" x2=\"265.7988345285577\" y2=\"87.7786577620664\" stroke-linecap=\"round\" style=\"stroke:orange;stroke-width:4\"/><line x1=\"265.7988345285577\" y1=\"87.7786577620664\" x2=\"255.8776875154129\" y2=\"86.52532542642335\" stroke-linecap=\"round\" style=\"stroke:orange;stroke-width:4\"/><line x1=\"255.8776875154129\" y1=\"86.52532542642335\" x2=\"245.89742023113018\" y2=\"85.89742023113021\" stroke-linecap=\"round\" style=\"stroke:orange;stroke-width:4\"/><line x1=\"245.89742023113018\" y1=\"85.89742023113021\" x2=\"235.89742023113018\" y2=\"85.8974202311302\" stroke-linecap=\"round\" style=\"stroke:orange;stroke-width:4\"/><line x1=\"235.89742023113018\" y1=\"85.8974202311302\" x2=\"225.91715294684747\" y2=\"86.52532542642332\" stroke-linecap=\"round\" style=\"stroke:orange;stroke-width:4\"/><line x1=\"225.91715294684747\" y1=\"86.52532542642332\" x2=\"215.9960059337027\" y2=\"87.77865776206636\" stroke-linecap=\"round\" style=\"stroke:orange;stroke-width:4\"/><line x1=\"215.9960059337027\" y1=\"87.77865776206636\" x2=\"206.1731334264158\" y2=\"89.65247090792359\" stroke-linecap=\"round\" style=\"stroke:orange;stroke-width:4\"/><line x1=\"206.1731334264158\" y1=\"89.65247090792359\" x2=\"196.48730181512948\" y2=\"92.13936977957212\" stroke-linecap=\"round\" style=\"stroke:orange;stroke-width:4\"/><line x1=\"196.48730181512948\" y1=\"92.13936977957212\" x2=\"186.97673665217795\" y2=\"95.22953972332158\" stroke-linecap=\"round\" style=\"stroke:orange;stroke-width:4\"/><line x1=\"186.97673665217795\" y1=\"95.22953972332158\" x2=\"177.67897179329543\" y2=\"98.91078525016835\" stroke-linecap=\"round\" style=\"stroke:orange;stroke-width:4\"/><line x1=\"177.67897179329543\" y1=\"98.91078525016835\" x2=\"168.63070126863522\" y2=\"103.16857816581906\" stroke-linecap=\"round\" style=\"stroke:orange;stroke-width:4\"/><line x1=\"168.63070126863522\" y1=\"103.16857816581906\" x2=\"159.86763446819657\" y2=\"107.98611490683619\" stroke-linecap=\"round\" style=\"stroke:orange;stroke-width:4\"/><line x1=\"159.86763446819657\" y1=\"107.98611490683619\" x2=\"151.4243552131764\" y2=\"113.34438285662614\" stroke-linecap=\"round\" style=\"stroke:orange;stroke-width:4\"/><line x1=\"151.4243552131764\" y1=\"113.34438285662614\" x2=\"143.3341852694269\" y2=\"119.22223537955085\" stroke-linecap=\"round\" style=\"stroke:orange;stroke-width:4\"/><line x1=\"143.3341852694269\" y1=\"119.22223537955085\" x2=\"135.629052841669\" y2=\"125.59647527703774\" stroke-linecap=\"round\" style=\"stroke:orange;stroke-width:4\"/><line x1=\"135.629052841669\" y1=\"125.59647527703774\" x2=\"128.33936656745487\" y2=\"132.4419463363246\" stroke-linecap=\"round\" style=\"stroke:orange;stroke-width:4\"/><line x1=\"128.33936656745487\" y1=\"132.4419463363246\" x2=\"121.49389550816797\" y2=\"139.7316326105387\" stroke-linecap=\"round\" style=\"stroke:orange;stroke-width:4\"/><line x1=\"121.49389550816797\" y1=\"139.7316326105387\" x2=\"115.11965561068105\" y2=\"147.43676503829658\" stroke-linecap=\"round\" style=\"stroke:orange;stroke-width:4\"/><line x1=\"115.11965561068105\" y1=\"147.43676503829658\" x2=\"109.2418030877563\" y2=\"155.52693498204604\" stroke-linecap=\"round\" style=\"stroke:orange;stroke-width:4\"/><line x1=\"109.2418030877563\" y1=\"155.52693498204604\" x2=\"103.8835351379663\" y2=\"163.9702142370662\" stroke-linecap=\"round\" style=\"stroke:orange;stroke-width:4\"/><line x1=\"103.8835351379663\" y1=\"163.9702142370662\" x2=\"99.06599839694913\" y2=\"172.7332810375048\" stroke-linecap=\"round\" style=\"stroke:orange;stroke-width:4\"/><line x1=\"99.06599839694913\" y1=\"172.7332810375048\" x2=\"94.80820548129837\" y2=\"181.781551562165\" stroke-linecap=\"round\" style=\"stroke:orange;stroke-width:4\"/><line x1=\"94.80820548129837\" y1=\"181.781551562165\" x2=\"91.12695995445156\" y2=\"191.0793164210475\" stroke-linecap=\"round\" style=\"stroke:orange;stroke-width:4\"/><line x1=\"91.12695995445156\" y1=\"191.0793164210475\" x2=\"88.03679001070206\" y2=\"200.58988158399904\" stroke-linecap=\"round\" style=\"stroke:orange;stroke-width:4\"/><line x1=\"88.03679001070206\" y1=\"200.58988158399904\" x2=\"85.54989113905349\" y2=\"210.27571319528533\" stroke-linecap=\"round\" style=\"stroke:orange;stroke-width:4\"/><line x1=\"85.54989113905349\" y1=\"210.27571319528533\" x2=\"83.6760779931962\" y2=\"220.09858570257222\" stroke-linecap=\"round\" style=\"stroke:orange;stroke-width:4\"/><line x1=\"83.6760779931962\" y1=\"220.09858570257222\" x2=\"82.42274565755312\" y2=\"230.019732715717\" stroke-linecap=\"round\" style=\"stroke:orange;stroke-width:4\"/><line x1=\"82.42274565755312\" y1=\"230.019732715717\" x2=\"81.79484046225996\" y2=\"239.99999999999972\" stroke-linecap=\"round\" style=\"stroke:orange;stroke-width:4\"/><line x1=\"81.79484046225996\" y1=\"239.99999999999972\" x2=\"81.79484046225993\" y2=\"249.99999999999972\" stroke-linecap=\"round\" style=\"stroke:orange;stroke-width:4\"/><line x1=\"81.79484046225993\" y1=\"249.99999999999972\" x2=\"82.42274565755302\" y2=\"259.98026728428243\" stroke-linecap=\"round\" style=\"stroke:orange;stroke-width:4\"/><line x1=\"82.42274565755302\" y1=\"259.98026728428243\" x2=\"83.67607799319603\" y2=\"269.9014142974272\" stroke-linecap=\"round\" style=\"stroke:orange;stroke-width:4\"/><line x1=\"83.67607799319603\" y1=\"269.9014142974272\" x2=\"85.54989113905324\" y2=\"279.7242868047141\" stroke-linecap=\"round\" style=\"stroke:orange;stroke-width:4\"/><line x1=\"85.54989113905324\" y1=\"279.7242868047141\" x2=\"88.03679001070175\" y2=\"289.41011841600044\" stroke-linecap=\"round\" style=\"stroke:orange;stroke-width:4\"/><line x1=\"88.03679001070175\" y1=\"289.41011841600044\" x2=\"91.12695995445118\" y2=\"298.920683578952\" stroke-linecap=\"round\" style=\"stroke:orange;stroke-width:4\"/><line x1=\"91.12695995445118\" y1=\"298.920683578952\" x2=\"94.80820548129792\" y2=\"308.2184484378345\" stroke-linecap=\"round\" style=\"stroke:orange;stroke-width:4\"/><line x1=\"94.80820548129792\" y1=\"308.2184484378345\" x2=\"99.0659983969486\" y2=\"317.26671896249474\" stroke-linecap=\"round\" style=\"stroke:orange;stroke-width:4\"/><line x1=\"99.0659983969486\" y1=\"317.26671896249474\" x2=\"103.88353513796572\" y2=\"326.0297857629334\" stroke-linecap=\"round\" style=\"stroke:orange;stroke-width:4\"/><line x1=\"103.88353513796572\" y1=\"326.0297857629334\" x2=\"109.24180308775566\" y2=\"334.47306501795356\" stroke-linecap=\"round\" style=\"stroke:orange;stroke-width:4\"/><line x1=\"109.24180308775566\" y1=\"334.47306501795356\" x2=\"115.11965561068035\" y2=\"342.5632349617031\" stroke-linecap=\"round\" style=\"stroke:orange;stroke-width:4\"/><line x1=\"115.11965561068035\" y1=\"342.5632349617031\" x2=\"121.49389550816721\" y2=\"350.268367389461\" stroke-linecap=\"round\" style=\"stroke:orange;stroke-width:4\"/><line x1=\"121.49389550816721\" y1=\"350.268367389461\" x2=\"128.33936656745408\" y2=\"357.55805366367514\" stroke-linecap=\"round\" style=\"stroke:orange;stroke-width:4\"/><line x1=\"128.33936656745408\" y1=\"357.55805366367514\" x2=\"135.62905284166817\" y2=\"364.40352472296206\" stroke-linecap=\"round\" style=\"stroke:orange;stroke-width:4\"/><line x1=\"135.62905284166817\" y1=\"364.40352472296206\" x2=\"143.33418526942603\" y2=\"370.777764620449\" stroke-linecap=\"round\" style=\"stroke:orange;stroke-width:4\"/><line x1=\"143.33418526942603\" y1=\"370.777764620449\" x2=\"151.4243552131755\" y2=\"376.6556171433737\" stroke-linecap=\"round\" style=\"stroke:orange;stroke-width:4\"/><line x1=\"151.4243552131755\" y1=\"376.6556171433737\" x2=\"159.8676344681956\" y2=\"382.0138850931637\" stroke-linecap=\"round\" style=\"stroke:orange;stroke-width:4\"/><line x1=\"159.8676344681956\" y1=\"382.0138850931637\" x2=\"168.63070126863423\" y2=\"386.8314218341809\" stroke-linecap=\"round\" style=\"stroke:orange;stroke-width:4\"/><line x1=\"168.63070126863423\" y1=\"386.8314218341809\" x2=\"177.6789717932944\" y2=\"391.0892147498317\" stroke-linecap=\"round\" style=\"stroke:orange;stroke-width:4\"/><line x1=\"177.6789717932944\" y1=\"391.0892147498317\" x2=\"186.9767366521769\" y2=\"394.7704602766785\" stroke-linecap=\"round\" style=\"stroke:orange;stroke-width:4\"/><line x1=\"186.9767366521769\" y1=\"394.7704602766785\" x2=\"196.48730181512843\" y2=\"397.860630220428\" stroke-linecap=\"round\" style=\"stroke:orange;stroke-width:4\"/><line x1=\"196.48730181512843\" y1=\"397.860630220428\" x2=\"206.17313342641472\" y2=\"400.34752909207657\" stroke-linecap=\"round\" style=\"stroke:orange;stroke-width:4\"/><line x1=\"206.17313342641472\" y1=\"400.34752909207657\" x2=\"215.9960059337016\" y2=\"402.22134223793387\" stroke-linecap=\"round\" style=\"stroke:orange;stroke-width:4\"/><line x1=\"215.9960059337016\" y1=\"402.22134223793387\" x2=\"225.9171529468464\" y2=\"403.474674573577\" stroke-linecap=\"round\" style=\"stroke:orange;stroke-width:4\"/><line x1=\"225.9171529468464\" y1=\"403.474674573577\" x2=\"235.8974202311291\" y2=\"404.10257976887016\" stroke-linecap=\"round\" style=\"stroke:orange;stroke-width:4\"/><line x1=\"235.8974202311291\" y1=\"404.10257976887016\" x2=\"245.8974202311291\" y2=\"404.1025797688702\" stroke-linecap=\"round\" style=\"stroke:orange;stroke-width:4\"/><line x1=\"245.8974202311291\" y1=\"404.1025797688702\" x2=\"255.87768751541182\" y2=\"403.4746745735771\" stroke-linecap=\"round\" style=\"stroke:orange;stroke-width:4\"/><line x1=\"255.87768751541182\" y1=\"403.4746745735771\" x2=\"265.7988345285566\" y2=\"402.2213422379341\" stroke-linecap=\"round\" style=\"stroke:orange;stroke-width:4\"/><line x1=\"265.7988345285566\" y1=\"402.2213422379341\" x2=\"275.6217070358435\" y2=\"400.34752909207685\" stroke-linecap=\"round\" style=\"stroke:orange;stroke-width:4\"/><line x1=\"275.6217070358435\" y1=\"400.34752909207685\" x2=\"285.3075386471298\" y2=\"397.86063022042833\" stroke-linecap=\"round\" style=\"stroke:orange;stroke-width:4\"/><line x1=\"285.3075386471298\" y1=\"397.86063022042833\" x2=\"294.8181038100813\" y2=\"394.7704602766789\" stroke-linecap=\"round\" style=\"stroke:orange;stroke-width:4\"/><line x1=\"294.8181038100813\" y1=\"394.7704602766789\" x2=\"304.11586866896386\" y2=\"391.08921474983214\" stroke-linecap=\"round\" style=\"stroke:orange;stroke-width:4\"/><line x1=\"304.11586866896386\" y1=\"391.08921474983214\" x2=\"313.16413919362407\" y2=\"386.8314218341814\" stroke-linecap=\"round\" style=\"stroke:orange;stroke-width:4\"/><line x1=\"313.16413919362407\" y1=\"386.8314218341814\" x2=\"321.9272059940627\" y2=\"382.0138850931643\" stroke-linecap=\"round\" style=\"stroke:orange;stroke-width:4\"/><line x1=\"321.9272059940627\" y1=\"382.0138850931643\" x2=\"330.3704852490829\" y2=\"376.6556171433743\" stroke-linecap=\"round\" style=\"stroke:orange;stroke-width:4\"/><line x1=\"330.3704852490829\" y1=\"376.6556171433743\" x2=\"338.46065519283235\" y2=\"370.77776462044955\" stroke-linecap=\"round\" style=\"stroke:orange;stroke-width:4\"/><line x1=\"338.46065519283235\" y1=\"370.77776462044955\" x2=\"346.1657876205902\" y2=\"364.40352472296263\" stroke-linecap=\"round\" style=\"stroke:orange;stroke-width:4\"/><line x1=\"346.1657876205902\" y1=\"364.40352472296263\" x2=\"353.4554738948043\" y2=\"357.5580536636757\" stroke-linecap=\"round\" style=\"stroke:orange;stroke-width:4\"/><line x1=\"353.4554738948043\" y1=\"357.5580536636757\" x2=\"360.30094495409116\" y2=\"350.26836738946156\" stroke-linecap=\"round\" style=\"stroke:orange;stroke-width:4\"/><line x1=\"360.30094495409116\" y1=\"350.26836738946156\" x2=\"366.675184851578\" y2=\"342.56323496170364\" stroke-linecap=\"round\" style=\"stroke:orange;stroke-width:4\"/><line x1=\"366.675184851578\" y1=\"342.56323496170364\" x2=\"372.55303737450276\" y2=\"334.4730650179542\" stroke-linecap=\"round\" style=\"stroke:orange;stroke-width:4\"/><line x1=\"372.55303737450276\" y1=\"334.4730650179542\" x2=\"377.9113053242927\" y2=\"326.029785762934\" stroke-linecap=\"round\" style=\"stroke:orange;stroke-width:4\"/><line x1=\"377.9113053242927\" y1=\"326.029785762934\" x2=\"382.72884206530983\" y2=\"317.26671896249536\" stroke-linecap=\"round\" style=\"stroke:orange;stroke-width:4\"/><line x1=\"382.72884206530983\" y1=\"317.26671896249536\" x2=\"386.9866349809605\" y2=\"308.21844843783515\" stroke-linecap=\"round\" style=\"stroke:orange;stroke-width:4\"/><line x1=\"386.9866349809605\" y1=\"308.21844843783515\" x2=\"390.66788050780724\" y2=\"298.9206835789526\" stroke-linecap=\"round\" style=\"stroke:orange;stroke-width:4\"/><line x1=\"390.66788050780724\" y1=\"298.9206835789526\" x2=\"393.7580504515567\" y2=\"289.41011841600107\" stroke-linecap=\"round\" style=\"stroke:orange;stroke-width:4\"/><line x1=\"393.7580504515567\" y1=\"289.41011841600107\" x2=\"396.2449493232052\" y2=\"279.7242868047147\" stroke-linecap=\"round\" style=\"stroke:orange;stroke-width:4\"/><line x1=\"396.2449493232052\" y1=\"279.7242868047147\" x2=\"398.1187624690624\" y2=\"269.90141429742783\" stroke-linecap=\"round\" style=\"stroke:orange;stroke-width:4\"/><line x1=\"398.1187624690624\" y1=\"269.90141429742783\" x2=\"399.3720948047054\" y2=\"259.98026728428306\" stroke-linecap=\"round\" style=\"stroke:orange;stroke-width:4\"/><line x1=\"399.3720948047054\" y1=\"259.98026728428306\" x2=\"399.99999999999847\" y2=\"250.00000000000034\" stroke-linecap=\"round\" style=\"stroke:orange;stroke-width:4\"/>\n",
              "        \n",
              "      <g visibility=visible transform=\"rotate(179.99999999999966,399.99999999999847,250.00000000000034) translate(399.99999999999847, 250.00000000000034)\">\n",
              "        <circle stroke=\"orange\" stroke-width=\"3\" fill=\"transparent\" r=\"12\" cx=\"0\" cy=\"0\"/>\n",
              "        <polygon points=\"0,19 3,16 -3,16\" style=\"fill:orange;stroke:orange;stroke-width:2\"/>\n",
              "      </g>\n",
              "    \n",
              "      </svg>\n",
              "    "
            ],
            "text/plain": [
              "<IPython.core.display.HTML object>"
            ]
          },
          "metadata": {
            "tags": []
          }
        }
      ]
    },
    {
      "cell_type": "code",
      "metadata": {
        "id": "zi7_kCP_PKFf",
        "outputId": "fd0d4a7f-f00a-401b-c0e8-066d0533a198",
        "colab": {
          "base_uri": "https://localhost:8080/",
          "height": 521
        }
      },
      "source": [
        "# 다양한 기능, penup() / pendown()\n",
        "\n",
        "my_turtle.initializeTurtle(initial_speed=5)\n",
        "my_turtle.color('orange') \n",
        "my_turtle.bgcolor('white') \n",
        "\n",
        "my_turtle.pendown()\n",
        "my_turtle.forward(100)\n",
        "my_turtle.left(90)\n",
        "my_turtle.penup()\n",
        "my_turtle.forward(100)\n",
        "my_turtle.pendown()\n",
        "my_turtle.left(90)\n",
        "my_turtle.forward(100)\n",
        "my_turtle.left(90)"
      ],
      "execution_count": 35,
      "outputs": [
        {
          "output_type": "display_data",
          "data": {
            "text/html": [
              "\n",
              "      <svg width=\"800\" height=\"500\">\n",
              "        <rect width=\"100%\" height=\"100%\" fill=\"white\"/>\n",
              "        <line x1=\"400\" y1=\"250\" x2=\"400.0\" y2=\"150.0\" stroke-linecap=\"round\" style=\"stroke:orange;stroke-width:4\"/><line x1=\"300.0\" y1=\"150.0\" x2=\"300.0\" y2=\"250.0\" stroke-linecap=\"round\" style=\"stroke:orange;stroke-width:4\"/>\n",
              "        \n",
              "      <g visibility=visible transform=\"rotate(-90,300.0,250.0) translate(300.0, 250.0)\">\n",
              "        <circle stroke=\"orange\" stroke-width=\"3\" fill=\"transparent\" r=\"12\" cx=\"0\" cy=\"0\"/>\n",
              "        <polygon points=\"0,19 3,16 -3,16\" style=\"fill:orange;stroke:orange;stroke-width:2\"/>\n",
              "      </g>\n",
              "    \n",
              "      </svg>\n",
              "    "
            ],
            "text/plain": [
              "<IPython.core.display.HTML object>"
            ]
          },
          "metadata": {
            "tags": []
          }
        }
      ]
    },
    {
      "cell_type": "code",
      "metadata": {
        "id": "Kwk-pJZjT_Lr",
        "outputId": "099d5b49-761e-4dc7-bf63-f27b9612e290",
        "colab": {
          "base_uri": "https://localhost:8080/",
          "height": 521
        }
      },
      "source": [
        "# 다양한 기능, setx() / sety(), 입력된 x-y 좌표 위치로 이동 \n",
        "t = ColabTurtle.Turtle\n",
        "t.initializeTurtle(initial_speed=10)\n",
        "#t.penup()\n",
        "t.forward(100)\n",
        "t.setx(300)\n",
        "t.sety(300)"
      ],
      "execution_count": 36,
      "outputs": [
        {
          "output_type": "display_data",
          "data": {
            "text/html": [
              "\n",
              "      <svg width=\"800\" height=\"500\">\n",
              "        <rect width=\"100%\" height=\"100%\" fill=\"black\"/>\n",
              "        <line x1=\"400\" y1=\"250\" x2=\"400.0\" y2=\"150.0\" stroke-linecap=\"round\" style=\"stroke:white;stroke-width:4\"/><line x1=\"400.0\" y1=\"150.0\" x2=\"300\" y2=\"150.0\" stroke-linecap=\"round\" style=\"stroke:white;stroke-width:4\"/><line x1=\"300\" y1=\"150.0\" x2=\"300\" y2=\"300\" stroke-linecap=\"round\" style=\"stroke:white;stroke-width:4\"/>\n",
              "        \n",
              "      <g visibility=visible transform=\"rotate(180,300,300) translate(300, 300)\">\n",
              "        <circle stroke=\"white\" stroke-width=\"3\" fill=\"transparent\" r=\"12\" cx=\"0\" cy=\"0\"/>\n",
              "        <polygon points=\"0,19 3,16 -3,16\" style=\"fill:white;stroke:white;stroke-width:2\"/>\n",
              "      </g>\n",
              "    \n",
              "      </svg>\n",
              "    "
            ],
            "text/plain": [
              "<IPython.core.display.HTML object>"
            ]
          },
          "metadata": {
            "tags": []
          }
        }
      ]
    },
    {
      "cell_type": "markdown",
      "metadata": {
        "id": "C88TshNnd0Ha"
      },
      "source": [
        "# 중첩반복문\n",
        "\n"
      ]
    },
    {
      "cell_type": "code",
      "metadata": {
        "id": "uuKAQdMCFrOB",
        "outputId": "6175e0b9-21c4-4aef-d076-77e9b29427f4",
        "colab": {
          "base_uri": "https://localhost:8080/"
        }
      },
      "source": [
        "#구구단 \n",
        "for i in range(1, 10):\n",
        "  for j in range(1, 10):\n",
        "    print(str(i) + \" x \" + str(j) + \" = \" + str(i*j))\n",
        "  print(str(i) + \" 단이 종료되었습니다.\")\n",
        "\n"
      ],
      "execution_count": 42,
      "outputs": [
        {
          "output_type": "stream",
          "text": [
            "1 x 1 = 1\n",
            "1 x 2 = 2\n",
            "1 x 3 = 3\n",
            "1 x 4 = 4\n",
            "1 x 5 = 5\n",
            "1 x 6 = 6\n",
            "1 x 7 = 7\n",
            "1 x 8 = 8\n",
            "1 x 9 = 9\n",
            "1 단이 종료되었습니다.\n",
            "2 x 1 = 2\n",
            "2 x 2 = 4\n",
            "2 x 3 = 6\n",
            "2 x 4 = 8\n",
            "2 x 5 = 10\n",
            "2 x 6 = 12\n",
            "2 x 7 = 14\n",
            "2 x 8 = 16\n",
            "2 x 9 = 18\n",
            "2 단이 종료되었습니다.\n",
            "3 x 1 = 3\n",
            "3 x 2 = 6\n",
            "3 x 3 = 9\n",
            "3 x 4 = 12\n",
            "3 x 5 = 15\n",
            "3 x 6 = 18\n",
            "3 x 7 = 21\n",
            "3 x 8 = 24\n",
            "3 x 9 = 27\n",
            "3 단이 종료되었습니다.\n",
            "4 x 1 = 4\n",
            "4 x 2 = 8\n",
            "4 x 3 = 12\n",
            "4 x 4 = 16\n",
            "4 x 5 = 20\n",
            "4 x 6 = 24\n",
            "4 x 7 = 28\n",
            "4 x 8 = 32\n",
            "4 x 9 = 36\n",
            "4 단이 종료되었습니다.\n",
            "5 x 1 = 5\n",
            "5 x 2 = 10\n",
            "5 x 3 = 15\n",
            "5 x 4 = 20\n",
            "5 x 5 = 25\n",
            "5 x 6 = 30\n",
            "5 x 7 = 35\n",
            "5 x 8 = 40\n",
            "5 x 9 = 45\n",
            "5 단이 종료되었습니다.\n",
            "6 x 1 = 6\n",
            "6 x 2 = 12\n",
            "6 x 3 = 18\n",
            "6 x 4 = 24\n",
            "6 x 5 = 30\n",
            "6 x 6 = 36\n",
            "6 x 7 = 42\n",
            "6 x 8 = 48\n",
            "6 x 9 = 54\n",
            "6 단이 종료되었습니다.\n",
            "7 x 1 = 7\n",
            "7 x 2 = 14\n",
            "7 x 3 = 21\n",
            "7 x 4 = 28\n",
            "7 x 5 = 35\n",
            "7 x 6 = 42\n",
            "7 x 7 = 49\n",
            "7 x 8 = 56\n",
            "7 x 9 = 63\n",
            "7 단이 종료되었습니다.\n",
            "8 x 1 = 8\n",
            "8 x 2 = 16\n",
            "8 x 3 = 24\n",
            "8 x 4 = 32\n",
            "8 x 5 = 40\n",
            "8 x 6 = 48\n",
            "8 x 7 = 56\n",
            "8 x 8 = 64\n",
            "8 x 9 = 72\n",
            "8 단이 종료되었습니다.\n",
            "9 x 1 = 9\n",
            "9 x 2 = 18\n",
            "9 x 3 = 27\n",
            "9 x 4 = 36\n",
            "9 x 5 = 45\n",
            "9 x 6 = 54\n",
            "9 x 7 = 63\n",
            "9 x 8 = 72\n",
            "9 x 9 = 81\n",
            "9 단이 종료되었습니다.\n"
          ],
          "name": "stdout"
        }
      ]
    },
    {
      "cell_type": "code",
      "metadata": {
        "id": "CWf82pM5d4IC",
        "outputId": "4a02d7d2-3965-496e-c4fe-2901278d47d2",
        "colab": {
          "base_uri": "https://localhost:8080/"
        }
      },
      "source": [
        "#예시1. 중첩 리스트의 데이터를 다루기\n",
        "msi_teams = [[\"Impact\", \"Xmithie\", \"Jenson\",\"Doublelift\",\"CoreJJ\"], [\"Wunder\", \"Jankos\",\"Caps\",\"Perkz\",\"Mikyx\"],\n",
        "             [\"Khan\", \"Clid\",\"Faker\",\"Teddy\",\"Mata\"]]\n",
        "\n",
        "#리스트안의 데이터를 하나씩 꺼내어 1차원의 players 리스트로 변경해 봅시다.\n",
        "\n",
        "players = list()\n",
        "\n",
        "for team in msi_teams:\n",
        "  for player in team:\n",
        "    print(player)\n",
        "    players.append(player)\n",
        "\n",
        "\n",
        "print(players)\n"
      ],
      "execution_count": 54,
      "outputs": [
        {
          "output_type": "stream",
          "text": [
            "Impact\n",
            "Xmithie\n",
            "Jenson\n",
            "Doublelift\n",
            "CoreJJ\n",
            "Wunder\n",
            "Jankos\n",
            "Caps\n",
            "Perkz\n",
            "Mikyx\n",
            "Khan\n",
            "Clid\n",
            "Faker\n",
            "Teddy\n",
            "Mata\n",
            "['Impact', 'Xmithie', 'Jenson', 'Doublelift', 'CoreJJ', 'Wunder', 'Jankos', 'Caps', 'Perkz', 'Mikyx', 'Khan', 'Clid', 'Faker', 'Teddy', 'Mata']\n"
          ],
          "name": "stdout"
        }
      ]
    },
    {
      "cell_type": "code",
      "metadata": {
        "id": "y4NRt6xAPWQk",
        "outputId": "2e01d85a-7929-40aa-abae-5d25fedc10f8",
        "colab": {
          "base_uri": "https://localhost:8080/",
          "height": 521
        }
      },
      "source": [
        "# 중첩 반복문을 활용한 터틀 예시\n",
        "t.initializeTurtle(initial_speed=10)\n",
        "t.color('white')\n",
        "t.bgcolor('black')\n",
        "\n",
        "for i in range(36):\n",
        "    t.penup()\n",
        "    t.setx(300)\n",
        "    t.sety(300)\n",
        "    for j in range(10):\n",
        "      t.pendown()\n",
        "      t.forward(10)\n",
        "      t.left(5)\n",
        "    t.right(40)"
      ],
      "execution_count": 45,
      "outputs": [
        {
          "output_type": "display_data",
          "data": {
            "text/html": [
              "\n",
              "      <svg width=\"800\" height=\"500\">\n",
              "        <rect width=\"100%\" height=\"100%\" fill=\"black\"/>\n",
              "        <line x1=\"300\" y1=\"300\" x2=\"300.0\" y2=\"290.0\" stroke-linecap=\"round\" style=\"stroke:white;stroke-width:4\"/><line x1=\"300.0\" y1=\"290.0\" x2=\"299.1284425725234\" y2=\"280.03805301908255\" stroke-linecap=\"round\" style=\"stroke:white;stroke-width:4\"/><line x1=\"299.1284425725234\" y1=\"280.03805301908255\" x2=\"297.3919607958541\" y2=\"270.1899754889605\" stroke-linecap=\"round\" style=\"stroke:white;stroke-width:4\"/><line x1=\"297.3919607958541\" y1=\"270.1899754889605\" x2=\"294.80377034482893\" y2=\"260.53071722606984\" stroke-linecap=\"round\" style=\"stroke:white;stroke-width:4\"/><line x1=\"294.80377034482893\" y1=\"260.53071722606984\" x2=\"291.38356891157224\" y2=\"251.13379101821076\" stroke-linecap=\"round\" style=\"stroke:white;stroke-width:4\"/><line x1=\"291.38356891157224\" y1=\"251.13379101821076\" x2=\"287.15738629416524\" y2=\"242.07071314784426\" stroke-linecap=\"round\" style=\"stroke:white;stroke-width:4\"/><line x1=\"287.15738629416524\" y1=\"242.07071314784426\" x2=\"282.15738629416524\" y2=\"233.41045910999986\" stroke-linecap=\"round\" style=\"stroke:white;stroke-width:4\"/><line x1=\"282.15738629416524\" y1=\"233.41045910999986\" x2=\"276.4216219306548\" y2=\"225.21893866710994\" stroke-linecap=\"round\" style=\"stroke:white;stroke-width:4\"/><line x1=\"276.4216219306548\" y1=\"225.21893866710994\" x2=\"269.9937458337894\" y2=\"217.55849423592016\" stroke-linecap=\"round\" style=\"stroke:white;stroke-width:4\"/><line x1=\"269.9937458337894\" y1=\"217.55849423592016\" x2=\"262.9226780219239\" y2=\"210.4874264240547\" stroke-linecap=\"round\" style=\"stroke:white;stroke-width:4\"/><line x1=\"300\" y1=\"300\" x2=\"298.2635182233307\" y2=\"290.15192246987795\" stroke-linecap=\"round\" style=\"stroke:white;stroke-width:4\"/><line x1=\"298.2635182233307\" y1=\"290.15192246987795\" x2=\"295.67532777230554\" y2=\"280.4926642069873\" stroke-linecap=\"round\" style=\"stroke:white;stroke-width:4\"/><line x1=\"295.67532777230554\" y1=\"280.4926642069873\" x2=\"292.25512633904884\" y2=\"271.0957379991282\" stroke-linecap=\"round\" style=\"stroke:white;stroke-width:4\"/><line x1=\"292.25512633904884\" y1=\"271.0957379991282\" x2=\"288.02894372164184\" y2=\"262.0326601287617\" stroke-linecap=\"round\" style=\"stroke:white;stroke-width:4\"/><line x1=\"288.02894372164184\" y1=\"262.0326601287617\" x2=\"283.02894372164184\" y2=\"253.37240609091728\" stroke-linecap=\"round\" style=\"stroke:white;stroke-width:4\"/><line x1=\"283.02894372164184\" y1=\"253.37240609091728\" x2=\"277.2931793581314\" y2=\"245.18088564802736\" stroke-linecap=\"round\" style=\"stroke:white;stroke-width:4\"/><line x1=\"277.2931793581314\" y1=\"245.18088564802736\" x2=\"270.865303261266\" y2=\"237.52044121683758\" stroke-linecap=\"round\" style=\"stroke:white;stroke-width:4\"/><line x1=\"270.865303261266\" y1=\"237.52044121683758\" x2=\"263.7942354494005\" y2=\"230.4493734049721\" stroke-linecap=\"round\" style=\"stroke:white;stroke-width:4\"/><line x1=\"263.7942354494005\" y1=\"230.4493734049721\" x2=\"256.13379101821073\" y2=\"224.02149730810672\" stroke-linecap=\"round\" style=\"stroke:white;stroke-width:4\"/><line x1=\"256.13379101821073\" y1=\"224.02149730810672\" x2=\"247.9422705753208\" y2=\"218.28573294459625\" stroke-linecap=\"round\" style=\"stroke:white;stroke-width:4\"/><line x1=\"300\" y1=\"300\" x2=\"296.5797985667433\" y2=\"290.6030737921409\" stroke-linecap=\"round\" style=\"stroke:white;stroke-width:4\"/><line x1=\"296.5797985667433\" y1=\"290.6030737921409\" x2=\"292.3536159493363\" y2=\"281.5399959217744\" stroke-linecap=\"round\" style=\"stroke:white;stroke-width:4\"/><line x1=\"292.3536159493363\" y1=\"281.5399959217744\" x2=\"287.3536159493363\" y2=\"272.87974188393\" stroke-linecap=\"round\" style=\"stroke:white;stroke-width:4\"/><line x1=\"287.3536159493363\" y1=\"272.87974188393\" x2=\"281.61785158582586\" y2=\"264.6882214410401\" stroke-linecap=\"round\" style=\"stroke:white;stroke-width:4\"/><line x1=\"281.61785158582586\" y1=\"264.6882214410401\" x2=\"275.18997548896044\" y2=\"257.02777700985035\" stroke-linecap=\"round\" style=\"stroke:white;stroke-width:4\"/><line x1=\"275.18997548896044\" y1=\"257.02777700985035\" x2=\"268.11890767709497\" y2=\"249.95670919798488\" stroke-linecap=\"round\" style=\"stroke:white;stroke-width:4\"/><line x1=\"268.11890767709497\" y1=\"249.95670919798488\" x2=\"260.4584632459052\" y2=\"243.5288331011195\" stroke-linecap=\"round\" style=\"stroke:white;stroke-width:4\"/><line x1=\"260.4584632459052\" y1=\"243.5288331011195\" x2=\"252.26694280301527\" y2=\"237.79306873760902\" stroke-linecap=\"round\" style=\"stroke:white;stroke-width:4\"/><line x1=\"252.26694280301527\" y1=\"237.79306873760902\" x2=\"243.60668876517087\" y2=\"232.79306873760902\" stroke-linecap=\"round\" style=\"stroke:white;stroke-width:4\"/><line x1=\"243.60668876517087\" y1=\"232.79306873760902\" x2=\"234.54361089480437\" y2=\"228.566886120202\" stroke-linecap=\"round\" style=\"stroke:white;stroke-width:4\"/><line x1=\"300\" y1=\"300\" x2=\"295.0\" y2=\"291.33974596215563\" stroke-linecap=\"round\" style=\"stroke:white;stroke-width:4\"/><line x1=\"295.0\" y1=\"291.33974596215563\" x2=\"289.26423563648956\" y2=\"283.14822551926574\" stroke-linecap=\"round\" style=\"stroke:white;stroke-width:4\"/><line x1=\"289.26423563648956\" y1=\"283.14822551926574\" x2=\"282.83635953962414\" y2=\"275.48778108807596\" stroke-linecap=\"round\" style=\"stroke:white;stroke-width:4\"/><line x1=\"282.83635953962414\" y1=\"275.48778108807596\" x2=\"275.76529172775867\" y2=\"268.4167132762105\" stroke-linecap=\"round\" style=\"stroke:white;stroke-width:4\"/><line x1=\"275.76529172775867\" y1=\"268.4167132762105\" x2=\"268.1048472965689\" y2=\"261.98883717934507\" stroke-linecap=\"round\" style=\"stroke:white;stroke-width:4\"/><line x1=\"268.1048472965689\" y1=\"261.98883717934507\" x2=\"259.913326853679\" y2=\"256.2530728158346\" stroke-linecap=\"round\" style=\"stroke:white;stroke-width:4\"/><line x1=\"259.913326853679\" y1=\"256.2530728158346\" x2=\"251.2530728158346\" y2=\"251.25307281583463\" stroke-linecap=\"round\" style=\"stroke:white;stroke-width:4\"/><line x1=\"251.2530728158346\" y1=\"251.25307281583463\" x2=\"242.1899949454681\" y2=\"247.02689019842762\" stroke-linecap=\"round\" style=\"stroke:white;stroke-width:4\"/><line x1=\"242.1899949454681\" y1=\"247.02689019842762\" x2=\"232.79306873760902\" y2=\"243.60668876517093\" stroke-linecap=\"round\" style=\"stroke:white;stroke-width:4\"/><line x1=\"232.79306873760902\" y1=\"243.60668876517093\" x2=\"223.13381047471833\" y2=\"241.01849831414572\" stroke-linecap=\"round\" style=\"stroke:white;stroke-width:4\"/><line x1=\"300\" y1=\"300\" x2=\"293.5721239031346\" y2=\"292.3395555688102\" stroke-linecap=\"round\" style=\"stroke:white;stroke-width:4\"/><line x1=\"293.5721239031346\" y1=\"292.3395555688102\" x2=\"286.5010560912691\" y2=\"285.26848775694475\" stroke-linecap=\"round\" style=\"stroke:white;stroke-width:4\"/><line x1=\"286.5010560912691\" y1=\"285.26848775694475\" x2=\"278.84061166007933\" y2=\"278.84061166007933\" stroke-linecap=\"round\" style=\"stroke:white;stroke-width:4\"/><line x1=\"278.84061166007933\" y1=\"278.84061166007933\" x2=\"270.64909121718944\" y2=\"273.1048472965689\" stroke-linecap=\"round\" style=\"stroke:white;stroke-width:4\"/><line x1=\"270.64909121718944\" y1=\"273.1048472965689\" x2=\"261.98883717934507\" y2=\"268.1048472965689\" stroke-linecap=\"round\" style=\"stroke:white;stroke-width:4\"/><line x1=\"261.98883717934507\" y1=\"268.1048472965689\" x2=\"252.92575930897857\" y2=\"263.8786646791619\" stroke-linecap=\"round\" style=\"stroke:white;stroke-width:4\"/><line x1=\"252.92575930897857\" y1=\"263.8786646791619\" x2=\"243.5288331011195\" y2=\"260.4584632459052\" stroke-linecap=\"round\" style=\"stroke:white;stroke-width:4\"/><line x1=\"243.5288331011195\" y1=\"260.4584632459052\" x2=\"233.8695748382288\" y2=\"257.87027279488\" stroke-linecap=\"round\" style=\"stroke:white;stroke-width:4\"/><line x1=\"233.8695748382288\" y1=\"257.87027279488\" x2=\"224.02149730810672\" y2=\"256.13379101821073\" stroke-linecap=\"round\" style=\"stroke:white;stroke-width:4\"/><line x1=\"224.02149730810672\" y1=\"256.13379101821073\" x2=\"214.05955032718927\" y2=\"255.26223359073416\" stroke-linecap=\"round\" style=\"stroke:white;stroke-width:4\"/><line x1=\"300\" y1=\"300\" x2=\"292.3395555688102\" y2=\"293.5721239031346\" stroke-linecap=\"round\" style=\"stroke:white;stroke-width:4\"/><line x1=\"292.3395555688102\" y1=\"293.5721239031346\" x2=\"284.14803512592033\" y2=\"287.83635953962414\" stroke-linecap=\"round\" style=\"stroke:white;stroke-width:4\"/><line x1=\"284.14803512592033\" y1=\"287.83635953962414\" x2=\"275.48778108807596\" y2=\"282.83635953962414\" stroke-linecap=\"round\" style=\"stroke:white;stroke-width:4\"/><line x1=\"275.48778108807596\" y1=\"282.83635953962414\" x2=\"266.42470321770946\" y2=\"278.61017692221714\" stroke-linecap=\"round\" style=\"stroke:white;stroke-width:4\"/><line x1=\"266.42470321770946\" y1=\"278.61017692221714\" x2=\"257.02777700985035\" y2=\"275.18997548896044\" stroke-linecap=\"round\" style=\"stroke:white;stroke-width:4\"/><line x1=\"257.02777700985035\" y1=\"275.18997548896044\" x2=\"247.36851874695967\" y2=\"272.60178503793526\" stroke-linecap=\"round\" style=\"stroke:white;stroke-width:4\"/><line x1=\"247.36851874695967\" y1=\"272.60178503793526\" x2=\"237.52044121683758\" y2=\"270.865303261266\" stroke-linecap=\"round\" style=\"stroke:white;stroke-width:4\"/><line x1=\"237.52044121683758\" y1=\"270.865303261266\" x2=\"227.55849423592014\" y2=\"269.9937458337894\" stroke-linecap=\"round\" style=\"stroke:white;stroke-width:4\"/><line x1=\"227.55849423592014\" y1=\"269.9937458337894\" x2=\"217.55849423592014\" y2=\"269.9937458337894\" stroke-linecap=\"round\" style=\"stroke:white;stroke-width:4\"/><line x1=\"217.55849423592014\" y1=\"269.9937458337894\" x2=\"207.5965472550027\" y2=\"270.865303261266\" stroke-linecap=\"round\" style=\"stroke:white;stroke-width:4\"/><line x1=\"300\" y1=\"300\" x2=\"291.33974596215563\" y2=\"295.0\" stroke-linecap=\"round\" style=\"stroke:white;stroke-width:4\"/><line x1=\"291.33974596215563\" y1=\"295.0\" x2=\"282.27666809178913\" y2=\"290.773817382593\" stroke-linecap=\"round\" style=\"stroke:white;stroke-width:4\"/><line x1=\"282.27666809178913\" y1=\"290.773817382593\" x2=\"272.87974188393\" y2=\"287.3536159493363\" stroke-linecap=\"round\" style=\"stroke:white;stroke-width:4\"/><line x1=\"272.87974188393\" y1=\"287.3536159493363\" x2=\"263.22048362103936\" y2=\"284.7654254983111\" stroke-linecap=\"round\" style=\"stroke:white;stroke-width:4\"/><line x1=\"263.22048362103936\" y1=\"284.7654254983111\" x2=\"253.37240609091728\" y2=\"283.02894372164184\" stroke-linecap=\"round\" style=\"stroke:white;stroke-width:4\"/><line x1=\"253.37240609091728\" y1=\"283.02894372164184\" x2=\"243.41045910999983\" y2=\"282.15738629416524\" stroke-linecap=\"round\" style=\"stroke:white;stroke-width:4\"/><line x1=\"243.41045910999983\" y1=\"282.15738629416524\" x2=\"233.41045910999983\" y2=\"282.15738629416524\" stroke-linecap=\"round\" style=\"stroke:white;stroke-width:4\"/><line x1=\"233.41045910999983\" y1=\"282.15738629416524\" x2=\"223.4485121290824\" y2=\"283.02894372164184\" stroke-linecap=\"round\" style=\"stroke:white;stroke-width:4\"/><line x1=\"223.4485121290824\" y1=\"283.02894372164184\" x2=\"213.6004345989603\" y2=\"284.7654254983111\" stroke-linecap=\"round\" style=\"stroke:white;stroke-width:4\"/><line x1=\"213.6004345989603\" y1=\"284.7654254983111\" x2=\"203.94117633606962\" y2=\"287.3536159493363\" stroke-linecap=\"round\" style=\"stroke:white;stroke-width:4\"/><line x1=\"300\" y1=\"300\" x2=\"290.6030737921409\" y2=\"296.5797985667433\" stroke-linecap=\"round\" style=\"stroke:white;stroke-width:4\"/><line x1=\"290.6030737921409\" y1=\"296.5797985667433\" x2=\"280.94381552925023\" y2=\"293.9916081157181\" stroke-linecap=\"round\" style=\"stroke:white;stroke-width:4\"/><line x1=\"280.94381552925023\" y1=\"293.9916081157181\" x2=\"271.0957379991282\" y2=\"292.25512633904884\" stroke-linecap=\"round\" style=\"stroke:white;stroke-width:4\"/><line x1=\"271.0957379991282\" y1=\"292.25512633904884\" x2=\"261.13379101821073\" y2=\"291.38356891157224\" stroke-linecap=\"round\" style=\"stroke:white;stroke-width:4\"/><line x1=\"261.13379101821073\" y1=\"291.38356891157224\" x2=\"251.13379101821073\" y2=\"291.38356891157224\" stroke-linecap=\"round\" style=\"stroke:white;stroke-width:4\"/><line x1=\"251.13379101821073\" y1=\"291.38356891157224\" x2=\"241.17184403729328\" y2=\"292.25512633904884\" stroke-linecap=\"round\" style=\"stroke:white;stroke-width:4\"/><line x1=\"241.17184403729328\" y1=\"292.25512633904884\" x2=\"231.3237665071712\" y2=\"293.9916081157181\" stroke-linecap=\"round\" style=\"stroke:white;stroke-width:4\"/><line x1=\"231.3237665071712\" y1=\"293.9916081157181\" x2=\"221.6645082442805\" y2=\"296.5797985667433\" stroke-linecap=\"round\" style=\"stroke:white;stroke-width:4\"/><line x1=\"221.6645082442805\" y1=\"296.5797985667433\" x2=\"212.26758203642143\" y2=\"300.0\" stroke-linecap=\"round\" style=\"stroke:white;stroke-width:4\"/><line x1=\"212.26758203642143\" y1=\"300.0\" x2=\"203.20450416605493\" y2=\"304.226182617407\" stroke-linecap=\"round\" style=\"stroke:white;stroke-width:4\"/><line x1=\"300\" y1=\"300\" x2=\"290.15192246987795\" y2=\"298.2635182233307\" stroke-linecap=\"round\" style=\"stroke:white;stroke-width:4\"/><line x1=\"290.15192246987795\" y1=\"298.2635182233307\" x2=\"280.1899754889605\" y2=\"297.3919607958541\" stroke-linecap=\"round\" style=\"stroke:white;stroke-width:4\"/><line x1=\"280.1899754889605\" y1=\"297.3919607958541\" x2=\"270.1899754889605\" y2=\"297.3919607958541\" stroke-linecap=\"round\" style=\"stroke:white;stroke-width:4\"/><line x1=\"270.1899754889605\" y1=\"297.3919607958541\" x2=\"260.22802850804305\" y2=\"298.2635182233307\" stroke-linecap=\"round\" style=\"stroke:white;stroke-width:4\"/><line x1=\"260.22802850804305\" y1=\"298.2635182233307\" x2=\"250.37995097792097\" y2=\"300.0\" stroke-linecap=\"round\" style=\"stroke:white;stroke-width:4\"/><line x1=\"250.37995097792097\" y1=\"300.0\" x2=\"240.72069271503028\" y2=\"302.5881904510252\" stroke-linecap=\"round\" style=\"stroke:white;stroke-width:4\"/><line x1=\"240.72069271503028\" y1=\"302.5881904510252\" x2=\"231.3237665071712\" y2=\"306.0083918842819\" stroke-linecap=\"round\" style=\"stroke:white;stroke-width:4\"/><line x1=\"231.3237665071712\" y1=\"306.0083918842819\" x2=\"222.2606886368047\" y2=\"310.2345745016889\" stroke-linecap=\"round\" style=\"stroke:white;stroke-width:4\"/><line x1=\"222.2606886368047\" y1=\"310.2345745016889\" x2=\"213.6004345989603\" y2=\"315.2345745016889\" stroke-linecap=\"round\" style=\"stroke:white;stroke-width:4\"/><line x1=\"213.6004345989603\" y1=\"315.2345745016889\" x2=\"205.40891415607038\" y2=\"320.9703388651993\" stroke-linecap=\"round\" style=\"stroke:white;stroke-width:4\"/><line x1=\"300\" y1=\"300\" x2=\"290.0\" y2=\"300.0\" stroke-linecap=\"round\" style=\"stroke:white;stroke-width:4\"/><line x1=\"290.0\" y1=\"300.0\" x2=\"280.03805301908255\" y2=\"300.8715574274766\" stroke-linecap=\"round\" style=\"stroke:white;stroke-width:4\"/><line x1=\"280.03805301908255\" y1=\"300.8715574274766\" x2=\"270.1899754889605\" y2=\"302.6080392041459\" stroke-linecap=\"round\" style=\"stroke:white;stroke-width:4\"/><line x1=\"270.1899754889605\" y1=\"302.6080392041459\" x2=\"260.53071722606984\" y2=\"305.19622965517107\" stroke-linecap=\"round\" style=\"stroke:white;stroke-width:4\"/><line x1=\"260.53071722606984\" y1=\"305.19622965517107\" x2=\"251.13379101821076\" y2=\"308.61643108842776\" stroke-linecap=\"round\" style=\"stroke:white;stroke-width:4\"/><line x1=\"251.13379101821076\" y1=\"308.61643108842776\" x2=\"242.07071314784426\" y2=\"312.84261370583476\" stroke-linecap=\"round\" style=\"stroke:white;stroke-width:4\"/><line x1=\"242.07071314784426\" y1=\"312.84261370583476\" x2=\"233.41045910999986\" y2=\"317.84261370583476\" stroke-linecap=\"round\" style=\"stroke:white;stroke-width:4\"/><line x1=\"233.41045910999986\" y1=\"317.84261370583476\" x2=\"225.21893866710994\" y2=\"323.5783780693452\" stroke-linecap=\"round\" style=\"stroke:white;stroke-width:4\"/><line x1=\"225.21893866710994\" y1=\"323.5783780693452\" x2=\"217.55849423592016\" y2=\"330.0062541662106\" stroke-linecap=\"round\" style=\"stroke:white;stroke-width:4\"/><line x1=\"217.55849423592016\" y1=\"330.0062541662106\" x2=\"210.4874264240547\" y2=\"337.0773219780761\" stroke-linecap=\"round\" style=\"stroke:white;stroke-width:4\"/><line x1=\"300\" y1=\"300\" x2=\"290.15192246987795\" y2=\"301.7364817766693\" stroke-linecap=\"round\" style=\"stroke:white;stroke-width:4\"/><line x1=\"290.15192246987795\" y1=\"301.7364817766693\" x2=\"280.4926642069873\" y2=\"304.32467222769446\" stroke-linecap=\"round\" style=\"stroke:white;stroke-width:4\"/><line x1=\"280.4926642069873\" y1=\"304.32467222769446\" x2=\"271.0957379991282\" y2=\"307.74487366095116\" stroke-linecap=\"round\" style=\"stroke:white;stroke-width:4\"/><line x1=\"271.0957379991282\" y1=\"307.74487366095116\" x2=\"262.0326601287617\" y2=\"311.97105627835816\" stroke-linecap=\"round\" style=\"stroke:white;stroke-width:4\"/><line x1=\"262.0326601287617\" y1=\"311.97105627835816\" x2=\"253.37240609091728\" y2=\"316.97105627835816\" stroke-linecap=\"round\" style=\"stroke:white;stroke-width:4\"/><line x1=\"253.37240609091728\" y1=\"316.97105627835816\" x2=\"245.18088564802736\" y2=\"322.7068206418686\" stroke-linecap=\"round\" style=\"stroke:white;stroke-width:4\"/><line x1=\"245.18088564802736\" y1=\"322.7068206418686\" x2=\"237.52044121683758\" y2=\"329.134696738734\" stroke-linecap=\"round\" style=\"stroke:white;stroke-width:4\"/><line x1=\"237.52044121683758\" y1=\"329.134696738734\" x2=\"230.4493734049721\" y2=\"336.2057645505995\" stroke-linecap=\"round\" style=\"stroke:white;stroke-width:4\"/><line x1=\"230.4493734049721\" y1=\"336.2057645505995\" x2=\"224.02149730810672\" y2=\"343.86620898178927\" stroke-linecap=\"round\" style=\"stroke:white;stroke-width:4\"/><line x1=\"224.02149730810672\" y1=\"343.86620898178927\" x2=\"218.28573294459625\" y2=\"352.05772942467917\" stroke-linecap=\"round\" style=\"stroke:white;stroke-width:4\"/><line x1=\"300\" y1=\"300\" x2=\"290.6030737921409\" y2=\"303.4202014332567\" stroke-linecap=\"round\" style=\"stroke:white;stroke-width:4\"/><line x1=\"290.6030737921409\" y1=\"303.4202014332567\" x2=\"281.5399959217744\" y2=\"307.6463840506637\" stroke-linecap=\"round\" style=\"stroke:white;stroke-width:4\"/><line x1=\"281.5399959217744\" y1=\"307.6463840506637\" x2=\"272.87974188393\" y2=\"312.6463840506637\" stroke-linecap=\"round\" style=\"stroke:white;stroke-width:4\"/><line x1=\"272.87974188393\" y1=\"312.6463840506637\" x2=\"264.6882214410401\" y2=\"318.38214841417414\" stroke-linecap=\"round\" style=\"stroke:white;stroke-width:4\"/><line x1=\"264.6882214410401\" y1=\"318.38214841417414\" x2=\"257.02777700985035\" y2=\"324.81002451103956\" stroke-linecap=\"round\" style=\"stroke:white;stroke-width:4\"/><line x1=\"257.02777700985035\" y1=\"324.81002451103956\" x2=\"249.95670919798488\" y2=\"331.88109232290503\" stroke-linecap=\"round\" style=\"stroke:white;stroke-width:4\"/><line x1=\"249.95670919798488\" y1=\"331.88109232290503\" x2=\"243.5288331011195\" y2=\"339.5415367540948\" stroke-linecap=\"round\" style=\"stroke:white;stroke-width:4\"/><line x1=\"243.5288331011195\" y1=\"339.5415367540948\" x2=\"237.79306873760902\" y2=\"347.7330571969847\" stroke-linecap=\"round\" style=\"stroke:white;stroke-width:4\"/><line x1=\"237.79306873760902\" y1=\"347.7330571969847\" x2=\"232.79306873760902\" y2=\"356.39331123482907\" stroke-linecap=\"round\" style=\"stroke:white;stroke-width:4\"/><line x1=\"232.79306873760902\" y1=\"356.39331123482907\" x2=\"228.566886120202\" y2=\"365.45638910519557\" stroke-linecap=\"round\" style=\"stroke:white;stroke-width:4\"/><line x1=\"300\" y1=\"300\" x2=\"291.33974596215563\" y2=\"305.0\" stroke-linecap=\"round\" style=\"stroke:white;stroke-width:4\"/><line x1=\"291.33974596215563\" y1=\"305.0\" x2=\"283.14822551926574\" y2=\"310.73576436351044\" stroke-linecap=\"round\" style=\"stroke:white;stroke-width:4\"/><line x1=\"283.14822551926574\" y1=\"310.73576436351044\" x2=\"275.48778108807596\" y2=\"317.16364046037586\" stroke-linecap=\"round\" style=\"stroke:white;stroke-width:4\"/><line x1=\"275.48778108807596\" y1=\"317.16364046037586\" x2=\"268.4167132762105\" y2=\"324.23470827224133\" stroke-linecap=\"round\" style=\"stroke:white;stroke-width:4\"/><line x1=\"268.4167132762105\" y1=\"324.23470827224133\" x2=\"261.98883717934507\" y2=\"331.8951527034311\" stroke-linecap=\"round\" style=\"stroke:white;stroke-width:4\"/><line x1=\"261.98883717934507\" y1=\"331.8951527034311\" x2=\"256.2530728158346\" y2=\"340.086673146321\" stroke-linecap=\"round\" style=\"stroke:white;stroke-width:4\"/><line x1=\"256.2530728158346\" y1=\"340.086673146321\" x2=\"251.25307281583463\" y2=\"348.7469271841654\" stroke-linecap=\"round\" style=\"stroke:white;stroke-width:4\"/><line x1=\"251.25307281583463\" y1=\"348.7469271841654\" x2=\"247.02689019842762\" y2=\"357.81000505453187\" stroke-linecap=\"round\" style=\"stroke:white;stroke-width:4\"/><line x1=\"247.02689019842762\" y1=\"357.81000505453187\" x2=\"243.60668876517093\" y2=\"367.206931262391\" stroke-linecap=\"round\" style=\"stroke:white;stroke-width:4\"/><line x1=\"243.60668876517093\" y1=\"367.206931262391\" x2=\"241.01849831414572\" y2=\"376.86618952528164\" stroke-linecap=\"round\" style=\"stroke:white;stroke-width:4\"/><line x1=\"300\" y1=\"300\" x2=\"292.3395555688102\" y2=\"306.4278760968654\" stroke-linecap=\"round\" style=\"stroke:white;stroke-width:4\"/><line x1=\"292.3395555688102\" y1=\"306.4278760968654\" x2=\"285.26848775694475\" y2=\"313.4989439087309\" stroke-linecap=\"round\" style=\"stroke:white;stroke-width:4\"/><line x1=\"285.26848775694475\" y1=\"313.4989439087309\" x2=\"278.84061166007933\" y2=\"321.15938833992067\" stroke-linecap=\"round\" style=\"stroke:white;stroke-width:4\"/><line x1=\"278.84061166007933\" y1=\"321.15938833992067\" x2=\"273.1048472965689\" y2=\"329.35090878281056\" stroke-linecap=\"round\" style=\"stroke:white;stroke-width:4\"/><line x1=\"273.1048472965689\" y1=\"329.35090878281056\" x2=\"268.1048472965689\" y2=\"338.01116282065493\" stroke-linecap=\"round\" style=\"stroke:white;stroke-width:4\"/><line x1=\"268.1048472965689\" y1=\"338.01116282065493\" x2=\"263.8786646791619\" y2=\"347.07424069102143\" stroke-linecap=\"round\" style=\"stroke:white;stroke-width:4\"/><line x1=\"263.8786646791619\" y1=\"347.07424069102143\" x2=\"260.4584632459052\" y2=\"356.47116689888054\" stroke-linecap=\"round\" style=\"stroke:white;stroke-width:4\"/><line x1=\"260.4584632459052\" y1=\"356.47116689888054\" x2=\"257.87027279488\" y2=\"366.1304251617712\" stroke-linecap=\"round\" style=\"stroke:white;stroke-width:4\"/><line x1=\"257.87027279488\" y1=\"366.1304251617712\" x2=\"256.13379101821073\" y2=\"375.97850269189325\" stroke-linecap=\"round\" style=\"stroke:white;stroke-width:4\"/><line x1=\"256.13379101821073\" y1=\"375.97850269189325\" x2=\"255.26223359073416\" y2=\"385.9404496728107\" stroke-linecap=\"round\" style=\"stroke:white;stroke-width:4\"/><line x1=\"300\" y1=\"300\" x2=\"293.5721239031346\" y2=\"307.6604444311898\" stroke-linecap=\"round\" style=\"stroke:white;stroke-width:4\"/><line x1=\"293.5721239031346\" y1=\"307.6604444311898\" x2=\"287.83635953962414\" y2=\"315.85196487407967\" stroke-linecap=\"round\" style=\"stroke:white;stroke-width:4\"/><line x1=\"287.83635953962414\" y1=\"315.85196487407967\" x2=\"282.83635953962414\" y2=\"324.51221891192404\" stroke-linecap=\"round\" style=\"stroke:white;stroke-width:4\"/><line x1=\"282.83635953962414\" y1=\"324.51221891192404\" x2=\"278.61017692221714\" y2=\"333.57529678229054\" stroke-linecap=\"round\" style=\"stroke:white;stroke-width:4\"/><line x1=\"278.61017692221714\" y1=\"333.57529678229054\" x2=\"275.18997548896044\" y2=\"342.97222299014965\" stroke-linecap=\"round\" style=\"stroke:white;stroke-width:4\"/><line x1=\"275.18997548896044\" y1=\"342.97222299014965\" x2=\"272.60178503793526\" y2=\"352.6314812530403\" stroke-linecap=\"round\" style=\"stroke:white;stroke-width:4\"/><line x1=\"272.60178503793526\" y1=\"352.6314812530403\" x2=\"270.865303261266\" y2=\"362.47955878316236\" stroke-linecap=\"round\" style=\"stroke:white;stroke-width:4\"/><line x1=\"270.865303261266\" y1=\"362.47955878316236\" x2=\"269.9937458337894\" y2=\"372.4415057640798\" stroke-linecap=\"round\" style=\"stroke:white;stroke-width:4\"/><line x1=\"269.9937458337894\" y1=\"372.4415057640798\" x2=\"269.9937458337894\" y2=\"382.4415057640798\" stroke-linecap=\"round\" style=\"stroke:white;stroke-width:4\"/><line x1=\"269.9937458337894\" y1=\"382.4415057640798\" x2=\"270.865303261266\" y2=\"392.40345274499725\" stroke-linecap=\"round\" style=\"stroke:white;stroke-width:4\"/><line x1=\"300\" y1=\"300\" x2=\"295.0\" y2=\"308.66025403784437\" stroke-linecap=\"round\" style=\"stroke:white;stroke-width:4\"/><line x1=\"295.0\" y1=\"308.66025403784437\" x2=\"290.773817382593\" y2=\"317.72333190821087\" stroke-linecap=\"round\" style=\"stroke:white;stroke-width:4\"/><line x1=\"290.773817382593\" y1=\"317.72333190821087\" x2=\"287.3536159493363\" y2=\"327.12025811607\" stroke-linecap=\"round\" style=\"stroke:white;stroke-width:4\"/><line x1=\"287.3536159493363\" y1=\"327.12025811607\" x2=\"284.7654254983111\" y2=\"336.77951637896064\" stroke-linecap=\"round\" style=\"stroke:white;stroke-width:4\"/><line x1=\"284.7654254983111\" y1=\"336.77951637896064\" x2=\"283.02894372164184\" y2=\"346.6275939090827\" stroke-linecap=\"round\" style=\"stroke:white;stroke-width:4\"/><line x1=\"283.02894372164184\" y1=\"346.6275939090827\" x2=\"282.15738629416524\" y2=\"356.58954089000014\" stroke-linecap=\"round\" style=\"stroke:white;stroke-width:4\"/><line x1=\"282.15738629416524\" y1=\"356.58954089000014\" x2=\"282.15738629416524\" y2=\"366.58954089000014\" stroke-linecap=\"round\" style=\"stroke:white;stroke-width:4\"/><line x1=\"282.15738629416524\" y1=\"366.58954089000014\" x2=\"283.02894372164184\" y2=\"376.5514878709176\" stroke-linecap=\"round\" style=\"stroke:white;stroke-width:4\"/><line x1=\"283.02894372164184\" y1=\"376.5514878709176\" x2=\"284.7654254983111\" y2=\"386.39956540103964\" stroke-linecap=\"round\" style=\"stroke:white;stroke-width:4\"/><line x1=\"284.7654254983111\" y1=\"386.39956540103964\" x2=\"287.3536159493363\" y2=\"396.0588236639303\" stroke-linecap=\"round\" style=\"stroke:white;stroke-width:4\"/><line x1=\"300\" y1=\"300\" x2=\"296.5797985667433\" y2=\"309.3969262078591\" stroke-linecap=\"round\" style=\"stroke:white;stroke-width:4\"/><line x1=\"296.5797985667433\" y1=\"309.3969262078591\" x2=\"293.9916081157181\" y2=\"319.05618447074977\" stroke-linecap=\"round\" style=\"stroke:white;stroke-width:4\"/><line x1=\"293.9916081157181\" y1=\"319.05618447074977\" x2=\"292.25512633904884\" y2=\"328.9042620008718\" stroke-linecap=\"round\" style=\"stroke:white;stroke-width:4\"/><line x1=\"292.25512633904884\" y1=\"328.9042620008718\" x2=\"291.38356891157224\" y2=\"338.86620898178927\" stroke-linecap=\"round\" style=\"stroke:white;stroke-width:4\"/><line x1=\"291.38356891157224\" y1=\"338.86620898178927\" x2=\"291.38356891157224\" y2=\"348.86620898178927\" stroke-linecap=\"round\" style=\"stroke:white;stroke-width:4\"/><line x1=\"291.38356891157224\" y1=\"348.86620898178927\" x2=\"292.25512633904884\" y2=\"358.8281559627067\" stroke-linecap=\"round\" style=\"stroke:white;stroke-width:4\"/><line x1=\"292.25512633904884\" y1=\"358.8281559627067\" x2=\"293.9916081157181\" y2=\"368.67623349282877\" stroke-linecap=\"round\" style=\"stroke:white;stroke-width:4\"/><line x1=\"293.9916081157181\" y1=\"368.67623349282877\" x2=\"296.5797985667433\" y2=\"378.33549175571943\" stroke-linecap=\"round\" style=\"stroke:white;stroke-width:4\"/><line x1=\"296.5797985667433\" y1=\"378.33549175571943\" x2=\"300.0\" y2=\"387.73241796357854\" stroke-linecap=\"round\" style=\"stroke:white;stroke-width:4\"/><line x1=\"300.0\" y1=\"387.73241796357854\" x2=\"304.226182617407\" y2=\"396.79549583394504\" stroke-linecap=\"round\" style=\"stroke:white;stroke-width:4\"/><line x1=\"300\" y1=\"300\" x2=\"298.2635182233307\" y2=\"309.84807753012205\" stroke-linecap=\"round\" style=\"stroke:white;stroke-width:4\"/><line x1=\"298.2635182233307\" y1=\"309.84807753012205\" x2=\"297.3919607958541\" y2=\"319.8100245110395\" stroke-linecap=\"round\" style=\"stroke:white;stroke-width:4\"/><line x1=\"297.3919607958541\" y1=\"319.8100245110395\" x2=\"297.3919607958541\" y2=\"329.8100245110395\" stroke-linecap=\"round\" style=\"stroke:white;stroke-width:4\"/><line x1=\"297.3919607958541\" y1=\"329.8100245110395\" x2=\"298.2635182233307\" y2=\"339.77197149195695\" stroke-linecap=\"round\" style=\"stroke:white;stroke-width:4\"/><line x1=\"298.2635182233307\" y1=\"339.77197149195695\" x2=\"300.0\" y2=\"349.620049022079\" stroke-linecap=\"round\" style=\"stroke:white;stroke-width:4\"/><line x1=\"300.0\" y1=\"349.620049022079\" x2=\"302.5881904510252\" y2=\"359.27930728496966\" stroke-linecap=\"round\" style=\"stroke:white;stroke-width:4\"/><line x1=\"302.5881904510252\" y1=\"359.27930728496966\" x2=\"306.0083918842819\" y2=\"368.67623349282877\" stroke-linecap=\"round\" style=\"stroke:white;stroke-width:4\"/><line x1=\"306.0083918842819\" y1=\"368.67623349282877\" x2=\"310.2345745016889\" y2=\"377.73931136319527\" stroke-linecap=\"round\" style=\"stroke:white;stroke-width:4\"/><line x1=\"310.2345745016889\" y1=\"377.73931136319527\" x2=\"315.2345745016889\" y2=\"386.39956540103964\" stroke-linecap=\"round\" style=\"stroke:white;stroke-width:4\"/><line x1=\"315.2345745016889\" y1=\"386.39956540103964\" x2=\"320.9703388651993\" y2=\"394.59108584392953\" stroke-linecap=\"round\" style=\"stroke:white;stroke-width:4\"/><line x1=\"300\" y1=\"300\" x2=\"300.0\" y2=\"310.0\" stroke-linecap=\"round\" style=\"stroke:white;stroke-width:4\"/><line x1=\"300.0\" y1=\"310.0\" x2=\"300.8715574274766\" y2=\"319.96194698091745\" stroke-linecap=\"round\" style=\"stroke:white;stroke-width:4\"/><line x1=\"300.8715574274766\" y1=\"319.96194698091745\" x2=\"302.6080392041459\" y2=\"329.8100245110395\" stroke-linecap=\"round\" style=\"stroke:white;stroke-width:4\"/><line x1=\"302.6080392041459\" y1=\"329.8100245110395\" x2=\"305.19622965517107\" y2=\"339.46928277393016\" stroke-linecap=\"round\" style=\"stroke:white;stroke-width:4\"/><line x1=\"305.19622965517107\" y1=\"339.46928277393016\" x2=\"308.61643108842776\" y2=\"348.86620898178927\" stroke-linecap=\"round\" style=\"stroke:white;stroke-width:4\"/><line x1=\"308.61643108842776\" y1=\"348.86620898178927\" x2=\"312.84261370583476\" y2=\"357.92928685215577\" stroke-linecap=\"round\" style=\"stroke:white;stroke-width:4\"/><line x1=\"312.84261370583476\" y1=\"357.92928685215577\" x2=\"317.84261370583476\" y2=\"366.58954089000014\" stroke-linecap=\"round\" style=\"stroke:white;stroke-width:4\"/><line x1=\"317.84261370583476\" y1=\"366.58954089000014\" x2=\"323.5783780693452\" y2=\"374.78106133289003\" stroke-linecap=\"round\" style=\"stroke:white;stroke-width:4\"/><line x1=\"323.5783780693452\" y1=\"374.78106133289003\" x2=\"330.0062541662106\" y2=\"382.4415057640798\" stroke-linecap=\"round\" style=\"stroke:white;stroke-width:4\"/><line x1=\"330.0062541662106\" y1=\"382.4415057640798\" x2=\"337.0773219780761\" y2=\"389.5125735759453\" stroke-linecap=\"round\" style=\"stroke:white;stroke-width:4\"/><line x1=\"300\" y1=\"300\" x2=\"301.7364817766693\" y2=\"309.84807753012205\" stroke-linecap=\"round\" style=\"stroke:white;stroke-width:4\"/><line x1=\"301.7364817766693\" y1=\"309.84807753012205\" x2=\"304.32467222769446\" y2=\"319.5073357930127\" stroke-linecap=\"round\" style=\"stroke:white;stroke-width:4\"/><line x1=\"304.32467222769446\" y1=\"319.5073357930127\" x2=\"307.74487366095116\" y2=\"328.9042620008718\" stroke-linecap=\"round\" style=\"stroke:white;stroke-width:4\"/><line x1=\"307.74487366095116\" y1=\"328.9042620008718\" x2=\"311.97105627835816\" y2=\"337.9673398712383\" stroke-linecap=\"round\" style=\"stroke:white;stroke-width:4\"/><line x1=\"311.97105627835816\" y1=\"337.9673398712383\" x2=\"316.97105627835816\" y2=\"346.6275939090827\" stroke-linecap=\"round\" style=\"stroke:white;stroke-width:4\"/><line x1=\"316.97105627835816\" y1=\"346.6275939090827\" x2=\"322.7068206418686\" y2=\"354.8191143519726\" stroke-linecap=\"round\" style=\"stroke:white;stroke-width:4\"/><line x1=\"322.7068206418686\" y1=\"354.8191143519726\" x2=\"329.134696738734\" y2=\"362.47955878316236\" stroke-linecap=\"round\" style=\"stroke:white;stroke-width:4\"/><line x1=\"329.134696738734\" y1=\"362.47955878316236\" x2=\"336.2057645505995\" y2=\"369.55062659502784\" stroke-linecap=\"round\" style=\"stroke:white;stroke-width:4\"/><line x1=\"336.2057645505995\" y1=\"369.55062659502784\" x2=\"343.86620898178927\" y2=\"375.97850269189325\" stroke-linecap=\"round\" style=\"stroke:white;stroke-width:4\"/><line x1=\"343.86620898178927\" y1=\"375.97850269189325\" x2=\"352.05772942467917\" y2=\"381.7142670554037\" stroke-linecap=\"round\" style=\"stroke:white;stroke-width:4\"/><line x1=\"300\" y1=\"300\" x2=\"303.4202014332567\" y2=\"309.3969262078591\" stroke-linecap=\"round\" style=\"stroke:white;stroke-width:4\"/><line x1=\"303.4202014332567\" y1=\"309.3969262078591\" x2=\"307.6463840506637\" y2=\"318.4600040782256\" stroke-linecap=\"round\" style=\"stroke:white;stroke-width:4\"/><line x1=\"307.6463840506637\" y1=\"318.4600040782256\" x2=\"312.6463840506637\" y2=\"327.12025811607\" stroke-linecap=\"round\" style=\"stroke:white;stroke-width:4\"/><line x1=\"312.6463840506637\" y1=\"327.12025811607\" x2=\"318.38214841417414\" y2=\"335.3117785589599\" stroke-linecap=\"round\" style=\"stroke:white;stroke-width:4\"/><line x1=\"318.38214841417414\" y1=\"335.3117785589599\" x2=\"324.81002451103956\" y2=\"342.97222299014965\" stroke-linecap=\"round\" style=\"stroke:white;stroke-width:4\"/><line x1=\"324.81002451103956\" y1=\"342.97222299014965\" x2=\"331.88109232290503\" y2=\"350.0432908020151\" stroke-linecap=\"round\" style=\"stroke:white;stroke-width:4\"/><line x1=\"331.88109232290503\" y1=\"350.0432908020151\" x2=\"339.5415367540948\" y2=\"356.47116689888054\" stroke-linecap=\"round\" style=\"stroke:white;stroke-width:4\"/><line x1=\"339.5415367540948\" y1=\"356.47116689888054\" x2=\"347.7330571969847\" y2=\"362.206931262391\" stroke-linecap=\"round\" style=\"stroke:white;stroke-width:4\"/><line x1=\"347.7330571969847\" y1=\"362.206931262391\" x2=\"356.39331123482907\" y2=\"367.206931262391\" stroke-linecap=\"round\" style=\"stroke:white;stroke-width:4\"/><line x1=\"356.39331123482907\" y1=\"367.206931262391\" x2=\"365.45638910519557\" y2=\"371.433113879798\" stroke-linecap=\"round\" style=\"stroke:white;stroke-width:4\"/><line x1=\"300\" y1=\"300\" x2=\"305.0\" y2=\"308.66025403784437\" stroke-linecap=\"round\" style=\"stroke:white;stroke-width:4\"/><line x1=\"305.0\" y1=\"308.66025403784437\" x2=\"310.73576436351044\" y2=\"316.85177448073426\" stroke-linecap=\"round\" style=\"stroke:white;stroke-width:4\"/><line x1=\"310.73576436351044\" y1=\"316.85177448073426\" x2=\"317.16364046037586\" y2=\"324.51221891192404\" stroke-linecap=\"round\" style=\"stroke:white;stroke-width:4\"/><line x1=\"317.16364046037586\" y1=\"324.51221891192404\" x2=\"324.23470827224133\" y2=\"331.5832867237895\" stroke-linecap=\"round\" style=\"stroke:white;stroke-width:4\"/><line x1=\"324.23470827224133\" y1=\"331.5832867237895\" x2=\"331.8951527034311\" y2=\"338.01116282065493\" stroke-linecap=\"round\" style=\"stroke:white;stroke-width:4\"/><line x1=\"331.8951527034311\" y1=\"338.01116282065493\" x2=\"340.086673146321\" y2=\"343.7469271841654\" stroke-linecap=\"round\" style=\"stroke:white;stroke-width:4\"/><line x1=\"340.086673146321\" y1=\"343.7469271841654\" x2=\"348.7469271841654\" y2=\"348.7469271841654\" stroke-linecap=\"round\" style=\"stroke:white;stroke-width:4\"/><line x1=\"348.7469271841654\" y1=\"348.7469271841654\" x2=\"357.81000505453187\" y2=\"352.9731098015724\" stroke-linecap=\"round\" style=\"stroke:white;stroke-width:4\"/><line x1=\"357.81000505453187\" y1=\"352.9731098015724\" x2=\"367.206931262391\" y2=\"356.39331123482907\" stroke-linecap=\"round\" style=\"stroke:white;stroke-width:4\"/><line x1=\"367.206931262391\" y1=\"356.39331123482907\" x2=\"376.86618952528164\" y2=\"358.98150168585425\" stroke-linecap=\"round\" style=\"stroke:white;stroke-width:4\"/><line x1=\"300\" y1=\"300\" x2=\"306.4278760968654\" y2=\"307.6604444311898\" stroke-linecap=\"round\" style=\"stroke:white;stroke-width:4\"/><line x1=\"306.4278760968654\" y1=\"307.6604444311898\" x2=\"313.4989439087309\" y2=\"314.73151224305525\" stroke-linecap=\"round\" style=\"stroke:white;stroke-width:4\"/><line x1=\"313.4989439087309\" y1=\"314.73151224305525\" x2=\"321.15938833992067\" y2=\"321.15938833992067\" stroke-linecap=\"round\" style=\"stroke:white;stroke-width:4\"/><line x1=\"321.15938833992067\" y1=\"321.15938833992067\" x2=\"329.35090878281056\" y2=\"326.8951527034311\" stroke-linecap=\"round\" style=\"stroke:white;stroke-width:4\"/><line x1=\"329.35090878281056\" y1=\"326.8951527034311\" x2=\"338.01116282065493\" y2=\"331.8951527034311\" stroke-linecap=\"round\" style=\"stroke:white;stroke-width:4\"/><line x1=\"338.01116282065493\" y1=\"331.8951527034311\" x2=\"347.07424069102143\" y2=\"336.1213353208381\" stroke-linecap=\"round\" style=\"stroke:white;stroke-width:4\"/><line x1=\"347.07424069102143\" y1=\"336.1213353208381\" x2=\"356.47116689888054\" y2=\"339.5415367540948\" stroke-linecap=\"round\" style=\"stroke:white;stroke-width:4\"/><line x1=\"356.47116689888054\" y1=\"339.5415367540948\" x2=\"366.1304251617712\" y2=\"342.12972720512\" stroke-linecap=\"round\" style=\"stroke:white;stroke-width:4\"/><line x1=\"366.1304251617712\" y1=\"342.12972720512\" x2=\"375.97850269189325\" y2=\"343.86620898178927\" stroke-linecap=\"round\" style=\"stroke:white;stroke-width:4\"/><line x1=\"375.97850269189325\" y1=\"343.86620898178927\" x2=\"385.9404496728107\" y2=\"344.7377664092659\" stroke-linecap=\"round\" style=\"stroke:white;stroke-width:4\"/><line x1=\"300\" y1=\"300\" x2=\"307.6604444311898\" y2=\"306.4278760968654\" stroke-linecap=\"round\" style=\"stroke:white;stroke-width:4\"/><line x1=\"307.6604444311898\" y1=\"306.4278760968654\" x2=\"315.85196487407967\" y2=\"312.16364046037586\" stroke-linecap=\"round\" style=\"stroke:white;stroke-width:4\"/><line x1=\"315.85196487407967\" y1=\"312.16364046037586\" x2=\"324.51221891192404\" y2=\"317.16364046037586\" stroke-linecap=\"round\" style=\"stroke:white;stroke-width:4\"/><line x1=\"324.51221891192404\" y1=\"317.16364046037586\" x2=\"333.57529678229054\" y2=\"321.38982307778286\" stroke-linecap=\"round\" style=\"stroke:white;stroke-width:4\"/><line x1=\"333.57529678229054\" y1=\"321.38982307778286\" x2=\"342.97222299014965\" y2=\"324.81002451103956\" stroke-linecap=\"round\" style=\"stroke:white;stroke-width:4\"/><line x1=\"342.97222299014965\" y1=\"324.81002451103956\" x2=\"352.6314812530403\" y2=\"327.39821496206474\" stroke-linecap=\"round\" style=\"stroke:white;stroke-width:4\"/><line x1=\"352.6314812530403\" y1=\"327.39821496206474\" x2=\"362.47955878316236\" y2=\"329.134696738734\" stroke-linecap=\"round\" style=\"stroke:white;stroke-width:4\"/><line x1=\"362.47955878316236\" y1=\"329.134696738734\" x2=\"372.4415057640798\" y2=\"330.0062541662106\" stroke-linecap=\"round\" style=\"stroke:white;stroke-width:4\"/><line x1=\"372.4415057640798\" y1=\"330.0062541662106\" x2=\"382.4415057640798\" y2=\"330.0062541662106\" stroke-linecap=\"round\" style=\"stroke:white;stroke-width:4\"/><line x1=\"382.4415057640798\" y1=\"330.0062541662106\" x2=\"392.40345274499725\" y2=\"329.134696738734\" stroke-linecap=\"round\" style=\"stroke:white;stroke-width:4\"/><line x1=\"300\" y1=\"300\" x2=\"308.66025403784437\" y2=\"305.0\" stroke-linecap=\"round\" style=\"stroke:white;stroke-width:4\"/><line x1=\"308.66025403784437\" y1=\"305.0\" x2=\"317.72333190821087\" y2=\"309.226182617407\" stroke-linecap=\"round\" style=\"stroke:white;stroke-width:4\"/><line x1=\"317.72333190821087\" y1=\"309.226182617407\" x2=\"327.12025811607\" y2=\"312.6463840506637\" stroke-linecap=\"round\" style=\"stroke:white;stroke-width:4\"/><line x1=\"327.12025811607\" y1=\"312.6463840506637\" x2=\"336.77951637896064\" y2=\"315.2345745016889\" stroke-linecap=\"round\" style=\"stroke:white;stroke-width:4\"/><line x1=\"336.77951637896064\" y1=\"315.2345745016889\" x2=\"346.6275939090827\" y2=\"316.97105627835816\" stroke-linecap=\"round\" style=\"stroke:white;stroke-width:4\"/><line x1=\"346.6275939090827\" y1=\"316.97105627835816\" x2=\"356.58954089000014\" y2=\"317.84261370583476\" stroke-linecap=\"round\" style=\"stroke:white;stroke-width:4\"/><line x1=\"356.58954089000014\" y1=\"317.84261370583476\" x2=\"366.58954089000014\" y2=\"317.84261370583476\" stroke-linecap=\"round\" style=\"stroke:white;stroke-width:4\"/><line x1=\"366.58954089000014\" y1=\"317.84261370583476\" x2=\"376.5514878709176\" y2=\"316.97105627835816\" stroke-linecap=\"round\" style=\"stroke:white;stroke-width:4\"/><line x1=\"376.5514878709176\" y1=\"316.97105627835816\" x2=\"386.39956540103964\" y2=\"315.2345745016889\" stroke-linecap=\"round\" style=\"stroke:white;stroke-width:4\"/><line x1=\"386.39956540103964\" y1=\"315.2345745016889\" x2=\"396.0588236639303\" y2=\"312.6463840506637\" stroke-linecap=\"round\" style=\"stroke:white;stroke-width:4\"/><line x1=\"300\" y1=\"300\" x2=\"309.3969262078591\" y2=\"303.4202014332567\" stroke-linecap=\"round\" style=\"stroke:white;stroke-width:4\"/><line x1=\"309.3969262078591\" y1=\"303.4202014332567\" x2=\"319.05618447074977\" y2=\"306.0083918842819\" stroke-linecap=\"round\" style=\"stroke:white;stroke-width:4\"/><line x1=\"319.05618447074977\" y1=\"306.0083918842819\" x2=\"328.9042620008718\" y2=\"307.74487366095116\" stroke-linecap=\"round\" style=\"stroke:white;stroke-width:4\"/><line x1=\"328.9042620008718\" y1=\"307.74487366095116\" x2=\"338.86620898178927\" y2=\"308.61643108842776\" stroke-linecap=\"round\" style=\"stroke:white;stroke-width:4\"/><line x1=\"338.86620898178927\" y1=\"308.61643108842776\" x2=\"348.86620898178927\" y2=\"308.61643108842776\" stroke-linecap=\"round\" style=\"stroke:white;stroke-width:4\"/><line x1=\"348.86620898178927\" y1=\"308.61643108842776\" x2=\"358.8281559627067\" y2=\"307.74487366095116\" stroke-linecap=\"round\" style=\"stroke:white;stroke-width:4\"/><line x1=\"358.8281559627067\" y1=\"307.74487366095116\" x2=\"368.67623349282877\" y2=\"306.0083918842819\" stroke-linecap=\"round\" style=\"stroke:white;stroke-width:4\"/><line x1=\"368.67623349282877\" y1=\"306.0083918842819\" x2=\"378.33549175571943\" y2=\"303.4202014332567\" stroke-linecap=\"round\" style=\"stroke:white;stroke-width:4\"/><line x1=\"378.33549175571943\" y1=\"303.4202014332567\" x2=\"387.73241796357854\" y2=\"300.0\" stroke-linecap=\"round\" style=\"stroke:white;stroke-width:4\"/><line x1=\"387.73241796357854\" y1=\"300.0\" x2=\"396.79549583394504\" y2=\"295.773817382593\" stroke-linecap=\"round\" style=\"stroke:white;stroke-width:4\"/><line x1=\"300\" y1=\"300\" x2=\"309.84807753012205\" y2=\"301.7364817766693\" stroke-linecap=\"round\" style=\"stroke:white;stroke-width:4\"/><line x1=\"309.84807753012205\" y1=\"301.7364817766693\" x2=\"319.8100245110395\" y2=\"302.6080392041459\" stroke-linecap=\"round\" style=\"stroke:white;stroke-width:4\"/><line x1=\"319.8100245110395\" y1=\"302.6080392041459\" x2=\"329.8100245110395\" y2=\"302.6080392041459\" stroke-linecap=\"round\" style=\"stroke:white;stroke-width:4\"/><line x1=\"329.8100245110395\" y1=\"302.6080392041459\" x2=\"339.77197149195695\" y2=\"301.7364817766693\" stroke-linecap=\"round\" style=\"stroke:white;stroke-width:4\"/><line x1=\"339.77197149195695\" y1=\"301.7364817766693\" x2=\"349.620049022079\" y2=\"300.0\" stroke-linecap=\"round\" style=\"stroke:white;stroke-width:4\"/><line x1=\"349.620049022079\" y1=\"300.0\" x2=\"359.27930728496966\" y2=\"297.4118095489748\" stroke-linecap=\"round\" style=\"stroke:white;stroke-width:4\"/><line x1=\"359.27930728496966\" y1=\"297.4118095489748\" x2=\"368.67623349282877\" y2=\"293.9916081157181\" stroke-linecap=\"round\" style=\"stroke:white;stroke-width:4\"/><line x1=\"368.67623349282877\" y1=\"293.9916081157181\" x2=\"377.73931136319527\" y2=\"289.7654254983111\" stroke-linecap=\"round\" style=\"stroke:white;stroke-width:4\"/><line x1=\"377.73931136319527\" y1=\"289.7654254983111\" x2=\"386.39956540103964\" y2=\"284.7654254983111\" stroke-linecap=\"round\" style=\"stroke:white;stroke-width:4\"/><line x1=\"386.39956540103964\" y1=\"284.7654254983111\" x2=\"394.59108584392953\" y2=\"279.0296611348007\" stroke-linecap=\"round\" style=\"stroke:white;stroke-width:4\"/><line x1=\"300\" y1=\"300\" x2=\"310.0\" y2=\"300.0\" stroke-linecap=\"round\" style=\"stroke:white;stroke-width:4\"/><line x1=\"310.0\" y1=\"300.0\" x2=\"319.96194698091745\" y2=\"299.1284425725234\" stroke-linecap=\"round\" style=\"stroke:white;stroke-width:4\"/><line x1=\"319.96194698091745\" y1=\"299.1284425725234\" x2=\"329.8100245110395\" y2=\"297.3919607958541\" stroke-linecap=\"round\" style=\"stroke:white;stroke-width:4\"/><line x1=\"329.8100245110395\" y1=\"297.3919607958541\" x2=\"339.46928277393016\" y2=\"294.80377034482893\" stroke-linecap=\"round\" style=\"stroke:white;stroke-width:4\"/><line x1=\"339.46928277393016\" y1=\"294.80377034482893\" x2=\"348.86620898178927\" y2=\"291.38356891157224\" stroke-linecap=\"round\" style=\"stroke:white;stroke-width:4\"/><line x1=\"348.86620898178927\" y1=\"291.38356891157224\" x2=\"357.92928685215577\" y2=\"287.15738629416524\" stroke-linecap=\"round\" style=\"stroke:white;stroke-width:4\"/><line x1=\"357.92928685215577\" y1=\"287.15738629416524\" x2=\"366.58954089000014\" y2=\"282.15738629416524\" stroke-linecap=\"round\" style=\"stroke:white;stroke-width:4\"/><line x1=\"366.58954089000014\" y1=\"282.15738629416524\" x2=\"374.78106133289003\" y2=\"276.4216219306548\" stroke-linecap=\"round\" style=\"stroke:white;stroke-width:4\"/><line x1=\"374.78106133289003\" y1=\"276.4216219306548\" x2=\"382.4415057640798\" y2=\"269.9937458337894\" stroke-linecap=\"round\" style=\"stroke:white;stroke-width:4\"/><line x1=\"382.4415057640798\" y1=\"269.9937458337894\" x2=\"389.5125735759453\" y2=\"262.9226780219239\" stroke-linecap=\"round\" style=\"stroke:white;stroke-width:4\"/><line x1=\"300\" y1=\"300\" x2=\"309.84807753012205\" y2=\"298.2635182233307\" stroke-linecap=\"round\" style=\"stroke:white;stroke-width:4\"/><line x1=\"309.84807753012205\" y1=\"298.2635182233307\" x2=\"319.5073357930127\" y2=\"295.67532777230554\" stroke-linecap=\"round\" style=\"stroke:white;stroke-width:4\"/><line x1=\"319.5073357930127\" y1=\"295.67532777230554\" x2=\"328.9042620008718\" y2=\"292.25512633904884\" stroke-linecap=\"round\" style=\"stroke:white;stroke-width:4\"/><line x1=\"328.9042620008718\" y1=\"292.25512633904884\" x2=\"337.9673398712383\" y2=\"288.02894372164184\" stroke-linecap=\"round\" style=\"stroke:white;stroke-width:4\"/><line x1=\"337.9673398712383\" y1=\"288.02894372164184\" x2=\"346.6275939090827\" y2=\"283.02894372164184\" stroke-linecap=\"round\" style=\"stroke:white;stroke-width:4\"/><line x1=\"346.6275939090827\" y1=\"283.02894372164184\" x2=\"354.8191143519726\" y2=\"277.2931793581314\" stroke-linecap=\"round\" style=\"stroke:white;stroke-width:4\"/><line x1=\"354.8191143519726\" y1=\"277.2931793581314\" x2=\"362.47955878316236\" y2=\"270.865303261266\" stroke-linecap=\"round\" style=\"stroke:white;stroke-width:4\"/><line x1=\"362.47955878316236\" y1=\"270.865303261266\" x2=\"369.55062659502784\" y2=\"263.7942354494005\" stroke-linecap=\"round\" style=\"stroke:white;stroke-width:4\"/><line x1=\"369.55062659502784\" y1=\"263.7942354494005\" x2=\"375.97850269189325\" y2=\"256.13379101821073\" stroke-linecap=\"round\" style=\"stroke:white;stroke-width:4\"/><line x1=\"375.97850269189325\" y1=\"256.13379101821073\" x2=\"381.7142670554037\" y2=\"247.9422705753208\" stroke-linecap=\"round\" style=\"stroke:white;stroke-width:4\"/><line x1=\"300\" y1=\"300\" x2=\"309.3969262078591\" y2=\"296.5797985667433\" stroke-linecap=\"round\" style=\"stroke:white;stroke-width:4\"/><line x1=\"309.3969262078591\" y1=\"296.5797985667433\" x2=\"318.4600040782256\" y2=\"292.3536159493363\" stroke-linecap=\"round\" style=\"stroke:white;stroke-width:4\"/><line x1=\"318.4600040782256\" y1=\"292.3536159493363\" x2=\"327.12025811607\" y2=\"287.3536159493363\" stroke-linecap=\"round\" style=\"stroke:white;stroke-width:4\"/><line x1=\"327.12025811607\" y1=\"287.3536159493363\" x2=\"335.3117785589599\" y2=\"281.61785158582586\" stroke-linecap=\"round\" style=\"stroke:white;stroke-width:4\"/><line x1=\"335.3117785589599\" y1=\"281.61785158582586\" x2=\"342.97222299014965\" y2=\"275.18997548896044\" stroke-linecap=\"round\" style=\"stroke:white;stroke-width:4\"/><line x1=\"342.97222299014965\" y1=\"275.18997548896044\" x2=\"350.0432908020151\" y2=\"268.11890767709497\" stroke-linecap=\"round\" style=\"stroke:white;stroke-width:4\"/><line x1=\"350.0432908020151\" y1=\"268.11890767709497\" x2=\"356.47116689888054\" y2=\"260.4584632459052\" stroke-linecap=\"round\" style=\"stroke:white;stroke-width:4\"/><line x1=\"356.47116689888054\" y1=\"260.4584632459052\" x2=\"362.206931262391\" y2=\"252.26694280301527\" stroke-linecap=\"round\" style=\"stroke:white;stroke-width:4\"/><line x1=\"362.206931262391\" y1=\"252.26694280301527\" x2=\"367.206931262391\" y2=\"243.60668876517087\" stroke-linecap=\"round\" style=\"stroke:white;stroke-width:4\"/><line x1=\"367.206931262391\" y1=\"243.60668876517087\" x2=\"371.433113879798\" y2=\"234.54361089480437\" stroke-linecap=\"round\" style=\"stroke:white;stroke-width:4\"/><line x1=\"300\" y1=\"300\" x2=\"308.66025403784437\" y2=\"295.0\" stroke-linecap=\"round\" style=\"stroke:white;stroke-width:4\"/><line x1=\"308.66025403784437\" y1=\"295.0\" x2=\"316.85177448073426\" y2=\"289.26423563648956\" stroke-linecap=\"round\" style=\"stroke:white;stroke-width:4\"/><line x1=\"316.85177448073426\" y1=\"289.26423563648956\" x2=\"324.51221891192404\" y2=\"282.83635953962414\" stroke-linecap=\"round\" style=\"stroke:white;stroke-width:4\"/><line x1=\"324.51221891192404\" y1=\"282.83635953962414\" x2=\"331.5832867237895\" y2=\"275.76529172775867\" stroke-linecap=\"round\" style=\"stroke:white;stroke-width:4\"/><line x1=\"331.5832867237895\" y1=\"275.76529172775867\" x2=\"338.01116282065493\" y2=\"268.1048472965689\" stroke-linecap=\"round\" style=\"stroke:white;stroke-width:4\"/><line x1=\"338.01116282065493\" y1=\"268.1048472965689\" x2=\"343.7469271841654\" y2=\"259.913326853679\" stroke-linecap=\"round\" style=\"stroke:white;stroke-width:4\"/><line x1=\"343.7469271841654\" y1=\"259.913326853679\" x2=\"348.7469271841654\" y2=\"251.2530728158346\" stroke-linecap=\"round\" style=\"stroke:white;stroke-width:4\"/><line x1=\"348.7469271841654\" y1=\"251.2530728158346\" x2=\"352.9731098015724\" y2=\"242.1899949454681\" stroke-linecap=\"round\" style=\"stroke:white;stroke-width:4\"/><line x1=\"352.9731098015724\" y1=\"242.1899949454681\" x2=\"356.39331123482907\" y2=\"232.79306873760902\" stroke-linecap=\"round\" style=\"stroke:white;stroke-width:4\"/><line x1=\"356.39331123482907\" y1=\"232.79306873760902\" x2=\"358.98150168585425\" y2=\"223.13381047471833\" stroke-linecap=\"round\" style=\"stroke:white;stroke-width:4\"/><line x1=\"300\" y1=\"300\" x2=\"307.6604444311898\" y2=\"293.5721239031346\" stroke-linecap=\"round\" style=\"stroke:white;stroke-width:4\"/><line x1=\"307.6604444311898\" y1=\"293.5721239031346\" x2=\"314.73151224305525\" y2=\"286.5010560912691\" stroke-linecap=\"round\" style=\"stroke:white;stroke-width:4\"/><line x1=\"314.73151224305525\" y1=\"286.5010560912691\" x2=\"321.15938833992067\" y2=\"278.84061166007933\" stroke-linecap=\"round\" style=\"stroke:white;stroke-width:4\"/><line x1=\"321.15938833992067\" y1=\"278.84061166007933\" x2=\"326.8951527034311\" y2=\"270.64909121718944\" stroke-linecap=\"round\" style=\"stroke:white;stroke-width:4\"/><line x1=\"326.8951527034311\" y1=\"270.64909121718944\" x2=\"331.8951527034311\" y2=\"261.98883717934507\" stroke-linecap=\"round\" style=\"stroke:white;stroke-width:4\"/><line x1=\"331.8951527034311\" y1=\"261.98883717934507\" x2=\"336.1213353208381\" y2=\"252.92575930897857\" stroke-linecap=\"round\" style=\"stroke:white;stroke-width:4\"/><line x1=\"336.1213353208381\" y1=\"252.92575930897857\" x2=\"339.5415367540948\" y2=\"243.5288331011195\" stroke-linecap=\"round\" style=\"stroke:white;stroke-width:4\"/><line x1=\"339.5415367540948\" y1=\"243.5288331011195\" x2=\"342.12972720512\" y2=\"233.8695748382288\" stroke-linecap=\"round\" style=\"stroke:white;stroke-width:4\"/><line x1=\"342.12972720512\" y1=\"233.8695748382288\" x2=\"343.86620898178927\" y2=\"224.02149730810672\" stroke-linecap=\"round\" style=\"stroke:white;stroke-width:4\"/><line x1=\"343.86620898178927\" y1=\"224.02149730810672\" x2=\"344.7377664092659\" y2=\"214.05955032718927\" stroke-linecap=\"round\" style=\"stroke:white;stroke-width:4\"/><line x1=\"300\" y1=\"300\" x2=\"306.4278760968654\" y2=\"292.3395555688102\" stroke-linecap=\"round\" style=\"stroke:white;stroke-width:4\"/><line x1=\"306.4278760968654\" y1=\"292.3395555688102\" x2=\"312.16364046037586\" y2=\"284.14803512592033\" stroke-linecap=\"round\" style=\"stroke:white;stroke-width:4\"/><line x1=\"312.16364046037586\" y1=\"284.14803512592033\" x2=\"317.16364046037586\" y2=\"275.48778108807596\" stroke-linecap=\"round\" style=\"stroke:white;stroke-width:4\"/><line x1=\"317.16364046037586\" y1=\"275.48778108807596\" x2=\"321.38982307778286\" y2=\"266.42470321770946\" stroke-linecap=\"round\" style=\"stroke:white;stroke-width:4\"/><line x1=\"321.38982307778286\" y1=\"266.42470321770946\" x2=\"324.81002451103956\" y2=\"257.02777700985035\" stroke-linecap=\"round\" style=\"stroke:white;stroke-width:4\"/><line x1=\"324.81002451103956\" y1=\"257.02777700985035\" x2=\"327.39821496206474\" y2=\"247.36851874695967\" stroke-linecap=\"round\" style=\"stroke:white;stroke-width:4\"/><line x1=\"327.39821496206474\" y1=\"247.36851874695967\" x2=\"329.134696738734\" y2=\"237.52044121683758\" stroke-linecap=\"round\" style=\"stroke:white;stroke-width:4\"/><line x1=\"329.134696738734\" y1=\"237.52044121683758\" x2=\"330.0062541662106\" y2=\"227.55849423592014\" stroke-linecap=\"round\" style=\"stroke:white;stroke-width:4\"/><line x1=\"330.0062541662106\" y1=\"227.55849423592014\" x2=\"330.0062541662106\" y2=\"217.55849423592014\" stroke-linecap=\"round\" style=\"stroke:white;stroke-width:4\"/><line x1=\"330.0062541662106\" y1=\"217.55849423592014\" x2=\"329.134696738734\" y2=\"207.5965472550027\" stroke-linecap=\"round\" style=\"stroke:white;stroke-width:4\"/><line x1=\"300\" y1=\"300\" x2=\"305.0\" y2=\"291.33974596215563\" stroke-linecap=\"round\" style=\"stroke:white;stroke-width:4\"/><line x1=\"305.0\" y1=\"291.33974596215563\" x2=\"309.226182617407\" y2=\"282.27666809178913\" stroke-linecap=\"round\" style=\"stroke:white;stroke-width:4\"/><line x1=\"309.226182617407\" y1=\"282.27666809178913\" x2=\"312.6463840506637\" y2=\"272.87974188393\" stroke-linecap=\"round\" style=\"stroke:white;stroke-width:4\"/><line x1=\"312.6463840506637\" y1=\"272.87974188393\" x2=\"315.2345745016889\" y2=\"263.22048362103936\" stroke-linecap=\"round\" style=\"stroke:white;stroke-width:4\"/><line x1=\"315.2345745016889\" y1=\"263.22048362103936\" x2=\"316.97105627835816\" y2=\"253.37240609091728\" stroke-linecap=\"round\" style=\"stroke:white;stroke-width:4\"/><line x1=\"316.97105627835816\" y1=\"253.37240609091728\" x2=\"317.84261370583476\" y2=\"243.41045910999983\" stroke-linecap=\"round\" style=\"stroke:white;stroke-width:4\"/><line x1=\"317.84261370583476\" y1=\"243.41045910999983\" x2=\"317.84261370583476\" y2=\"233.41045910999983\" stroke-linecap=\"round\" style=\"stroke:white;stroke-width:4\"/><line x1=\"317.84261370583476\" y1=\"233.41045910999983\" x2=\"316.97105627835816\" y2=\"223.4485121290824\" stroke-linecap=\"round\" style=\"stroke:white;stroke-width:4\"/><line x1=\"316.97105627835816\" y1=\"223.4485121290824\" x2=\"315.2345745016889\" y2=\"213.6004345989603\" stroke-linecap=\"round\" style=\"stroke:white;stroke-width:4\"/><line x1=\"315.2345745016889\" y1=\"213.6004345989603\" x2=\"312.6463840506637\" y2=\"203.94117633606962\" stroke-linecap=\"round\" style=\"stroke:white;stroke-width:4\"/><line x1=\"300\" y1=\"300\" x2=\"303.4202014332567\" y2=\"290.6030737921409\" stroke-linecap=\"round\" style=\"stroke:white;stroke-width:4\"/><line x1=\"303.4202014332567\" y1=\"290.6030737921409\" x2=\"306.0083918842819\" y2=\"280.94381552925023\" stroke-linecap=\"round\" style=\"stroke:white;stroke-width:4\"/><line x1=\"306.0083918842819\" y1=\"280.94381552925023\" x2=\"307.74487366095116\" y2=\"271.0957379991282\" stroke-linecap=\"round\" style=\"stroke:white;stroke-width:4\"/><line x1=\"307.74487366095116\" y1=\"271.0957379991282\" x2=\"308.61643108842776\" y2=\"261.13379101821073\" stroke-linecap=\"round\" style=\"stroke:white;stroke-width:4\"/><line x1=\"308.61643108842776\" y1=\"261.13379101821073\" x2=\"308.61643108842776\" y2=\"251.13379101821073\" stroke-linecap=\"round\" style=\"stroke:white;stroke-width:4\"/><line x1=\"308.61643108842776\" y1=\"251.13379101821073\" x2=\"307.74487366095116\" y2=\"241.17184403729328\" stroke-linecap=\"round\" style=\"stroke:white;stroke-width:4\"/><line x1=\"307.74487366095116\" y1=\"241.17184403729328\" x2=\"306.0083918842819\" y2=\"231.3237665071712\" stroke-linecap=\"round\" style=\"stroke:white;stroke-width:4\"/><line x1=\"306.0083918842819\" y1=\"231.3237665071712\" x2=\"303.4202014332567\" y2=\"221.6645082442805\" stroke-linecap=\"round\" style=\"stroke:white;stroke-width:4\"/><line x1=\"303.4202014332567\" y1=\"221.6645082442805\" x2=\"300.0\" y2=\"212.26758203642143\" stroke-linecap=\"round\" style=\"stroke:white;stroke-width:4\"/><line x1=\"300.0\" y1=\"212.26758203642143\" x2=\"295.773817382593\" y2=\"203.20450416605493\" stroke-linecap=\"round\" style=\"stroke:white;stroke-width:4\"/><line x1=\"300\" y1=\"300\" x2=\"301.7364817766693\" y2=\"290.15192246987795\" stroke-linecap=\"round\" style=\"stroke:white;stroke-width:4\"/><line x1=\"301.7364817766693\" y1=\"290.15192246987795\" x2=\"302.6080392041459\" y2=\"280.1899754889605\" stroke-linecap=\"round\" style=\"stroke:white;stroke-width:4\"/><line x1=\"302.6080392041459\" y1=\"280.1899754889605\" x2=\"302.6080392041459\" y2=\"270.1899754889605\" stroke-linecap=\"round\" style=\"stroke:white;stroke-width:4\"/><line x1=\"302.6080392041459\" y1=\"270.1899754889605\" x2=\"301.7364817766693\" y2=\"260.22802850804305\" stroke-linecap=\"round\" style=\"stroke:white;stroke-width:4\"/><line x1=\"301.7364817766693\" y1=\"260.22802850804305\" x2=\"300.0\" y2=\"250.37995097792097\" stroke-linecap=\"round\" style=\"stroke:white;stroke-width:4\"/><line x1=\"300.0\" y1=\"250.37995097792097\" x2=\"297.4118095489748\" y2=\"240.72069271503028\" stroke-linecap=\"round\" style=\"stroke:white;stroke-width:4\"/><line x1=\"297.4118095489748\" y1=\"240.72069271503028\" x2=\"293.9916081157181\" y2=\"231.3237665071712\" stroke-linecap=\"round\" style=\"stroke:white;stroke-width:4\"/><line x1=\"293.9916081157181\" y1=\"231.3237665071712\" x2=\"289.7654254983111\" y2=\"222.2606886368047\" stroke-linecap=\"round\" style=\"stroke:white;stroke-width:4\"/><line x1=\"289.7654254983111\" y1=\"222.2606886368047\" x2=\"284.7654254983111\" y2=\"213.6004345989603\" stroke-linecap=\"round\" style=\"stroke:white;stroke-width:4\"/><line x1=\"284.7654254983111\" y1=\"213.6004345989603\" x2=\"279.0296611348007\" y2=\"205.40891415607038\" stroke-linecap=\"round\" style=\"stroke:white;stroke-width:4\"/>\n",
              "        \n",
              "      <g visibility=visible transform=\"rotate(180,279.0296611348007,205.40891415607038) translate(279.0296611348007, 205.40891415607038)\">\n",
              "        <circle stroke=\"white\" stroke-width=\"3\" fill=\"transparent\" r=\"12\" cx=\"0\" cy=\"0\"/>\n",
              "        <polygon points=\"0,19 3,16 -3,16\" style=\"fill:white;stroke:white;stroke-width:2\"/>\n",
              "      </g>\n",
              "    \n",
              "      </svg>\n",
              "    "
            ],
            "text/plain": [
              "<IPython.core.display.HTML object>"
            ]
          },
          "metadata": {
            "tags": []
          }
        }
      ]
    },
    {
      "cell_type": "code",
      "metadata": {
        "id": "VRJhs-kIRy5P",
        "outputId": "78e31c2d-d5e2-49b0-b862-e3227e898446",
        "colab": {
          "base_uri": "https://localhost:8080/",
          "height": 521
        }
      },
      "source": [
        "# (과제 3) 중첩 반복문를 활용해 자신만의 반복된 문양을 그려보세요. \n",
        "# 중첩 반복문을 활용한 터틀 예시\n",
        "t.initializeTurtle(initial_speed=10)\n",
        "t.color('red')\n",
        "t.bgcolor('black')\n",
        "\n",
        "for j in range(12):\n",
        "  my_turtle.left(30)\n",
        "\n",
        "  for i in range(72):\n",
        "      my_turtle.forward(10)\n",
        "      my_turtle.left(5)\n"
      ],
      "execution_count": 53,
      "outputs": [
        {
          "output_type": "display_data",
          "data": {
            "text/html": [
              "\n",
              "      <svg width=\"800\" height=\"500\">\n",
              "        <rect width=\"100%\" height=\"100%\" fill=\"black\"/>\n",
              "        <line x1=\"400\" y1=\"250\" x2=\"395.0\" y2=\"241.3397459621556\" stroke-linecap=\"round\" style=\"stroke:red;stroke-width:4\"/><line x1=\"395.0\" y1=\"241.3397459621556\" x2=\"389.26423563648956\" y2=\"233.14822551926568\" stroke-linecap=\"round\" style=\"stroke:red;stroke-width:4\"/><line x1=\"389.26423563648956\" y1=\"233.14822551926568\" x2=\"382.83635953962414\" y2=\"225.4877810880759\" stroke-linecap=\"round\" style=\"stroke:red;stroke-width:4\"/><line x1=\"382.83635953962414\" y1=\"225.4877810880759\" x2=\"375.76529172775867\" y2=\"218.41671327621043\" stroke-linecap=\"round\" style=\"stroke:red;stroke-width:4\"/><line x1=\"375.76529172775867\" y1=\"218.41671327621043\" x2=\"368.1048472965689\" y2=\"211.98883717934504\" stroke-linecap=\"round\" style=\"stroke:red;stroke-width:4\"/><line x1=\"368.1048472965689\" y1=\"211.98883717934504\" x2=\"359.913326853679\" y2=\"206.25307281583457\" stroke-linecap=\"round\" style=\"stroke:red;stroke-width:4\"/><line x1=\"359.913326853679\" y1=\"206.25307281583457\" x2=\"351.2530728158346\" y2=\"201.25307281583457\" stroke-linecap=\"round\" style=\"stroke:red;stroke-width:4\"/><line x1=\"351.2530728158346\" y1=\"201.25307281583457\" x2=\"342.18999494546813\" y2=\"197.02689019842757\" stroke-linecap=\"round\" style=\"stroke:red;stroke-width:4\"/><line x1=\"342.18999494546813\" y1=\"197.02689019842757\" x2=\"332.793068737609\" y2=\"193.60668876517087\" stroke-linecap=\"round\" style=\"stroke:red;stroke-width:4\"/><line x1=\"332.793068737609\" y1=\"193.60668876517087\" x2=\"323.13381047471836\" y2=\"191.01849831414566\" stroke-linecap=\"round\" style=\"stroke:red;stroke-width:4\"/><line x1=\"323.13381047471836\" y1=\"191.01849831414566\" x2=\"313.2857329445963\" y2=\"189.28201653747635\" stroke-linecap=\"round\" style=\"stroke:red;stroke-width:4\"/><line x1=\"313.2857329445963\" y1=\"189.28201653747635\" x2=\"303.32378596367886\" y2=\"188.41045910999978\" stroke-linecap=\"round\" style=\"stroke:red;stroke-width:4\"/><line x1=\"303.32378596367886\" y1=\"188.41045910999978\" x2=\"293.32378596367886\" y2=\"188.41045910999978\" stroke-linecap=\"round\" style=\"stroke:red;stroke-width:4\"/><line x1=\"293.32378596367886\" y1=\"188.41045910999978\" x2=\"283.3618389827614\" y2=\"189.28201653747635\" stroke-linecap=\"round\" style=\"stroke:red;stroke-width:4\"/><line x1=\"283.3618389827614\" y1=\"189.28201653747635\" x2=\"273.51376145263936\" y2=\"191.01849831414566\" stroke-linecap=\"round\" style=\"stroke:red;stroke-width:4\"/><line x1=\"273.51376145263936\" y1=\"191.01849831414566\" x2=\"263.8545031897487\" y2=\"193.60668876517087\" stroke-linecap=\"round\" style=\"stroke:red;stroke-width:4\"/><line x1=\"263.8545031897487\" y1=\"193.60668876517087\" x2=\"254.45757698188962\" y2=\"197.02689019842757\" stroke-linecap=\"round\" style=\"stroke:red;stroke-width:4\"/><line x1=\"254.45757698188962\" y1=\"197.02689019842757\" x2=\"245.39449911152312\" y2=\"201.25307281583457\" stroke-linecap=\"round\" style=\"stroke:red;stroke-width:4\"/><line x1=\"245.39449911152312\" y1=\"201.25307281583457\" x2=\"236.73424507367872\" y2=\"206.25307281583457\" stroke-linecap=\"round\" style=\"stroke:red;stroke-width:4\"/><line x1=\"236.73424507367872\" y1=\"206.25307281583457\" x2=\"228.5427246307888\" y2=\"211.98883717934504\" stroke-linecap=\"round\" style=\"stroke:red;stroke-width:4\"/><line x1=\"228.5427246307888\" y1=\"211.98883717934504\" x2=\"220.88228019959902\" y2=\"218.41671327621043\" stroke-linecap=\"round\" style=\"stroke:red;stroke-width:4\"/><line x1=\"220.88228019959902\" y1=\"218.41671327621043\" x2=\"213.81121238773355\" y2=\"225.4877810880759\" stroke-linecap=\"round\" style=\"stroke:red;stroke-width:4\"/><line x1=\"213.81121238773355\" y1=\"225.4877810880759\" x2=\"207.38333629086816\" y2=\"233.14822551926568\" stroke-linecap=\"round\" style=\"stroke:red;stroke-width:4\"/><line x1=\"207.38333629086816\" y1=\"233.14822551926568\" x2=\"201.6475719273577\" y2=\"241.3397459621556\" stroke-linecap=\"round\" style=\"stroke:red;stroke-width:4\"/><line x1=\"201.6475719273577\" y1=\"241.3397459621556\" x2=\"196.6475719273577\" y2=\"250.0\" stroke-linecap=\"round\" style=\"stroke:red;stroke-width:4\"/><line x1=\"196.6475719273577\" y1=\"250.0\" x2=\"192.42138930995068\" y2=\"259.0630778703665\" stroke-linecap=\"round\" style=\"stroke:red;stroke-width:4\"/><line x1=\"192.42138930995068\" y1=\"259.0630778703665\" x2=\"189.001187876694\" y2=\"268.4600040782256\" stroke-linecap=\"round\" style=\"stroke:red;stroke-width:4\"/><line x1=\"189.001187876694\" y1=\"268.4600040782256\" x2=\"186.41299742566878\" y2=\"278.11926234111627\" stroke-linecap=\"round\" style=\"stroke:red;stroke-width:4\"/><line x1=\"186.41299742566878\" y1=\"278.11926234111627\" x2=\"184.67651564899947\" y2=\"287.9673398712383\" stroke-linecap=\"round\" style=\"stroke:red;stroke-width:4\"/><line x1=\"184.67651564899947\" y1=\"287.9673398712383\" x2=\"183.8049582215229\" y2=\"297.92928685215577\" stroke-linecap=\"round\" style=\"stroke:red;stroke-width:4\"/><line x1=\"183.8049582215229\" y1=\"297.92928685215577\" x2=\"183.8049582215229\" y2=\"307.92928685215577\" stroke-linecap=\"round\" style=\"stroke:red;stroke-width:4\"/><line x1=\"183.8049582215229\" y1=\"307.92928685215577\" x2=\"184.67651564899947\" y2=\"317.8912338330732\" stroke-linecap=\"round\" style=\"stroke:red;stroke-width:4\"/><line x1=\"184.67651564899947\" y1=\"317.8912338330732\" x2=\"186.41299742566878\" y2=\"327.73931136319527\" stroke-linecap=\"round\" style=\"stroke:red;stroke-width:4\"/><line x1=\"186.41299742566878\" y1=\"327.73931136319527\" x2=\"189.001187876694\" y2=\"337.39856962608593\" stroke-linecap=\"round\" style=\"stroke:red;stroke-width:4\"/><line x1=\"189.001187876694\" y1=\"337.39856962608593\" x2=\"192.42138930995068\" y2=\"346.79549583394504\" stroke-linecap=\"round\" style=\"stroke:red;stroke-width:4\"/><line x1=\"192.42138930995068\" y1=\"346.79549583394504\" x2=\"196.6475719273577\" y2=\"355.85857370431154\" stroke-linecap=\"round\" style=\"stroke:red;stroke-width:4\"/><line x1=\"196.6475719273577\" y1=\"355.85857370431154\" x2=\"201.6475719273577\" y2=\"364.5188277421559\" stroke-linecap=\"round\" style=\"stroke:red;stroke-width:4\"/><line x1=\"201.6475719273577\" y1=\"364.5188277421559\" x2=\"207.38333629086816\" y2=\"372.7103481850458\" stroke-linecap=\"round\" style=\"stroke:red;stroke-width:4\"/><line x1=\"207.38333629086816\" y1=\"372.7103481850458\" x2=\"213.81121238773355\" y2=\"380.3707926162356\" stroke-linecap=\"round\" style=\"stroke:red;stroke-width:4\"/><line x1=\"213.81121238773355\" y1=\"380.3707926162356\" x2=\"220.88228019959902\" y2=\"387.44186042810105\" stroke-linecap=\"round\" style=\"stroke:red;stroke-width:4\"/><line x1=\"220.88228019959902\" y1=\"387.44186042810105\" x2=\"228.5427246307888\" y2=\"393.86973652496647\" stroke-linecap=\"round\" style=\"stroke:red;stroke-width:4\"/><line x1=\"228.5427246307888\" y1=\"393.86973652496647\" x2=\"236.73424507367872\" y2=\"399.6055008884769\" stroke-linecap=\"round\" style=\"stroke:red;stroke-width:4\"/><line x1=\"236.73424507367872\" y1=\"399.6055008884769\" x2=\"245.39449911152312\" y2=\"404.6055008884769\" stroke-linecap=\"round\" style=\"stroke:red;stroke-width:4\"/><line x1=\"245.39449911152312\" y1=\"404.6055008884769\" x2=\"254.45757698188962\" y2=\"408.8316835058839\" stroke-linecap=\"round\" style=\"stroke:red;stroke-width:4\"/><line x1=\"254.45757698188962\" y1=\"408.8316835058839\" x2=\"263.8545031897487\" y2=\"412.2518849391406\" stroke-linecap=\"round\" style=\"stroke:red;stroke-width:4\"/><line x1=\"263.8545031897487\" y1=\"412.2518849391406\" x2=\"273.51376145263936\" y2=\"414.8400753901658\" stroke-linecap=\"round\" style=\"stroke:red;stroke-width:4\"/><line x1=\"273.51376145263936\" y1=\"414.8400753901658\" x2=\"283.3618389827614\" y2=\"416.5765571668351\" stroke-linecap=\"round\" style=\"stroke:red;stroke-width:4\"/><line x1=\"283.3618389827614\" y1=\"416.5765571668351\" x2=\"293.32378596367886\" y2=\"417.4481145943117\" stroke-linecap=\"round\" style=\"stroke:red;stroke-width:4\"/><line x1=\"293.32378596367886\" y1=\"417.4481145943117\" x2=\"303.32378596367886\" y2=\"417.4481145943117\" stroke-linecap=\"round\" style=\"stroke:red;stroke-width:4\"/><line x1=\"303.32378596367886\" y1=\"417.4481145943117\" x2=\"313.2857329445963\" y2=\"416.5765571668351\" stroke-linecap=\"round\" style=\"stroke:red;stroke-width:4\"/><line x1=\"313.2857329445963\" y1=\"416.5765571668351\" x2=\"323.13381047471836\" y2=\"414.8400753901658\" stroke-linecap=\"round\" style=\"stroke:red;stroke-width:4\"/><line x1=\"323.13381047471836\" y1=\"414.8400753901658\" x2=\"332.793068737609\" y2=\"412.2518849391406\" stroke-linecap=\"round\" style=\"stroke:red;stroke-width:4\"/><line x1=\"332.793068737609\" y1=\"412.2518849391406\" x2=\"342.18999494546813\" y2=\"408.8316835058839\" stroke-linecap=\"round\" style=\"stroke:red;stroke-width:4\"/><line x1=\"342.18999494546813\" y1=\"408.8316835058839\" x2=\"351.2530728158346\" y2=\"404.6055008884769\" stroke-linecap=\"round\" style=\"stroke:red;stroke-width:4\"/><line x1=\"351.2530728158346\" y1=\"404.6055008884769\" x2=\"359.913326853679\" y2=\"399.6055008884769\" stroke-linecap=\"round\" style=\"stroke:red;stroke-width:4\"/><line x1=\"359.913326853679\" y1=\"399.6055008884769\" x2=\"368.1048472965689\" y2=\"393.86973652496647\" stroke-linecap=\"round\" style=\"stroke:red;stroke-width:4\"/><line x1=\"368.1048472965689\" y1=\"393.86973652496647\" x2=\"375.76529172775867\" y2=\"387.44186042810105\" stroke-linecap=\"round\" style=\"stroke:red;stroke-width:4\"/><line x1=\"375.76529172775867\" y1=\"387.44186042810105\" x2=\"382.83635953962414\" y2=\"380.3707926162356\" stroke-linecap=\"round\" style=\"stroke:red;stroke-width:4\"/><line x1=\"382.83635953962414\" y1=\"380.3707926162356\" x2=\"389.26423563648956\" y2=\"372.7103481850458\" stroke-linecap=\"round\" style=\"stroke:red;stroke-width:4\"/><line x1=\"389.26423563648956\" y1=\"372.7103481850458\" x2=\"395.0\" y2=\"364.5188277421559\" stroke-linecap=\"round\" style=\"stroke:red;stroke-width:4\"/><line x1=\"395.0\" y1=\"364.5188277421559\" x2=\"400.0\" y2=\"355.85857370431154\" stroke-linecap=\"round\" style=\"stroke:red;stroke-width:4\"/><line x1=\"400.0\" y1=\"355.85857370431154\" x2=\"404.226182617407\" y2=\"346.79549583394504\" stroke-linecap=\"round\" style=\"stroke:red;stroke-width:4\"/><line x1=\"404.226182617407\" y1=\"346.79549583394504\" x2=\"407.6463840506637\" y2=\"337.39856962608593\" stroke-linecap=\"round\" style=\"stroke:red;stroke-width:4\"/><line x1=\"407.6463840506637\" y1=\"337.39856962608593\" x2=\"410.2345745016889\" y2=\"327.73931136319527\" stroke-linecap=\"round\" style=\"stroke:red;stroke-width:4\"/><line x1=\"410.2345745016889\" y1=\"327.73931136319527\" x2=\"411.97105627835816\" y2=\"317.8912338330732\" stroke-linecap=\"round\" style=\"stroke:red;stroke-width:4\"/><line x1=\"411.97105627835816\" y1=\"317.8912338330732\" x2=\"412.84261370583476\" y2=\"307.92928685215577\" stroke-linecap=\"round\" style=\"stroke:red;stroke-width:4\"/><line x1=\"412.84261370583476\" y1=\"307.92928685215577\" x2=\"412.84261370583476\" y2=\"297.92928685215577\" stroke-linecap=\"round\" style=\"stroke:red;stroke-width:4\"/><line x1=\"412.84261370583476\" y1=\"297.92928685215577\" x2=\"411.97105627835816\" y2=\"287.9673398712383\" stroke-linecap=\"round\" style=\"stroke:red;stroke-width:4\"/><line x1=\"411.97105627835816\" y1=\"287.9673398712383\" x2=\"410.2345745016889\" y2=\"278.11926234111627\" stroke-linecap=\"round\" style=\"stroke:red;stroke-width:4\"/><line x1=\"410.2345745016889\" y1=\"278.11926234111627\" x2=\"407.6463840506637\" y2=\"268.4600040782256\" stroke-linecap=\"round\" style=\"stroke:red;stroke-width:4\"/><line x1=\"407.6463840506637\" y1=\"268.4600040782256\" x2=\"404.226182617407\" y2=\"259.0630778703665\" stroke-linecap=\"round\" style=\"stroke:red;stroke-width:4\"/><line x1=\"404.226182617407\" y1=\"259.0630778703665\" x2=\"400.0\" y2=\"250.0\" stroke-linecap=\"round\" style=\"stroke:red;stroke-width:4\"/><line x1=\"400.0\" y1=\"250.0\" x2=\"391.33974596215563\" y2=\"245.0\" stroke-linecap=\"round\" style=\"stroke:red;stroke-width:4\"/><line x1=\"391.33974596215563\" y1=\"245.0\" x2=\"382.27666809178913\" y2=\"240.773817382593\" stroke-linecap=\"round\" style=\"stroke:red;stroke-width:4\"/><line x1=\"382.27666809178913\" y1=\"240.773817382593\" x2=\"372.87974188393\" y2=\"237.3536159493363\" stroke-linecap=\"round\" style=\"stroke:red;stroke-width:4\"/><line x1=\"372.87974188393\" y1=\"237.3536159493363\" x2=\"363.22048362103936\" y2=\"234.7654254983111\" stroke-linecap=\"round\" style=\"stroke:red;stroke-width:4\"/><line x1=\"363.22048362103936\" y1=\"234.7654254983111\" x2=\"353.3724060909173\" y2=\"233.02894372164178\" stroke-linecap=\"round\" style=\"stroke:red;stroke-width:4\"/><line x1=\"353.3724060909173\" y1=\"233.02894372164178\" x2=\"343.41045910999986\" y2=\"232.1573862941652\" stroke-linecap=\"round\" style=\"stroke:red;stroke-width:4\"/><line x1=\"343.41045910999986\" y1=\"232.1573862941652\" x2=\"333.41045910999986\" y2=\"232.1573862941652\" stroke-linecap=\"round\" style=\"stroke:red;stroke-width:4\"/><line x1=\"333.41045910999986\" y1=\"232.1573862941652\" x2=\"323.4485121290824\" y2=\"233.02894372164178\" stroke-linecap=\"round\" style=\"stroke:red;stroke-width:4\"/><line x1=\"323.4485121290824\" y1=\"233.02894372164178\" x2=\"313.60043459896036\" y2=\"234.7654254983111\" stroke-linecap=\"round\" style=\"stroke:red;stroke-width:4\"/><line x1=\"313.60043459896036\" y1=\"234.7654254983111\" x2=\"303.9411763360697\" y2=\"237.3536159493363\" stroke-linecap=\"round\" style=\"stroke:red;stroke-width:4\"/><line x1=\"303.9411763360697\" y1=\"237.3536159493363\" x2=\"294.5442501282106\" y2=\"240.773817382593\" stroke-linecap=\"round\" style=\"stroke:red;stroke-width:4\"/><line x1=\"294.5442501282106\" y1=\"240.773817382593\" x2=\"285.4811722578441\" y2=\"245.0\" stroke-linecap=\"round\" style=\"stroke:red;stroke-width:4\"/><line x1=\"285.4811722578441\" y1=\"245.0\" x2=\"276.8209182199997\" y2=\"250.0\" stroke-linecap=\"round\" style=\"stroke:red;stroke-width:4\"/><line x1=\"276.8209182199997\" y1=\"250.0\" x2=\"268.62939777710983\" y2=\"255.73576436351047\" stroke-linecap=\"round\" style=\"stroke:red;stroke-width:4\"/><line x1=\"268.62939777710983\" y1=\"255.73576436351047\" x2=\"260.96895334592006\" y2=\"262.16364046037586\" stroke-linecap=\"round\" style=\"stroke:red;stroke-width:4\"/><line x1=\"260.96895334592006\" y1=\"262.16364046037586\" x2=\"253.89788553405458\" y2=\"269.23470827224133\" stroke-linecap=\"round\" style=\"stroke:red;stroke-width:4\"/><line x1=\"253.89788553405458\" y1=\"269.23470827224133\" x2=\"247.4700094371892\" y2=\"276.8951527034311\" stroke-linecap=\"round\" style=\"stroke:red;stroke-width:4\"/><line x1=\"247.4700094371892\" y1=\"276.8951527034311\" x2=\"241.73424507367872\" y2=\"285.086673146321\" stroke-linecap=\"round\" style=\"stroke:red;stroke-width:4\"/><line x1=\"241.73424507367872\" y1=\"285.086673146321\" x2=\"236.73424507367872\" y2=\"293.7469271841654\" stroke-linecap=\"round\" style=\"stroke:red;stroke-width:4\"/><line x1=\"236.73424507367872\" y1=\"293.7469271841654\" x2=\"232.50806245627172\" y2=\"302.81000505453187\" stroke-linecap=\"round\" style=\"stroke:red;stroke-width:4\"/><line x1=\"232.50806245627172\" y1=\"302.81000505453187\" x2=\"229.08786102301502\" y2=\"312.206931262391\" stroke-linecap=\"round\" style=\"stroke:red;stroke-width:4\"/><line x1=\"229.08786102301502\" y1=\"312.206931262391\" x2=\"226.4996705719898\" y2=\"321.86618952528164\" stroke-linecap=\"round\" style=\"stroke:red;stroke-width:4\"/><line x1=\"226.4996705719898\" y1=\"321.86618952528164\" x2=\"224.7631887953205\" y2=\"331.7142670554037\" stroke-linecap=\"round\" style=\"stroke:red;stroke-width:4\"/><line x1=\"224.7631887953205\" y1=\"331.7142670554037\" x2=\"223.89163136784393\" y2=\"341.67621403632114\" stroke-linecap=\"round\" style=\"stroke:red;stroke-width:4\"/><line x1=\"223.89163136784393\" y1=\"341.67621403632114\" x2=\"223.89163136784393\" y2=\"351.67621403632114\" stroke-linecap=\"round\" style=\"stroke:red;stroke-width:4\"/><line x1=\"223.89163136784393\" y1=\"351.67621403632114\" x2=\"224.7631887953205\" y2=\"361.6381610172386\" stroke-linecap=\"round\" style=\"stroke:red;stroke-width:4\"/><line x1=\"224.7631887953205\" y1=\"361.6381610172386\" x2=\"226.4996705719898\" y2=\"371.48623854736064\" stroke-linecap=\"round\" style=\"stroke:red;stroke-width:4\"/><line x1=\"226.4996705719898\" y1=\"371.48623854736064\" x2=\"229.08786102301502\" y2=\"381.1454968102513\" stroke-linecap=\"round\" style=\"stroke:red;stroke-width:4\"/><line x1=\"229.08786102301502\" y1=\"381.1454968102513\" x2=\"232.50806245627172\" y2=\"390.5424230181104\" stroke-linecap=\"round\" style=\"stroke:red;stroke-width:4\"/><line x1=\"232.50806245627172\" y1=\"390.5424230181104\" x2=\"236.73424507367872\" y2=\"399.6055008884769\" stroke-linecap=\"round\" style=\"stroke:red;stroke-width:4\"/><line x1=\"236.73424507367872\" y1=\"399.6055008884769\" x2=\"241.73424507367872\" y2=\"408.2657549263213\" stroke-linecap=\"round\" style=\"stroke:red;stroke-width:4\"/><line x1=\"241.73424507367872\" y1=\"408.2657549263213\" x2=\"247.4700094371892\" y2=\"416.4572753692112\" stroke-linecap=\"round\" style=\"stroke:red;stroke-width:4\"/><line x1=\"247.4700094371892\" y1=\"416.4572753692112\" x2=\"253.89788553405458\" y2=\"424.11771980040095\" stroke-linecap=\"round\" style=\"stroke:red;stroke-width:4\"/><line x1=\"253.89788553405458\" y1=\"424.11771980040095\" x2=\"260.96895334592006\" y2=\"431.1887876122664\" stroke-linecap=\"round\" style=\"stroke:red;stroke-width:4\"/><line x1=\"260.96895334592006\" y1=\"431.1887876122664\" x2=\"268.62939777710983\" y2=\"437.61666370913184\" stroke-linecap=\"round\" style=\"stroke:red;stroke-width:4\"/><line x1=\"268.62939777710983\" y1=\"437.61666370913184\" x2=\"276.8209182199997\" y2=\"443.3524280726423\" stroke-linecap=\"round\" style=\"stroke:red;stroke-width:4\"/><line x1=\"276.8209182199997\" y1=\"443.3524280726423\" x2=\"285.4811722578441\" y2=\"448.3524280726423\" stroke-linecap=\"round\" style=\"stroke:red;stroke-width:4\"/><line x1=\"285.4811722578441\" y1=\"448.3524280726423\" x2=\"294.5442501282106\" y2=\"452.5786106900493\" stroke-linecap=\"round\" style=\"stroke:red;stroke-width:4\"/><line x1=\"294.5442501282106\" y1=\"452.5786106900493\" x2=\"303.9411763360697\" y2=\"455.998812123306\" stroke-linecap=\"round\" style=\"stroke:red;stroke-width:4\"/><line x1=\"303.9411763360697\" y1=\"455.998812123306\" x2=\"313.60043459896036\" y2=\"458.58700257433117\" stroke-linecap=\"round\" style=\"stroke:red;stroke-width:4\"/><line x1=\"313.60043459896036\" y1=\"458.58700257433117\" x2=\"323.4485121290824\" y2=\"460.32348435100045\" stroke-linecap=\"round\" style=\"stroke:red;stroke-width:4\"/><line x1=\"323.4485121290824\" y1=\"460.32348435100045\" x2=\"333.41045910999986\" y2=\"461.19504177847705\" stroke-linecap=\"round\" style=\"stroke:red;stroke-width:4\"/><line x1=\"333.41045910999986\" y1=\"461.19504177847705\" x2=\"343.41045910999986\" y2=\"461.19504177847705\" stroke-linecap=\"round\" style=\"stroke:red;stroke-width:4\"/><line x1=\"343.41045910999986\" y1=\"461.19504177847705\" x2=\"353.3724060909173\" y2=\"460.32348435100045\" stroke-linecap=\"round\" style=\"stroke:red;stroke-width:4\"/><line x1=\"353.3724060909173\" y1=\"460.32348435100045\" x2=\"363.22048362103936\" y2=\"458.58700257433117\" stroke-linecap=\"round\" style=\"stroke:red;stroke-width:4\"/><line x1=\"363.22048362103936\" y1=\"458.58700257433117\" x2=\"372.87974188393\" y2=\"455.998812123306\" stroke-linecap=\"round\" style=\"stroke:red;stroke-width:4\"/><line x1=\"372.87974188393\" y1=\"455.998812123306\" x2=\"382.27666809178913\" y2=\"452.5786106900493\" stroke-linecap=\"round\" style=\"stroke:red;stroke-width:4\"/><line x1=\"382.27666809178913\" y1=\"452.5786106900493\" x2=\"391.33974596215563\" y2=\"448.3524280726423\" stroke-linecap=\"round\" style=\"stroke:red;stroke-width:4\"/><line x1=\"391.33974596215563\" y1=\"448.3524280726423\" x2=\"400.0\" y2=\"443.3524280726423\" stroke-linecap=\"round\" style=\"stroke:red;stroke-width:4\"/><line x1=\"400.0\" y1=\"443.3524280726423\" x2=\"408.1915204428899\" y2=\"437.61666370913184\" stroke-linecap=\"round\" style=\"stroke:red;stroke-width:4\"/><line x1=\"408.1915204428899\" y1=\"437.61666370913184\" x2=\"415.85196487407967\" y2=\"431.1887876122664\" stroke-linecap=\"round\" style=\"stroke:red;stroke-width:4\"/><line x1=\"415.85196487407967\" y1=\"431.1887876122664\" x2=\"422.92303268594515\" y2=\"424.11771980040095\" stroke-linecap=\"round\" style=\"stroke:red;stroke-width:4\"/><line x1=\"422.92303268594515\" y1=\"424.11771980040095\" x2=\"429.35090878281056\" y2=\"416.4572753692112\" stroke-linecap=\"round\" style=\"stroke:red;stroke-width:4\"/><line x1=\"429.35090878281056\" y1=\"416.4572753692112\" x2=\"435.086673146321\" y2=\"408.2657549263213\" stroke-linecap=\"round\" style=\"stroke:red;stroke-width:4\"/><line x1=\"435.086673146321\" y1=\"408.2657549263213\" x2=\"440.086673146321\" y2=\"399.6055008884769\" stroke-linecap=\"round\" style=\"stroke:red;stroke-width:4\"/><line x1=\"440.086673146321\" y1=\"399.6055008884769\" x2=\"444.312855763728\" y2=\"390.5424230181104\" stroke-linecap=\"round\" style=\"stroke:red;stroke-width:4\"/><line x1=\"444.312855763728\" y1=\"390.5424230181104\" x2=\"447.7330571969847\" y2=\"381.1454968102513\" stroke-linecap=\"round\" style=\"stroke:red;stroke-width:4\"/><line x1=\"447.7330571969847\" y1=\"381.1454968102513\" x2=\"450.3212476480099\" y2=\"371.48623854736064\" stroke-linecap=\"round\" style=\"stroke:red;stroke-width:4\"/><line x1=\"450.3212476480099\" y1=\"371.48623854736064\" x2=\"452.05772942467917\" y2=\"361.6381610172386\" stroke-linecap=\"round\" style=\"stroke:red;stroke-width:4\"/><line x1=\"452.05772942467917\" y1=\"361.6381610172386\" x2=\"452.92928685215577\" y2=\"351.67621403632114\" stroke-linecap=\"round\" style=\"stroke:red;stroke-width:4\"/><line x1=\"452.92928685215577\" y1=\"351.67621403632114\" x2=\"452.92928685215577\" y2=\"341.67621403632114\" stroke-linecap=\"round\" style=\"stroke:red;stroke-width:4\"/><line x1=\"452.92928685215577\" y1=\"341.67621403632114\" x2=\"452.05772942467917\" y2=\"331.7142670554037\" stroke-linecap=\"round\" style=\"stroke:red;stroke-width:4\"/><line x1=\"452.05772942467917\" y1=\"331.7142670554037\" x2=\"450.3212476480099\" y2=\"321.86618952528164\" stroke-linecap=\"round\" style=\"stroke:red;stroke-width:4\"/><line x1=\"450.3212476480099\" y1=\"321.86618952528164\" x2=\"447.7330571969847\" y2=\"312.206931262391\" stroke-linecap=\"round\" style=\"stroke:red;stroke-width:4\"/><line x1=\"447.7330571969847\" y1=\"312.206931262391\" x2=\"444.312855763728\" y2=\"302.81000505453187\" stroke-linecap=\"round\" style=\"stroke:red;stroke-width:4\"/><line x1=\"444.312855763728\" y1=\"302.81000505453187\" x2=\"440.086673146321\" y2=\"293.7469271841654\" stroke-linecap=\"round\" style=\"stroke:red;stroke-width:4\"/><line x1=\"440.086673146321\" y1=\"293.7469271841654\" x2=\"435.086673146321\" y2=\"285.086673146321\" stroke-linecap=\"round\" style=\"stroke:red;stroke-width:4\"/><line x1=\"435.086673146321\" y1=\"285.086673146321\" x2=\"429.35090878281056\" y2=\"276.8951527034311\" stroke-linecap=\"round\" style=\"stroke:red;stroke-width:4\"/><line x1=\"429.35090878281056\" y1=\"276.8951527034311\" x2=\"422.92303268594515\" y2=\"269.23470827224133\" stroke-linecap=\"round\" style=\"stroke:red;stroke-width:4\"/><line x1=\"422.92303268594515\" y1=\"269.23470827224133\" x2=\"415.85196487407967\" y2=\"262.16364046037586\" stroke-linecap=\"round\" style=\"stroke:red;stroke-width:4\"/><line x1=\"415.85196487407967\" y1=\"262.16364046037586\" x2=\"408.1915204428899\" y2=\"255.73576436351047\" stroke-linecap=\"round\" style=\"stroke:red;stroke-width:4\"/><line x1=\"408.1915204428899\" y1=\"255.73576436351047\" x2=\"400.0\" y2=\"250.0\" stroke-linecap=\"round\" style=\"stroke:red;stroke-width:4\"/><line x1=\"400.0\" y1=\"250.0\" x2=\"390.0\" y2=\"250.0\" stroke-linecap=\"round\" style=\"stroke:red;stroke-width:4\"/><line x1=\"390.0\" y1=\"250.0\" x2=\"380.03805301908255\" y2=\"250.87155742747657\" stroke-linecap=\"round\" style=\"stroke:red;stroke-width:4\"/><line x1=\"380.03805301908255\" y1=\"250.87155742747657\" x2=\"370.1899754889605\" y2=\"252.60803920414588\" stroke-linecap=\"round\" style=\"stroke:red;stroke-width:4\"/><line x1=\"370.1899754889605\" y1=\"252.60803920414588\" x2=\"360.53071722606984\" y2=\"255.1962296551711\" stroke-linecap=\"round\" style=\"stroke:red;stroke-width:4\"/><line x1=\"360.53071722606984\" y1=\"255.1962296551711\" x2=\"351.13379101821073\" y2=\"258.61643108842776\" stroke-linecap=\"round\" style=\"stroke:red;stroke-width:4\"/><line x1=\"351.13379101821073\" y1=\"258.61643108842776\" x2=\"342.07071314784423\" y2=\"262.84261370583476\" stroke-linecap=\"round\" style=\"stroke:red;stroke-width:4\"/><line x1=\"342.07071314784423\" y1=\"262.84261370583476\" x2=\"333.41045910999986\" y2=\"267.84261370583476\" stroke-linecap=\"round\" style=\"stroke:red;stroke-width:4\"/><line x1=\"333.41045910999986\" y1=\"267.84261370583476\" x2=\"325.21893866710997\" y2=\"273.5783780693452\" stroke-linecap=\"round\" style=\"stroke:red;stroke-width:4\"/><line x1=\"325.21893866710997\" y1=\"273.5783780693452\" x2=\"317.5584942359202\" y2=\"280.0062541662106\" stroke-linecap=\"round\" style=\"stroke:red;stroke-width:4\"/><line x1=\"317.5584942359202\" y1=\"280.0062541662106\" x2=\"310.4874264240547\" y2=\"287.0773219780761\" stroke-linecap=\"round\" style=\"stroke:red;stroke-width:4\"/><line x1=\"310.4874264240547\" y1=\"287.0773219780761\" x2=\"304.0595503271893\" y2=\"294.7377664092659\" stroke-linecap=\"round\" style=\"stroke:red;stroke-width:4\"/><line x1=\"304.0595503271893\" y1=\"294.7377664092659\" x2=\"298.32378596367886\" y2=\"302.92928685215577\" stroke-linecap=\"round\" style=\"stroke:red;stroke-width:4\"/><line x1=\"298.32378596367886\" y1=\"302.92928685215577\" x2=\"293.32378596367886\" y2=\"311.58954089000014\" stroke-linecap=\"round\" style=\"stroke:red;stroke-width:4\"/><line x1=\"293.32378596367886\" y1=\"311.58954089000014\" x2=\"289.09760334627185\" y2=\"320.65261876036664\" stroke-linecap=\"round\" style=\"stroke:red;stroke-width:4\"/><line x1=\"289.09760334627185\" y1=\"320.65261876036664\" x2=\"285.67740191301516\" y2=\"330.04954496822575\" stroke-linecap=\"round\" style=\"stroke:red;stroke-width:4\"/><line x1=\"285.67740191301516\" y1=\"330.04954496822575\" x2=\"283.08921146199\" y2=\"339.7088032311164\" stroke-linecap=\"round\" style=\"stroke:red;stroke-width:4\"/><line x1=\"283.08921146199\" y1=\"339.7088032311164\" x2=\"281.3527296853207\" y2=\"349.55688076123846\" stroke-linecap=\"round\" style=\"stroke:red;stroke-width:4\"/><line x1=\"281.3527296853207\" y1=\"349.55688076123846\" x2=\"280.4811722578441\" y2=\"359.5188277421559\" stroke-linecap=\"round\" style=\"stroke:red;stroke-width:4\"/><line x1=\"280.4811722578441\" y1=\"359.5188277421559\" x2=\"280.4811722578441\" y2=\"369.5188277421559\" stroke-linecap=\"round\" style=\"stroke:red;stroke-width:4\"/><line x1=\"280.4811722578441\" y1=\"369.5188277421559\" x2=\"281.3527296853207\" y2=\"379.48077472307335\" stroke-linecap=\"round\" style=\"stroke:red;stroke-width:4\"/><line x1=\"281.3527296853207\" y1=\"379.48077472307335\" x2=\"283.08921146199\" y2=\"389.3288522531954\" stroke-linecap=\"round\" style=\"stroke:red;stroke-width:4\"/><line x1=\"283.08921146199\" y1=\"389.3288522531954\" x2=\"285.67740191301516\" y2=\"398.98811051608607\" stroke-linecap=\"round\" style=\"stroke:red;stroke-width:4\"/><line x1=\"285.67740191301516\" y1=\"398.98811051608607\" x2=\"289.09760334627185\" y2=\"408.3850367239452\" stroke-linecap=\"round\" style=\"stroke:red;stroke-width:4\"/><line x1=\"289.09760334627185\" y1=\"408.3850367239452\" x2=\"293.32378596367886\" y2=\"417.4481145943117\" stroke-linecap=\"round\" style=\"stroke:red;stroke-width:4\"/><line x1=\"293.32378596367886\" y1=\"417.4481145943117\" x2=\"298.32378596367886\" y2=\"426.10836863215604\" stroke-linecap=\"round\" style=\"stroke:red;stroke-width:4\"/><line x1=\"298.32378596367886\" y1=\"426.10836863215604\" x2=\"304.0595503271893\" y2=\"434.29988907504594\" stroke-linecap=\"round\" style=\"stroke:red;stroke-width:4\"/><line x1=\"304.0595503271893\" y1=\"434.29988907504594\" x2=\"310.4874264240547\" y2=\"441.9603335062357\" stroke-linecap=\"round\" style=\"stroke:red;stroke-width:4\"/><line x1=\"310.4874264240547\" y1=\"441.9603335062357\" x2=\"317.5584942359202\" y2=\"449.0314013181012\" stroke-linecap=\"round\" style=\"stroke:red;stroke-width:4\"/><line x1=\"317.5584942359202\" y1=\"449.0314013181012\" x2=\"325.21893866710997\" y2=\"455.4592774149666\" stroke-linecap=\"round\" style=\"stroke:red;stroke-width:4\"/><line x1=\"325.21893866710997\" y1=\"455.4592774149666\" x2=\"333.41045910999986\" y2=\"461.19504177847705\" stroke-linecap=\"round\" style=\"stroke:red;stroke-width:4\"/><line x1=\"333.41045910999986\" y1=\"461.19504177847705\" x2=\"342.07071314784423\" y2=\"466.19504177847705\" stroke-linecap=\"round\" style=\"stroke:red;stroke-width:4\"/><line x1=\"342.07071314784423\" y1=\"466.19504177847705\" x2=\"351.13379101821073\" y2=\"470.42122439588405\" stroke-linecap=\"round\" style=\"stroke:red;stroke-width:4\"/><line x1=\"351.13379101821073\" y1=\"470.42122439588405\" x2=\"360.53071722606984\" y2=\"473.84142582914075\" stroke-linecap=\"round\" style=\"stroke:red;stroke-width:4\"/><line x1=\"360.53071722606984\" y1=\"473.84142582914075\" x2=\"370.1899754889605\" y2=\"476.42961628016593\" stroke-linecap=\"round\" style=\"stroke:red;stroke-width:4\"/><line x1=\"370.1899754889605\" y1=\"476.42961628016593\" x2=\"380.03805301908255\" y2=\"478.1660980568352\" stroke-linecap=\"round\" style=\"stroke:red;stroke-width:4\"/><line x1=\"380.03805301908255\" y1=\"478.1660980568352\" x2=\"390.0\" y2=\"479.0376554843118\" stroke-linecap=\"round\" style=\"stroke:red;stroke-width:4\"/><line x1=\"390.0\" y1=\"479.0376554843118\" x2=\"400.0\" y2=\"479.0376554843118\" stroke-linecap=\"round\" style=\"stroke:red;stroke-width:4\"/><line x1=\"400.0\" y1=\"479.0376554843118\" x2=\"409.96194698091745\" y2=\"478.1660980568352\" stroke-linecap=\"round\" style=\"stroke:red;stroke-width:4\"/><line x1=\"409.96194698091745\" y1=\"478.1660980568352\" x2=\"419.8100245110395\" y2=\"476.42961628016593\" stroke-linecap=\"round\" style=\"stroke:red;stroke-width:4\"/><line x1=\"419.8100245110395\" y1=\"476.42961628016593\" x2=\"429.46928277393016\" y2=\"473.84142582914075\" stroke-linecap=\"round\" style=\"stroke:red;stroke-width:4\"/><line x1=\"429.46928277393016\" y1=\"473.84142582914075\" x2=\"438.86620898178927\" y2=\"470.42122439588405\" stroke-linecap=\"round\" style=\"stroke:red;stroke-width:4\"/><line x1=\"438.86620898178927\" y1=\"470.42122439588405\" x2=\"447.92928685215577\" y2=\"466.19504177847705\" stroke-linecap=\"round\" style=\"stroke:red;stroke-width:4\"/><line x1=\"447.92928685215577\" y1=\"466.19504177847705\" x2=\"456.58954089000014\" y2=\"461.19504177847705\" stroke-linecap=\"round\" style=\"stroke:red;stroke-width:4\"/><line x1=\"456.58954089000014\" y1=\"461.19504177847705\" x2=\"464.78106133289003\" y2=\"455.4592774149666\" stroke-linecap=\"round\" style=\"stroke:red;stroke-width:4\"/><line x1=\"464.78106133289003\" y1=\"455.4592774149666\" x2=\"472.4415057640798\" y2=\"449.0314013181012\" stroke-linecap=\"round\" style=\"stroke:red;stroke-width:4\"/><line x1=\"472.4415057640798\" y1=\"449.0314013181012\" x2=\"479.5125735759453\" y2=\"441.9603335062357\" stroke-linecap=\"round\" style=\"stroke:red;stroke-width:4\"/><line x1=\"479.5125735759453\" y1=\"441.9603335062357\" x2=\"485.9404496728107\" y2=\"434.29988907504594\" stroke-linecap=\"round\" style=\"stroke:red;stroke-width:4\"/><line x1=\"485.9404496728107\" y1=\"434.29988907504594\" x2=\"491.67621403632114\" y2=\"426.10836863215604\" stroke-linecap=\"round\" style=\"stroke:red;stroke-width:4\"/><line x1=\"491.67621403632114\" y1=\"426.10836863215604\" x2=\"496.67621403632114\" y2=\"417.4481145943117\" stroke-linecap=\"round\" style=\"stroke:red;stroke-width:4\"/><line x1=\"496.67621403632114\" y1=\"417.4481145943117\" x2=\"500.90239665372815\" y2=\"408.3850367239452\" stroke-linecap=\"round\" style=\"stroke:red;stroke-width:4\"/><line x1=\"500.90239665372815\" y1=\"408.3850367239452\" x2=\"504.32259808698484\" y2=\"398.98811051608607\" stroke-linecap=\"round\" style=\"stroke:red;stroke-width:4\"/><line x1=\"504.32259808698484\" y1=\"398.98811051608607\" x2=\"506.91078853801\" y2=\"389.3288522531954\" stroke-linecap=\"round\" style=\"stroke:red;stroke-width:4\"/><line x1=\"506.91078853801\" y1=\"389.3288522531954\" x2=\"508.6472703146793\" y2=\"379.48077472307335\" stroke-linecap=\"round\" style=\"stroke:red;stroke-width:4\"/><line x1=\"508.6472703146793\" y1=\"379.48077472307335\" x2=\"509.5188277421559\" y2=\"369.5188277421559\" stroke-linecap=\"round\" style=\"stroke:red;stroke-width:4\"/><line x1=\"509.5188277421559\" y1=\"369.5188277421559\" x2=\"509.5188277421559\" y2=\"359.5188277421559\" stroke-linecap=\"round\" style=\"stroke:red;stroke-width:4\"/><line x1=\"509.5188277421559\" y1=\"359.5188277421559\" x2=\"508.6472703146793\" y2=\"349.55688076123846\" stroke-linecap=\"round\" style=\"stroke:red;stroke-width:4\"/><line x1=\"508.6472703146793\" y1=\"349.55688076123846\" x2=\"506.91078853801\" y2=\"339.7088032311164\" stroke-linecap=\"round\" style=\"stroke:red;stroke-width:4\"/><line x1=\"506.91078853801\" y1=\"339.7088032311164\" x2=\"504.32259808698484\" y2=\"330.04954496822575\" stroke-linecap=\"round\" style=\"stroke:red;stroke-width:4\"/><line x1=\"504.32259808698484\" y1=\"330.04954496822575\" x2=\"500.90239665372815\" y2=\"320.65261876036664\" stroke-linecap=\"round\" style=\"stroke:red;stroke-width:4\"/><line x1=\"500.90239665372815\" y1=\"320.65261876036664\" x2=\"496.67621403632114\" y2=\"311.58954089000014\" stroke-linecap=\"round\" style=\"stroke:red;stroke-width:4\"/><line x1=\"496.67621403632114\" y1=\"311.58954089000014\" x2=\"491.67621403632114\" y2=\"302.92928685215577\" stroke-linecap=\"round\" style=\"stroke:red;stroke-width:4\"/><line x1=\"491.67621403632114\" y1=\"302.92928685215577\" x2=\"485.9404496728107\" y2=\"294.7377664092659\" stroke-linecap=\"round\" style=\"stroke:red;stroke-width:4\"/><line x1=\"485.9404496728107\" y1=\"294.7377664092659\" x2=\"479.5125735759453\" y2=\"287.0773219780761\" stroke-linecap=\"round\" style=\"stroke:red;stroke-width:4\"/><line x1=\"479.5125735759453\" y1=\"287.0773219780761\" x2=\"472.4415057640798\" y2=\"280.0062541662106\" stroke-linecap=\"round\" style=\"stroke:red;stroke-width:4\"/><line x1=\"472.4415057640798\" y1=\"280.0062541662106\" x2=\"464.78106133289003\" y2=\"273.5783780693452\" stroke-linecap=\"round\" style=\"stroke:red;stroke-width:4\"/><line x1=\"464.78106133289003\" y1=\"273.5783780693452\" x2=\"456.58954089000014\" y2=\"267.84261370583476\" stroke-linecap=\"round\" style=\"stroke:red;stroke-width:4\"/><line x1=\"456.58954089000014\" y1=\"267.84261370583476\" x2=\"447.92928685215577\" y2=\"262.84261370583476\" stroke-linecap=\"round\" style=\"stroke:red;stroke-width:4\"/><line x1=\"447.92928685215577\" y1=\"262.84261370583476\" x2=\"438.86620898178927\" y2=\"258.61643108842776\" stroke-linecap=\"round\" style=\"stroke:red;stroke-width:4\"/><line x1=\"438.86620898178927\" y1=\"258.61643108842776\" x2=\"429.46928277393016\" y2=\"255.19622965517107\" stroke-linecap=\"round\" style=\"stroke:red;stroke-width:4\"/><line x1=\"429.46928277393016\" y1=\"255.19622965517107\" x2=\"419.8100245110395\" y2=\"252.60803920414585\" stroke-linecap=\"round\" style=\"stroke:red;stroke-width:4\"/><line x1=\"419.8100245110395\" y1=\"252.60803920414585\" x2=\"409.96194698091745\" y2=\"250.87155742747655\" stroke-linecap=\"round\" style=\"stroke:red;stroke-width:4\"/><line x1=\"409.96194698091745\" y1=\"250.87155742747655\" x2=\"400.0\" y2=\"249.99999999999997\" stroke-linecap=\"round\" style=\"stroke:red;stroke-width:4\"/><line x1=\"400.0\" y1=\"249.99999999999997\" x2=\"391.33974596215563\" y2=\"254.99999999999997\" stroke-linecap=\"round\" style=\"stroke:red;stroke-width:4\"/><line x1=\"391.33974596215563\" y1=\"254.99999999999997\" x2=\"383.14822551926574\" y2=\"260.73576436351044\" stroke-linecap=\"round\" style=\"stroke:red;stroke-width:4\"/><line x1=\"383.14822551926574\" y1=\"260.73576436351044\" x2=\"375.48778108807596\" y2=\"267.16364046037586\" stroke-linecap=\"round\" style=\"stroke:red;stroke-width:4\"/><line x1=\"375.48778108807596\" y1=\"267.16364046037586\" x2=\"368.4167132762105\" y2=\"274.23470827224133\" stroke-linecap=\"round\" style=\"stroke:red;stroke-width:4\"/><line x1=\"368.4167132762105\" y1=\"274.23470827224133\" x2=\"361.98883717934507\" y2=\"281.8951527034311\" stroke-linecap=\"round\" style=\"stroke:red;stroke-width:4\"/><line x1=\"361.98883717934507\" y1=\"281.8951527034311\" x2=\"356.2530728158346\" y2=\"290.086673146321\" stroke-linecap=\"round\" style=\"stroke:red;stroke-width:4\"/><line x1=\"356.2530728158346\" y1=\"290.086673146321\" x2=\"351.2530728158346\" y2=\"298.7469271841654\" stroke-linecap=\"round\" style=\"stroke:red;stroke-width:4\"/><line x1=\"351.2530728158346\" y1=\"298.7469271841654\" x2=\"347.0268901984276\" y2=\"307.81000505453187\" stroke-linecap=\"round\" style=\"stroke:red;stroke-width:4\"/><line x1=\"347.0268901984276\" y1=\"307.81000505453187\" x2=\"343.60668876517093\" y2=\"317.206931262391\" stroke-linecap=\"round\" style=\"stroke:red;stroke-width:4\"/><line x1=\"343.60668876517093\" y1=\"317.206931262391\" x2=\"341.01849831414575\" y2=\"326.86618952528164\" stroke-linecap=\"round\" style=\"stroke:red;stroke-width:4\"/><line x1=\"341.01849831414575\" y1=\"326.86618952528164\" x2=\"339.28201653747647\" y2=\"336.7142670554037\" stroke-linecap=\"round\" style=\"stroke:red;stroke-width:4\"/><line x1=\"339.28201653747647\" y1=\"336.7142670554037\" x2=\"338.41045910999986\" y2=\"346.67621403632114\" stroke-linecap=\"round\" style=\"stroke:red;stroke-width:4\"/><line x1=\"338.41045910999986\" y1=\"346.67621403632114\" x2=\"338.41045910999986\" y2=\"356.67621403632114\" stroke-linecap=\"round\" style=\"stroke:red;stroke-width:4\"/><line x1=\"338.41045910999986\" y1=\"356.67621403632114\" x2=\"339.28201653747647\" y2=\"366.6381610172386\" stroke-linecap=\"round\" style=\"stroke:red;stroke-width:4\"/><line x1=\"339.28201653747647\" y1=\"366.6381610172386\" x2=\"341.01849831414575\" y2=\"376.48623854736064\" stroke-linecap=\"round\" style=\"stroke:red;stroke-width:4\"/><line x1=\"341.01849831414575\" y1=\"376.48623854736064\" x2=\"343.60668876517093\" y2=\"386.1454968102513\" stroke-linecap=\"round\" style=\"stroke:red;stroke-width:4\"/><line x1=\"343.60668876517093\" y1=\"386.1454968102513\" x2=\"347.0268901984276\" y2=\"395.5424230181104\" stroke-linecap=\"round\" style=\"stroke:red;stroke-width:4\"/><line x1=\"347.0268901984276\" y1=\"395.5424230181104\" x2=\"351.2530728158346\" y2=\"404.6055008884769\" stroke-linecap=\"round\" style=\"stroke:red;stroke-width:4\"/><line x1=\"351.2530728158346\" y1=\"404.6055008884769\" x2=\"356.2530728158346\" y2=\"413.2657549263213\" stroke-linecap=\"round\" style=\"stroke:red;stroke-width:4\"/><line x1=\"356.2530728158346\" y1=\"413.2657549263213\" x2=\"361.98883717934507\" y2=\"421.4572753692112\" stroke-linecap=\"round\" style=\"stroke:red;stroke-width:4\"/><line x1=\"361.98883717934507\" y1=\"421.4572753692112\" x2=\"368.4167132762105\" y2=\"429.11771980040095\" stroke-linecap=\"round\" style=\"stroke:red;stroke-width:4\"/><line x1=\"368.4167132762105\" y1=\"429.11771980040095\" x2=\"375.48778108807596\" y2=\"436.1887876122664\" stroke-linecap=\"round\" style=\"stroke:red;stroke-width:4\"/><line x1=\"375.48778108807596\" y1=\"436.1887876122664\" x2=\"383.14822551926574\" y2=\"442.61666370913184\" stroke-linecap=\"round\" style=\"stroke:red;stroke-width:4\"/><line x1=\"383.14822551926574\" y1=\"442.61666370913184\" x2=\"391.33974596215563\" y2=\"448.3524280726423\" stroke-linecap=\"round\" style=\"stroke:red;stroke-width:4\"/><line x1=\"391.33974596215563\" y1=\"448.3524280726423\" x2=\"400.0\" y2=\"453.3524280726423\" stroke-linecap=\"round\" style=\"stroke:red;stroke-width:4\"/><line x1=\"400.0\" y1=\"453.3524280726423\" x2=\"409.0630778703665\" y2=\"457.5786106900493\" stroke-linecap=\"round\" style=\"stroke:red;stroke-width:4\"/><line x1=\"409.0630778703665\" y1=\"457.5786106900493\" x2=\"418.4600040782256\" y2=\"460.998812123306\" stroke-linecap=\"round\" style=\"stroke:red;stroke-width:4\"/><line x1=\"418.4600040782256\" y1=\"460.998812123306\" x2=\"428.11926234111627\" y2=\"463.58700257433117\" stroke-linecap=\"round\" style=\"stroke:red;stroke-width:4\"/><line x1=\"428.11926234111627\" y1=\"463.58700257433117\" x2=\"437.9673398712383\" y2=\"465.32348435100045\" stroke-linecap=\"round\" style=\"stroke:red;stroke-width:4\"/><line x1=\"437.9673398712383\" y1=\"465.32348435100045\" x2=\"447.92928685215577\" y2=\"466.19504177847705\" stroke-linecap=\"round\" style=\"stroke:red;stroke-width:4\"/><line x1=\"447.92928685215577\" y1=\"466.19504177847705\" x2=\"457.92928685215577\" y2=\"466.19504177847705\" stroke-linecap=\"round\" style=\"stroke:red;stroke-width:4\"/><line x1=\"457.92928685215577\" y1=\"466.19504177847705\" x2=\"467.8912338330732\" y2=\"465.32348435100045\" stroke-linecap=\"round\" style=\"stroke:red;stroke-width:4\"/><line x1=\"467.8912338330732\" y1=\"465.32348435100045\" x2=\"477.73931136319527\" y2=\"463.58700257433117\" stroke-linecap=\"round\" style=\"stroke:red;stroke-width:4\"/><line x1=\"477.73931136319527\" y1=\"463.58700257433117\" x2=\"487.39856962608593\" y2=\"460.998812123306\" stroke-linecap=\"round\" style=\"stroke:red;stroke-width:4\"/><line x1=\"487.39856962608593\" y1=\"460.998812123306\" x2=\"496.79549583394504\" y2=\"457.5786106900493\" stroke-linecap=\"round\" style=\"stroke:red;stroke-width:4\"/><line x1=\"496.79549583394504\" y1=\"457.5786106900493\" x2=\"505.85857370431154\" y2=\"453.3524280726423\" stroke-linecap=\"round\" style=\"stroke:red;stroke-width:4\"/><line x1=\"505.85857370431154\" y1=\"453.3524280726423\" x2=\"514.518827742156\" y2=\"448.3524280726423\" stroke-linecap=\"round\" style=\"stroke:red;stroke-width:4\"/><line x1=\"514.518827742156\" y1=\"448.3524280726423\" x2=\"522.7103481850459\" y2=\"442.61666370913184\" stroke-linecap=\"round\" style=\"stroke:red;stroke-width:4\"/><line x1=\"522.7103481850459\" y1=\"442.61666370913184\" x2=\"530.3707926162357\" y2=\"436.1887876122664\" stroke-linecap=\"round\" style=\"stroke:red;stroke-width:4\"/><line x1=\"530.3707926162357\" y1=\"436.1887876122664\" x2=\"537.4418604281011\" y2=\"429.11771980040095\" stroke-linecap=\"round\" style=\"stroke:red;stroke-width:4\"/><line x1=\"537.4418604281011\" y1=\"429.11771980040095\" x2=\"543.8697365249665\" y2=\"421.4572753692112\" stroke-linecap=\"round\" style=\"stroke:red;stroke-width:4\"/><line x1=\"543.8697365249665\" y1=\"421.4572753692112\" x2=\"549.605500888477\" y2=\"413.2657549263213\" stroke-linecap=\"round\" style=\"stroke:red;stroke-width:4\"/><line x1=\"549.605500888477\" y1=\"413.2657549263213\" x2=\"554.605500888477\" y2=\"404.6055008884769\" stroke-linecap=\"round\" style=\"stroke:red;stroke-width:4\"/><line x1=\"554.605500888477\" y1=\"404.6055008884769\" x2=\"558.8316835058839\" y2=\"395.5424230181104\" stroke-linecap=\"round\" style=\"stroke:red;stroke-width:4\"/><line x1=\"558.8316835058839\" y1=\"395.5424230181104\" x2=\"562.2518849391406\" y2=\"386.1454968102513\" stroke-linecap=\"round\" style=\"stroke:red;stroke-width:4\"/><line x1=\"562.2518849391406\" y1=\"386.1454968102513\" x2=\"564.8400753901658\" y2=\"376.48623854736064\" stroke-linecap=\"round\" style=\"stroke:red;stroke-width:4\"/><line x1=\"564.8400753901658\" y1=\"376.48623854736064\" x2=\"566.5765571668351\" y2=\"366.6381610172386\" stroke-linecap=\"round\" style=\"stroke:red;stroke-width:4\"/><line x1=\"566.5765571668351\" y1=\"366.6381610172386\" x2=\"567.4481145943116\" y2=\"356.67621403632114\" stroke-linecap=\"round\" style=\"stroke:red;stroke-width:4\"/><line x1=\"567.4481145943116\" y1=\"356.67621403632114\" x2=\"567.4481145943116\" y2=\"346.67621403632114\" stroke-linecap=\"round\" style=\"stroke:red;stroke-width:4\"/><line x1=\"567.4481145943116\" y1=\"346.67621403632114\" x2=\"566.5765571668351\" y2=\"336.7142670554037\" stroke-linecap=\"round\" style=\"stroke:red;stroke-width:4\"/><line x1=\"566.5765571668351\" y1=\"336.7142670554037\" x2=\"564.8400753901658\" y2=\"326.86618952528164\" stroke-linecap=\"round\" style=\"stroke:red;stroke-width:4\"/><line x1=\"564.8400753901658\" y1=\"326.86618952528164\" x2=\"562.2518849391406\" y2=\"317.206931262391\" stroke-linecap=\"round\" style=\"stroke:red;stroke-width:4\"/><line x1=\"562.2518849391406\" y1=\"317.206931262391\" x2=\"558.8316835058839\" y2=\"307.81000505453187\" stroke-linecap=\"round\" style=\"stroke:red;stroke-width:4\"/><line x1=\"558.8316835058839\" y1=\"307.81000505453187\" x2=\"554.605500888477\" y2=\"298.7469271841654\" stroke-linecap=\"round\" style=\"stroke:red;stroke-width:4\"/><line x1=\"554.605500888477\" y1=\"298.7469271841654\" x2=\"549.605500888477\" y2=\"290.086673146321\" stroke-linecap=\"round\" style=\"stroke:red;stroke-width:4\"/><line x1=\"549.605500888477\" y1=\"290.086673146321\" x2=\"543.8697365249665\" y2=\"281.8951527034311\" stroke-linecap=\"round\" style=\"stroke:red;stroke-width:4\"/><line x1=\"543.8697365249665\" y1=\"281.8951527034311\" x2=\"537.4418604281011\" y2=\"274.23470827224133\" stroke-linecap=\"round\" style=\"stroke:red;stroke-width:4\"/><line x1=\"537.4418604281011\" y1=\"274.23470827224133\" x2=\"530.3707926162356\" y2=\"267.16364046037586\" stroke-linecap=\"round\" style=\"stroke:red;stroke-width:4\"/><line x1=\"530.3707926162356\" y1=\"267.16364046037586\" x2=\"522.7103481850457\" y2=\"260.73576436351044\" stroke-linecap=\"round\" style=\"stroke:red;stroke-width:4\"/><line x1=\"522.7103481850457\" y1=\"260.73576436351044\" x2=\"514.5188277421558\" y2=\"254.99999999999997\" stroke-linecap=\"round\" style=\"stroke:red;stroke-width:4\"/><line x1=\"514.5188277421558\" y1=\"254.99999999999997\" x2=\"505.8585737043115\" y2=\"249.99999999999997\" stroke-linecap=\"round\" style=\"stroke:red;stroke-width:4\"/><line x1=\"505.8585737043115\" y1=\"249.99999999999997\" x2=\"496.795495833945\" y2=\"245.77381738259297\" stroke-linecap=\"round\" style=\"stroke:red;stroke-width:4\"/><line x1=\"496.795495833945\" y1=\"245.77381738259297\" x2=\"487.3985696260859\" y2=\"242.35361594933627\" stroke-linecap=\"round\" style=\"stroke:red;stroke-width:4\"/><line x1=\"487.3985696260859\" y1=\"242.35361594933627\" x2=\"477.7393113631952\" y2=\"239.76542549831106\" stroke-linecap=\"round\" style=\"stroke:red;stroke-width:4\"/><line x1=\"477.7393113631952\" y1=\"239.76542549831106\" x2=\"467.89123383307316\" y2=\"238.02894372164175\" stroke-linecap=\"round\" style=\"stroke:red;stroke-width:4\"/><line x1=\"467.89123383307316\" y1=\"238.02894372164175\" x2=\"457.9292868521557\" y2=\"237.15738629416518\" stroke-linecap=\"round\" style=\"stroke:red;stroke-width:4\"/><line x1=\"457.9292868521557\" y1=\"237.15738629416518\" x2=\"447.9292868521557\" y2=\"237.15738629416518\" stroke-linecap=\"round\" style=\"stroke:red;stroke-width:4\"/><line x1=\"447.9292868521557\" y1=\"237.15738629416518\" x2=\"437.96733987123827\" y2=\"238.02894372164175\" stroke-linecap=\"round\" style=\"stroke:red;stroke-width:4\"/><line x1=\"437.96733987123827\" y1=\"238.02894372164175\" x2=\"428.1192623411162\" y2=\"239.76542549831106\" stroke-linecap=\"round\" style=\"stroke:red;stroke-width:4\"/><line x1=\"428.1192623411162\" y1=\"239.76542549831106\" x2=\"418.46000407822555\" y2=\"242.35361594933627\" stroke-linecap=\"round\" style=\"stroke:red;stroke-width:4\"/><line x1=\"418.46000407822555\" y1=\"242.35361594933627\" x2=\"409.06307787036644\" y2=\"245.77381738259297\" stroke-linecap=\"round\" style=\"stroke:red;stroke-width:4\"/><line x1=\"409.06307787036644\" y1=\"245.77381738259297\" x2=\"399.99999999999994\" y2=\"249.99999999999997\" stroke-linecap=\"round\" style=\"stroke:red;stroke-width:4\"/><line x1=\"399.99999999999994\" y1=\"249.99999999999997\" x2=\"394.99999999999994\" y2=\"258.66025403784437\" stroke-linecap=\"round\" style=\"stroke:red;stroke-width:4\"/><line x1=\"394.99999999999994\" y1=\"258.66025403784437\" x2=\"390.77381738259294\" y2=\"267.72333190821087\" stroke-linecap=\"round\" style=\"stroke:red;stroke-width:4\"/><line x1=\"390.77381738259294\" y1=\"267.72333190821087\" x2=\"387.35361594933624\" y2=\"277.12025811607\" stroke-linecap=\"round\" style=\"stroke:red;stroke-width:4\"/><line x1=\"387.35361594933624\" y1=\"277.12025811607\" x2=\"384.76542549831106\" y2=\"286.77951637896064\" stroke-linecap=\"round\" style=\"stroke:red;stroke-width:4\"/><line x1=\"384.76542549831106\" y1=\"286.77951637896064\" x2=\"383.0289437216418\" y2=\"296.6275939090827\" stroke-linecap=\"round\" style=\"stroke:red;stroke-width:4\"/><line x1=\"383.0289437216418\" y1=\"296.6275939090827\" x2=\"382.1573862941652\" y2=\"306.58954089000014\" stroke-linecap=\"round\" style=\"stroke:red;stroke-width:4\"/><line x1=\"382.1573862941652\" y1=\"306.58954089000014\" x2=\"382.1573862941652\" y2=\"316.58954089000014\" stroke-linecap=\"round\" style=\"stroke:red;stroke-width:4\"/><line x1=\"382.1573862941652\" y1=\"316.58954089000014\" x2=\"383.0289437216418\" y2=\"326.5514878709176\" stroke-linecap=\"round\" style=\"stroke:red;stroke-width:4\"/><line x1=\"383.0289437216418\" y1=\"326.5514878709176\" x2=\"384.76542549831106\" y2=\"336.39956540103964\" stroke-linecap=\"round\" style=\"stroke:red;stroke-width:4\"/><line x1=\"384.76542549831106\" y1=\"336.39956540103964\" x2=\"387.35361594933624\" y2=\"346.0588236639303\" stroke-linecap=\"round\" style=\"stroke:red;stroke-width:4\"/><line x1=\"387.35361594933624\" y1=\"346.0588236639303\" x2=\"390.77381738259294\" y2=\"355.4557498717894\" stroke-linecap=\"round\" style=\"stroke:red;stroke-width:4\"/><line x1=\"390.77381738259294\" y1=\"355.4557498717894\" x2=\"394.99999999999994\" y2=\"364.5188277421559\" stroke-linecap=\"round\" style=\"stroke:red;stroke-width:4\"/><line x1=\"394.99999999999994\" y1=\"364.5188277421559\" x2=\"399.99999999999994\" y2=\"373.1790817800003\" stroke-linecap=\"round\" style=\"stroke:red;stroke-width:4\"/><line x1=\"399.99999999999994\" y1=\"373.1790817800003\" x2=\"405.7357643635104\" y2=\"381.37060222289017\" stroke-linecap=\"round\" style=\"stroke:red;stroke-width:4\"/><line x1=\"405.7357643635104\" y1=\"381.37060222289017\" x2=\"412.1636404603758\" y2=\"389.03104665407994\" stroke-linecap=\"round\" style=\"stroke:red;stroke-width:4\"/><line x1=\"412.1636404603758\" y1=\"389.03104665407994\" x2=\"419.2347082722413\" y2=\"396.1021144659454\" stroke-linecap=\"round\" style=\"stroke:red;stroke-width:4\"/><line x1=\"419.2347082722413\" y1=\"396.1021144659454\" x2=\"426.89515270343105\" y2=\"402.52999056281084\" stroke-linecap=\"round\" style=\"stroke:red;stroke-width:4\"/><line x1=\"426.89515270343105\" y1=\"402.52999056281084\" x2=\"435.08667314632095\" y2=\"408.2657549263213\" stroke-linecap=\"round\" style=\"stroke:red;stroke-width:4\"/><line x1=\"435.08667314632095\" y1=\"408.2657549263213\" x2=\"443.7469271841653\" y2=\"413.2657549263213\" stroke-linecap=\"round\" style=\"stroke:red;stroke-width:4\"/><line x1=\"443.7469271841653\" y1=\"413.2657549263213\" x2=\"452.8100050545318\" y2=\"417.4919375437283\" stroke-linecap=\"round\" style=\"stroke:red;stroke-width:4\"/><line x1=\"452.8100050545318\" y1=\"417.4919375437283\" x2=\"462.2069312623909\" y2=\"420.912138976985\" stroke-linecap=\"round\" style=\"stroke:red;stroke-width:4\"/><line x1=\"462.2069312623909\" y1=\"420.912138976985\" x2=\"471.8661895252816\" y2=\"423.50032942801016\" stroke-linecap=\"round\" style=\"stroke:red;stroke-width:4\"/><line x1=\"471.8661895252816\" y1=\"423.50032942801016\" x2=\"481.71426705540364\" y2=\"425.23681120467944\" stroke-linecap=\"round\" style=\"stroke:red;stroke-width:4\"/><line x1=\"481.71426705540364\" y1=\"425.23681120467944\" x2=\"491.6762140363211\" y2=\"426.10836863215604\" stroke-linecap=\"round\" style=\"stroke:red;stroke-width:4\"/><line x1=\"491.6762140363211\" y1=\"426.10836863215604\" x2=\"501.6762140363211\" y2=\"426.10836863215604\" stroke-linecap=\"round\" style=\"stroke:red;stroke-width:4\"/><line x1=\"501.6762140363211\" y1=\"426.10836863215604\" x2=\"511.63816101723853\" y2=\"425.23681120467944\" stroke-linecap=\"round\" style=\"stroke:red;stroke-width:4\"/><line x1=\"511.63816101723853\" y1=\"425.23681120467944\" x2=\"521.4862385473606\" y2=\"423.50032942801016\" stroke-linecap=\"round\" style=\"stroke:red;stroke-width:4\"/><line x1=\"521.4862385473606\" y1=\"423.50032942801016\" x2=\"531.1454968102513\" y2=\"420.912138976985\" stroke-linecap=\"round\" style=\"stroke:red;stroke-width:4\"/><line x1=\"531.1454968102513\" y1=\"420.912138976985\" x2=\"540.5424230181104\" y2=\"417.4919375437283\" stroke-linecap=\"round\" style=\"stroke:red;stroke-width:4\"/><line x1=\"540.5424230181104\" y1=\"417.4919375437283\" x2=\"549.605500888477\" y2=\"413.2657549263213\" stroke-linecap=\"round\" style=\"stroke:red;stroke-width:4\"/><line x1=\"549.605500888477\" y1=\"413.2657549263213\" x2=\"558.2657549263214\" y2=\"408.2657549263213\" stroke-linecap=\"round\" style=\"stroke:red;stroke-width:4\"/><line x1=\"558.2657549263214\" y1=\"408.2657549263213\" x2=\"566.4572753692113\" y2=\"402.52999056281084\" stroke-linecap=\"round\" style=\"stroke:red;stroke-width:4\"/><line x1=\"566.4572753692113\" y1=\"402.52999056281084\" x2=\"574.1177198004011\" y2=\"396.1021144659454\" stroke-linecap=\"round\" style=\"stroke:red;stroke-width:4\"/><line x1=\"574.1177198004011\" y1=\"396.1021144659454\" x2=\"581.1887876122665\" y2=\"389.03104665407994\" stroke-linecap=\"round\" style=\"stroke:red;stroke-width:4\"/><line x1=\"581.1887876122665\" y1=\"389.03104665407994\" x2=\"587.6166637091319\" y2=\"381.37060222289017\" stroke-linecap=\"round\" style=\"stroke:red;stroke-width:4\"/><line x1=\"587.6166637091319\" y1=\"381.37060222289017\" x2=\"593.3524280726424\" y2=\"373.1790817800003\" stroke-linecap=\"round\" style=\"stroke:red;stroke-width:4\"/><line x1=\"593.3524280726424\" y1=\"373.1790817800003\" x2=\"598.3524280726424\" y2=\"364.5188277421559\" stroke-linecap=\"round\" style=\"stroke:red;stroke-width:4\"/><line x1=\"598.3524280726424\" y1=\"364.5188277421559\" x2=\"602.5786106900493\" y2=\"355.4557498717894\" stroke-linecap=\"round\" style=\"stroke:red;stroke-width:4\"/><line x1=\"602.5786106900493\" y1=\"355.4557498717894\" x2=\"605.998812123306\" y2=\"346.0588236639303\" stroke-linecap=\"round\" style=\"stroke:red;stroke-width:4\"/><line x1=\"605.998812123306\" y1=\"346.0588236639303\" x2=\"608.5870025743312\" y2=\"336.39956540103964\" stroke-linecap=\"round\" style=\"stroke:red;stroke-width:4\"/><line x1=\"608.5870025743312\" y1=\"336.39956540103964\" x2=\"610.3234843510005\" y2=\"326.5514878709176\" stroke-linecap=\"round\" style=\"stroke:red;stroke-width:4\"/><line x1=\"610.3234843510005\" y1=\"326.5514878709176\" x2=\"611.195041778477\" y2=\"316.58954089000014\" stroke-linecap=\"round\" style=\"stroke:red;stroke-width:4\"/><line x1=\"611.195041778477\" y1=\"316.58954089000014\" x2=\"611.195041778477\" y2=\"306.58954089000014\" stroke-linecap=\"round\" style=\"stroke:red;stroke-width:4\"/><line x1=\"611.195041778477\" y1=\"306.58954089000014\" x2=\"610.3234843510005\" y2=\"296.6275939090827\" stroke-linecap=\"round\" style=\"stroke:red;stroke-width:4\"/><line x1=\"610.3234843510005\" y1=\"296.6275939090827\" x2=\"608.5870025743312\" y2=\"286.77951637896064\" stroke-linecap=\"round\" style=\"stroke:red;stroke-width:4\"/><line x1=\"608.5870025743312\" y1=\"286.77951637896064\" x2=\"605.998812123306\" y2=\"277.12025811607\" stroke-linecap=\"round\" style=\"stroke:red;stroke-width:4\"/><line x1=\"605.998812123306\" y1=\"277.12025811607\" x2=\"602.5786106900493\" y2=\"267.72333190821087\" stroke-linecap=\"round\" style=\"stroke:red;stroke-width:4\"/><line x1=\"602.5786106900493\" y1=\"267.72333190821087\" x2=\"598.3524280726424\" y2=\"258.66025403784437\" stroke-linecap=\"round\" style=\"stroke:red;stroke-width:4\"/><line x1=\"598.3524280726424\" y1=\"258.66025403784437\" x2=\"593.3524280726424\" y2=\"249.99999999999997\" stroke-linecap=\"round\" style=\"stroke:red;stroke-width:4\"/><line x1=\"593.3524280726424\" y1=\"249.99999999999997\" x2=\"587.6166637091319\" y2=\"241.80847955711005\" stroke-linecap=\"round\" style=\"stroke:red;stroke-width:4\"/><line x1=\"587.6166637091319\" y1=\"241.80847955711005\" x2=\"581.1887876122665\" y2=\"234.14803512592027\" stroke-linecap=\"round\" style=\"stroke:red;stroke-width:4\"/><line x1=\"581.1887876122665\" y1=\"234.14803512592027\" x2=\"574.117719800401\" y2=\"227.0769673140548\" stroke-linecap=\"round\" style=\"stroke:red;stroke-width:4\"/><line x1=\"574.117719800401\" y1=\"227.0769673140548\" x2=\"566.4572753692112\" y2=\"220.6490912171894\" stroke-linecap=\"round\" style=\"stroke:red;stroke-width:4\"/><line x1=\"566.4572753692112\" y1=\"220.6490912171894\" x2=\"558.2657549263213\" y2=\"214.91332685367894\" stroke-linecap=\"round\" style=\"stroke:red;stroke-width:4\"/><line x1=\"558.2657549263213\" y1=\"214.91332685367894\" x2=\"549.6055008884769\" y2=\"209.91332685367894\" stroke-linecap=\"round\" style=\"stroke:red;stroke-width:4\"/><line x1=\"549.6055008884769\" y1=\"209.91332685367894\" x2=\"540.5424230181103\" y2=\"205.68714423627193\" stroke-linecap=\"round\" style=\"stroke:red;stroke-width:4\"/><line x1=\"540.5424230181103\" y1=\"205.68714423627193\" x2=\"531.1454968102512\" y2=\"202.26694280301524\" stroke-linecap=\"round\" style=\"stroke:red;stroke-width:4\"/><line x1=\"531.1454968102512\" y1=\"202.26694280301524\" x2=\"521.4862385473605\" y2=\"199.67875235199003\" stroke-linecap=\"round\" style=\"stroke:red;stroke-width:4\"/><line x1=\"521.4862385473605\" y1=\"199.67875235199003\" x2=\"511.6381610172384\" y2=\"197.94227057532072\" stroke-linecap=\"round\" style=\"stroke:red;stroke-width:4\"/><line x1=\"511.6381610172384\" y1=\"197.94227057532072\" x2=\"501.67621403632097\" y2=\"197.07071314784415\" stroke-linecap=\"round\" style=\"stroke:red;stroke-width:4\"/><line x1=\"501.67621403632097\" y1=\"197.07071314784415\" x2=\"491.67621403632097\" y2=\"197.07071314784415\" stroke-linecap=\"round\" style=\"stroke:red;stroke-width:4\"/><line x1=\"491.67621403632097\" y1=\"197.07071314784415\" x2=\"481.7142670554035\" y2=\"197.94227057532072\" stroke-linecap=\"round\" style=\"stroke:red;stroke-width:4\"/><line x1=\"481.7142670554035\" y1=\"197.94227057532072\" x2=\"471.86618952528147\" y2=\"199.67875235199003\" stroke-linecap=\"round\" style=\"stroke:red;stroke-width:4\"/><line x1=\"471.86618952528147\" y1=\"199.67875235199003\" x2=\"462.2069312623908\" y2=\"202.26694280301524\" stroke-linecap=\"round\" style=\"stroke:red;stroke-width:4\"/><line x1=\"462.2069312623908\" y1=\"202.26694280301524\" x2=\"452.8100050545317\" y2=\"205.68714423627193\" stroke-linecap=\"round\" style=\"stroke:red;stroke-width:4\"/><line x1=\"452.8100050545317\" y1=\"205.68714423627193\" x2=\"443.7469271841652\" y2=\"209.91332685367894\" stroke-linecap=\"round\" style=\"stroke:red;stroke-width:4\"/><line x1=\"443.7469271841652\" y1=\"209.91332685367894\" x2=\"435.08667314632083\" y2=\"214.91332685367894\" stroke-linecap=\"round\" style=\"stroke:red;stroke-width:4\"/><line x1=\"435.08667314632083\" y1=\"214.91332685367894\" x2=\"426.89515270343094\" y2=\"220.6490912171894\" stroke-linecap=\"round\" style=\"stroke:red;stroke-width:4\"/><line x1=\"426.89515270343094\" y1=\"220.6490912171894\" x2=\"419.23470827224116\" y2=\"227.0769673140548\" stroke-linecap=\"round\" style=\"stroke:red;stroke-width:4\"/><line x1=\"419.23470827224116\" y1=\"227.0769673140548\" x2=\"412.1636404603757\" y2=\"234.14803512592027\" stroke-linecap=\"round\" style=\"stroke:red;stroke-width:4\"/><line x1=\"412.1636404603757\" y1=\"234.14803512592027\" x2=\"405.73576436351027\" y2=\"241.80847955711005\" stroke-linecap=\"round\" style=\"stroke:red;stroke-width:4\"/><line x1=\"405.73576436351027\" y1=\"241.80847955711005\" x2=\"399.99999999999983\" y2=\"249.99999999999997\" stroke-linecap=\"round\" style=\"stroke:red;stroke-width:4\"/><line x1=\"399.99999999999983\" y1=\"249.99999999999997\" x2=\"399.99999999999983\" y2=\"260.0\" stroke-linecap=\"round\" style=\"stroke:red;stroke-width:4\"/><line x1=\"399.99999999999983\" y1=\"260.0\" x2=\"400.87155742747643\" y2=\"269.96194698091745\" stroke-linecap=\"round\" style=\"stroke:red;stroke-width:4\"/><line x1=\"400.87155742747643\" y1=\"269.96194698091745\" x2=\"402.6080392041457\" y2=\"279.8100245110395\" stroke-linecap=\"round\" style=\"stroke:red;stroke-width:4\"/><line x1=\"402.6080392041457\" y1=\"279.8100245110395\" x2=\"405.1962296551709\" y2=\"289.46928277393016\" stroke-linecap=\"round\" style=\"stroke:red;stroke-width:4\"/><line x1=\"405.1962296551709\" y1=\"289.46928277393016\" x2=\"408.6164310884276\" y2=\"298.86620898178927\" stroke-linecap=\"round\" style=\"stroke:red;stroke-width:4\"/><line x1=\"408.6164310884276\" y1=\"298.86620898178927\" x2=\"412.8426137058346\" y2=\"307.92928685215577\" stroke-linecap=\"round\" style=\"stroke:red;stroke-width:4\"/><line x1=\"412.8426137058346\" y1=\"307.92928685215577\" x2=\"417.8426137058346\" y2=\"316.58954089000014\" stroke-linecap=\"round\" style=\"stroke:red;stroke-width:4\"/><line x1=\"417.8426137058346\" y1=\"316.58954089000014\" x2=\"423.57837806934504\" y2=\"324.78106133289003\" stroke-linecap=\"round\" style=\"stroke:red;stroke-width:4\"/><line x1=\"423.57837806934504\" y1=\"324.78106133289003\" x2=\"430.00625416621045\" y2=\"332.4415057640798\" stroke-linecap=\"round\" style=\"stroke:red;stroke-width:4\"/><line x1=\"430.00625416621045\" y1=\"332.4415057640798\" x2=\"437.07732197807593\" y2=\"339.5125735759453\" stroke-linecap=\"round\" style=\"stroke:red;stroke-width:4\"/><line x1=\"437.07732197807593\" y1=\"339.5125735759453\" x2=\"444.7377664092657\" y2=\"345.9404496728107\" stroke-linecap=\"round\" style=\"stroke:red;stroke-width:4\"/><line x1=\"444.7377664092657\" y1=\"345.9404496728107\" x2=\"452.9292868521556\" y2=\"351.67621403632114\" stroke-linecap=\"round\" style=\"stroke:red;stroke-width:4\"/><line x1=\"452.9292868521556\" y1=\"351.67621403632114\" x2=\"461.58954088999997\" y2=\"356.67621403632114\" stroke-linecap=\"round\" style=\"stroke:red;stroke-width:4\"/><line x1=\"461.58954088999997\" y1=\"356.67621403632114\" x2=\"470.65261876036647\" y2=\"360.90239665372815\" stroke-linecap=\"round\" style=\"stroke:red;stroke-width:4\"/><line x1=\"470.65261876036647\" y1=\"360.90239665372815\" x2=\"480.0495449682256\" y2=\"364.32259808698484\" stroke-linecap=\"round\" style=\"stroke:red;stroke-width:4\"/><line x1=\"480.0495449682256\" y1=\"364.32259808698484\" x2=\"489.70880323111624\" y2=\"366.91078853801\" stroke-linecap=\"round\" style=\"stroke:red;stroke-width:4\"/><line x1=\"489.70880323111624\" y1=\"366.91078853801\" x2=\"499.5568807612383\" y2=\"368.6472703146793\" stroke-linecap=\"round\" style=\"stroke:red;stroke-width:4\"/><line x1=\"499.5568807612383\" y1=\"368.6472703146793\" x2=\"509.51882774215574\" y2=\"369.5188277421559\" stroke-linecap=\"round\" style=\"stroke:red;stroke-width:4\"/><line x1=\"509.51882774215574\" y1=\"369.5188277421559\" x2=\"519.5188277421557\" y2=\"369.5188277421559\" stroke-linecap=\"round\" style=\"stroke:red;stroke-width:4\"/><line x1=\"519.5188277421557\" y1=\"369.5188277421559\" x2=\"529.4807747230732\" y2=\"368.6472703146793\" stroke-linecap=\"round\" style=\"stroke:red;stroke-width:4\"/><line x1=\"529.4807747230732\" y1=\"368.6472703146793\" x2=\"539.3288522531952\" y2=\"366.91078853801\" stroke-linecap=\"round\" style=\"stroke:red;stroke-width:4\"/><line x1=\"539.3288522531952\" y1=\"366.91078853801\" x2=\"548.988110516086\" y2=\"364.32259808698484\" stroke-linecap=\"round\" style=\"stroke:red;stroke-width:4\"/><line x1=\"548.988110516086\" y1=\"364.32259808698484\" x2=\"558.3850367239451\" y2=\"360.90239665372815\" stroke-linecap=\"round\" style=\"stroke:red;stroke-width:4\"/><line x1=\"558.3850367239451\" y1=\"360.90239665372815\" x2=\"567.4481145943116\" y2=\"356.67621403632114\" stroke-linecap=\"round\" style=\"stroke:red;stroke-width:4\"/><line x1=\"567.4481145943116\" y1=\"356.67621403632114\" x2=\"576.108368632156\" y2=\"351.67621403632114\" stroke-linecap=\"round\" style=\"stroke:red;stroke-width:4\"/><line x1=\"576.108368632156\" y1=\"351.67621403632114\" x2=\"584.2998890750459\" y2=\"345.9404496728107\" stroke-linecap=\"round\" style=\"stroke:red;stroke-width:4\"/><line x1=\"584.2998890750459\" y1=\"345.9404496728107\" x2=\"591.9603335062358\" y2=\"339.5125735759453\" stroke-linecap=\"round\" style=\"stroke:red;stroke-width:4\"/><line x1=\"591.9603335062358\" y1=\"339.5125735759453\" x2=\"599.0314013181012\" y2=\"332.4415057640798\" stroke-linecap=\"round\" style=\"stroke:red;stroke-width:4\"/><line x1=\"599.0314013181012\" y1=\"332.4415057640798\" x2=\"605.4592774149666\" y2=\"324.78106133289003\" stroke-linecap=\"round\" style=\"stroke:red;stroke-width:4\"/><line x1=\"605.4592774149666\" y1=\"324.78106133289003\" x2=\"611.195041778477\" y2=\"316.58954089000014\" stroke-linecap=\"round\" style=\"stroke:red;stroke-width:4\"/><line x1=\"611.195041778477\" y1=\"316.58954089000014\" x2=\"616.195041778477\" y2=\"307.92928685215577\" stroke-linecap=\"round\" style=\"stroke:red;stroke-width:4\"/><line x1=\"616.195041778477\" y1=\"307.92928685215577\" x2=\"620.421224395884\" y2=\"298.86620898178927\" stroke-linecap=\"round\" style=\"stroke:red;stroke-width:4\"/><line x1=\"620.421224395884\" y1=\"298.86620898178927\" x2=\"623.8414258291407\" y2=\"289.46928277393016\" stroke-linecap=\"round\" style=\"stroke:red;stroke-width:4\"/><line x1=\"623.8414258291407\" y1=\"289.46928277393016\" x2=\"626.4296162801659\" y2=\"279.8100245110395\" stroke-linecap=\"round\" style=\"stroke:red;stroke-width:4\"/><line x1=\"626.4296162801659\" y1=\"279.8100245110395\" x2=\"628.1660980568352\" y2=\"269.96194698091745\" stroke-linecap=\"round\" style=\"stroke:red;stroke-width:4\"/><line x1=\"628.1660980568352\" y1=\"269.96194698091745\" x2=\"629.0376554843117\" y2=\"260.0\" stroke-linecap=\"round\" style=\"stroke:red;stroke-width:4\"/><line x1=\"629.0376554843117\" y1=\"260.0\" x2=\"629.0376554843117\" y2=\"250.0\" stroke-linecap=\"round\" style=\"stroke:red;stroke-width:4\"/><line x1=\"629.0376554843117\" y1=\"250.0\" x2=\"628.1660980568352\" y2=\"240.03805301908255\" stroke-linecap=\"round\" style=\"stroke:red;stroke-width:4\"/><line x1=\"628.1660980568352\" y1=\"240.03805301908255\" x2=\"626.4296162801659\" y2=\"230.18997548896047\" stroke-linecap=\"round\" style=\"stroke:red;stroke-width:4\"/><line x1=\"626.4296162801659\" y1=\"230.18997548896047\" x2=\"623.8414258291407\" y2=\"220.53071722606978\" stroke-linecap=\"round\" style=\"stroke:red;stroke-width:4\"/><line x1=\"623.8414258291407\" y1=\"220.53071722606978\" x2=\"620.421224395884\" y2=\"211.1337910182107\" stroke-linecap=\"round\" style=\"stroke:red;stroke-width:4\"/><line x1=\"620.421224395884\" y1=\"211.1337910182107\" x2=\"616.195041778477\" y2=\"202.0707131478442\" stroke-linecap=\"round\" style=\"stroke:red;stroke-width:4\"/><line x1=\"616.195041778477\" y1=\"202.0707131478442\" x2=\"611.195041778477\" y2=\"193.4104591099998\" stroke-linecap=\"round\" style=\"stroke:red;stroke-width:4\"/><line x1=\"611.195041778477\" y1=\"193.4104591099998\" x2=\"605.4592774149666\" y2=\"185.21893866710988\" stroke-linecap=\"round\" style=\"stroke:red;stroke-width:4\"/><line x1=\"605.4592774149666\" y1=\"185.21893866710988\" x2=\"599.0314013181012\" y2=\"177.5584942359201\" stroke-linecap=\"round\" style=\"stroke:red;stroke-width:4\"/><line x1=\"599.0314013181012\" y1=\"177.5584942359201\" x2=\"591.9603335062357\" y2=\"170.48742642405463\" stroke-linecap=\"round\" style=\"stroke:red;stroke-width:4\"/><line x1=\"591.9603335062357\" y1=\"170.48742642405463\" x2=\"584.2998890750458\" y2=\"164.05955032718924\" stroke-linecap=\"round\" style=\"stroke:red;stroke-width:4\"/><line x1=\"584.2998890750458\" y1=\"164.05955032718924\" x2=\"576.1083686321559\" y2=\"158.32378596367877\" stroke-linecap=\"round\" style=\"stroke:red;stroke-width:4\"/><line x1=\"576.1083686321559\" y1=\"158.32378596367877\" x2=\"567.4481145943115\" y2=\"153.32378596367877\" stroke-linecap=\"round\" style=\"stroke:red;stroke-width:4\"/><line x1=\"567.4481145943115\" y1=\"153.32378596367877\" x2=\"558.385036723945\" y2=\"149.09760334627177\" stroke-linecap=\"round\" style=\"stroke:red;stroke-width:4\"/><line x1=\"558.385036723945\" y1=\"149.09760334627177\" x2=\"548.9881105160858\" y2=\"145.67740191301507\" stroke-linecap=\"round\" style=\"stroke:red;stroke-width:4\"/><line x1=\"548.9881105160858\" y1=\"145.67740191301507\" x2=\"539.3288522531951\" y2=\"143.08921146198986\" stroke-linecap=\"round\" style=\"stroke:red;stroke-width:4\"/><line x1=\"539.3288522531951\" y1=\"143.08921146198986\" x2=\"529.4807747230731\" y2=\"141.35272968532055\" stroke-linecap=\"round\" style=\"stroke:red;stroke-width:4\"/><line x1=\"529.4807747230731\" y1=\"141.35272968532055\" x2=\"519.5188277421556\" y2=\"140.48117225784398\" stroke-linecap=\"round\" style=\"stroke:red;stroke-width:4\"/><line x1=\"519.5188277421556\" y1=\"140.48117225784398\" x2=\"509.5188277421556\" y2=\"140.48117225784398\" stroke-linecap=\"round\" style=\"stroke:red;stroke-width:4\"/><line x1=\"509.5188277421556\" y1=\"140.48117225784398\" x2=\"499.5568807612382\" y2=\"141.35272968532055\" stroke-linecap=\"round\" style=\"stroke:red;stroke-width:4\"/><line x1=\"499.5568807612382\" y1=\"141.35272968532055\" x2=\"489.7088032311161\" y2=\"143.08921146198986\" stroke-linecap=\"round\" style=\"stroke:red;stroke-width:4\"/><line x1=\"489.7088032311161\" y1=\"143.08921146198986\" x2=\"480.04954496822546\" y2=\"145.67740191301507\" stroke-linecap=\"round\" style=\"stroke:red;stroke-width:4\"/><line x1=\"480.04954496822546\" y1=\"145.67740191301507\" x2=\"470.65261876036635\" y2=\"149.09760334627177\" stroke-linecap=\"round\" style=\"stroke:red;stroke-width:4\"/><line x1=\"470.65261876036635\" y1=\"149.09760334627177\" x2=\"461.58954088999985\" y2=\"153.32378596367877\" stroke-linecap=\"round\" style=\"stroke:red;stroke-width:4\"/><line x1=\"461.58954088999985\" y1=\"153.32378596367877\" x2=\"452.9292868521555\" y2=\"158.32378596367877\" stroke-linecap=\"round\" style=\"stroke:red;stroke-width:4\"/><line x1=\"452.9292868521555\" y1=\"158.32378596367877\" x2=\"444.7377664092656\" y2=\"164.05955032718924\" stroke-linecap=\"round\" style=\"stroke:red;stroke-width:4\"/><line x1=\"444.7377664092656\" y1=\"164.05955032718924\" x2=\"437.0773219780758\" y2=\"170.48742642405463\" stroke-linecap=\"round\" style=\"stroke:red;stroke-width:4\"/><line x1=\"437.0773219780758\" y1=\"170.48742642405463\" x2=\"430.00625416621034\" y2=\"177.5584942359201\" stroke-linecap=\"round\" style=\"stroke:red;stroke-width:4\"/><line x1=\"430.00625416621034\" y1=\"177.5584942359201\" x2=\"423.5783780693449\" y2=\"185.21893866710988\" stroke-linecap=\"round\" style=\"stroke:red;stroke-width:4\"/><line x1=\"423.5783780693449\" y1=\"185.21893866710988\" x2=\"417.8426137058345\" y2=\"193.4104591099998\" stroke-linecap=\"round\" style=\"stroke:red;stroke-width:4\"/><line x1=\"417.8426137058345\" y1=\"193.4104591099998\" x2=\"412.8426137058345\" y2=\"202.0707131478442\" stroke-linecap=\"round\" style=\"stroke:red;stroke-width:4\"/><line x1=\"412.8426137058345\" y1=\"202.0707131478442\" x2=\"408.6164310884275\" y2=\"211.1337910182107\" stroke-linecap=\"round\" style=\"stroke:red;stroke-width:4\"/><line x1=\"408.6164310884275\" y1=\"211.1337910182107\" x2=\"405.1962296551708\" y2=\"220.53071722606978\" stroke-linecap=\"round\" style=\"stroke:red;stroke-width:4\"/><line x1=\"405.1962296551708\" y1=\"220.53071722606978\" x2=\"402.6080392041456\" y2=\"230.18997548896047\" stroke-linecap=\"round\" style=\"stroke:red;stroke-width:4\"/><line x1=\"402.6080392041456\" y1=\"230.18997548896047\" x2=\"400.8715574274763\" y2=\"240.03805301908255\" stroke-linecap=\"round\" style=\"stroke:red;stroke-width:4\"/><line x1=\"400.8715574274763\" y1=\"240.03805301908255\" x2=\"399.9999999999997\" y2=\"250.0\" stroke-linecap=\"round\" style=\"stroke:red;stroke-width:4\"/><line x1=\"399.9999999999997\" y1=\"250.0\" x2=\"404.9999999999997\" y2=\"258.66025403784437\" stroke-linecap=\"round\" style=\"stroke:red;stroke-width:4\"/><line x1=\"404.9999999999997\" y1=\"258.66025403784437\" x2=\"410.73576436351016\" y2=\"266.85177448073426\" stroke-linecap=\"round\" style=\"stroke:red;stroke-width:4\"/><line x1=\"410.73576436351016\" y1=\"266.85177448073426\" x2=\"417.1636404603756\" y2=\"274.51221891192404\" stroke-linecap=\"round\" style=\"stroke:red;stroke-width:4\"/><line x1=\"417.1636404603756\" y1=\"274.51221891192404\" x2=\"424.23470827224105\" y2=\"281.5832867237895\" stroke-linecap=\"round\" style=\"stroke:red;stroke-width:4\"/><line x1=\"424.23470827224105\" y1=\"281.5832867237895\" x2=\"431.8951527034308\" y2=\"288.01116282065493\" stroke-linecap=\"round\" style=\"stroke:red;stroke-width:4\"/><line x1=\"431.8951527034308\" y1=\"288.01116282065493\" x2=\"440.0866731463207\" y2=\"293.7469271841654\" stroke-linecap=\"round\" style=\"stroke:red;stroke-width:4\"/><line x1=\"440.0866731463207\" y1=\"293.7469271841654\" x2=\"448.7469271841651\" y2=\"298.7469271841654\" stroke-linecap=\"round\" style=\"stroke:red;stroke-width:4\"/><line x1=\"448.7469271841651\" y1=\"298.7469271841654\" x2=\"457.8100050545316\" y2=\"302.9731098015724\" stroke-linecap=\"round\" style=\"stroke:red;stroke-width:4\"/><line x1=\"457.8100050545316\" y1=\"302.9731098015724\" x2=\"467.2069312623907\" y2=\"306.39331123482907\" stroke-linecap=\"round\" style=\"stroke:red;stroke-width:4\"/><line x1=\"467.2069312623907\" y1=\"306.39331123482907\" x2=\"476.86618952528136\" y2=\"308.98150168585425\" stroke-linecap=\"round\" style=\"stroke:red;stroke-width:4\"/><line x1=\"476.86618952528136\" y1=\"308.98150168585425\" x2=\"486.7142670554034\" y2=\"310.71798346252353\" stroke-linecap=\"round\" style=\"stroke:red;stroke-width:4\"/><line x1=\"486.7142670554034\" y1=\"310.71798346252353\" x2=\"496.67621403632086\" y2=\"311.58954089000014\" stroke-linecap=\"round\" style=\"stroke:red;stroke-width:4\"/><line x1=\"496.67621403632086\" y1=\"311.58954089000014\" x2=\"506.67621403632086\" y2=\"311.58954089000014\" stroke-linecap=\"round\" style=\"stroke:red;stroke-width:4\"/><line x1=\"506.67621403632086\" y1=\"311.58954089000014\" x2=\"516.6381610172383\" y2=\"310.71798346252353\" stroke-linecap=\"round\" style=\"stroke:red;stroke-width:4\"/><line x1=\"516.6381610172383\" y1=\"310.71798346252353\" x2=\"526.4862385473604\" y2=\"308.98150168585425\" stroke-linecap=\"round\" style=\"stroke:red;stroke-width:4\"/><line x1=\"526.4862385473604\" y1=\"308.98150168585425\" x2=\"536.1454968102511\" y2=\"306.39331123482907\" stroke-linecap=\"round\" style=\"stroke:red;stroke-width:4\"/><line x1=\"536.1454968102511\" y1=\"306.39331123482907\" x2=\"545.5424230181102\" y2=\"302.9731098015724\" stroke-linecap=\"round\" style=\"stroke:red;stroke-width:4\"/><line x1=\"545.5424230181102\" y1=\"302.9731098015724\" x2=\"554.6055008884767\" y2=\"298.7469271841654\" stroke-linecap=\"round\" style=\"stroke:red;stroke-width:4\"/><line x1=\"554.6055008884767\" y1=\"298.7469271841654\" x2=\"563.2657549263212\" y2=\"293.7469271841654\" stroke-linecap=\"round\" style=\"stroke:red;stroke-width:4\"/><line x1=\"563.2657549263212\" y1=\"293.7469271841654\" x2=\"571.4572753692111\" y2=\"288.01116282065493\" stroke-linecap=\"round\" style=\"stroke:red;stroke-width:4\"/><line x1=\"571.4572753692111\" y1=\"288.01116282065493\" x2=\"579.1177198004009\" y2=\"281.5832867237895\" stroke-linecap=\"round\" style=\"stroke:red;stroke-width:4\"/><line x1=\"579.1177198004009\" y1=\"281.5832867237895\" x2=\"586.1887876122663\" y2=\"274.51221891192404\" stroke-linecap=\"round\" style=\"stroke:red;stroke-width:4\"/><line x1=\"586.1887876122663\" y1=\"274.51221891192404\" x2=\"592.6166637091317\" y2=\"266.85177448073426\" stroke-linecap=\"round\" style=\"stroke:red;stroke-width:4\"/><line x1=\"592.6166637091317\" y1=\"266.85177448073426\" x2=\"598.3524280726422\" y2=\"258.66025403784437\" stroke-linecap=\"round\" style=\"stroke:red;stroke-width:4\"/><line x1=\"598.3524280726422\" y1=\"258.66025403784437\" x2=\"603.3524280726422\" y2=\"249.99999999999997\" stroke-linecap=\"round\" style=\"stroke:red;stroke-width:4\"/><line x1=\"603.3524280726422\" y1=\"249.99999999999997\" x2=\"607.5786106900491\" y2=\"240.93692212963347\" stroke-linecap=\"round\" style=\"stroke:red;stroke-width:4\"/><line x1=\"607.5786106900491\" y1=\"240.93692212963347\" x2=\"610.9988121233058\" y2=\"231.5399959217744\" stroke-linecap=\"round\" style=\"stroke:red;stroke-width:4\"/><line x1=\"610.9988121233058\" y1=\"231.5399959217744\" x2=\"613.587002574331\" y2=\"221.8807376588837\" stroke-linecap=\"round\" style=\"stroke:red;stroke-width:4\"/><line x1=\"613.587002574331\" y1=\"221.8807376588837\" x2=\"615.3234843510003\" y2=\"212.03266012876162\" stroke-linecap=\"round\" style=\"stroke:red;stroke-width:4\"/><line x1=\"615.3234843510003\" y1=\"212.03266012876162\" x2=\"616.1950417784768\" y2=\"202.07071314784417\" stroke-linecap=\"round\" style=\"stroke:red;stroke-width:4\"/><line x1=\"616.1950417784768\" y1=\"202.07071314784417\" x2=\"616.1950417784768\" y2=\"192.07071314784417\" stroke-linecap=\"round\" style=\"stroke:red;stroke-width:4\"/><line x1=\"616.1950417784768\" y1=\"192.07071314784417\" x2=\"615.3234843510003\" y2=\"182.10876616692673\" stroke-linecap=\"round\" style=\"stroke:red;stroke-width:4\"/><line x1=\"615.3234843510003\" y1=\"182.10876616692673\" x2=\"613.587002574331\" y2=\"172.26068863680464\" stroke-linecap=\"round\" style=\"stroke:red;stroke-width:4\"/><line x1=\"613.587002574331\" y1=\"172.26068863680464\" x2=\"610.9988121233058\" y2=\"162.60143037391396\" stroke-linecap=\"round\" style=\"stroke:red;stroke-width:4\"/><line x1=\"610.9988121233058\" y1=\"162.60143037391396\" x2=\"607.5786106900491\" y2=\"153.20450416605487\" stroke-linecap=\"round\" style=\"stroke:red;stroke-width:4\"/><line x1=\"607.5786106900491\" y1=\"153.20450416605487\" x2=\"603.3524280726422\" y2=\"144.14142629568838\" stroke-linecap=\"round\" style=\"stroke:red;stroke-width:4\"/><line x1=\"603.3524280726422\" y1=\"144.14142629568838\" x2=\"598.3524280726422\" y2=\"135.48117225784398\" stroke-linecap=\"round\" style=\"stroke:red;stroke-width:4\"/><line x1=\"598.3524280726422\" y1=\"135.48117225784398\" x2=\"592.6166637091317\" y2=\"127.28965181495407\" stroke-linecap=\"round\" style=\"stroke:red;stroke-width:4\"/><line x1=\"592.6166637091317\" y1=\"127.28965181495407\" x2=\"586.1887876122663\" y2=\"119.6292073837643\" stroke-linecap=\"round\" style=\"stroke:red;stroke-width:4\"/><line x1=\"586.1887876122663\" y1=\"119.6292073837643\" x2=\"579.1177198004008\" y2=\"112.55813957189882\" stroke-linecap=\"round\" style=\"stroke:red;stroke-width:4\"/><line x1=\"579.1177198004008\" y1=\"112.55813957189882\" x2=\"571.457275369211\" y2=\"106.13026347503343\" stroke-linecap=\"round\" style=\"stroke:red;stroke-width:4\"/><line x1=\"571.457275369211\" y1=\"106.13026347503343\" x2=\"563.265754926321\" y2=\"100.39449911152298\" stroke-linecap=\"round\" style=\"stroke:red;stroke-width:4\"/><line x1=\"563.265754926321\" y1=\"100.39449911152298\" x2=\"554.6055008884766\" y2=\"95.39449911152298\" stroke-linecap=\"round\" style=\"stroke:red;stroke-width:4\"/><line x1=\"554.6055008884766\" y1=\"95.39449911152298\" x2=\"545.5424230181101\" y2=\"91.16831649411598\" stroke-linecap=\"round\" style=\"stroke:red;stroke-width:4\"/><line x1=\"545.5424230181101\" y1=\"91.16831649411598\" x2=\"536.145496810251\" y2=\"87.74811506085929\" stroke-linecap=\"round\" style=\"stroke:red;stroke-width:4\"/><line x1=\"536.145496810251\" y1=\"87.74811506085929\" x2=\"526.4862385473602\" y2=\"85.15992460983408\" stroke-linecap=\"round\" style=\"stroke:red;stroke-width:4\"/><line x1=\"526.4862385473602\" y1=\"85.15992460983408\" x2=\"516.6381610172382\" y2=\"83.42344283316477\" stroke-linecap=\"round\" style=\"stroke:red;stroke-width:4\"/><line x1=\"516.6381610172382\" y1=\"83.42344283316477\" x2=\"506.67621403632074\" y2=\"82.5518854056882\" stroke-linecap=\"round\" style=\"stroke:red;stroke-width:4\"/><line x1=\"506.67621403632074\" y1=\"82.5518854056882\" x2=\"496.67621403632074\" y2=\"82.5518854056882\" stroke-linecap=\"round\" style=\"stroke:red;stroke-width:4\"/><line x1=\"496.67621403632074\" y1=\"82.5518854056882\" x2=\"486.7142670554033\" y2=\"83.42344283316478\" stroke-linecap=\"round\" style=\"stroke:red;stroke-width:4\"/><line x1=\"486.7142670554033\" y1=\"83.42344283316478\" x2=\"476.86618952528124\" y2=\"85.15992460983409\" stroke-linecap=\"round\" style=\"stroke:red;stroke-width:4\"/><line x1=\"476.86618952528124\" y1=\"85.15992460983409\" x2=\"467.2069312623906\" y2=\"87.7481150608593\" stroke-linecap=\"round\" style=\"stroke:red;stroke-width:4\"/><line x1=\"467.2069312623906\" y1=\"87.7481150608593\" x2=\"457.8100050545315\" y2=\"91.168316494116\" stroke-linecap=\"round\" style=\"stroke:red;stroke-width:4\"/><line x1=\"457.8100050545315\" y1=\"91.168316494116\" x2=\"448.746927184165\" y2=\"95.39449911152299\" stroke-linecap=\"round\" style=\"stroke:red;stroke-width:4\"/><line x1=\"448.746927184165\" y1=\"95.39449911152299\" x2=\"440.0866731463206\" y2=\"100.39449911152299\" stroke-linecap=\"round\" style=\"stroke:red;stroke-width:4\"/><line x1=\"440.0866731463206\" y1=\"100.39449911152299\" x2=\"431.8951527034307\" y2=\"106.13026347503344\" stroke-linecap=\"round\" style=\"stroke:red;stroke-width:4\"/><line x1=\"431.8951527034307\" y1=\"106.13026347503344\" x2=\"424.23470827224094\" y2=\"112.55813957189883\" stroke-linecap=\"round\" style=\"stroke:red;stroke-width:4\"/><line x1=\"424.23470827224094\" y1=\"112.55813957189883\" x2=\"417.16364046037546\" y2=\"119.62920738376431\" stroke-linecap=\"round\" style=\"stroke:red;stroke-width:4\"/><line x1=\"417.16364046037546\" y1=\"119.62920738376431\" x2=\"410.73576436351004\" y2=\"127.28965181495408\" stroke-linecap=\"round\" style=\"stroke:red;stroke-width:4\"/><line x1=\"410.73576436351004\" y1=\"127.28965181495408\" x2=\"404.9999999999996\" y2=\"135.481172257844\" stroke-linecap=\"round\" style=\"stroke:red;stroke-width:4\"/><line x1=\"404.9999999999996\" y1=\"135.481172257844\" x2=\"399.9999999999996\" y2=\"144.1414262956884\" stroke-linecap=\"round\" style=\"stroke:red;stroke-width:4\"/><line x1=\"399.9999999999996\" y1=\"144.1414262956884\" x2=\"395.7738173825926\" y2=\"153.2045041660549\" stroke-linecap=\"round\" style=\"stroke:red;stroke-width:4\"/><line x1=\"395.7738173825926\" y1=\"153.2045041660549\" x2=\"392.3536159493359\" y2=\"162.60143037391398\" stroke-linecap=\"round\" style=\"stroke:red;stroke-width:4\"/><line x1=\"392.3536159493359\" y1=\"162.60143037391398\" x2=\"389.7654254983107\" y2=\"172.26068863680467\" stroke-linecap=\"round\" style=\"stroke:red;stroke-width:4\"/><line x1=\"389.7654254983107\" y1=\"172.26068863680467\" x2=\"388.02894372164144\" y2=\"182.10876616692676\" stroke-linecap=\"round\" style=\"stroke:red;stroke-width:4\"/><line x1=\"388.02894372164144\" y1=\"182.10876616692676\" x2=\"387.15738629416484\" y2=\"192.0707131478442\" stroke-linecap=\"round\" style=\"stroke:red;stroke-width:4\"/><line x1=\"387.15738629416484\" y1=\"192.0707131478442\" x2=\"387.15738629416484\" y2=\"202.0707131478442\" stroke-linecap=\"round\" style=\"stroke:red;stroke-width:4\"/><line x1=\"387.15738629416484\" y1=\"202.0707131478442\" x2=\"388.02894372164144\" y2=\"212.03266012876165\" stroke-linecap=\"round\" style=\"stroke:red;stroke-width:4\"/><line x1=\"388.02894372164144\" y1=\"212.03266012876165\" x2=\"389.7654254983107\" y2=\"221.88073765888373\" stroke-linecap=\"round\" style=\"stroke:red;stroke-width:4\"/><line x1=\"389.7654254983107\" y1=\"221.88073765888373\" x2=\"392.3536159493359\" y2=\"231.53999592177442\" stroke-linecap=\"round\" style=\"stroke:red;stroke-width:4\"/><line x1=\"392.3536159493359\" y1=\"231.53999592177442\" x2=\"395.7738173825926\" y2=\"240.9369221296335\" stroke-linecap=\"round\" style=\"stroke:red;stroke-width:4\"/><line x1=\"395.7738173825926\" y1=\"240.9369221296335\" x2=\"399.9999999999996\" y2=\"250.0\" stroke-linecap=\"round\" style=\"stroke:red;stroke-width:4\"/><line x1=\"399.9999999999996\" y1=\"250.0\" x2=\"408.66025403784397\" y2=\"255.0\" stroke-linecap=\"round\" style=\"stroke:red;stroke-width:4\"/><line x1=\"408.66025403784397\" y1=\"255.0\" x2=\"417.72333190821047\" y2=\"259.226182617407\" stroke-linecap=\"round\" style=\"stroke:red;stroke-width:4\"/><line x1=\"417.72333190821047\" y1=\"259.226182617407\" x2=\"427.1202581160696\" y2=\"262.6463840506637\" stroke-linecap=\"round\" style=\"stroke:red;stroke-width:4\"/><line x1=\"427.1202581160696\" y1=\"262.6463840506637\" x2=\"436.77951637896024\" y2=\"265.2345745016889\" stroke-linecap=\"round\" style=\"stroke:red;stroke-width:4\"/><line x1=\"436.77951637896024\" y1=\"265.2345745016889\" x2=\"446.6275939090823\" y2=\"266.97105627835816\" stroke-linecap=\"round\" style=\"stroke:red;stroke-width:4\"/><line x1=\"446.6275939090823\" y1=\"266.97105627835816\" x2=\"456.58954088999974\" y2=\"267.84261370583476\" stroke-linecap=\"round\" style=\"stroke:red;stroke-width:4\"/><line x1=\"456.58954088999974\" y1=\"267.84261370583476\" x2=\"466.58954088999974\" y2=\"267.84261370583476\" stroke-linecap=\"round\" style=\"stroke:red;stroke-width:4\"/><line x1=\"466.58954088999974\" y1=\"267.84261370583476\" x2=\"476.5514878709172\" y2=\"266.97105627835816\" stroke-linecap=\"round\" style=\"stroke:red;stroke-width:4\"/><line x1=\"476.5514878709172\" y1=\"266.97105627835816\" x2=\"486.39956540103924\" y2=\"265.2345745016889\" stroke-linecap=\"round\" style=\"stroke:red;stroke-width:4\"/><line x1=\"486.39956540103924\" y1=\"265.2345745016889\" x2=\"496.0588236639299\" y2=\"262.6463840506637\" stroke-linecap=\"round\" style=\"stroke:red;stroke-width:4\"/><line x1=\"496.0588236639299\" y1=\"262.6463840506637\" x2=\"505.455749871789\" y2=\"259.226182617407\" stroke-linecap=\"round\" style=\"stroke:red;stroke-width:4\"/><line x1=\"505.455749871789\" y1=\"259.226182617407\" x2=\"514.5188277421555\" y2=\"255.0\" stroke-linecap=\"round\" style=\"stroke:red;stroke-width:4\"/><line x1=\"514.5188277421555\" y1=\"255.0\" x2=\"523.1790817799999\" y2=\"250.0\" stroke-linecap=\"round\" style=\"stroke:red;stroke-width:4\"/><line x1=\"523.1790817799999\" y1=\"250.0\" x2=\"531.3706022228898\" y2=\"244.26423563648953\" stroke-linecap=\"round\" style=\"stroke:red;stroke-width:4\"/><line x1=\"531.3706022228898\" y1=\"244.26423563648953\" x2=\"539.0310466540797\" y2=\"237.83635953962414\" stroke-linecap=\"round\" style=\"stroke:red;stroke-width:4\"/><line x1=\"539.0310466540797\" y1=\"237.83635953962414\" x2=\"546.1021144659451\" y2=\"230.76529172775867\" stroke-linecap=\"round\" style=\"stroke:red;stroke-width:4\"/><line x1=\"546.1021144659451\" y1=\"230.76529172775867\" x2=\"552.5299905628104\" y2=\"223.1048472965689\" stroke-linecap=\"round\" style=\"stroke:red;stroke-width:4\"/><line x1=\"552.5299905628104\" y1=\"223.1048472965689\" x2=\"558.2657549263209\" y2=\"214.91332685367897\" stroke-linecap=\"round\" style=\"stroke:red;stroke-width:4\"/><line x1=\"558.2657549263209\" y1=\"214.91332685367897\" x2=\"563.2657549263209\" y2=\"206.25307281583457\" stroke-linecap=\"round\" style=\"stroke:red;stroke-width:4\"/><line x1=\"563.2657549263209\" y1=\"206.25307281583457\" x2=\"567.4919375437279\" y2=\"197.18999494546807\" stroke-linecap=\"round\" style=\"stroke:red;stroke-width:4\"/><line x1=\"567.4919375437279\" y1=\"197.18999494546807\" x2=\"570.9121389769846\" y2=\"187.793068737609\" stroke-linecap=\"round\" style=\"stroke:red;stroke-width:4\"/><line x1=\"570.9121389769846\" y1=\"187.793068737609\" x2=\"573.5003294280098\" y2=\"178.1338104747183\" stroke-linecap=\"round\" style=\"stroke:red;stroke-width:4\"/><line x1=\"573.5003294280098\" y1=\"178.1338104747183\" x2=\"575.236811204679\" y2=\"168.28573294459622\" stroke-linecap=\"round\" style=\"stroke:red;stroke-width:4\"/><line x1=\"575.236811204679\" y1=\"168.28573294459622\" x2=\"576.1083686321556\" y2=\"158.32378596367877\" stroke-linecap=\"round\" style=\"stroke:red;stroke-width:4\"/><line x1=\"576.1083686321556\" y1=\"158.32378596367877\" x2=\"576.1083686321556\" y2=\"148.32378596367877\" stroke-linecap=\"round\" style=\"stroke:red;stroke-width:4\"/><line x1=\"576.1083686321556\" y1=\"148.32378596367877\" x2=\"575.236811204679\" y2=\"138.36183898276133\" stroke-linecap=\"round\" style=\"stroke:red;stroke-width:4\"/><line x1=\"575.236811204679\" y1=\"138.36183898276133\" x2=\"573.5003294280098\" y2=\"128.51376145263924\" stroke-linecap=\"round\" style=\"stroke:red;stroke-width:4\"/><line x1=\"573.5003294280098\" y1=\"128.51376145263924\" x2=\"570.9121389769846\" y2=\"118.85450318974856\" stroke-linecap=\"round\" style=\"stroke:red;stroke-width:4\"/><line x1=\"570.9121389769846\" y1=\"118.85450318974856\" x2=\"567.4919375437279\" y2=\"109.45757698188947\" stroke-linecap=\"round\" style=\"stroke:red;stroke-width:4\"/><line x1=\"567.4919375437279\" y1=\"109.45757698188947\" x2=\"563.2657549263209\" y2=\"100.39449911152298\" stroke-linecap=\"round\" style=\"stroke:red;stroke-width:4\"/><line x1=\"563.2657549263209\" y1=\"100.39449911152298\" x2=\"558.2657549263209\" y2=\"91.7342450736786\" stroke-linecap=\"round\" style=\"stroke:red;stroke-width:4\"/><line x1=\"558.2657549263209\" y1=\"91.7342450736786\" x2=\"552.5299905628104\" y2=\"83.54272463078868\" stroke-linecap=\"round\" style=\"stroke:red;stroke-width:4\"/><line x1=\"552.5299905628104\" y1=\"83.54272463078868\" x2=\"546.1021144659451\" y2=\"75.88228019959891\" stroke-linecap=\"round\" style=\"stroke:red;stroke-width:4\"/><line x1=\"546.1021144659451\" y1=\"75.88228019959891\" x2=\"539.0310466540795\" y2=\"68.81121238773343\" stroke-linecap=\"round\" style=\"stroke:red;stroke-width:4\"/><line x1=\"539.0310466540795\" y1=\"68.81121238773343\" x2=\"531.3706022228897\" y2=\"62.383336290868044\" stroke-linecap=\"round\" style=\"stroke:red;stroke-width:4\"/><line x1=\"531.3706022228897\" y1=\"62.383336290868044\" x2=\"523.1790817799998\" y2=\"56.64757192735758\" stroke-linecap=\"round\" style=\"stroke:red;stroke-width:4\"/><line x1=\"523.1790817799998\" y1=\"56.64757192735758\" x2=\"514.5188277421554\" y2=\"51.64757192735758\" stroke-linecap=\"round\" style=\"stroke:red;stroke-width:4\"/><line x1=\"514.5188277421554\" y1=\"51.64757192735758\" x2=\"505.4557498717889\" y2=\"47.42138930995059\" stroke-linecap=\"round\" style=\"stroke:red;stroke-width:4\"/><line x1=\"505.4557498717889\" y1=\"47.42138930995059\" x2=\"496.0588236639298\" y2=\"44.001187876693905\" stroke-linecap=\"round\" style=\"stroke:red;stroke-width:4\"/><line x1=\"496.0588236639298\" y1=\"44.001187876693905\" x2=\"486.3995654010391\" y2=\"41.4129974256687\" stroke-linecap=\"round\" style=\"stroke:red;stroke-width:4\"/><line x1=\"486.3995654010391\" y1=\"41.4129974256687\" x2=\"476.5514878709171\" y2=\"39.67651564899939\" stroke-linecap=\"round\" style=\"stroke:red;stroke-width:4\"/><line x1=\"476.5514878709171\" y1=\"39.67651564899939\" x2=\"466.5895408899996\" y2=\"38.80495822152281\" stroke-linecap=\"round\" style=\"stroke:red;stroke-width:4\"/><line x1=\"466.5895408899996\" y1=\"38.80495822152281\" x2=\"456.5895408899996\" y2=\"38.80495822152281\" stroke-linecap=\"round\" style=\"stroke:red;stroke-width:4\"/><line x1=\"456.5895408899996\" y1=\"38.80495822152281\" x2=\"446.6275939090822\" y2=\"39.67651564899939\" stroke-linecap=\"round\" style=\"stroke:red;stroke-width:4\"/><line x1=\"446.6275939090822\" y1=\"39.67651564899939\" x2=\"436.7795163789601\" y2=\"41.41299742566869\" stroke-linecap=\"round\" style=\"stroke:red;stroke-width:4\"/><line x1=\"436.7795163789601\" y1=\"41.41299742566869\" x2=\"427.12025811606946\" y2=\"44.001187876693905\" stroke-linecap=\"round\" style=\"stroke:red;stroke-width:4\"/><line x1=\"427.12025811606946\" y1=\"44.001187876693905\" x2=\"417.72333190821035\" y2=\"47.42138930995059\" stroke-linecap=\"round\" style=\"stroke:red;stroke-width:4\"/><line x1=\"417.72333190821035\" y1=\"47.42138930995059\" x2=\"408.66025403784386\" y2=\"51.64757192735759\" stroke-linecap=\"round\" style=\"stroke:red;stroke-width:4\"/><line x1=\"408.66025403784386\" y1=\"51.64757192735759\" x2=\"399.9999999999995\" y2=\"56.64757192735759\" stroke-linecap=\"round\" style=\"stroke:red;stroke-width:4\"/><line x1=\"399.9999999999995\" y1=\"56.64757192735759\" x2=\"391.8084795571096\" y2=\"62.38333629086805\" stroke-linecap=\"round\" style=\"stroke:red;stroke-width:4\"/><line x1=\"391.8084795571096\" y1=\"62.38333629086805\" x2=\"384.1480351259198\" y2=\"68.81121238773345\" stroke-linecap=\"round\" style=\"stroke:red;stroke-width:4\"/><line x1=\"384.1480351259198\" y1=\"68.81121238773345\" x2=\"377.07696731405434\" y2=\"75.88228019959892\" stroke-linecap=\"round\" style=\"stroke:red;stroke-width:4\"/><line x1=\"377.07696731405434\" y1=\"75.88228019959892\" x2=\"370.6490912171889\" y2=\"83.5427246307887\" stroke-linecap=\"round\" style=\"stroke:red;stroke-width:4\"/><line x1=\"370.6490912171889\" y1=\"83.5427246307887\" x2=\"364.9133268536785\" y2=\"91.73424507367861\" stroke-linecap=\"round\" style=\"stroke:red;stroke-width:4\"/><line x1=\"364.9133268536785\" y1=\"91.73424507367861\" x2=\"359.9133268536785\" y2=\"100.39449911152299\" stroke-linecap=\"round\" style=\"stroke:red;stroke-width:4\"/><line x1=\"359.9133268536785\" y1=\"100.39449911152299\" x2=\"355.6871442362715\" y2=\"109.45757698188949\" stroke-linecap=\"round\" style=\"stroke:red;stroke-width:4\"/><line x1=\"355.6871442362715\" y1=\"109.45757698188949\" x2=\"352.2669428030148\" y2=\"118.85450318974857\" stroke-linecap=\"round\" style=\"stroke:red;stroke-width:4\"/><line x1=\"352.2669428030148\" y1=\"118.85450318974857\" x2=\"349.6787523519896\" y2=\"128.51376145263924\" stroke-linecap=\"round\" style=\"stroke:red;stroke-width:4\"/><line x1=\"349.6787523519896\" y1=\"128.51376145263924\" x2=\"347.9422705753203\" y2=\"138.36183898276133\" stroke-linecap=\"round\" style=\"stroke:red;stroke-width:4\"/><line x1=\"347.9422705753203\" y1=\"138.36183898276133\" x2=\"347.0707131478437\" y2=\"148.32378596367877\" stroke-linecap=\"round\" style=\"stroke:red;stroke-width:4\"/><line x1=\"347.0707131478437\" y1=\"148.32378596367877\" x2=\"347.0707131478437\" y2=\"158.32378596367877\" stroke-linecap=\"round\" style=\"stroke:red;stroke-width:4\"/><line x1=\"347.0707131478437\" y1=\"158.32378596367877\" x2=\"347.9422705753203\" y2=\"168.28573294459622\" stroke-linecap=\"round\" style=\"stroke:red;stroke-width:4\"/><line x1=\"347.9422705753203\" y1=\"168.28573294459622\" x2=\"349.6787523519896\" y2=\"178.1338104747183\" stroke-linecap=\"round\" style=\"stroke:red;stroke-width:4\"/><line x1=\"349.6787523519896\" y1=\"178.1338104747183\" x2=\"352.2669428030148\" y2=\"187.793068737609\" stroke-linecap=\"round\" style=\"stroke:red;stroke-width:4\"/><line x1=\"352.2669428030148\" y1=\"187.793068737609\" x2=\"355.6871442362715\" y2=\"197.18999494546807\" stroke-linecap=\"round\" style=\"stroke:red;stroke-width:4\"/><line x1=\"355.6871442362715\" y1=\"197.18999494546807\" x2=\"359.9133268536785\" y2=\"206.25307281583457\" stroke-linecap=\"round\" style=\"stroke:red;stroke-width:4\"/><line x1=\"359.9133268536785\" y1=\"206.25307281583457\" x2=\"364.9133268536785\" y2=\"214.91332685367897\" stroke-linecap=\"round\" style=\"stroke:red;stroke-width:4\"/><line x1=\"364.9133268536785\" y1=\"214.91332685367897\" x2=\"370.6490912171889\" y2=\"223.1048472965689\" stroke-linecap=\"round\" style=\"stroke:red;stroke-width:4\"/><line x1=\"370.6490912171889\" y1=\"223.1048472965689\" x2=\"377.07696731405434\" y2=\"230.76529172775867\" stroke-linecap=\"round\" style=\"stroke:red;stroke-width:4\"/><line x1=\"377.07696731405434\" y1=\"230.76529172775867\" x2=\"384.1480351259198\" y2=\"237.83635953962414\" stroke-linecap=\"round\" style=\"stroke:red;stroke-width:4\"/><line x1=\"384.1480351259198\" y1=\"237.83635953962414\" x2=\"391.8084795571096\" y2=\"244.26423563648953\" stroke-linecap=\"round\" style=\"stroke:red;stroke-width:4\"/><line x1=\"391.8084795571096\" y1=\"244.26423563648953\" x2=\"399.9999999999995\" y2=\"250.0\" stroke-linecap=\"round\" style=\"stroke:red;stroke-width:4\"/><line x1=\"399.9999999999995\" y1=\"250.0\" x2=\"409.9999999999995\" y2=\"250.0\" stroke-linecap=\"round\" style=\"stroke:red;stroke-width:4\"/><line x1=\"409.9999999999995\" y1=\"250.0\" x2=\"419.96194698091693\" y2=\"249.12844257252343\" stroke-linecap=\"round\" style=\"stroke:red;stroke-width:4\"/><line x1=\"419.96194698091693\" y1=\"249.12844257252343\" x2=\"429.810024511039\" y2=\"247.39196079585412\" stroke-linecap=\"round\" style=\"stroke:red;stroke-width:4\"/><line x1=\"429.810024511039\" y1=\"247.39196079585412\" x2=\"439.46928277392965\" y2=\"244.8037703448289\" stroke-linecap=\"round\" style=\"stroke:red;stroke-width:4\"/><line x1=\"439.46928277392965\" y1=\"244.8037703448289\" x2=\"448.86620898178876\" y2=\"241.3835689115722\" stroke-linecap=\"round\" style=\"stroke:red;stroke-width:4\"/><line x1=\"448.86620898178876\" y1=\"241.3835689115722\" x2=\"457.92928685215526\" y2=\"237.1573862941652\" stroke-linecap=\"round\" style=\"stroke:red;stroke-width:4\"/><line x1=\"457.92928685215526\" y1=\"237.1573862941652\" x2=\"466.5895408899996\" y2=\"232.1573862941652\" stroke-linecap=\"round\" style=\"stroke:red;stroke-width:4\"/><line x1=\"466.5895408899996\" y1=\"232.1573862941652\" x2=\"474.7810613328895\" y2=\"226.42162193065474\" stroke-linecap=\"round\" style=\"stroke:red;stroke-width:4\"/><line x1=\"474.7810613328895\" y1=\"226.42162193065474\" x2=\"482.4415057640793\" y2=\"219.99374583378935\" stroke-linecap=\"round\" style=\"stroke:red;stroke-width:4\"/><line x1=\"482.4415057640793\" y1=\"219.99374583378935\" x2=\"489.51257357594477\" y2=\"212.92267802192387\" stroke-linecap=\"round\" style=\"stroke:red;stroke-width:4\"/><line x1=\"489.51257357594477\" y1=\"212.92267802192387\" x2=\"495.9404496728102\" y2=\"205.2622335907341\" stroke-linecap=\"round\" style=\"stroke:red;stroke-width:4\"/><line x1=\"495.9404496728102\" y1=\"205.2622335907341\" x2=\"501.67621403632063\" y2=\"197.07071314784417\" stroke-linecap=\"round\" style=\"stroke:red;stroke-width:4\"/><line x1=\"501.67621403632063\" y1=\"197.07071314784417\" x2=\"506.67621403632063\" y2=\"188.41045910999978\" stroke-linecap=\"round\" style=\"stroke:red;stroke-width:4\"/><line x1=\"506.67621403632063\" y1=\"188.41045910999978\" x2=\"510.90239665372764\" y2=\"179.34738123963328\" stroke-linecap=\"round\" style=\"stroke:red;stroke-width:4\"/><line x1=\"510.90239665372764\" y1=\"179.34738123963328\" x2=\"514.3225980869843\" y2=\"169.9504550317742\" stroke-linecap=\"round\" style=\"stroke:red;stroke-width:4\"/><line x1=\"514.3225980869843\" y1=\"169.9504550317742\" x2=\"516.9107885380095\" y2=\"160.2911967688835\" stroke-linecap=\"round\" style=\"stroke:red;stroke-width:4\"/><line x1=\"516.9107885380095\" y1=\"160.2911967688835\" x2=\"518.6472703146787\" y2=\"150.44311923876143\" stroke-linecap=\"round\" style=\"stroke:red;stroke-width:4\"/><line x1=\"518.6472703146787\" y1=\"150.44311923876143\" x2=\"519.5188277421553\" y2=\"140.48117225784398\" stroke-linecap=\"round\" style=\"stroke:red;stroke-width:4\"/><line x1=\"519.5188277421553\" y1=\"140.48117225784398\" x2=\"519.5188277421553\" y2=\"130.48117225784398\" stroke-linecap=\"round\" style=\"stroke:red;stroke-width:4\"/><line x1=\"519.5188277421553\" y1=\"130.48117225784398\" x2=\"518.6472703146787\" y2=\"120.51922527692652\" stroke-linecap=\"round\" style=\"stroke:red;stroke-width:4\"/><line x1=\"518.6472703146787\" y1=\"120.51922527692652\" x2=\"516.9107885380095\" y2=\"110.67114774680444\" stroke-linecap=\"round\" style=\"stroke:red;stroke-width:4\"/><line x1=\"516.9107885380095\" y1=\"110.67114774680444\" x2=\"514.3225980869843\" y2=\"101.01188948391375\" stroke-linecap=\"round\" style=\"stroke:red;stroke-width:4\"/><line x1=\"514.3225980869843\" y1=\"101.01188948391375\" x2=\"510.9023966537276\" y2=\"91.61496327605467\" stroke-linecap=\"round\" style=\"stroke:red;stroke-width:4\"/><line x1=\"510.9023966537276\" y1=\"91.61496327605467\" x2=\"506.6762140363206\" y2=\"82.55188540568817\" stroke-linecap=\"round\" style=\"stroke:red;stroke-width:4\"/><line x1=\"506.6762140363206\" y1=\"82.55188540568817\" x2=\"501.6762140363206\" y2=\"73.89163136784379\" stroke-linecap=\"round\" style=\"stroke:red;stroke-width:4\"/><line x1=\"501.6762140363206\" y1=\"73.89163136784379\" x2=\"495.94044967281013\" y2=\"65.70011092495388\" stroke-linecap=\"round\" style=\"stroke:red;stroke-width:4\"/><line x1=\"495.94044967281013\" y1=\"65.70011092495388\" x2=\"489.5125735759447\" y2=\"58.039666493764095\" stroke-linecap=\"round\" style=\"stroke:red;stroke-width:4\"/><line x1=\"489.5125735759447\" y1=\"58.039666493764095\" x2=\"482.44150576407924\" y2=\"50.96859868189862\" stroke-linecap=\"round\" style=\"stroke:red;stroke-width:4\"/><line x1=\"482.44150576407924\" y1=\"50.96859868189862\" x2=\"474.78106133288946\" y2=\"44.54072258503323\" stroke-linecap=\"round\" style=\"stroke:red;stroke-width:4\"/><line x1=\"474.78106133288946\" y1=\"44.54072258503323\" x2=\"466.58954088999957\" y2=\"38.80495822152277\" stroke-linecap=\"round\" style=\"stroke:red;stroke-width:4\"/><line x1=\"466.58954088999957\" y1=\"38.80495822152277\" x2=\"457.9292868521552\" y2=\"33.80495822152277\" stroke-linecap=\"round\" style=\"stroke:red;stroke-width:4\"/><line x1=\"457.9292868521552\" y1=\"33.80495822152277\" x2=\"448.8662089817887\" y2=\"29.578775604115776\" stroke-linecap=\"round\" style=\"stroke:red;stroke-width:4\"/><line x1=\"448.8662089817887\" y1=\"29.578775604115776\" x2=\"439.4692827739296\" y2=\"26.15857417085909\" stroke-linecap=\"round\" style=\"stroke:red;stroke-width:4\"/><line x1=\"439.4692827739296\" y1=\"26.15857417085909\" x2=\"429.81002451103893\" y2=\"23.57038371983388\" stroke-linecap=\"round\" style=\"stroke:red;stroke-width:4\"/><line x1=\"429.81002451103893\" y1=\"23.57038371983388\" x2=\"419.9619469809169\" y2=\"21.833901943164577\" stroke-linecap=\"round\" style=\"stroke:red;stroke-width:4\"/><line x1=\"419.9619469809169\" y1=\"21.833901943164577\" x2=\"409.99999999999943\" y2=\"20.962344515688\" stroke-linecap=\"round\" style=\"stroke:red;stroke-width:4\"/><line x1=\"409.99999999999943\" y1=\"20.962344515688\" x2=\"399.99999999999943\" y2=\"20.962344515688\" stroke-linecap=\"round\" style=\"stroke:red;stroke-width:4\"/><line x1=\"399.99999999999943\" y1=\"20.962344515688\" x2=\"390.038053019082\" y2=\"21.83390194316458\" stroke-linecap=\"round\" style=\"stroke:red;stroke-width:4\"/><line x1=\"390.038053019082\" y1=\"21.83390194316458\" x2=\"380.18997548895993\" y2=\"23.570383719833885\" stroke-linecap=\"round\" style=\"stroke:red;stroke-width:4\"/><line x1=\"380.18997548895993\" y1=\"23.570383719833885\" x2=\"370.53071722606927\" y2=\"26.158574170859094\" stroke-linecap=\"round\" style=\"stroke:red;stroke-width:4\"/><line x1=\"370.53071722606927\" y1=\"26.158574170859094\" x2=\"361.13379101821016\" y2=\"29.578775604115783\" stroke-linecap=\"round\" style=\"stroke:red;stroke-width:4\"/><line x1=\"361.13379101821016\" y1=\"29.578775604115783\" x2=\"352.07071314784366\" y2=\"33.80495822152278\" stroke-linecap=\"round\" style=\"stroke:red;stroke-width:4\"/><line x1=\"352.07071314784366\" y1=\"33.80495822152278\" x2=\"343.4104591099993\" y2=\"38.80495822152278\" stroke-linecap=\"round\" style=\"stroke:red;stroke-width:4\"/><line x1=\"343.4104591099993\" y1=\"38.80495822152278\" x2=\"335.2189386671094\" y2=\"44.540722585033244\" stroke-linecap=\"round\" style=\"stroke:red;stroke-width:4\"/><line x1=\"335.2189386671094\" y1=\"44.540722585033244\" x2=\"327.5584942359196\" y2=\"50.96859868189864\" stroke-linecap=\"round\" style=\"stroke:red;stroke-width:4\"/><line x1=\"327.5584942359196\" y1=\"50.96859868189864\" x2=\"320.48742642405415\" y2=\"58.039666493764116\" stroke-linecap=\"round\" style=\"stroke:red;stroke-width:4\"/><line x1=\"320.48742642405415\" y1=\"58.039666493764116\" x2=\"314.05955032718873\" y2=\"65.70011092495389\" stroke-linecap=\"round\" style=\"stroke:red;stroke-width:4\"/><line x1=\"314.05955032718873\" y1=\"65.70011092495389\" x2=\"308.3237859636783\" y2=\"73.89163136784381\" stroke-linecap=\"round\" style=\"stroke:red;stroke-width:4\"/><line x1=\"308.3237859636783\" y1=\"73.89163136784381\" x2=\"303.3237859636783\" y2=\"82.5518854056882\" stroke-linecap=\"round\" style=\"stroke:red;stroke-width:4\"/><line x1=\"303.3237859636783\" y1=\"82.5518854056882\" x2=\"299.0976033462713\" y2=\"91.6149632760547\" stroke-linecap=\"round\" style=\"stroke:red;stroke-width:4\"/><line x1=\"299.0976033462713\" y1=\"91.6149632760547\" x2=\"295.6774019130146\" y2=\"101.01188948391378\" stroke-linecap=\"round\" style=\"stroke:red;stroke-width:4\"/><line x1=\"295.6774019130146\" y1=\"101.01188948391378\" x2=\"293.0892114619894\" y2=\"110.67114774680446\" stroke-linecap=\"round\" style=\"stroke:red;stroke-width:4\"/><line x1=\"293.0892114619894\" y1=\"110.67114774680446\" x2=\"291.3527296853201\" y2=\"120.51922527692655\" stroke-linecap=\"round\" style=\"stroke:red;stroke-width:4\"/><line x1=\"291.3527296853201\" y1=\"120.51922527692655\" x2=\"290.4811722578435\" y2=\"130.481172257844\" stroke-linecap=\"round\" style=\"stroke:red;stroke-width:4\"/><line x1=\"290.4811722578435\" y1=\"130.481172257844\" x2=\"290.4811722578435\" y2=\"140.481172257844\" stroke-linecap=\"round\" style=\"stroke:red;stroke-width:4\"/><line x1=\"290.4811722578435\" y1=\"140.481172257844\" x2=\"291.3527296853201\" y2=\"150.44311923876145\" stroke-linecap=\"round\" style=\"stroke:red;stroke-width:4\"/><line x1=\"291.3527296853201\" y1=\"150.44311923876145\" x2=\"293.0892114619894\" y2=\"160.29119676888354\" stroke-linecap=\"round\" style=\"stroke:red;stroke-width:4\"/><line x1=\"293.0892114619894\" y1=\"160.29119676888354\" x2=\"295.6774019130146\" y2=\"169.95045503177423\" stroke-linecap=\"round\" style=\"stroke:red;stroke-width:4\"/><line x1=\"295.6774019130146\" y1=\"169.95045503177423\" x2=\"299.0976033462713\" y2=\"179.3473812396333\" stroke-linecap=\"round\" style=\"stroke:red;stroke-width:4\"/><line x1=\"299.0976033462713\" y1=\"179.3473812396333\" x2=\"303.3237859636783\" y2=\"188.4104591099998\" stroke-linecap=\"round\" style=\"stroke:red;stroke-width:4\"/><line x1=\"303.3237859636783\" y1=\"188.4104591099998\" x2=\"308.3237859636783\" y2=\"197.0707131478442\" stroke-linecap=\"round\" style=\"stroke:red;stroke-width:4\"/><line x1=\"308.3237859636783\" y1=\"197.0707131478442\" x2=\"314.05955032718873\" y2=\"205.26223359073413\" stroke-linecap=\"round\" style=\"stroke:red;stroke-width:4\"/><line x1=\"314.05955032718873\" y1=\"205.26223359073413\" x2=\"320.48742642405415\" y2=\"212.9226780219239\" stroke-linecap=\"round\" style=\"stroke:red;stroke-width:4\"/><line x1=\"320.48742642405415\" y1=\"212.9226780219239\" x2=\"327.5584942359196\" y2=\"219.99374583378938\" stroke-linecap=\"round\" style=\"stroke:red;stroke-width:4\"/><line x1=\"327.5584942359196\" y1=\"219.99374583378938\" x2=\"335.2189386671094\" y2=\"226.42162193065477\" stroke-linecap=\"round\" style=\"stroke:red;stroke-width:4\"/><line x1=\"335.2189386671094\" y1=\"226.42162193065477\" x2=\"343.4104591099993\" y2=\"232.15738629416524\" stroke-linecap=\"round\" style=\"stroke:red;stroke-width:4\"/><line x1=\"343.4104591099993\" y1=\"232.15738629416524\" x2=\"352.07071314784366\" y2=\"237.15738629416524\" stroke-linecap=\"round\" style=\"stroke:red;stroke-width:4\"/><line x1=\"352.07071314784366\" y1=\"237.15738629416524\" x2=\"361.13379101821016\" y2=\"241.38356891157224\" stroke-linecap=\"round\" style=\"stroke:red;stroke-width:4\"/><line x1=\"361.13379101821016\" y1=\"241.38356891157224\" x2=\"370.53071722606927\" y2=\"244.80377034482893\" stroke-linecap=\"round\" style=\"stroke:red;stroke-width:4\"/><line x1=\"370.53071722606927\" y1=\"244.80377034482893\" x2=\"380.18997548895993\" y2=\"247.39196079585415\" stroke-linecap=\"round\" style=\"stroke:red;stroke-width:4\"/><line x1=\"380.18997548895993\" y1=\"247.39196079585415\" x2=\"390.038053019082\" y2=\"249.12844257252345\" stroke-linecap=\"round\" style=\"stroke:red;stroke-width:4\"/><line x1=\"390.038053019082\" y1=\"249.12844257252345\" x2=\"399.99999999999943\" y2=\"250.00000000000003\" stroke-linecap=\"round\" style=\"stroke:red;stroke-width:4\"/><line x1=\"399.99999999999943\" y1=\"250.00000000000003\" x2=\"408.6602540378438\" y2=\"245.00000000000003\" stroke-linecap=\"round\" style=\"stroke:red;stroke-width:4\"/><line x1=\"408.6602540378438\" y1=\"245.00000000000003\" x2=\"416.8517744807337\" y2=\"239.26423563648956\" stroke-linecap=\"round\" style=\"stroke:red;stroke-width:4\"/><line x1=\"416.8517744807337\" y1=\"239.26423563648956\" x2=\"424.51221891192347\" y2=\"232.83635953962417\" stroke-linecap=\"round\" style=\"stroke:red;stroke-width:4\"/><line x1=\"424.51221891192347\" y1=\"232.83635953962417\" x2=\"431.58328672378894\" y2=\"225.7652917277587\" stroke-linecap=\"round\" style=\"stroke:red;stroke-width:4\"/><line x1=\"431.58328672378894\" y1=\"225.7652917277587\" x2=\"438.01116282065436\" y2=\"218.10484729656892\" stroke-linecap=\"round\" style=\"stroke:red;stroke-width:4\"/><line x1=\"438.01116282065436\" y1=\"218.10484729656892\" x2=\"443.7469271841648\" y2=\"209.913326853679\" stroke-linecap=\"round\" style=\"stroke:red;stroke-width:4\"/><line x1=\"443.7469271841648\" y1=\"209.913326853679\" x2=\"448.7469271841648\" y2=\"201.2530728158346\" stroke-linecap=\"round\" style=\"stroke:red;stroke-width:4\"/><line x1=\"448.7469271841648\" y1=\"201.2530728158346\" x2=\"452.9731098015718\" y2=\"192.1899949454681\" stroke-linecap=\"round\" style=\"stroke:red;stroke-width:4\"/><line x1=\"452.9731098015718\" y1=\"192.1899949454681\" x2=\"456.3933112348285\" y2=\"182.79306873760902\" stroke-linecap=\"round\" style=\"stroke:red;stroke-width:4\"/><line x1=\"456.3933112348285\" y1=\"182.79306873760902\" x2=\"458.9815016858537\" y2=\"173.13381047471833\" stroke-linecap=\"round\" style=\"stroke:red;stroke-width:4\"/><line x1=\"458.9815016858537\" y1=\"173.13381047471833\" x2=\"460.71798346252297\" y2=\"163.28573294459625\" stroke-linecap=\"round\" style=\"stroke:red;stroke-width:4\"/><line x1=\"460.71798346252297\" y1=\"163.28573294459625\" x2=\"461.58954088999957\" y2=\"153.3237859636788\" stroke-linecap=\"round\" style=\"stroke:red;stroke-width:4\"/><line x1=\"461.58954088999957\" y1=\"153.3237859636788\" x2=\"461.58954088999957\" y2=\"143.3237859636788\" stroke-linecap=\"round\" style=\"stroke:red;stroke-width:4\"/><line x1=\"461.58954088999957\" y1=\"143.3237859636788\" x2=\"460.71798346252297\" y2=\"133.36183898276136\" stroke-linecap=\"round\" style=\"stroke:red;stroke-width:4\"/><line x1=\"460.71798346252297\" y1=\"133.36183898276136\" x2=\"458.9815016858537\" y2=\"123.51376145263927\" stroke-linecap=\"round\" style=\"stroke:red;stroke-width:4\"/><line x1=\"458.9815016858537\" y1=\"123.51376145263927\" x2=\"456.3933112348285\" y2=\"113.85450318974858\" stroke-linecap=\"round\" style=\"stroke:red;stroke-width:4\"/><line x1=\"456.3933112348285\" y1=\"113.85450318974858\" x2=\"452.9731098015718\" y2=\"104.4575769818895\" stroke-linecap=\"round\" style=\"stroke:red;stroke-width:4\"/><line x1=\"452.9731098015718\" y1=\"104.4575769818895\" x2=\"448.7469271841648\" y2=\"95.394499111523\" stroke-linecap=\"round\" style=\"stroke:red;stroke-width:4\"/><line x1=\"448.7469271841648\" y1=\"95.394499111523\" x2=\"443.7469271841648\" y2=\"86.73424507367862\" stroke-linecap=\"round\" style=\"stroke:red;stroke-width:4\"/><line x1=\"443.7469271841648\" y1=\"86.73424507367862\" x2=\"438.01116282065436\" y2=\"78.54272463078871\" stroke-linecap=\"round\" style=\"stroke:red;stroke-width:4\"/><line x1=\"438.01116282065436\" y1=\"78.54272463078871\" x2=\"431.58328672378894\" y2=\"70.88228019959894\" stroke-linecap=\"round\" style=\"stroke:red;stroke-width:4\"/><line x1=\"431.58328672378894\" y1=\"70.88228019959894\" x2=\"424.51221891192347\" y2=\"63.81121238773346\" stroke-linecap=\"round\" style=\"stroke:red;stroke-width:4\"/><line x1=\"424.51221891192347\" y1=\"63.81121238773346\" x2=\"416.8517744807337\" y2=\"57.38333629086807\" stroke-linecap=\"round\" style=\"stroke:red;stroke-width:4\"/><line x1=\"416.8517744807337\" y1=\"57.38333629086807\" x2=\"408.6602540378438\" y2=\"51.64757192735761\" stroke-linecap=\"round\" style=\"stroke:red;stroke-width:4\"/><line x1=\"408.6602540378438\" y1=\"51.64757192735761\" x2=\"399.99999999999943\" y2=\"46.64757192735761\" stroke-linecap=\"round\" style=\"stroke:red;stroke-width:4\"/><line x1=\"399.99999999999943\" y1=\"46.64757192735761\" x2=\"390.93692212963293\" y2=\"42.42138930995062\" stroke-linecap=\"round\" style=\"stroke:red;stroke-width:4\"/><line x1=\"390.93692212963293\" y1=\"42.42138930995062\" x2=\"381.5399959217738\" y2=\"39.00118787669393\" stroke-linecap=\"round\" style=\"stroke:red;stroke-width:4\"/><line x1=\"381.5399959217738\" y1=\"39.00118787669393\" x2=\"371.88073765888316\" y2=\"36.41299742566873\" stroke-linecap=\"round\" style=\"stroke:red;stroke-width:4\"/><line x1=\"371.88073765888316\" y1=\"36.41299742566873\" x2=\"362.0326601287611\" y2=\"34.67651564899942\" stroke-linecap=\"round\" style=\"stroke:red;stroke-width:4\"/><line x1=\"362.0326601287611\" y1=\"34.67651564899942\" x2=\"352.07071314784366\" y2=\"33.80495822152284\" stroke-linecap=\"round\" style=\"stroke:red;stroke-width:4\"/><line x1=\"352.07071314784366\" y1=\"33.80495822152284\" x2=\"342.07071314784366\" y2=\"33.80495822152284\" stroke-linecap=\"round\" style=\"stroke:red;stroke-width:4\"/><line x1=\"342.07071314784366\" y1=\"33.80495822152284\" x2=\"332.1087661669262\" y2=\"34.67651564899942\" stroke-linecap=\"round\" style=\"stroke:red;stroke-width:4\"/><line x1=\"332.1087661669262\" y1=\"34.67651564899942\" x2=\"322.26068863680416\" y2=\"36.41299742566872\" stroke-linecap=\"round\" style=\"stroke:red;stroke-width:4\"/><line x1=\"322.26068863680416\" y1=\"36.41299742566872\" x2=\"312.6014303739135\" y2=\"39.00118787669393\" stroke-linecap=\"round\" style=\"stroke:red;stroke-width:4\"/><line x1=\"312.6014303739135\" y1=\"39.00118787669393\" x2=\"303.2045041660544\" y2=\"42.42138930995062\" stroke-linecap=\"round\" style=\"stroke:red;stroke-width:4\"/><line x1=\"303.2045041660544\" y1=\"42.42138930995062\" x2=\"294.1414262956879\" y2=\"46.64757192735762\" stroke-linecap=\"round\" style=\"stroke:red;stroke-width:4\"/><line x1=\"294.1414262956879\" y1=\"46.64757192735762\" x2=\"285.4811722578435\" y2=\"51.64757192735762\" stroke-linecap=\"round\" style=\"stroke:red;stroke-width:4\"/><line x1=\"285.4811722578435\" y1=\"51.64757192735762\" x2=\"277.28965181495363\" y2=\"57.38333629086808\" stroke-linecap=\"round\" style=\"stroke:red;stroke-width:4\"/><line x1=\"277.28965181495363\" y1=\"57.38333629086808\" x2=\"269.62920738376386\" y2=\"63.81121238773348\" stroke-linecap=\"round\" style=\"stroke:red;stroke-width:4\"/><line x1=\"269.62920738376386\" y1=\"63.81121238773348\" x2=\"262.5581395718984\" y2=\"70.88228019959895\" stroke-linecap=\"round\" style=\"stroke:red;stroke-width:4\"/><line x1=\"262.5581395718984\" y1=\"70.88228019959895\" x2=\"256.13026347503296\" y2=\"78.54272463078873\" stroke-linecap=\"round\" style=\"stroke:red;stroke-width:4\"/><line x1=\"256.13026347503296\" y1=\"78.54272463078873\" x2=\"250.3944991115225\" y2=\"86.73424507367864\" stroke-linecap=\"round\" style=\"stroke:red;stroke-width:4\"/><line x1=\"250.3944991115225\" y1=\"86.73424507367864\" x2=\"245.3944991115225\" y2=\"95.39449911152302\" stroke-linecap=\"round\" style=\"stroke:red;stroke-width:4\"/><line x1=\"245.3944991115225\" y1=\"95.39449911152302\" x2=\"241.1683164941155\" y2=\"104.45757698188952\" stroke-linecap=\"round\" style=\"stroke:red;stroke-width:4\"/><line x1=\"241.1683164941155\" y1=\"104.45757698188952\" x2=\"237.7481150608588\" y2=\"113.8545031897486\" stroke-linecap=\"round\" style=\"stroke:red;stroke-width:4\"/><line x1=\"237.7481150608588\" y1=\"113.8545031897486\" x2=\"235.15992460983358\" y2=\"123.51376145263929\" stroke-linecap=\"round\" style=\"stroke:red;stroke-width:4\"/><line x1=\"235.15992460983358\" y1=\"123.51376145263929\" x2=\"233.42344283316427\" y2=\"133.36183898276136\" stroke-linecap=\"round\" style=\"stroke:red;stroke-width:4\"/><line x1=\"233.42344283316427\" y1=\"133.36183898276136\" x2=\"232.5518854056877\" y2=\"143.3237859636788\" stroke-linecap=\"round\" style=\"stroke:red;stroke-width:4\"/><line x1=\"232.5518854056877\" y1=\"143.3237859636788\" x2=\"232.5518854056877\" y2=\"153.3237859636788\" stroke-linecap=\"round\" style=\"stroke:red;stroke-width:4\"/><line x1=\"232.5518854056877\" y1=\"153.3237859636788\" x2=\"233.42344283316427\" y2=\"163.28573294459625\" stroke-linecap=\"round\" style=\"stroke:red;stroke-width:4\"/><line x1=\"233.42344283316427\" y1=\"163.28573294459625\" x2=\"235.15992460983358\" y2=\"173.13381047471833\" stroke-linecap=\"round\" style=\"stroke:red;stroke-width:4\"/><line x1=\"235.15992460983358\" y1=\"173.13381047471833\" x2=\"237.7481150608588\" y2=\"182.79306873760902\" stroke-linecap=\"round\" style=\"stroke:red;stroke-width:4\"/><line x1=\"237.7481150608588\" y1=\"182.79306873760902\" x2=\"241.1683164941155\" y2=\"192.1899949454681\" stroke-linecap=\"round\" style=\"stroke:red;stroke-width:4\"/><line x1=\"241.1683164941155\" y1=\"192.1899949454681\" x2=\"245.3944991115225\" y2=\"201.2530728158346\" stroke-linecap=\"round\" style=\"stroke:red;stroke-width:4\"/><line x1=\"245.3944991115225\" y1=\"201.2530728158346\" x2=\"250.3944991115225\" y2=\"209.913326853679\" stroke-linecap=\"round\" style=\"stroke:red;stroke-width:4\"/><line x1=\"250.3944991115225\" y1=\"209.913326853679\" x2=\"256.13026347503296\" y2=\"218.10484729656892\" stroke-linecap=\"round\" style=\"stroke:red;stroke-width:4\"/><line x1=\"256.13026347503296\" y1=\"218.10484729656892\" x2=\"262.5581395718984\" y2=\"225.7652917277587\" stroke-linecap=\"round\" style=\"stroke:red;stroke-width:4\"/><line x1=\"262.5581395718984\" y1=\"225.7652917277587\" x2=\"269.62920738376386\" y2=\"232.83635953962417\" stroke-linecap=\"round\" style=\"stroke:red;stroke-width:4\"/><line x1=\"269.62920738376386\" y1=\"232.83635953962417\" x2=\"277.28965181495363\" y2=\"239.26423563648956\" stroke-linecap=\"round\" style=\"stroke:red;stroke-width:4\"/><line x1=\"277.28965181495363\" y1=\"239.26423563648956\" x2=\"285.4811722578435\" y2=\"245.00000000000003\" stroke-linecap=\"round\" style=\"stroke:red;stroke-width:4\"/><line x1=\"285.4811722578435\" y1=\"245.00000000000003\" x2=\"294.1414262956879\" y2=\"250.00000000000003\" stroke-linecap=\"round\" style=\"stroke:red;stroke-width:4\"/><line x1=\"294.1414262956879\" y1=\"250.00000000000003\" x2=\"303.2045041660544\" y2=\"254.22618261740703\" stroke-linecap=\"round\" style=\"stroke:red;stroke-width:4\"/><line x1=\"303.2045041660544\" y1=\"254.22618261740703\" x2=\"312.6014303739135\" y2=\"257.6463840506637\" stroke-linecap=\"round\" style=\"stroke:red;stroke-width:4\"/><line x1=\"312.6014303739135\" y1=\"257.6463840506637\" x2=\"322.26068863680416\" y2=\"260.2345745016889\" stroke-linecap=\"round\" style=\"stroke:red;stroke-width:4\"/><line x1=\"322.26068863680416\" y1=\"260.2345745016889\" x2=\"332.1087661669262\" y2=\"261.97105627835816\" stroke-linecap=\"round\" style=\"stroke:red;stroke-width:4\"/><line x1=\"332.1087661669262\" y1=\"261.97105627835816\" x2=\"342.07071314784366\" y2=\"262.84261370583476\" stroke-linecap=\"round\" style=\"stroke:red;stroke-width:4\"/><line x1=\"342.07071314784366\" y1=\"262.84261370583476\" x2=\"352.07071314784366\" y2=\"262.84261370583476\" stroke-linecap=\"round\" style=\"stroke:red;stroke-width:4\"/><line x1=\"352.07071314784366\" y1=\"262.84261370583476\" x2=\"362.0326601287611\" y2=\"261.97105627835816\" stroke-linecap=\"round\" style=\"stroke:red;stroke-width:4\"/><line x1=\"362.0326601287611\" y1=\"261.97105627835816\" x2=\"371.88073765888316\" y2=\"260.2345745016889\" stroke-linecap=\"round\" style=\"stroke:red;stroke-width:4\"/><line x1=\"371.88073765888316\" y1=\"260.2345745016889\" x2=\"381.5399959217738\" y2=\"257.6463840506637\" stroke-linecap=\"round\" style=\"stroke:red;stroke-width:4\"/><line x1=\"381.5399959217738\" y1=\"257.6463840506637\" x2=\"390.93692212963293\" y2=\"254.226182617407\" stroke-linecap=\"round\" style=\"stroke:red;stroke-width:4\"/><line x1=\"390.93692212963293\" y1=\"254.226182617407\" x2=\"399.99999999999943\" y2=\"250.0\" stroke-linecap=\"round\" style=\"stroke:red;stroke-width:4\"/><line x1=\"399.99999999999943\" y1=\"250.0\" x2=\"404.99999999999943\" y2=\"241.3397459621556\" stroke-linecap=\"round\" style=\"stroke:red;stroke-width:4\"/><line x1=\"404.99999999999943\" y1=\"241.3397459621556\" x2=\"409.22618261740644\" y2=\"232.2766680917891\" stroke-linecap=\"round\" style=\"stroke:red;stroke-width:4\"/><line x1=\"409.22618261740644\" y1=\"232.2766680917891\" x2=\"412.64638405066313\" y2=\"222.87974188393002\" stroke-linecap=\"round\" style=\"stroke:red;stroke-width:4\"/><line x1=\"412.64638405066313\" y1=\"222.87974188393002\" x2=\"415.2345745016883\" y2=\"213.22048362103934\" stroke-linecap=\"round\" style=\"stroke:red;stroke-width:4\"/><line x1=\"415.2345745016883\" y1=\"213.22048362103934\" x2=\"416.9710562783576\" y2=\"203.37240609091725\" stroke-linecap=\"round\" style=\"stroke:red;stroke-width:4\"/><line x1=\"416.9710562783576\" y1=\"203.37240609091725\" x2=\"417.8426137058342\" y2=\"193.4104591099998\" stroke-linecap=\"round\" style=\"stroke:red;stroke-width:4\"/><line x1=\"417.8426137058342\" y1=\"193.4104591099998\" x2=\"417.8426137058342\" y2=\"183.4104591099998\" stroke-linecap=\"round\" style=\"stroke:red;stroke-width:4\"/><line x1=\"417.8426137058342\" y1=\"183.4104591099998\" x2=\"416.9710562783576\" y2=\"173.44851212908236\" stroke-linecap=\"round\" style=\"stroke:red;stroke-width:4\"/><line x1=\"416.9710562783576\" y1=\"173.44851212908236\" x2=\"415.2345745016883\" y2=\"163.60043459896028\" stroke-linecap=\"round\" style=\"stroke:red;stroke-width:4\"/><line x1=\"415.2345745016883\" y1=\"163.60043459896028\" x2=\"412.64638405066313\" y2=\"153.9411763360696\" stroke-linecap=\"round\" style=\"stroke:red;stroke-width:4\"/><line x1=\"412.64638405066313\" y1=\"153.9411763360696\" x2=\"409.22618261740644\" y2=\"144.5442501282105\" stroke-linecap=\"round\" style=\"stroke:red;stroke-width:4\"/><line x1=\"409.22618261740644\" y1=\"144.5442501282105\" x2=\"404.99999999999943\" y2=\"135.481172257844\" stroke-linecap=\"round\" style=\"stroke:red;stroke-width:4\"/><line x1=\"404.99999999999943\" y1=\"135.481172257844\" x2=\"399.99999999999943\" y2=\"126.82091821999963\" stroke-linecap=\"round\" style=\"stroke:red;stroke-width:4\"/><line x1=\"399.99999999999943\" y1=\"126.82091821999963\" x2=\"394.264235636489\" y2=\"118.62939777710972\" stroke-linecap=\"round\" style=\"stroke:red;stroke-width:4\"/><line x1=\"394.264235636489\" y1=\"118.62939777710972\" x2=\"387.8363595396236\" y2=\"110.96895334591994\" stroke-linecap=\"round\" style=\"stroke:red;stroke-width:4\"/><line x1=\"387.8363595396236\" y1=\"110.96895334591994\" x2=\"380.7652917277581\" y2=\"103.89788553405447\" stroke-linecap=\"round\" style=\"stroke:red;stroke-width:4\"/><line x1=\"380.7652917277581\" y1=\"103.89788553405447\" x2=\"373.1048472965683\" y2=\"97.47000943718908\" stroke-linecap=\"round\" style=\"stroke:red;stroke-width:4\"/><line x1=\"373.1048472965683\" y1=\"97.47000943718908\" x2=\"364.9133268536784\" y2=\"91.73424507367862\" stroke-linecap=\"round\" style=\"stroke:red;stroke-width:4\"/><line x1=\"364.9133268536784\" y1=\"91.73424507367862\" x2=\"356.25307281583406\" y2=\"86.73424507367862\" stroke-linecap=\"round\" style=\"stroke:red;stroke-width:4\"/><line x1=\"356.25307281583406\" y1=\"86.73424507367862\" x2=\"347.18999494546756\" y2=\"82.50806245627163\" stroke-linecap=\"round\" style=\"stroke:red;stroke-width:4\"/><line x1=\"347.18999494546756\" y1=\"82.50806245627163\" x2=\"337.79306873760845\" y2=\"79.08786102301494\" stroke-linecap=\"round\" style=\"stroke:red;stroke-width:4\"/><line x1=\"337.79306873760845\" y1=\"79.08786102301494\" x2=\"328.1338104747178\" y2=\"76.49967057198972\" stroke-linecap=\"round\" style=\"stroke:red;stroke-width:4\"/><line x1=\"328.1338104747178\" y1=\"76.49967057198972\" x2=\"318.28573294459574\" y2=\"74.76318879532042\" stroke-linecap=\"round\" style=\"stroke:red;stroke-width:4\"/><line x1=\"318.28573294459574\" y1=\"74.76318879532042\" x2=\"308.3237859636783\" y2=\"73.89163136784384\" stroke-linecap=\"round\" style=\"stroke:red;stroke-width:4\"/><line x1=\"308.3237859636783\" y1=\"73.89163136784384\" x2=\"298.3237859636783\" y2=\"73.89163136784384\" stroke-linecap=\"round\" style=\"stroke:red;stroke-width:4\"/><line x1=\"298.3237859636783\" y1=\"73.89163136784384\" x2=\"288.36183898276084\" y2=\"74.76318879532043\" stroke-linecap=\"round\" style=\"stroke:red;stroke-width:4\"/><line x1=\"288.36183898276084\" y1=\"74.76318879532043\" x2=\"278.5137614526388\" y2=\"76.49967057198974\" stroke-linecap=\"round\" style=\"stroke:red;stroke-width:4\"/><line x1=\"278.5137614526388\" y1=\"76.49967057198974\" x2=\"268.85450318974813\" y2=\"79.08786102301495\" stroke-linecap=\"round\" style=\"stroke:red;stroke-width:4\"/><line x1=\"268.85450318974813\" y1=\"79.08786102301495\" x2=\"259.457576981889\" y2=\"82.50806245627165\" stroke-linecap=\"round\" style=\"stroke:red;stroke-width:4\"/><line x1=\"259.457576981889\" y1=\"82.50806245627165\" x2=\"250.39449911152252\" y2=\"86.73424507367864\" stroke-linecap=\"round\" style=\"stroke:red;stroke-width:4\"/><line x1=\"250.39449911152252\" y1=\"86.73424507367864\" x2=\"241.73424507367812\" y2=\"91.73424507367864\" stroke-linecap=\"round\" style=\"stroke:red;stroke-width:4\"/><line x1=\"241.73424507367812\" y1=\"91.73424507367864\" x2=\"233.5427246307882\" y2=\"97.47000943718909\" stroke-linecap=\"round\" style=\"stroke:red;stroke-width:4\"/><line x1=\"233.5427246307882\" y1=\"97.47000943718909\" x2=\"225.88228019959843\" y2=\"103.89788553405448\" stroke-linecap=\"round\" style=\"stroke:red;stroke-width:4\"/><line x1=\"225.88228019959843\" y1=\"103.89788553405448\" x2=\"218.81121238773295\" y2=\"110.96895334591996\" stroke-linecap=\"round\" style=\"stroke:red;stroke-width:4\"/><line x1=\"218.81121238773295\" y1=\"110.96895334591996\" x2=\"212.38333629086756\" y2=\"118.62939777710973\" stroke-linecap=\"round\" style=\"stroke:red;stroke-width:4\"/><line x1=\"212.38333629086756\" y1=\"118.62939777710973\" x2=\"206.6475719273571\" y2=\"126.82091821999964\" stroke-linecap=\"round\" style=\"stroke:red;stroke-width:4\"/><line x1=\"206.6475719273571\" y1=\"126.82091821999964\" x2=\"201.6475719273571\" y2=\"135.48117225784404\" stroke-linecap=\"round\" style=\"stroke:red;stroke-width:4\"/><line x1=\"201.6475719273571\" y1=\"135.48117225784404\" x2=\"197.4213893099501\" y2=\"144.54425012821054\" stroke-linecap=\"round\" style=\"stroke:red;stroke-width:4\"/><line x1=\"197.4213893099501\" y1=\"144.54425012821054\" x2=\"194.0011878766934\" y2=\"153.94117633606962\" stroke-linecap=\"round\" style=\"stroke:red;stroke-width:4\"/><line x1=\"194.0011878766934\" y1=\"153.94117633606962\" x2=\"191.41299742566818\" y2=\"163.6004345989603\" stroke-linecap=\"round\" style=\"stroke:red;stroke-width:4\"/><line x1=\"191.41299742566818\" y1=\"163.6004345989603\" x2=\"189.67651564899887\" y2=\"173.4485121290824\" stroke-linecap=\"round\" style=\"stroke:red;stroke-width:4\"/><line x1=\"189.67651564899887\" y1=\"173.4485121290824\" x2=\"188.8049582215223\" y2=\"183.41045910999983\" stroke-linecap=\"round\" style=\"stroke:red;stroke-width:4\"/><line x1=\"188.8049582215223\" y1=\"183.41045910999983\" x2=\"188.8049582215223\" y2=\"193.41045910999983\" stroke-linecap=\"round\" style=\"stroke:red;stroke-width:4\"/><line x1=\"188.8049582215223\" y1=\"193.41045910999983\" x2=\"189.67651564899887\" y2=\"203.37240609091728\" stroke-linecap=\"round\" style=\"stroke:red;stroke-width:4\"/><line x1=\"189.67651564899887\" y1=\"203.37240609091728\" x2=\"191.41299742566818\" y2=\"213.22048362103936\" stroke-linecap=\"round\" style=\"stroke:red;stroke-width:4\"/><line x1=\"191.41299742566818\" y1=\"213.22048362103936\" x2=\"194.0011878766934\" y2=\"222.87974188393005\" stroke-linecap=\"round\" style=\"stroke:red;stroke-width:4\"/><line x1=\"194.0011878766934\" y1=\"222.87974188393005\" x2=\"197.4213893099501\" y2=\"232.27666809178913\" stroke-linecap=\"round\" style=\"stroke:red;stroke-width:4\"/><line x1=\"197.4213893099501\" y1=\"232.27666809178913\" x2=\"201.6475719273571\" y2=\"241.33974596215563\" stroke-linecap=\"round\" style=\"stroke:red;stroke-width:4\"/><line x1=\"201.6475719273571\" y1=\"241.33974596215563\" x2=\"206.6475719273571\" y2=\"250.00000000000003\" stroke-linecap=\"round\" style=\"stroke:red;stroke-width:4\"/><line x1=\"206.6475719273571\" y1=\"250.00000000000003\" x2=\"212.38333629086756\" y2=\"258.19152044288995\" stroke-linecap=\"round\" style=\"stroke:red;stroke-width:4\"/><line x1=\"212.38333629086756\" y1=\"258.19152044288995\" x2=\"218.81121238773295\" y2=\"265.8519648740797\" stroke-linecap=\"round\" style=\"stroke:red;stroke-width:4\"/><line x1=\"218.81121238773295\" y1=\"265.8519648740797\" x2=\"225.88228019959843\" y2=\"272.9230326859452\" stroke-linecap=\"round\" style=\"stroke:red;stroke-width:4\"/><line x1=\"225.88228019959843\" y1=\"272.9230326859452\" x2=\"233.5427246307882\" y2=\"279.3509087828106\" stroke-linecap=\"round\" style=\"stroke:red;stroke-width:4\"/><line x1=\"233.5427246307882\" y1=\"279.3509087828106\" x2=\"241.73424507367812\" y2=\"285.08667314632106\" stroke-linecap=\"round\" style=\"stroke:red;stroke-width:4\"/><line x1=\"241.73424507367812\" y1=\"285.08667314632106\" x2=\"250.39449911152252\" y2=\"290.08667314632106\" stroke-linecap=\"round\" style=\"stroke:red;stroke-width:4\"/><line x1=\"250.39449911152252\" y1=\"290.08667314632106\" x2=\"259.457576981889\" y2=\"294.31285576372807\" stroke-linecap=\"round\" style=\"stroke:red;stroke-width:4\"/><line x1=\"259.457576981889\" y1=\"294.31285576372807\" x2=\"268.85450318974813\" y2=\"297.73305719698476\" stroke-linecap=\"round\" style=\"stroke:red;stroke-width:4\"/><line x1=\"268.85450318974813\" y1=\"297.73305719698476\" x2=\"278.5137614526388\" y2=\"300.32124764800994\" stroke-linecap=\"round\" style=\"stroke:red;stroke-width:4\"/><line x1=\"278.5137614526388\" y1=\"300.32124764800994\" x2=\"288.36183898276084\" y2=\"302.0577294246792\" stroke-linecap=\"round\" style=\"stroke:red;stroke-width:4\"/><line x1=\"288.36183898276084\" y1=\"302.0577294246792\" x2=\"298.3237859636783\" y2=\"302.9292868521558\" stroke-linecap=\"round\" style=\"stroke:red;stroke-width:4\"/><line x1=\"298.3237859636783\" y1=\"302.9292868521558\" x2=\"308.3237859636783\" y2=\"302.9292868521558\" stroke-linecap=\"round\" style=\"stroke:red;stroke-width:4\"/><line x1=\"308.3237859636783\" y1=\"302.9292868521558\" x2=\"318.28573294459574\" y2=\"302.0577294246792\" stroke-linecap=\"round\" style=\"stroke:red;stroke-width:4\"/><line x1=\"318.28573294459574\" y1=\"302.0577294246792\" x2=\"328.1338104747178\" y2=\"300.32124764800994\" stroke-linecap=\"round\" style=\"stroke:red;stroke-width:4\"/><line x1=\"328.1338104747178\" y1=\"300.32124764800994\" x2=\"337.79306873760845\" y2=\"297.73305719698476\" stroke-linecap=\"round\" style=\"stroke:red;stroke-width:4\"/><line x1=\"337.79306873760845\" y1=\"297.73305719698476\" x2=\"347.18999494546756\" y2=\"294.31285576372807\" stroke-linecap=\"round\" style=\"stroke:red;stroke-width:4\"/><line x1=\"347.18999494546756\" y1=\"294.31285576372807\" x2=\"356.25307281583406\" y2=\"290.08667314632106\" stroke-linecap=\"round\" style=\"stroke:red;stroke-width:4\"/><line x1=\"356.25307281583406\" y1=\"290.08667314632106\" x2=\"364.9133268536784\" y2=\"285.08667314632106\" stroke-linecap=\"round\" style=\"stroke:red;stroke-width:4\"/><line x1=\"364.9133268536784\" y1=\"285.08667314632106\" x2=\"373.1048472965683\" y2=\"279.3509087828106\" stroke-linecap=\"round\" style=\"stroke:red;stroke-width:4\"/><line x1=\"373.1048472965683\" y1=\"279.3509087828106\" x2=\"380.7652917277581\" y2=\"272.9230326859452\" stroke-linecap=\"round\" style=\"stroke:red;stroke-width:4\"/><line x1=\"380.7652917277581\" y1=\"272.9230326859452\" x2=\"387.8363595396236\" y2=\"265.8519648740797\" stroke-linecap=\"round\" style=\"stroke:red;stroke-width:4\"/><line x1=\"387.8363595396236\" y1=\"265.8519648740797\" x2=\"394.264235636489\" y2=\"258.19152044288995\" stroke-linecap=\"round\" style=\"stroke:red;stroke-width:4\"/><line x1=\"394.264235636489\" y1=\"258.19152044288995\" x2=\"399.99999999999943\" y2=\"250.00000000000003\" stroke-linecap=\"round\" style=\"stroke:red;stroke-width:4\"/><line x1=\"399.99999999999943\" y1=\"250.00000000000003\" x2=\"399.99999999999943\" y2=\"240.00000000000003\" stroke-linecap=\"round\" style=\"stroke:red;stroke-width:4\"/><line x1=\"399.99999999999943\" y1=\"240.00000000000003\" x2=\"399.12844257252283\" y2=\"230.03805301908258\" stroke-linecap=\"round\" style=\"stroke:red;stroke-width:4\"/><line x1=\"399.12844257252283\" y1=\"230.03805301908258\" x2=\"397.39196079585355\" y2=\"220.1899754889605\" stroke-linecap=\"round\" style=\"stroke:red;stroke-width:4\"/><line x1=\"397.39196079585355\" y1=\"220.1899754889605\" x2=\"394.80377034482837\" y2=\"210.5307172260698\" stroke-linecap=\"round\" style=\"stroke:red;stroke-width:4\"/><line x1=\"394.80377034482837\" y1=\"210.5307172260698\" x2=\"391.3835689115717\" y2=\"201.13379101821073\" stroke-linecap=\"round\" style=\"stroke:red;stroke-width:4\"/><line x1=\"391.3835689115717\" y1=\"201.13379101821073\" x2=\"387.15738629416467\" y2=\"192.07071314784423\" stroke-linecap=\"round\" style=\"stroke:red;stroke-width:4\"/><line x1=\"387.15738629416467\" y1=\"192.07071314784423\" x2=\"382.15738629416467\" y2=\"183.41045910999983\" stroke-linecap=\"round\" style=\"stroke:red;stroke-width:4\"/><line x1=\"382.15738629416467\" y1=\"183.41045910999983\" x2=\"376.4216219306542\" y2=\"175.2189386671099\" stroke-linecap=\"round\" style=\"stroke:red;stroke-width:4\"/><line x1=\"376.4216219306542\" y1=\"175.2189386671099\" x2=\"369.9937458337888\" y2=\"167.55849423592014\" stroke-linecap=\"round\" style=\"stroke:red;stroke-width:4\"/><line x1=\"369.9937458337888\" y1=\"167.55849423592014\" x2=\"362.92267802192333\" y2=\"160.48742642405466\" stroke-linecap=\"round\" style=\"stroke:red;stroke-width:4\"/><line x1=\"362.92267802192333\" y1=\"160.48742642405466\" x2=\"355.26223359073356\" y2=\"154.05955032718927\" stroke-linecap=\"round\" style=\"stroke:red;stroke-width:4\"/><line x1=\"355.26223359073356\" y1=\"154.05955032718927\" x2=\"347.07071314784366\" y2=\"148.3237859636788\" stroke-linecap=\"round\" style=\"stroke:red;stroke-width:4\"/><line x1=\"347.07071314784366\" y1=\"148.3237859636788\" x2=\"338.4104591099993\" y2=\"143.3237859636788\" stroke-linecap=\"round\" style=\"stroke:red;stroke-width:4\"/><line x1=\"338.4104591099993\" y1=\"143.3237859636788\" x2=\"329.3473812396328\" y2=\"139.0976033462718\" stroke-linecap=\"round\" style=\"stroke:red;stroke-width:4\"/><line x1=\"329.3473812396328\" y1=\"139.0976033462718\" x2=\"319.9504550317737\" y2=\"135.6774019130151\" stroke-linecap=\"round\" style=\"stroke:red;stroke-width:4\"/><line x1=\"319.9504550317737\" y1=\"135.6774019130151\" x2=\"310.291196768883\" y2=\"133.0892114619899\" stroke-linecap=\"round\" style=\"stroke:red;stroke-width:4\"/><line x1=\"310.291196768883\" y1=\"133.0892114619899\" x2=\"300.44311923876097\" y2=\"131.35272968532058\" stroke-linecap=\"round\" style=\"stroke:red;stroke-width:4\"/><line x1=\"300.44311923876097\" y1=\"131.35272968532058\" x2=\"290.4811722578435\" y2=\"130.481172257844\" stroke-linecap=\"round\" style=\"stroke:red;stroke-width:4\"/><line x1=\"290.4811722578435\" y1=\"130.481172257844\" x2=\"280.4811722578435\" y2=\"130.481172257844\" stroke-linecap=\"round\" style=\"stroke:red;stroke-width:4\"/><line x1=\"280.4811722578435\" y1=\"130.481172257844\" x2=\"270.5192252769261\" y2=\"131.35272968532058\" stroke-linecap=\"round\" style=\"stroke:red;stroke-width:4\"/><line x1=\"270.5192252769261\" y1=\"131.35272968532058\" x2=\"260.671147746804\" y2=\"133.0892114619899\" stroke-linecap=\"round\" style=\"stroke:red;stroke-width:4\"/><line x1=\"260.671147746804\" y1=\"133.0892114619899\" x2=\"251.01188948391334\" y2=\"135.6774019130151\" stroke-linecap=\"round\" style=\"stroke:red;stroke-width:4\"/><line x1=\"251.01188948391334\" y1=\"135.6774019130151\" x2=\"241.61496327605425\" y2=\"139.0976033462718\" stroke-linecap=\"round\" style=\"stroke:red;stroke-width:4\"/><line x1=\"241.61496327605425\" y1=\"139.0976033462718\" x2=\"232.55188540568776\" y2=\"143.3237859636788\" stroke-linecap=\"round\" style=\"stroke:red;stroke-width:4\"/><line x1=\"232.55188540568776\" y1=\"143.3237859636788\" x2=\"223.89163136784336\" y2=\"148.3237859636788\" stroke-linecap=\"round\" style=\"stroke:red;stroke-width:4\"/><line x1=\"223.89163136784336\" y1=\"148.3237859636788\" x2=\"215.70011092495344\" y2=\"154.05955032718927\" stroke-linecap=\"round\" style=\"stroke:red;stroke-width:4\"/><line x1=\"215.70011092495344\" y1=\"154.05955032718927\" x2=\"208.03966649376366\" y2=\"160.48742642405466\" stroke-linecap=\"round\" style=\"stroke:red;stroke-width:4\"/><line x1=\"208.03966649376366\" y1=\"160.48742642405466\" x2=\"200.9685986818982\" y2=\"167.55849423592014\" stroke-linecap=\"round\" style=\"stroke:red;stroke-width:4\"/><line x1=\"200.9685986818982\" y1=\"167.55849423592014\" x2=\"194.5407225850328\" y2=\"175.2189386671099\" stroke-linecap=\"round\" style=\"stroke:red;stroke-width:4\"/><line x1=\"194.5407225850328\" y1=\"175.2189386671099\" x2=\"188.80495822152233\" y2=\"183.41045910999983\" stroke-linecap=\"round\" style=\"stroke:red;stroke-width:4\"/><line x1=\"188.80495822152233\" y1=\"183.41045910999983\" x2=\"183.80495822152233\" y2=\"192.07071314784423\" stroke-linecap=\"round\" style=\"stroke:red;stroke-width:4\"/><line x1=\"183.80495822152233\" y1=\"192.07071314784423\" x2=\"179.57877560411532\" y2=\"201.13379101821073\" stroke-linecap=\"round\" style=\"stroke:red;stroke-width:4\"/><line x1=\"179.57877560411532\" y1=\"201.13379101821073\" x2=\"176.15857417085863\" y2=\"210.5307172260698\" stroke-linecap=\"round\" style=\"stroke:red;stroke-width:4\"/><line x1=\"176.15857417085863\" y1=\"210.5307172260698\" x2=\"173.57038371983342\" y2=\"220.1899754889605\" stroke-linecap=\"round\" style=\"stroke:red;stroke-width:4\"/><line x1=\"173.57038371983342\" y1=\"220.1899754889605\" x2=\"171.8339019431641\" y2=\"230.03805301908258\" stroke-linecap=\"round\" style=\"stroke:red;stroke-width:4\"/><line x1=\"171.8339019431641\" y1=\"230.03805301908258\" x2=\"170.96234451568753\" y2=\"240.00000000000003\" stroke-linecap=\"round\" style=\"stroke:red;stroke-width:4\"/><line x1=\"170.96234451568753\" y1=\"240.00000000000003\" x2=\"170.96234451568753\" y2=\"250.00000000000003\" stroke-linecap=\"round\" style=\"stroke:red;stroke-width:4\"/><line x1=\"170.96234451568753\" y1=\"250.00000000000003\" x2=\"171.8339019431641\" y2=\"259.9619469809175\" stroke-linecap=\"round\" style=\"stroke:red;stroke-width:4\"/><line x1=\"171.8339019431641\" y1=\"259.9619469809175\" x2=\"173.57038371983342\" y2=\"269.81002451103956\" stroke-linecap=\"round\" style=\"stroke:red;stroke-width:4\"/><line x1=\"173.57038371983342\" y1=\"269.81002451103956\" x2=\"176.15857417085863\" y2=\"279.4692827739302\" stroke-linecap=\"round\" style=\"stroke:red;stroke-width:4\"/><line x1=\"176.15857417085863\" y1=\"279.4692827739302\" x2=\"179.57877560411532\" y2=\"288.8662089817893\" stroke-linecap=\"round\" style=\"stroke:red;stroke-width:4\"/><line x1=\"179.57877560411532\" y1=\"288.8662089817893\" x2=\"183.80495822152233\" y2=\"297.9292868521558\" stroke-linecap=\"round\" style=\"stroke:red;stroke-width:4\"/><line x1=\"183.80495822152233\" y1=\"297.9292868521558\" x2=\"188.80495822152233\" y2=\"306.5895408900002\" stroke-linecap=\"round\" style=\"stroke:red;stroke-width:4\"/><line x1=\"188.80495822152233\" y1=\"306.5895408900002\" x2=\"194.5407225850328\" y2=\"314.7810613328901\" stroke-linecap=\"round\" style=\"stroke:red;stroke-width:4\"/><line x1=\"194.5407225850328\" y1=\"314.7810613328901\" x2=\"200.9685986818982\" y2=\"322.44150576407986\" stroke-linecap=\"round\" style=\"stroke:red;stroke-width:4\"/><line x1=\"200.9685986818982\" y1=\"322.44150576407986\" x2=\"208.03966649376366\" y2=\"329.51257357594534\" stroke-linecap=\"round\" style=\"stroke:red;stroke-width:4\"/><line x1=\"208.03966649376366\" y1=\"329.51257357594534\" x2=\"215.70011092495344\" y2=\"335.94044967281076\" stroke-linecap=\"round\" style=\"stroke:red;stroke-width:4\"/><line x1=\"215.70011092495344\" y1=\"335.94044967281076\" x2=\"223.89163136784336\" y2=\"341.6762140363212\" stroke-linecap=\"round\" style=\"stroke:red;stroke-width:4\"/><line x1=\"223.89163136784336\" y1=\"341.6762140363212\" x2=\"232.55188540568776\" y2=\"346.6762140363212\" stroke-linecap=\"round\" style=\"stroke:red;stroke-width:4\"/><line x1=\"232.55188540568776\" y1=\"346.6762140363212\" x2=\"241.61496327605425\" y2=\"350.9023966537282\" stroke-linecap=\"round\" style=\"stroke:red;stroke-width:4\"/><line x1=\"241.61496327605425\" y1=\"350.9023966537282\" x2=\"251.01188948391334\" y2=\"354.3225980869849\" stroke-linecap=\"round\" style=\"stroke:red;stroke-width:4\"/><line x1=\"251.01188948391334\" y1=\"354.3225980869849\" x2=\"260.671147746804\" y2=\"356.9107885380101\" stroke-linecap=\"round\" style=\"stroke:red;stroke-width:4\"/><line x1=\"260.671147746804\" y1=\"356.9107885380101\" x2=\"270.5192252769261\" y2=\"358.64727031467936\" stroke-linecap=\"round\" style=\"stroke:red;stroke-width:4\"/><line x1=\"270.5192252769261\" y1=\"358.64727031467936\" x2=\"280.4811722578435\" y2=\"359.51882774215596\" stroke-linecap=\"round\" style=\"stroke:red;stroke-width:4\"/><line x1=\"280.4811722578435\" y1=\"359.51882774215596\" x2=\"290.4811722578435\" y2=\"359.51882774215596\" stroke-linecap=\"round\" style=\"stroke:red;stroke-width:4\"/><line x1=\"290.4811722578435\" y1=\"359.51882774215596\" x2=\"300.44311923876097\" y2=\"358.64727031467936\" stroke-linecap=\"round\" style=\"stroke:red;stroke-width:4\"/><line x1=\"300.44311923876097\" y1=\"358.64727031467936\" x2=\"310.291196768883\" y2=\"356.9107885380101\" stroke-linecap=\"round\" style=\"stroke:red;stroke-width:4\"/><line x1=\"310.291196768883\" y1=\"356.9107885380101\" x2=\"319.9504550317737\" y2=\"354.3225980869849\" stroke-linecap=\"round\" style=\"stroke:red;stroke-width:4\"/><line x1=\"319.9504550317737\" y1=\"354.3225980869849\" x2=\"329.3473812396328\" y2=\"350.9023966537282\" stroke-linecap=\"round\" style=\"stroke:red;stroke-width:4\"/><line x1=\"329.3473812396328\" y1=\"350.9023966537282\" x2=\"338.4104591099993\" y2=\"346.6762140363212\" stroke-linecap=\"round\" style=\"stroke:red;stroke-width:4\"/><line x1=\"338.4104591099993\" y1=\"346.6762140363212\" x2=\"347.07071314784366\" y2=\"341.6762140363212\" stroke-linecap=\"round\" style=\"stroke:red;stroke-width:4\"/><line x1=\"347.07071314784366\" y1=\"341.6762140363212\" x2=\"355.26223359073356\" y2=\"335.94044967281076\" stroke-linecap=\"round\" style=\"stroke:red;stroke-width:4\"/><line x1=\"355.26223359073356\" y1=\"335.94044967281076\" x2=\"362.92267802192333\" y2=\"329.51257357594534\" stroke-linecap=\"round\" style=\"stroke:red;stroke-width:4\"/><line x1=\"362.92267802192333\" y1=\"329.51257357594534\" x2=\"369.9937458337888\" y2=\"322.44150576407986\" stroke-linecap=\"round\" style=\"stroke:red;stroke-width:4\"/><line x1=\"369.9937458337888\" y1=\"322.44150576407986\" x2=\"376.4216219306542\" y2=\"314.7810613328901\" stroke-linecap=\"round\" style=\"stroke:red;stroke-width:4\"/><line x1=\"376.4216219306542\" y1=\"314.7810613328901\" x2=\"382.15738629416467\" y2=\"306.5895408900002\" stroke-linecap=\"round\" style=\"stroke:red;stroke-width:4\"/><line x1=\"382.15738629416467\" y1=\"306.5895408900002\" x2=\"387.15738629416467\" y2=\"297.9292868521558\" stroke-linecap=\"round\" style=\"stroke:red;stroke-width:4\"/><line x1=\"387.15738629416467\" y1=\"297.9292868521558\" x2=\"391.3835689115717\" y2=\"288.8662089817893\" stroke-linecap=\"round\" style=\"stroke:red;stroke-width:4\"/><line x1=\"391.3835689115717\" y1=\"288.8662089817893\" x2=\"394.80377034482837\" y2=\"279.4692827739302\" stroke-linecap=\"round\" style=\"stroke:red;stroke-width:4\"/><line x1=\"394.80377034482837\" y1=\"279.4692827739302\" x2=\"397.39196079585355\" y2=\"269.81002451103956\" stroke-linecap=\"round\" style=\"stroke:red;stroke-width:4\"/><line x1=\"397.39196079585355\" y1=\"269.81002451103956\" x2=\"399.12844257252283\" y2=\"259.9619469809175\" stroke-linecap=\"round\" style=\"stroke:red;stroke-width:4\"/><line x1=\"399.12844257252283\" y1=\"259.9619469809175\" x2=\"399.99999999999943\" y2=\"250.00000000000006\" stroke-linecap=\"round\" style=\"stroke:red;stroke-width:4\"/>\n",
              "        \n",
              "      <g visibility=visible transform=\"rotate(180,399.99999999999943,250.00000000000006) translate(399.99999999999943, 250.00000000000006)\">\n",
              "        <circle stroke=\"red\" stroke-width=\"3\" fill=\"transparent\" r=\"12\" cx=\"0\" cy=\"0\"/>\n",
              "        <polygon points=\"0,19 3,16 -3,16\" style=\"fill:red;stroke:red;stroke-width:2\"/>\n",
              "      </g>\n",
              "    \n",
              "      </svg>\n",
              "    "
            ],
            "text/plain": [
              "<IPython.core.display.HTML object>"
            ]
          },
          "metadata": {
            "tags": []
          }
        }
      ]
    }
  ]
}