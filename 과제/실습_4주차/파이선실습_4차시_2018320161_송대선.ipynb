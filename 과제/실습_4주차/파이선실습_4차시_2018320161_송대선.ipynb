{
  "nbformat": 4,
  "nbformat_minor": 0,
  "metadata": {
    "kernelspec": {
      "display_name": "Python 3",
      "language": "python",
      "name": "python3"
    },
    "language_info": {
      "codemirror_mode": {
        "name": "ipython",
        "version": 3
      },
      "file_extension": ".py",
      "mimetype": "text/x-python",
      "name": "python",
      "nbconvert_exporter": "python",
      "pygments_lexer": "ipython3",
      "version": "3.6.5"
    },
    "colab": {
      "name": "파이선실습_4차시_2018320161_송대선.ipynb",
      "provenance": [],
      "collapsed_sections": []
    }
  },
  "cells": [
    {
      "cell_type": "markdown",
      "metadata": {
        "id": "_IjpQqS1Qsap"
      },
      "source": [
        "<h1>파이선 실습 - 4차시</h1>\n",
        "  \n",
        "10월 27일 실습내용 \n",
        "*  Dictionary"
      ]
    },
    {
      "cell_type": "markdown",
      "metadata": {
        "id": "5bwzr7Syl5jI"
      },
      "source": [
        "#1. 딕셔너리 기본\n"
      ]
    },
    {
      "cell_type": "markdown",
      "metadata": {
        "id": "eLuSzArPuAiI"
      },
      "source": [
        "1-1. 선언 및 삭제 / key, value"
      ]
    },
    {
      "cell_type": "code",
      "metadata": {
        "id": "n6sJRuKBP_ro"
      },
      "source": [
        "#선언하기_1\n",
        "IU={}"
      ],
      "execution_count": null,
      "outputs": []
    },
    {
      "cell_type": "code",
      "metadata": {
        "id": "tAKYqpOTti17",
        "outputId": "aa69139a-9409-449e-f98a-6314abfa7d8d",
        "colab": {
          "base_uri": "https://localhost:8080/",
          "height": 34
        }
      },
      "source": [
        "#선언하기_2\n",
        "IU=dict()\n",
        "print(IU)"
      ],
      "execution_count": null,
      "outputs": [
        {
          "output_type": "stream",
          "text": [
            "{}\n"
          ],
          "name": "stdout"
        }
      ]
    },
    {
      "cell_type": "code",
      "metadata": {
        "id": "7TZ02X5SP_rs",
        "outputId": "9561fecf-2b8b-4fac-b28b-92487538ff3c",
        "colab": {
          "base_uri": "https://localhost:8080/",
          "height": 34
        }
      },
      "source": [
        "IU={'이름': '아이유', '나이': 27}\n",
        "print(IU)"
      ],
      "execution_count": null,
      "outputs": [
        {
          "output_type": "stream",
          "text": [
            "{'이름': '아이유', '나이': 27}\n"
          ],
          "name": "stdout"
        }
      ]
    },
    {
      "cell_type": "code",
      "metadata": {
        "id": "41qE0FQ2P_ru",
        "outputId": "1920ccad-42bf-441f-dcea-3f39f2008648",
        "colab": {
          "base_uri": "https://localhost:8080/",
          "height": 34
        }
      },
      "source": [
        "#key를 이용해 삭제하기\n",
        "del IU['이름']\n",
        "print (IU)"
      ],
      "execution_count": null,
      "outputs": [
        {
          "output_type": "stream",
          "text": [
            "{'나이': 27}\n"
          ],
          "name": "stdout"
        }
      ]
    },
    {
      "cell_type": "markdown",
      "metadata": {
        "id": "YMGbZ-XOt_KS"
      },
      "source": [
        "1-2. 입력 받기"
      ]
    },
    {
      "cell_type": "code",
      "metadata": {
        "id": "2yNG7FnBP_rx",
        "outputId": "eb3cc9f9-cc6b-4a09-d65d-2e12716e5d78",
        "colab": {
          "base_uri": "https://localhost:8080/",
          "height": 232
        }
      },
      "source": [
        "#아래 코드를 실행하고 값을 입력해보세요. 오류가 발생한다면 무엇이 문제일지 생각해 봅시다.\n",
        "key,value=input('입력할 key와 value를 입력하세요: ')\n",
        "\n",
        "print(key, value)"
      ],
      "execution_count": 2,
      "outputs": [
        {
          "output_type": "stream",
          "text": [
            "입력할 key와 value를 입력하세요: i love\n"
          ],
          "name": "stdout"
        },
        {
          "output_type": "error",
          "ename": "ValueError",
          "evalue": "ignored",
          "traceback": [
            "\u001b[0;31m---------------------------------------------------------------------------\u001b[0m",
            "\u001b[0;31mValueError\u001b[0m                                Traceback (most recent call last)",
            "\u001b[0;32m<ipython-input-2-061aad8fa2b3>\u001b[0m in \u001b[0;36m<module>\u001b[0;34m()\u001b[0m\n\u001b[1;32m      1\u001b[0m \u001b[0;31m#아래 코드를 실행하고 값을 입력해보세요. 오류가 발생한다면 무엇이 문제일지 생각해 봅시다.\u001b[0m\u001b[0;34m\u001b[0m\u001b[0;34m\u001b[0m\u001b[0;34m\u001b[0m\u001b[0m\n\u001b[0;32m----> 2\u001b[0;31m \u001b[0mkey\u001b[0m\u001b[0;34m,\u001b[0m\u001b[0mvalue\u001b[0m\u001b[0;34m=\u001b[0m\u001b[0minput\u001b[0m\u001b[0;34m(\u001b[0m\u001b[0;34m'입력할 key와 value를 입력하세요: '\u001b[0m\u001b[0;34m)\u001b[0m\u001b[0;34m\u001b[0m\u001b[0;34m\u001b[0m\u001b[0m\n\u001b[0m\u001b[1;32m      3\u001b[0m \u001b[0;34m\u001b[0m\u001b[0m\n\u001b[1;32m      4\u001b[0m \u001b[0mprint\u001b[0m\u001b[0;34m(\u001b[0m\u001b[0mkey\u001b[0m\u001b[0;34m,\u001b[0m \u001b[0mvalue\u001b[0m\u001b[0;34m)\u001b[0m\u001b[0;34m\u001b[0m\u001b[0;34m\u001b[0m\u001b[0m\n",
            "\u001b[0;31mValueError\u001b[0m: too many values to unpack (expected 2)"
          ]
        }
      ]
    },
    {
      "cell_type": "code",
      "metadata": {
        "id": "27FxYMnNP_sM",
        "outputId": "693f4c10-4ace-4c78-e6db-4ae25142e24c"
      },
      "source": [
        "# .split() 함수\n",
        "a=\"i love python\"\n",
        "a.split()"
      ],
      "execution_count": null,
      "outputs": [
        {
          "output_type": "execute_result",
          "data": {
            "text/plain": [
              "['i', 'love', 'python']"
            ]
          },
          "metadata": {
            "tags": []
          },
          "execution_count": 1
        }
      ]
    },
    {
      "cell_type": "code",
      "metadata": {
        "id": "1-Ph7p_lP_sO",
        "outputId": "3c0779b4-8b94-415d-9f3d-f30fd39b8b4b"
      },
      "source": [
        "a=\"i,love,python\"\n",
        "a.split(\",\")"
      ],
      "execution_count": null,
      "outputs": [
        {
          "output_type": "execute_result",
          "data": {
            "text/plain": [
              "['i', 'love', 'python']"
            ]
          },
          "metadata": {
            "tags": []
          },
          "execution_count": 2
        }
      ]
    },
    {
      "cell_type": "code",
      "metadata": {
        "id": "Abg6KrqUP_r2",
        "outputId": "c6368dd5-6588-4bf4-e9d9-5682e6f8100a",
        "colab": {
          "base_uri": "https://localhost:8080/",
          "height": 51
        }
      },
      "source": [
        "key,value=input('입력할 key와 value를 입력하세요: ').split()\n",
        "IU[key]=value\n",
        "print(IU)"
      ],
      "execution_count": null,
      "outputs": [
        {
          "output_type": "stream",
          "text": [
            "입력할 key와 value를 입력하세요: 좋아하는것 사과\n",
            "{'나이': 23, '좋아하는것': '사과'}\n"
          ],
          "name": "stdout"
        }
      ]
    },
    {
      "cell_type": "code",
      "metadata": {
        "id": "y_9u6SPeP_r0",
        "outputId": "35b10720-8059-4012-81b4-d08a840b97a3",
        "colab": {
          "base_uri": "https://localhost:8080/",
          "height": 51
        }
      },
      "source": [
        "key,value=input('입력할 key와 value를 입력하세요: ').split()\n",
        "\n",
        "print(key, value)"
      ],
      "execution_count": null,
      "outputs": [
        {
          "output_type": "stream",
          "text": [
            "입력할 key와 value를 입력하세요: 좋아하는것 사과\n",
            "좋아하는것 사과\n"
          ],
          "name": "stdout"
        }
      ]
    },
    {
      "cell_type": "code",
      "metadata": {
        "id": "hMrdVhwTP_r5",
        "outputId": "0794e1ea-d75e-4b06-c073-644e428ee8bd",
        "colab": {
          "base_uri": "https://localhost:8080/",
          "height": 136
        }
      },
      "source": [
        "#(과제1) 입력받은 key, value 값을 my_dic에 추가하도록 코드를 완성해 보세요.\n",
        "#(과제2) 'no'를 입력할 경우 반복문이 정지하도록 코딩을 해보세요.\n",
        "\n",
        "my_dic={}\n",
        "\n",
        "while True :\n",
        "    key,value = input(\"key와 value를 입력해주세요.\").split()\n",
        "    #(과제1) 코드 완성하기\n",
        "    my_dic[key] = value\n",
        "\n",
        "    answer=input(\"입력을 그만하려면 no를 입력해 주세요\")\n",
        "    #(과제2) 코드 완성하기\n",
        "    if answer == \"no\":\n",
        "      break\n",
        "\n",
        "print(my_dic)"
      ],
      "execution_count": 4,
      "outputs": [
        {
          "output_type": "stream",
          "text": [
            "key와 value를 입력해주세요.i1 love\n",
            "입력을 그만하려면 no를 입력해 주세요yes\n",
            "key와 value를 입력해주세요.i2 hate\n",
            "입력을 그만하려면 no를 입력해 주세요yes\n",
            "key와 value를 입력해주세요.i3 like\n",
            "입력을 그만하려면 no를 입력해 주세요no\n",
            "{'i1': 'love', 'i2': 'hate', 'i3': 'like'}\n"
          ],
          "name": "stdout"
        }
      ]
    },
    {
      "cell_type": "markdown",
      "metadata": {
        "id": "OvWM_qH0P_sQ"
      },
      "source": [
        "# 2. 중복되는 것 카운트 하기\n",
        "\n",
        "## 2-1. (기본) 실생활 예제에서 찾기\n",
        "- 경기, 나라별 국적 확인하기\n"
      ]
    },
    {
      "cell_type": "code",
      "metadata": {
        "id": "VHSw9lLmP_sR",
        "outputId": "f90f1508-da50-4152-b6dd-0e2a7c912f85",
        "colab": {
          "base_uri": "https://localhost:8080/",
          "height": 34
        }
      },
      "source": [
        "nation = dict()\n",
        "nation['KOR']=0\n",
        "nation['CHN']=0\n",
        "nation['KOR']+=1\n",
        "\n",
        "print(nation)"
      ],
      "execution_count": null,
      "outputs": [
        {
          "output_type": "stream",
          "text": [
            "{'KOR': 1, 'CHN': 0}\n"
          ],
          "name": "stdout"
        }
      ]
    },
    {
      "cell_type": "code",
      "metadata": {
        "id": "3W-zAFQPP_sS",
        "outputId": "56dbac17-24e4-43ea-cf20-4a200839d89a",
        "colab": {
          "base_uri": "https://localhost:8080/",
          "height": 34
        }
      },
      "source": [
        "'USA' in nation"
      ],
      "execution_count": null,
      "outputs": [
        {
          "output_type": "execute_result",
          "data": {
            "text/plain": [
              "False"
            ]
          },
          "metadata": {
            "tags": []
          },
          "execution_count": 21
        }
      ]
    },
    {
      "cell_type": "code",
      "metadata": {
        "id": "cegxD6-mp7nb",
        "outputId": "53111484-b452-4cd2-fd43-062b3f9c8a08",
        "colab": {
          "base_uri": "https://localhost:8080/",
          "height": 34
        }
      },
      "source": [
        "'USA' not in nation"
      ],
      "execution_count": null,
      "outputs": [
        {
          "output_type": "execute_result",
          "data": {
            "text/plain": [
              "True"
            ]
          },
          "metadata": {
            "tags": []
          },
          "execution_count": 22
        }
      ]
    },
    {
      "cell_type": "code",
      "metadata": {
        "id": "fOXXyWCiP_sU",
        "outputId": "296b8d4b-1912-475a-d92a-874b3426040b",
        "colab": {
          "base_uri": "https://localhost:8080/",
          "height": 34
        }
      },
      "source": [
        "#리스트 nations에 'KOR','CHN','JPN','USA'가 몇번 번복되는지 세어보세요.\n",
        "\n",
        "counts = dict()\n",
        "nations = ['KOR','CHN','JPN','USA','KOR','KOR']\n",
        "for nation in nations:\n",
        "    if nation not in counts:\n",
        "        counts[nation] = 1\n",
        "    else:\n",
        "        counts[nation] += 1\n",
        "\n",
        "print(counts)"
      ],
      "execution_count": null,
      "outputs": [
        {
          "output_type": "stream",
          "text": [
            "{'KOR': 3, 'CHN': 1, 'JPN': 1, 'USA': 1}\n"
          ],
          "name": "stdout"
        }
      ]
    },
    {
      "cell_type": "code",
      "metadata": {
        "id": "K_Y8kQKVo_i0",
        "outputId": "d6a77ff1-b3a4-4cf4-8bd6-eed02c226f89",
        "colab": {
          "base_uri": "https://localhost:8080/",
          "height": 34
        }
      },
      "source": [
        "#(과제3) 리스트 nations에 각 국가가 몇번 반복되는지 딕셔너리 구조를 이용해 세어보는 코드를 완성해 보세요.\n",
        "\n",
        "counts3 = dict()\n",
        "nations = ['KOR','CHN','JPN','USA','KOR','KOR','KOR','CHN','JPN','CHN','JPN','USA','KOR','CHN','JPN','USA']\n",
        "\n",
        "#코드를 입력하세요.\n",
        "for nation in nations:\n",
        "    if nation not in counts3:\n",
        "        counts3[nation] = 1\n",
        "    else:\n",
        "        counts3[nation] += 1\n",
        "\n",
        "print(counts3)"
      ],
      "execution_count": 5,
      "outputs": [
        {
          "output_type": "stream",
          "text": [
            "{'KOR': 5, 'CHN': 4, 'JPN': 4, 'USA': 3}\n"
          ],
          "name": "stdout"
        }
      ]
    },
    {
      "cell_type": "markdown",
      "metadata": {
        "id": "amZM_rxqrGLh"
      },
      "source": [
        "### 참고_딕셔너리 .get( ) 함수"
      ]
    },
    {
      "cell_type": "code",
      "metadata": {
        "id": "7OrnJ1cgq4db",
        "outputId": "44be7aec-789f-463d-f4fc-623cb94e9a36",
        "colab": {
          "base_uri": "https://localhost:8080/",
          "height": 34
        }
      },
      "source": [
        "#.get(A, B) -> A란 key에 해당하는 value를 가져오고, 만약 없다면 B를 반환한다.\n",
        "\n",
        "car = {\n",
        "  \"brand\": \"Ford\",\n",
        "  \"model\": \"Mustang\",\n",
        "  \"year\": 1964\n",
        "}\n",
        "\n",
        "x = car.get(\"model\") #key가 'model' 인 value 값을 호출하는 것\n",
        "\n",
        "print(x)"
      ],
      "execution_count": null,
      "outputs": [
        {
          "output_type": "stream",
          "text": [
            "Mustang\n"
          ],
          "name": "stdout"
        }
      ]
    },
    {
      "cell_type": "code",
      "metadata": {
        "id": "URNxLAYgrFcf",
        "outputId": "3ba0773b-2157-41f8-bb77-451b2e04dfd1",
        "colab": {
          "base_uri": "https://localhost:8080/",
          "height": 34
        }
      },
      "source": [
        "car = {\n",
        "  \"brand\": \"Ford\",\n",
        "  \"model\": \"Mustang\",\n",
        "  \"year\": 1964\n",
        "}\n",
        "\n",
        "x = car.get(\"price\", 15000) \n",
        "\n",
        "print(x)"
      ],
      "execution_count": null,
      "outputs": [
        {
          "output_type": "stream",
          "text": [
            "15000\n"
          ],
          "name": "stdout"
        }
      ]
    },
    {
      "cell_type": "code",
      "metadata": {
        "id": "6i7Xa575P_sW",
        "outputId": "28136125-b8ac-4aad-96a1-f1f45b14bc94",
        "colab": {
          "base_uri": "https://localhost:8080/",
          "height": 34
        }
      },
      "source": [
        "# .get()을 활용하여 짧게 코드 수정하기\n",
        "\n",
        "'''\n",
        "counts = dict()\n",
        "nations = ['KOR','CHN','JPN','USA','KOR','KOR']\n",
        "for nation in nations:\n",
        "    if nation not in counts:\n",
        "        counts[nation] = 1\n",
        "    else:\n",
        "        counts[nation] += 1\n",
        "\n",
        "print(counts)\n",
        "'''\n",
        "\n",
        "counts2 = dict()\n",
        "nations = ['KOR','CHN','JPN','USA','KOR','KOR']\n",
        "for nation in nations:\n",
        "    counts2[nation] = counts2.get(nation,0) + 1\n",
        "\n",
        "print(counts2)"
      ],
      "execution_count": null,
      "outputs": [
        {
          "output_type": "stream",
          "text": [
            "{'KOR': 3, 'CHN': 1, 'JPN': 1, 'USA': 1}\n"
          ],
          "name": "stdout"
        }
      ]
    },
    {
      "cell_type": "markdown",
      "metadata": {
        "id": "OVcWludLP_sX"
      },
      "source": [
        "## 2-2 (응용) 중복되는 단어 세기\n"
      ]
    },
    {
      "cell_type": "code",
      "metadata": {
        "id": "XMn2CDE5P_sY",
        "outputId": "6a2dea94-84c6-4515-c552-38667a7a0b20",
        "colab": {
          "base_uri": "https://localhost:8080/",
          "height": 71
        }
      },
      "source": [
        "word_counts=dict()\n",
        "line=input(\"영어 문장을 입력하세요: \")\n",
        "words = line.split()\n",
        "for word in words:\n",
        "    word_counts[word] = word_counts.get(word,1) + 1\n",
        "\n",
        "print(word_counts)"
      ],
      "execution_count": null,
      "outputs": [
        {
          "output_type": "stream",
          "text": [
            "영어 문장을 입력하세요: There's a hero If you look inside your heart You don't have to be afraid Of what you are There's an answer If you reach into your soul And the sorrow that you know Will melt away\n",
            "{\"There's\": 3, 'a': 2, 'hero': 2, 'If': 3, 'you': 5, 'look': 2, 'inside': 2, 'your': 3, 'heart': 2, 'You': 2, \"don't\": 2, 'have': 2, 'to': 2, 'be': 2, 'afraid': 2, 'Of': 2, 'what': 2, 'are': 2, 'an': 2, 'answer': 2, 'reach': 2, 'into': 2, 'soul': 2, 'And': 2, 'the': 2, 'sorrow': 2, 'that': 2, 'know': 2, 'Will': 2, 'melt': 2, 'away': 2}\n"
          ],
          "name": "stdout"
        }
      ]
    },
    {
      "cell_type": "markdown",
      "metadata": {
        "id": "CaTBaWfBP_sZ"
      },
      "source": [
        "## 3. (심화) 그외 메써드"
      ]
    },
    {
      "cell_type": "code",
      "metadata": {
        "id": "tppNx64BP_sa",
        "outputId": "e9273aa9-48cc-41ee-efc0-616153c7469f"
      },
      "source": [
        "print(dir(word_counts))"
      ],
      "execution_count": null,
      "outputs": [
        {
          "output_type": "stream",
          "text": [
            "['__class__', '__contains__', '__delattr__', '__delitem__', '__dir__', '__doc__', '__eq__', '__format__', '__ge__', '__getattribute__', '__getitem__', '__gt__', '__hash__', '__init__', '__init_subclass__', '__iter__', '__le__', '__len__', '__lt__', '__ne__', '__new__', '__reduce__', '__reduce_ex__', '__repr__', '__setattr__', '__setitem__', '__sizeof__', '__str__', '__subclasshook__', 'clear', 'copy', 'fromkeys', 'get', 'items', 'keys', 'pop', 'popitem', 'setdefault', 'update', 'values']\n"
          ],
          "name": "stdout"
        }
      ]
    },
    {
      "cell_type": "code",
      "metadata": {
        "id": "WcozJ-HYP_sc",
        "outputId": "a96513ba-c8c8-441f-9119-829a6ddaf105"
      },
      "source": [
        "help(word_counts.values)"
      ],
      "execution_count": null,
      "outputs": [
        {
          "output_type": "stream",
          "text": [
            "Help on built-in function values:\n",
            "\n",
            "values(...) method of builtins.dict instance\n",
            "    D.values() -> an object providing a view on D's values\n",
            "\n"
          ],
          "name": "stdout"
        }
      ]
    },
    {
      "cell_type": "code",
      "metadata": {
        "id": "XVw8XcxLP_se",
        "outputId": "5390478e-34bf-4db4-e3e7-afa815e6ae5f",
        "colab": {
          "base_uri": "https://localhost:8080/",
          "height": 34
        }
      },
      "source": [
        "# 최고 빈도를 가지는 키와 값 찾기\n",
        "max_key=''\n",
        "max_num=0\n",
        "for key in word_counts.keys():\n",
        "    if max_num < word_counts[key]:\n",
        "        max_num = word_counts[key]\n",
        "        max_key = key\n",
        "print(max_key,max_num)"
      ],
      "execution_count": null,
      "outputs": [
        {
          "output_type": "stream",
          "text": [
            "you 5\n"
          ],
          "name": "stdout"
        }
      ]
    },
    {
      "cell_type": "code",
      "metadata": {
        "id": "QIvoaB1rP_sg",
        "outputId": "4bc6840e-5994-48cb-de77-f08d508c550d",
        "colab": {
          "base_uri": "https://localhost:8080/",
          "height": 51
        }
      },
      "source": [
        "a=word_counts['you']\n",
        "print(a)\n",
        "print(type(a))"
      ],
      "execution_count": null,
      "outputs": [
        {
          "output_type": "stream",
          "text": [
            "5\n",
            "<class 'int'>\n"
          ],
          "name": "stdout"
        }
      ]
    }
  ]
}